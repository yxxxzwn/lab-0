{
  "nbformat": 4,
  "nbformat_minor": 5,
  "metadata": {
    "kernelspec": {
      "display_name": "Python 3",
      "language": "python",
      "name": "python3"
    },
    "language_info": {
      "codemirror_mode": {
        "name": "ipython",
        "version": 3
      },
      "file_extension": ".py",
      "mimetype": "text/x-python",
      "name": "python",
      "nbconvert_exporter": "python",
      "pygments_lexer": "ipython3",
      "version": "3.7.11"
    },
    "colab": {
      "name": "Lab 3.ipynb",
      "provenance": []
    }
  },
  "cells": [
    {
      "cell_type": "markdown",
      "metadata": {
        "deletable": false,
        "editable": false,
        "nbgrader": {
          "cell_type": "markdown",
          "checksum": "46257b35bdb3bba08d6a51564a1f5dde",
          "grade": false,
          "grade_id": "cell-87f50cc21b044ca6",
          "locked": true,
          "schema_version": 3,
          "solution": false,
          "task": false
        },
        "id": "2e5bbf23"
      },
      "source": [
        "# Laboratory #3\n",
        "\n",
        "* This is an introductory exercise for you to learn about Python basics 2.\n",
        "\n",
        "* Each question has a value of 1 point\n",
        "\n",
        "* For this laboratory each exercise has its answer, please copy the answer after the comment `# YOUR CODE HERE` in their respective question\n",
        "\n",
        "* Do not rename the notebook.\n"
      ],
      "id": "2e5bbf23"
    },
    {
      "cell_type": "markdown",
      "metadata": {
        "deletable": false,
        "editable": false,
        "nbgrader": {
          "cell_type": "markdown",
          "checksum": "083cc8bb328735fdc97bf2709af6aa9a",
          "grade": false,
          "grade_id": "cell-aa6013d65432dadd",
          "locked": true,
          "schema_version": 3,
          "solution": false,
          "task": false
        },
        "id": "8353b2c0"
      },
      "source": [
        "* Name:\n",
        "* Student ID:\n",
        "\n",
        "Answer the questions or complete the tasks below, use the specific method described if applicable."
      ],
      "id": "8353b2c0"
    },
    {
      "cell_type": "markdown",
      "metadata": {
        "deletable": false,
        "editable": false,
        "nbgrader": {
          "cell_type": "markdown",
          "checksum": "b6f98af554ae803ac8e8d521f4b85781",
          "grade": false,
          "grade_id": "cell-9f2130bfe1b4e184",
          "locked": true,
          "schema_version": 3,
          "solution": false,
          "task": false
        },
        "id": "471528b8"
      },
      "source": [
        "**Question 1:** \n",
        "\n",
        "* Given this nested list, use indexing to grab the word \"Programing!\"\n",
        "* Store the result in a variable `q1`\n",
        "\n",
        "`lst = [12,13,[14,15],[16,[17,18,['Programing!']],19,20],21,22]`\n"
      ],
      "id": "471528b8"
    },
    {
      "cell_type": "code",
      "metadata": {
        "deletable": false,
        "nbgrader": {
          "cell_type": "code",
          "checksum": "7f247eebaae2b17c3e69f5c318ed70e5",
          "grade": false,
          "grade_id": "cell-566ed0f75c736f36",
          "locked": false,
          "schema_version": 3,
          "solution": true,
          "task": false
        },
        "id": "aae9418a"
      },
      "source": [
        "# YOUR CODE HERE\n",
        "my_list = [12,13,[14,15],[16,[17,18,['Programing!']],19,20],21,22]"
      ],
      "id": "aae9418a",
      "execution_count": 1,
      "outputs": []
    },
    {
      "cell_type": "code",
      "metadata": {
        "deletable": false,
        "editable": false,
        "nbgrader": {
          "cell_type": "code",
          "checksum": "cfa1b830cef2b680ef8c2ff08908fd90",
          "grade": true,
          "grade_id": "cell-8de3d20fff28f7ad",
          "locked": true,
          "points": 1,
          "schema_version": 3,
          "solution": false,
          "task": false
        },
        "id": "703cc4d5",
        "outputId": "4c08a0ab-2e14-4baa-dfdc-90870a137582",
        "colab": {
          "base_uri": "https://localhost:8080/"
        }
      },
      "source": [
        "my_list"
      ],
      "id": "703cc4d5",
      "execution_count": 2,
      "outputs": [
        {
          "output_type": "execute_result",
          "data": {
            "text/plain": [
              "[12, 13, [14, 15], [16, [17, 18, ['Programing!']], 19, 20], 21, 22]"
            ]
          },
          "metadata": {},
          "execution_count": 2
        }
      ]
    },
    {
      "cell_type": "code",
      "metadata": {
        "id": "RKR_MZHb2OpP"
      },
      "source": [
        "nest_list = [12, 13, [14, 15], [16, [17, 18, ['Programing!']], 19, 20], 21, 22]"
      ],
      "id": "RKR_MZHb2OpP",
      "execution_count": 3,
      "outputs": []
    },
    {
      "cell_type": "code",
      "metadata": {
        "id": "hvpzksr72Old",
        "outputId": "64da5f3a-0c07-4240-eaa3-f43f33bea069",
        "colab": {
          "base_uri": "https://localhost:8080/"
        }
      },
      "source": [
        "nest_list"
      ],
      "id": "hvpzksr72Old",
      "execution_count": 4,
      "outputs": [
        {
          "output_type": "execute_result",
          "data": {
            "text/plain": [
              "[12, 13, [14, 15], [16, [17, 18, ['Programing!']], 19, 20], 21, 22]"
            ]
          },
          "metadata": {},
          "execution_count": 4
        }
      ]
    },
    {
      "cell_type": "code",
      "metadata": {
        "id": "YhZN1C1U2OiH",
        "outputId": "aa636ad6-ab6f-405b-bcbc-7e7a2998fa12",
        "colab": {
          "base_uri": "https://localhost:8080/"
        }
      },
      "source": [
        "print(nest_list)"
      ],
      "id": "YhZN1C1U2OiH",
      "execution_count": 5,
      "outputs": [
        {
          "output_type": "stream",
          "name": "stdout",
          "text": [
            "[12, 13, [14, 15], [16, [17, 18, ['Programing!']], 19, 20], 21, 22]\n"
          ]
        }
      ]
    },
    {
      "cell_type": "code",
      "metadata": {
        "id": "phhxyc8l2OgD",
        "outputId": "29a22d65-1c4a-4ebd-8dfe-4a57a041ddf3",
        "colab": {
          "base_uri": "https://localhost:8080/"
        }
      },
      "source": [
        "nest_list[3]"
      ],
      "id": "phhxyc8l2OgD",
      "execution_count": 6,
      "outputs": [
        {
          "output_type": "execute_result",
          "data": {
            "text/plain": [
              "[16, [17, 18, ['Programing!']], 19, 20]"
            ]
          },
          "metadata": {},
          "execution_count": 6
        }
      ]
    },
    {
      "cell_type": "code",
      "metadata": {
        "id": "02YFB75-2OdK",
        "outputId": "7308ad5c-f191-4307-91ea-a18dd65df003",
        "colab": {
          "base_uri": "https://localhost:8080/"
        }
      },
      "source": [
        "nest_list[3][1]"
      ],
      "id": "02YFB75-2OdK",
      "execution_count": 7,
      "outputs": [
        {
          "output_type": "execute_result",
          "data": {
            "text/plain": [
              "[17, 18, ['Programing!']]"
            ]
          },
          "metadata": {},
          "execution_count": 7
        }
      ]
    },
    {
      "cell_type": "code",
      "metadata": {
        "id": "KkPkDIzD2Oao",
        "outputId": "599e6750-f0dc-44f0-9157-4df67f1d928d",
        "colab": {
          "base_uri": "https://localhost:8080/"
        }
      },
      "source": [
        "nest_list[3][1][2]"
      ],
      "id": "KkPkDIzD2Oao",
      "execution_count": 8,
      "outputs": [
        {
          "output_type": "execute_result",
          "data": {
            "text/plain": [
              "['Programing!']"
            ]
          },
          "metadata": {},
          "execution_count": 8
        }
      ]
    },
    {
      "cell_type": "code",
      "metadata": {
        "id": "SSvC-U-Z2OXU"
      },
      "source": [
        "lst = my_list [:]"
      ],
      "id": "SSvC-U-Z2OXU",
      "execution_count": 9,
      "outputs": []
    },
    {
      "cell_type": "code",
      "metadata": {
        "id": "5N5Rv6oy2paO",
        "outputId": "ae60676d-a703-412c-ea8d-ae39239a275c",
        "colab": {
          "base_uri": "https://localhost:8080/"
        }
      },
      "source": [
        "print(lst)"
      ],
      "id": "5N5Rv6oy2paO",
      "execution_count": 10,
      "outputs": [
        {
          "output_type": "stream",
          "name": "stdout",
          "text": [
            "[12, 13, [14, 15], [16, [17, 18, ['Programing!']], 19, 20], 21, 22]\n"
          ]
        }
      ]
    },
    {
      "cell_type": "code",
      "metadata": {
        "id": "kqBuPXGC2pW0"
      },
      "source": [
        "q1 = lst"
      ],
      "id": "kqBuPXGC2pW0",
      "execution_count": 11,
      "outputs": []
    },
    {
      "cell_type": "code",
      "metadata": {
        "id": "j2YPrOPF2pUR",
        "outputId": "5ee2d038-fad6-4c72-be47-79d377cbeb8a",
        "colab": {
          "base_uri": "https://localhost:8080/"
        }
      },
      "source": [
        "q1"
      ],
      "id": "j2YPrOPF2pUR",
      "execution_count": 12,
      "outputs": [
        {
          "output_type": "execute_result",
          "data": {
            "text/plain": [
              "[12, 13, [14, 15], [16, [17, 18, ['Programing!']], 19, 20], 21, 22]"
            ]
          },
          "metadata": {},
          "execution_count": 12
        }
      ]
    },
    {
      "cell_type": "markdown",
      "metadata": {
        "deletable": false,
        "editable": false,
        "nbgrader": {
          "cell_type": "markdown",
          "checksum": "4b3365de61a301ee2b56ce394e93af53",
          "grade": false,
          "grade_id": "cell-68a5529f4e51326f",
          "locked": true,
          "schema_version": 3,
          "solution": false,
          "task": false
        },
        "id": "b0a91fb2"
      },
      "source": [
        "**Question 2:** \n",
        "\n",
        "* Given this nest dictionary grab the word \"I love Python!\". Be prepared, this will be annoying/tricky\n",
        "\n",
        "* Store the result in a variable `q2`\n",
        "\n",
        "`d = {'key1':[1,2,3,{'key1_1':['I','love','kpop',{'key1_2':[1,2,3,'I love Python!']}]}]}`"
      ],
      "id": "b0a91fb2"
    },
    {
      "cell_type": "code",
      "metadata": {
        "deletable": false,
        "nbgrader": {
          "cell_type": "code",
          "checksum": "e4cbb00e30676594b10b6e3f5078f3a8",
          "grade": false,
          "grade_id": "cell-26825bd6b4582077",
          "locked": false,
          "schema_version": 3,
          "solution": true,
          "task": false
        },
        "id": "d24afc59"
      },
      "source": [
        "# YOUR CODE HERE\n",
        "my_list = {'key1':[1,2,3,{'key1_1':['I','love','kpop',{'key1_2':[1,2,3,'I love Python!']}]}]}"
      ],
      "id": "d24afc59",
      "execution_count": 13,
      "outputs": []
    },
    {
      "cell_type": "code",
      "metadata": {
        "deletable": false,
        "editable": false,
        "nbgrader": {
          "cell_type": "code",
          "checksum": "ce61d2780b1368700d397229108beefd",
          "grade": true,
          "grade_id": "cell-9ca137af0dec1b3b",
          "locked": true,
          "points": 1,
          "schema_version": 3,
          "solution": false,
          "task": false
        },
        "id": "f8572ff0",
        "outputId": "627b1008-700f-4256-b966-ec15288b13a1",
        "colab": {
          "base_uri": "https://localhost:8080/"
        }
      },
      "source": [
        "my_list"
      ],
      "id": "f8572ff0",
      "execution_count": 14,
      "outputs": [
        {
          "output_type": "execute_result",
          "data": {
            "text/plain": [
              "{'key1': [1,\n",
              "  2,\n",
              "  3,\n",
              "  {'key1_1': ['I', 'love', 'kpop', {'key1_2': [1, 2, 3, 'I love Python!']}]}]}"
            ]
          },
          "metadata": {},
          "execution_count": 14
        }
      ]
    },
    {
      "cell_type": "code",
      "metadata": {
        "id": "LKFgcD1620TW"
      },
      "source": [
        "nest_list = {'key1':[1,2,3,{'key1_1':['I','love','kpop',{'key1_2':[1,2,3,'I love Python!']}]}]}"
      ],
      "id": "LKFgcD1620TW",
      "execution_count": 15,
      "outputs": []
    },
    {
      "cell_type": "code",
      "metadata": {
        "id": "CcMGIWWY20L6",
        "outputId": "79725e06-937b-4afb-c008-2212e9872f96",
        "colab": {
          "base_uri": "https://localhost:8080/"
        }
      },
      "source": [
        "nest_list"
      ],
      "id": "CcMGIWWY20L6",
      "execution_count": 16,
      "outputs": [
        {
          "output_type": "execute_result",
          "data": {
            "text/plain": [
              "{'key1': [1,\n",
              "  2,\n",
              "  3,\n",
              "  {'key1_1': ['I', 'love', 'kpop', {'key1_2': [1, 2, 3, 'I love Python!']}]}]}"
            ]
          },
          "metadata": {},
          "execution_count": 16
        }
      ]
    },
    {
      "cell_type": "code",
      "metadata": {
        "id": "rwLlzQhr20Bs",
        "outputId": "87b0af98-d250-4385-e0c2-a84e6a869213",
        "colab": {
          "base_uri": "https://localhost:8080/",
          "height": 172
        }
      },
      "source": [
        "nest_list[3]"
      ],
      "id": "rwLlzQhr20Bs",
      "execution_count": 17,
      "outputs": [
        {
          "output_type": "error",
          "ename": "KeyError",
          "evalue": "ignored",
          "traceback": [
            "\u001b[0;31m---------------------------------------------------------------------------\u001b[0m",
            "\u001b[0;31mKeyError\u001b[0m                                  Traceback (most recent call last)",
            "\u001b[0;32m<ipython-input-17-4573e468562e>\u001b[0m in \u001b[0;36m<module>\u001b[0;34m()\u001b[0m\n\u001b[0;32m----> 1\u001b[0;31m \u001b[0mnest_list\u001b[0m\u001b[0;34m[\u001b[0m\u001b[0;36m3\u001b[0m\u001b[0;34m]\u001b[0m\u001b[0;34m\u001b[0m\u001b[0;34m\u001b[0m\u001b[0m\n\u001b[0m",
            "\u001b[0;31mKeyError\u001b[0m: 3"
          ]
        }
      ]
    },
    {
      "cell_type": "code",
      "metadata": {
        "id": "tia63G3o3758",
        "outputId": "51429105-3f5b-47c8-bd1b-bf1993dec79d",
        "colab": {
          "base_uri": "https://localhost:8080/"
        }
      },
      "source": [
        "nest_list['key1']"
      ],
      "id": "tia63G3o3758",
      "execution_count": 18,
      "outputs": [
        {
          "output_type": "execute_result",
          "data": {
            "text/plain": [
              "[1,\n",
              " 2,\n",
              " 3,\n",
              " {'key1_1': ['I', 'love', 'kpop', {'key1_2': [1, 2, 3, 'I love Python!']}]}]"
            ]
          },
          "metadata": {},
          "execution_count": 18
        }
      ]
    },
    {
      "cell_type": "code",
      "metadata": {
        "id": "ptOTzN2337ld",
        "outputId": "27847995-c180-4668-8e25-bf1ee28f44db",
        "colab": {
          "base_uri": "https://localhost:8080/",
          "height": 172
        }
      },
      "source": [
        "nest_list['key1[key_1]']"
      ],
      "id": "ptOTzN2337ld",
      "execution_count": 22,
      "outputs": [
        {
          "output_type": "error",
          "ename": "KeyError",
          "evalue": "ignored",
          "traceback": [
            "\u001b[0;31m---------------------------------------------------------------------------\u001b[0m",
            "\u001b[0;31mKeyError\u001b[0m                                  Traceback (most recent call last)",
            "\u001b[0;32m<ipython-input-22-8e20358a414a>\u001b[0m in \u001b[0;36m<module>\u001b[0;34m()\u001b[0m\n\u001b[0;32m----> 1\u001b[0;31m \u001b[0mnest_list\u001b[0m\u001b[0;34m[\u001b[0m\u001b[0;34m'key1[key_1]'\u001b[0m\u001b[0;34m]\u001b[0m\u001b[0;34m\u001b[0m\u001b[0;34m\u001b[0m\u001b[0m\n\u001b[0m",
            "\u001b[0;31mKeyError\u001b[0m: 'key1[key_1]'"
          ]
        }
      ]
    },
    {
      "cell_type": "code",
      "metadata": {
        "id": "a2wrTEK64S8i",
        "outputId": "2711552a-204c-446c-ec25-369b589f2cc6",
        "colab": {
          "base_uri": "https://localhost:8080/",
          "height": 136
        }
      },
      "source": [
        "nest_list{[key1_1]}"
      ],
      "id": "a2wrTEK64S8i",
      "execution_count": 25,
      "outputs": [
        {
          "output_type": "error",
          "ename": "SyntaxError",
          "evalue": "ignored",
          "traceback": [
            "\u001b[0;36m  File \u001b[0;32m\"<ipython-input-25-3bc08f898f0b>\"\u001b[0;36m, line \u001b[0;32m1\u001b[0m\n\u001b[0;31m    nest_list{[key1_1]}\u001b[0m\n\u001b[0m             ^\u001b[0m\n\u001b[0;31mSyntaxError\u001b[0m\u001b[0;31m:\u001b[0m invalid syntax\n"
          ]
        }
      ]
    },
    {
      "cell_type": "code",
      "metadata": {
        "id": "brlzgjZ-4qvn",
        "outputId": "efb01c29-6d78-4520-e883-bb0c19df266e",
        "colab": {
          "base_uri": "https://localhost:8080/"
        }
      },
      "source": [
        "nest_list['key1'][1]"
      ],
      "id": "brlzgjZ-4qvn",
      "execution_count": 28,
      "outputs": [
        {
          "output_type": "execute_result",
          "data": {
            "text/plain": [
              "2"
            ]
          },
          "metadata": {},
          "execution_count": 28
        }
      ]
    },
    {
      "cell_type": "code",
      "metadata": {
        "id": "1r5ARJ2c4yIY",
        "outputId": "c89a0375-65d6-45ba-eea1-6a04e7f2a56c",
        "colab": {
          "base_uri": "https://localhost:8080/"
        }
      },
      "source": [
        "nest_list['key1'][3]"
      ],
      "id": "1r5ARJ2c4yIY",
      "execution_count": 30,
      "outputs": [
        {
          "output_type": "execute_result",
          "data": {
            "text/plain": [
              "{'key1_1': ['I', 'love', 'kpop', {'key1_2': [1, 2, 3, 'I love Python!']}]}"
            ]
          },
          "metadata": {},
          "execution_count": 30
        }
      ]
    },
    {
      "cell_type": "code",
      "metadata": {
        "id": "H5veNZEA5Fu5",
        "outputId": "7887f9bd-0817-438e-c752-5d81caaf0e1d",
        "colab": {
          "base_uri": "https://localhost:8080/"
        }
      },
      "source": [
        "nest_list['key1'][3]['key1_1']"
      ],
      "id": "H5veNZEA5Fu5",
      "execution_count": 33,
      "outputs": [
        {
          "output_type": "execute_result",
          "data": {
            "text/plain": [
              "['I', 'love', 'kpop', {'key1_2': [1, 2, 3, 'I love Python!']}]"
            ]
          },
          "metadata": {},
          "execution_count": 33
        }
      ]
    },
    {
      "cell_type": "code",
      "metadata": {
        "id": "3XPqyGnn5TX_",
        "outputId": "fc4f16ef-7162-4cd5-ebfd-d470cd8ab14e",
        "colab": {
          "base_uri": "https://localhost:8080/"
        }
      },
      "source": [
        "nest_list['key1'][3]['key1_1'][3]"
      ],
      "id": "3XPqyGnn5TX_",
      "execution_count": 35,
      "outputs": [
        {
          "output_type": "execute_result",
          "data": {
            "text/plain": [
              "{'key1_2': [1, 2, 3, 'I love Python!']}"
            ]
          },
          "metadata": {},
          "execution_count": 35
        }
      ]
    },
    {
      "cell_type": "code",
      "metadata": {
        "id": "8i0zQhLn5TV0",
        "outputId": "d1b3d504-f262-4164-82df-57154cb44117",
        "colab": {
          "base_uri": "https://localhost:8080/"
        }
      },
      "source": [
        "nest_list['key1'][3]['key1_1'][3]['key1_2']"
      ],
      "id": "8i0zQhLn5TV0",
      "execution_count": 36,
      "outputs": [
        {
          "output_type": "execute_result",
          "data": {
            "text/plain": [
              "[1, 2, 3, 'I love Python!']"
            ]
          },
          "metadata": {},
          "execution_count": 36
        }
      ]
    },
    {
      "cell_type": "code",
      "metadata": {
        "id": "b25enGCE5TSm",
        "outputId": "0fb43bb2-f76d-457b-f71f-05b63163edea",
        "colab": {
          "base_uri": "https://localhost:8080/",
          "height": 35
        }
      },
      "source": [
        "nest_list['key1'][3]['key1_1'][3]['key1_2'][3]"
      ],
      "id": "b25enGCE5TSm",
      "execution_count": 37,
      "outputs": [
        {
          "output_type": "execute_result",
          "data": {
            "application/vnd.google.colaboratory.intrinsic+json": {
              "type": "string"
            },
            "text/plain": [
              "'I love Python!'"
            ]
          },
          "metadata": {},
          "execution_count": 37
        }
      ]
    },
    {
      "cell_type": "code",
      "metadata": {
        "id": "uQs21KTW5n6S"
      },
      "source": [
        "q2 = nest_list['key1'][3]['key1_1'][3]['key1_2'][3]"
      ],
      "id": "uQs21KTW5n6S",
      "execution_count": 38,
      "outputs": []
    },
    {
      "cell_type": "code",
      "metadata": {
        "id": "78IT0S2T5r1l",
        "outputId": "f4ce6822-6ec4-48cf-9411-baef4ea6529e",
        "colab": {
          "base_uri": "https://localhost:8080/",
          "height": 35
        }
      },
      "source": [
        "q2"
      ],
      "id": "78IT0S2T5r1l",
      "execution_count": 39,
      "outputs": [
        {
          "output_type": "execute_result",
          "data": {
            "application/vnd.google.colaboratory.intrinsic+json": {
              "type": "string"
            },
            "text/plain": [
              "'I love Python!'"
            ]
          },
          "metadata": {},
          "execution_count": 39
        }
      ]
    },
    {
      "cell_type": "markdown",
      "metadata": {
        "deletable": false,
        "editable": false,
        "nbgrader": {
          "cell_type": "markdown",
          "checksum": "ae2ad0d7315c63384fb31b3ea505f0ce",
          "grade": false,
          "grade_id": "cell-c5003f5919074432",
          "locked": true,
          "schema_version": 3,
          "solution": false,
          "task": false
        },
        "id": "19c7ef44"
      },
      "source": [
        "**Question 3:** \n",
        "* What are the number of items in the list?: (use len function)\n",
        "* Store the result in a variable `q3`\n",
        "\n",
        "`list1 = [\"apple\", \"banana\", \"cherry\", \"mango\", \"blueberry\", \"pineapple\", \"cake\"]`"
      ],
      "id": "19c7ef44"
    },
    {
      "cell_type": "code",
      "metadata": {
        "deletable": false,
        "nbgrader": {
          "cell_type": "code",
          "checksum": "a9d5a26f1738999ecaff83bdb67c91dc",
          "grade": false,
          "grade_id": "cell-95dacacfc40fcdfa",
          "locked": false,
          "schema_version": 3,
          "solution": true,
          "task": false
        },
        "id": "a961b572"
      },
      "source": [
        "# YOUR CODE HERE\n",
        "list1 = [\"apple\", \"banana\", \"cherry\", \"mango\", \"blueberry\", \"pineapple\", \"cake\"]"
      ],
      "id": "a961b572",
      "execution_count": 40,
      "outputs": []
    },
    {
      "cell_type": "code",
      "metadata": {
        "deletable": false,
        "editable": false,
        "nbgrader": {
          "cell_type": "code",
          "checksum": "e6a679a7702488d16f693c23c67a00e3",
          "grade": true,
          "grade_id": "cell-475349101319c09f",
          "locked": true,
          "points": 1,
          "schema_version": 3,
          "solution": false,
          "task": false
        },
        "id": "e98a54c9",
        "outputId": "f91187ef-38ba-4292-9faf-7ab98d575998",
        "colab": {
          "base_uri": "https://localhost:8080/"
        }
      },
      "source": [
        "print(id(list1))"
      ],
      "id": "e98a54c9",
      "execution_count": 41,
      "outputs": [
        {
          "output_type": "stream",
          "name": "stdout",
          "text": [
            "140563988949024\n"
          ]
        }
      ]
    },
    {
      "cell_type": "code",
      "metadata": {
        "id": "CfN7iqrT6VKW",
        "outputId": "eaf06d37-75ba-421f-96fd-30b9012d71fa",
        "colab": {
          "base_uri": "https://localhost:8080/"
        }
      },
      "source": [
        "q3 = print(id(list1))"
      ],
      "id": "CfN7iqrT6VKW",
      "execution_count": 42,
      "outputs": [
        {
          "output_type": "stream",
          "name": "stdout",
          "text": [
            "140563988949024\n"
          ]
        }
      ]
    },
    {
      "cell_type": "code",
      "metadata": {
        "id": "6m9QHDdu6YAM"
      },
      "source": [
        "q3"
      ],
      "id": "6m9QHDdu6YAM",
      "execution_count": 43,
      "outputs": []
    },
    {
      "cell_type": "markdown",
      "metadata": {
        "deletable": false,
        "editable": false,
        "nbgrader": {
          "cell_type": "markdown",
          "checksum": "1bb6305bda925999a97431338eafd9ac",
          "grade": false,
          "grade_id": "cell-b3f9f8948f0dbc88",
          "locked": true,
          "schema_version": 3,
          "solution": false,
          "task": false
        },
        "id": "f58bfd23"
      },
      "source": [
        "**Question 4:** \n",
        "* Change the last item of the following list for `\"strawberry\"`: \n",
        "* Store the result in a variable `q4`\n",
        "\n",
        "`q4 = [\"apple\", \"banana\", \"cherry\", \"mango\", \"blueberry\", \"pineapple\", \"cake\"]`"
      ],
      "id": "f58bfd23"
    },
    {
      "cell_type": "code",
      "metadata": {
        "deletable": false,
        "nbgrader": {
          "cell_type": "code",
          "checksum": "816997f1a9bc69d3df25f53830f2ec1c",
          "grade": false,
          "grade_id": "cell-f8eda16267192adc",
          "locked": false,
          "schema_version": 3,
          "solution": true,
          "task": false
        },
        "id": "4cb6d94d"
      },
      "source": [
        "# YOUR CODE HERE\n",
        "q4 = [\"apple\", \"banana\", \"cherry\", \"mango\", \"blueberry\", \"pineapple\", \"cake\"]"
      ],
      "id": "4cb6d94d",
      "execution_count": 44,
      "outputs": []
    },
    {
      "cell_type": "code",
      "metadata": {
        "deletable": false,
        "editable": false,
        "nbgrader": {
          "cell_type": "code",
          "checksum": "ad3b0947a8ea8723ea2243a47385254b",
          "grade": true,
          "grade_id": "cell-ef33368b83bc4a1c",
          "locked": true,
          "points": 1,
          "schema_version": 3,
          "solution": false,
          "task": false
        },
        "id": "163de575"
      },
      "source": [
        "my_list = [\"apple\", \"banana\", \"cherry\", \"mango\", \"blueberry\", \"pineapple\", \"cake\"]"
      ],
      "id": "163de575",
      "execution_count": 45,
      "outputs": []
    },
    {
      "cell_type": "code",
      "metadata": {
        "id": "2yt3uJ1o6xum"
      },
      "source": [
        "my_list.insert(7,\"strawberry\")"
      ],
      "id": "2yt3uJ1o6xum",
      "execution_count": 47,
      "outputs": []
    },
    {
      "cell_type": "code",
      "metadata": {
        "id": "ZslLQIGC7Aio",
        "outputId": "a0e87071-5999-4b83-b741-112439eb87f7",
        "colab": {
          "base_uri": "https://localhost:8080/"
        }
      },
      "source": [
        "my_list"
      ],
      "id": "ZslLQIGC7Aio",
      "execution_count": 48,
      "outputs": [
        {
          "output_type": "execute_result",
          "data": {
            "text/plain": [
              "['apple',\n",
              " 'banana',\n",
              " 'cherry',\n",
              " 'mango',\n",
              " 'blueberry',\n",
              " 'pineapple',\n",
              " 'cake',\n",
              " 'strawberry']"
            ]
          },
          "metadata": {},
          "execution_count": 48
        }
      ]
    },
    {
      "cell_type": "code",
      "metadata": {
        "id": "WlBm_-Np7D_f"
      },
      "source": [
        "my_list = q4"
      ],
      "id": "WlBm_-Np7D_f",
      "execution_count": 49,
      "outputs": []
    },
    {
      "cell_type": "code",
      "metadata": {
        "id": "2rR1NJDD7GM7",
        "outputId": "e6cb497b-9353-4729-9c89-99b31c4e2a6a",
        "colab": {
          "base_uri": "https://localhost:8080/"
        }
      },
      "source": [
        "q4"
      ],
      "id": "2rR1NJDD7GM7",
      "execution_count": 50,
      "outputs": [
        {
          "output_type": "execute_result",
          "data": {
            "text/plain": [
              "['apple', 'banana', 'cherry', 'mango', 'blueberry', 'pineapple', 'cake']"
            ]
          },
          "metadata": {},
          "execution_count": 50
        }
      ]
    },
    {
      "cell_type": "code",
      "metadata": {
        "id": "wezMLyY77Kku",
        "outputId": "959ba217-cce9-4836-9bd5-352bed74c49f",
        "colab": {
          "base_uri": "https://localhost:8080/"
        }
      },
      "source": [
        "my_list"
      ],
      "id": "wezMLyY77Kku",
      "execution_count": 51,
      "outputs": [
        {
          "output_type": "execute_result",
          "data": {
            "text/plain": [
              "['apple', 'banana', 'cherry', 'mango', 'blueberry', 'pineapple', 'cake']"
            ]
          },
          "metadata": {},
          "execution_count": 51
        }
      ]
    },
    {
      "cell_type": "code",
      "metadata": {
        "id": "-vrnoQI97OCc"
      },
      "source": [
        "my_list.insert(7,\"strawberry\")"
      ],
      "id": "-vrnoQI97OCc",
      "execution_count": 53,
      "outputs": []
    },
    {
      "cell_type": "code",
      "metadata": {
        "id": "DutIidmr7VV9",
        "outputId": "63015cce-1e04-4776-e72c-393db1bf7132",
        "colab": {
          "base_uri": "https://localhost:8080/"
        }
      },
      "source": [
        "my_list"
      ],
      "id": "DutIidmr7VV9",
      "execution_count": 54,
      "outputs": [
        {
          "output_type": "execute_result",
          "data": {
            "text/plain": [
              "['apple',\n",
              " 'banana',\n",
              " 'cherry',\n",
              " 'mango',\n",
              " 'blueberry',\n",
              " 'pineapple',\n",
              " 'cake',\n",
              " 'strawberry']"
            ]
          },
          "metadata": {},
          "execution_count": 54
        }
      ]
    },
    {
      "cell_type": "code",
      "metadata": {
        "id": "lwXI53kb7pYn"
      },
      "source": [
        "my_list = q4"
      ],
      "id": "lwXI53kb7pYn",
      "execution_count": 59,
      "outputs": []
    },
    {
      "cell_type": "markdown",
      "metadata": {
        "deletable": false,
        "editable": false,
        "nbgrader": {
          "cell_type": "markdown",
          "checksum": "2c76466fc7aa88e1facd27d469b6f499",
          "grade": false,
          "grade_id": "cell-8656d199ae9737f9",
          "locked": true,
          "schema_version": 3,
          "solution": false,
          "task": false
        },
        "id": "280a06c3"
      },
      "source": [
        "**Question 5:** \n",
        "* Change the second and third value of the following list for `\"watermelon\" and \"kiwi\"`:\n",
        "* Store the result in a variable `q5`\n",
        "\n",
        "`q5 = [\"apple\", \"banana\", \"cherry\", \"mango\", \"blueberry\", \"pineapple\", \"cake\"]`"
      ],
      "id": "280a06c3"
    },
    {
      "cell_type": "code",
      "metadata": {
        "deletable": false,
        "nbgrader": {
          "cell_type": "code",
          "checksum": "9fa64c567196d81ac8dad671a884712f",
          "grade": false,
          "grade_id": "cell-8f54cfba42babdb8",
          "locked": false,
          "schema_version": 3,
          "solution": true,
          "task": false
        },
        "id": "e8fb4fd5"
      },
      "source": [
        "# YOUR CODE HERE\n",
        "my_list = [\"apple\", \"banana\", \"cherry\", \"mango\", \"blueberry\", \"pineapple\", \"cake\"]"
      ],
      "id": "e8fb4fd5",
      "execution_count": 61,
      "outputs": []
    },
    {
      "cell_type": "code",
      "metadata": {
        "deletable": false,
        "editable": false,
        "nbgrader": {
          "cell_type": "code",
          "checksum": "c6652d00906174d255cb7537b31d5343",
          "grade": true,
          "grade_id": "cell-2aafb9805d52d6cb",
          "locked": true,
          "points": 1,
          "schema_version": 3,
          "solution": false,
          "task": false
        },
        "id": "f242f830"
      },
      "source": [
        "my_list.insert(2,\"watermelon\")"
      ],
      "id": "f242f830",
      "execution_count": 63,
      "outputs": []
    },
    {
      "cell_type": "code",
      "metadata": {
        "id": "55odaJBF7-fi",
        "outputId": "57e4c1fc-315a-4f17-c8c3-06e3e5175524",
        "colab": {
          "base_uri": "https://localhost:8080/"
        }
      },
      "source": [
        "my_list"
      ],
      "id": "55odaJBF7-fi",
      "execution_count": 64,
      "outputs": [
        {
          "output_type": "execute_result",
          "data": {
            "text/plain": [
              "['apple',\n",
              " 'banana',\n",
              " 'watermelon',\n",
              " 'wathermelon',\n",
              " 'cherry',\n",
              " 'mango',\n",
              " 'blueberry',\n",
              " 'pineapple',\n",
              " 'cake']"
            ]
          },
          "metadata": {},
          "execution_count": 64
        }
      ]
    },
    {
      "cell_type": "code",
      "metadata": {
        "id": "lGnD_0h-8CAr"
      },
      "source": [
        "my_list.remove(\"wathermelon\")"
      ],
      "id": "lGnD_0h-8CAr",
      "execution_count": 66,
      "outputs": []
    },
    {
      "cell_type": "code",
      "metadata": {
        "id": "fkjwbXmH8PCg",
        "outputId": "26f3ecdd-33df-48ff-ad11-5e2c932e75a2",
        "colab": {
          "base_uri": "https://localhost:8080/"
        }
      },
      "source": [
        "my_list"
      ],
      "id": "fkjwbXmH8PCg",
      "execution_count": 67,
      "outputs": [
        {
          "output_type": "execute_result",
          "data": {
            "text/plain": [
              "['apple',\n",
              " 'banana',\n",
              " 'watermelon',\n",
              " 'cherry',\n",
              " 'mango',\n",
              " 'blueberry',\n",
              " 'pineapple',\n",
              " 'cake']"
            ]
          },
          "metadata": {},
          "execution_count": 67
        }
      ]
    },
    {
      "cell_type": "code",
      "metadata": {
        "id": "SZTc3KTC8Q2i"
      },
      "source": [
        "my_list.insert(3,\"kiwi\")"
      ],
      "id": "SZTc3KTC8Q2i",
      "execution_count": 68,
      "outputs": []
    },
    {
      "cell_type": "code",
      "metadata": {
        "id": "S980siR38Wqw",
        "outputId": "ae780bd3-4fc1-4dc9-b1d8-1ee7e30ec43f",
        "colab": {
          "base_uri": "https://localhost:8080/"
        }
      },
      "source": [
        "my_list"
      ],
      "id": "S980siR38Wqw",
      "execution_count": 69,
      "outputs": [
        {
          "output_type": "execute_result",
          "data": {
            "text/plain": [
              "['apple',\n",
              " 'banana',\n",
              " 'watermelon',\n",
              " 'kiwi',\n",
              " 'cherry',\n",
              " 'mango',\n",
              " 'blueberry',\n",
              " 'pineapple',\n",
              " 'cake']"
            ]
          },
          "metadata": {},
          "execution_count": 69
        }
      ]
    },
    {
      "cell_type": "code",
      "metadata": {
        "id": "Y-0fjUmS8Z_7"
      },
      "source": [
        "q5 = my_list"
      ],
      "id": "Y-0fjUmS8Z_7",
      "execution_count": 70,
      "outputs": []
    },
    {
      "cell_type": "code",
      "metadata": {
        "id": "2B7EGuXz8b-B",
        "outputId": "012c7e69-1ffc-4209-cc9a-fc7829ef88f6",
        "colab": {
          "base_uri": "https://localhost:8080/"
        }
      },
      "source": [
        "q5"
      ],
      "id": "2B7EGuXz8b-B",
      "execution_count": 71,
      "outputs": [
        {
          "output_type": "execute_result",
          "data": {
            "text/plain": [
              "['apple',\n",
              " 'banana',\n",
              " 'watermelon',\n",
              " 'kiwi',\n",
              " 'cherry',\n",
              " 'mango',\n",
              " 'blueberry',\n",
              " 'pineapple',\n",
              " 'cake']"
            ]
          },
          "metadata": {},
          "execution_count": 71
        }
      ]
    },
    {
      "cell_type": "markdown",
      "metadata": {
        "deletable": false,
        "editable": false,
        "nbgrader": {
          "cell_type": "markdown",
          "checksum": "fdca8133940ea36d6af86bee4c360386",
          "grade": false,
          "grade_id": "cell-45c96d60ba16c22e",
          "locked": true,
          "schema_version": 3,
          "solution": false,
          "task": false
        },
        "id": "678f0177"
      },
      "source": [
        "**Question 6:** \n",
        "* Insert \"watermelon\" as the third item:\n",
        "* Store the result in a variable `q6`\n",
        "\n",
        "`q6 = [\"apple\", \"banana\", \"cherry\"]`"
      ],
      "id": "678f0177"
    },
    {
      "cell_type": "code",
      "metadata": {
        "deletable": false,
        "nbgrader": {
          "cell_type": "code",
          "checksum": "1368393aca287665b974622b1fbfbbed",
          "grade": false,
          "grade_id": "cell-54ee4a478892c2eb",
          "locked": false,
          "schema_version": 3,
          "solution": true,
          "task": false
        },
        "id": "d9e3f43d"
      },
      "source": [
        "# YOUR CODE HERE\n",
        "my_list = [\"apple\", \"banana\", \"cherry\"]"
      ],
      "id": "d9e3f43d",
      "execution_count": 72,
      "outputs": []
    },
    {
      "cell_type": "code",
      "metadata": {
        "deletable": false,
        "editable": false,
        "nbgrader": {
          "cell_type": "code",
          "checksum": "959f42b13c8308b859f33a55cb5c0ef2",
          "grade": true,
          "grade_id": "cell-1d6048d40c22207f",
          "locked": true,
          "points": 1,
          "schema_version": 3,
          "solution": false,
          "task": false
        },
        "id": "b80102d1"
      },
      "source": [
        "my_list.insert(3,\"watermelon\")"
      ],
      "id": "b80102d1",
      "execution_count": 73,
      "outputs": []
    },
    {
      "cell_type": "code",
      "metadata": {
        "id": "RGiJJhPP80di",
        "outputId": "a5f94679-439a-48e1-ccc0-9b110d1b49e9",
        "colab": {
          "base_uri": "https://localhost:8080/"
        }
      },
      "source": [
        "my_list"
      ],
      "id": "RGiJJhPP80di",
      "execution_count": 74,
      "outputs": [
        {
          "output_type": "execute_result",
          "data": {
            "text/plain": [
              "['apple', 'banana', 'cherry', 'watermelon']"
            ]
          },
          "metadata": {},
          "execution_count": 74
        }
      ]
    },
    {
      "cell_type": "code",
      "metadata": {
        "id": "GUnjJTKv828A"
      },
      "source": [
        "q6 = my_list"
      ],
      "id": "GUnjJTKv828A",
      "execution_count": 76,
      "outputs": []
    },
    {
      "cell_type": "code",
      "metadata": {
        "id": "4ahoTPAZ89je",
        "outputId": "bb539dda-d532-4ad8-c930-c84e6f71c9c8",
        "colab": {
          "base_uri": "https://localhost:8080/"
        }
      },
      "source": [
        "q6"
      ],
      "id": "4ahoTPAZ89je",
      "execution_count": 77,
      "outputs": [
        {
          "output_type": "execute_result",
          "data": {
            "text/plain": [
              "['apple', 'banana', 'cherry', 'watermelon']"
            ]
          },
          "metadata": {},
          "execution_count": 77
        }
      ]
    },
    {
      "cell_type": "markdown",
      "metadata": {
        "deletable": false,
        "editable": false,
        "nbgrader": {
          "cell_type": "markdown",
          "checksum": "fb2838bdb730ceed33c2a21e45bec81b",
          "grade": false,
          "grade_id": "cell-9fd018728f79dbe4",
          "locked": true,
          "schema_version": 3,
          "solution": false,
          "task": false
        },
        "id": "c73d6d9a"
      },
      "source": [
        "**Question 7:** \n",
        "* Get the second item in the tuple:\n",
        "* Store the result in a variable `q7`\n",
        "\n",
        "`t = (\"apple\", \"banana\", \"cherry\", \"mango\", \"blueberry\", \"pineapple\", \"cake\")`\n",
        " "
      ],
      "id": "c73d6d9a"
    },
    {
      "cell_type": "code",
      "metadata": {
        "deletable": false,
        "nbgrader": {
          "cell_type": "code",
          "checksum": "e78d070ddb69c0722afd85b1eb148746",
          "grade": false,
          "grade_id": "cell-a9d65c46f0e23567",
          "locked": false,
          "schema_version": 3,
          "solution": true,
          "task": false
        },
        "id": "3661b735"
      },
      "source": [
        "# YOUR CODE HERE\n",
        "t = (\"apple\", \"banana\", \"cherry\", \"mango\", \"blueberry\", \"pineapple\", \"cake\")"
      ],
      "id": "3661b735",
      "execution_count": 78,
      "outputs": []
    },
    {
      "cell_type": "code",
      "metadata": {
        "id": "aZBpRvhx9NCl",
        "outputId": "a2b34e77-3dec-416b-c49c-a8ff14a12342",
        "colab": {
          "base_uri": "https://localhost:8080/"
        }
      },
      "source": [
        "t[2:]"
      ],
      "id": "aZBpRvhx9NCl",
      "execution_count": 80,
      "outputs": [
        {
          "output_type": "execute_result",
          "data": {
            "text/plain": [
              "('cherry', 'mango', 'blueberry', 'pineapple', 'cake')"
            ]
          },
          "metadata": {},
          "execution_count": 80
        }
      ]
    },
    {
      "cell_type": "code",
      "metadata": {
        "id": "NsH_wB-W9M_O"
      },
      "source": [
        "#how to modify\n",
        "x = (\"apple\", \"banana\", \"cherry\", \"mango\", \"blueberry\", \"pineapple\", \"cake\")\n",
        "y = list(x)"
      ],
      "id": "NsH_wB-W9M_O",
      "execution_count": 81,
      "outputs": []
    },
    {
      "cell_type": "code",
      "metadata": {
        "id": "_jn0iur69fgB",
        "outputId": "d40fde73-9a5c-49c4-80d3-7f9c9577c1e4",
        "colab": {
          "base_uri": "https://localhost:8080/",
          "height": 35
        }
      },
      "source": [
        "y[2]"
      ],
      "id": "_jn0iur69fgB",
      "execution_count": 82,
      "outputs": [
        {
          "output_type": "execute_result",
          "data": {
            "application/vnd.google.colaboratory.intrinsic+json": {
              "type": "string"
            },
            "text/plain": [
              "'cherry'"
            ]
          },
          "metadata": {},
          "execution_count": 82
        }
      ]
    },
    {
      "cell_type": "code",
      "metadata": {
        "id": "X5dUvzi-9oCu"
      },
      "source": [
        "x = tuple(y)"
      ],
      "id": "X5dUvzi-9oCu",
      "execution_count": 83,
      "outputs": []
    },
    {
      "cell_type": "code",
      "metadata": {
        "id": "lkTNtOn79M7O",
        "outputId": "952728b7-b7b1-4032-fefe-b5a9e6849ae4",
        "colab": {
          "base_uri": "https://localhost:8080/"
        }
      },
      "source": [
        "print(x)"
      ],
      "id": "lkTNtOn79M7O",
      "execution_count": 84,
      "outputs": [
        {
          "output_type": "stream",
          "name": "stdout",
          "text": [
            "('apple', 'banana', 'cherry', 'mango', 'blueberry', 'pineapple', 'cake')\n"
          ]
        }
      ]
    },
    {
      "cell_type": "markdown",
      "metadata": {
        "deletable": false,
        "editable": false,
        "nbgrader": {
          "cell_type": "markdown",
          "checksum": "5be4ac5cfb39b4a0cde449f3faa8f34a",
          "grade": false,
          "grade_id": "cell-c9c55fc20233b33b",
          "locked": true,
          "schema_version": 3,
          "solution": false,
          "task": false
        },
        "id": "bfc09e37"
      },
      "source": [
        "**Question 8:** \n",
        "* Using the append() method to append an item to a list: `\"pineapple\"`\n",
        "* Store the result in a variable `q8`\n",
        "\n",
        "`q8 = [\"apple\", \"banana\", \"cherry\"]`"
      ],
      "id": "bfc09e37"
    },
    {
      "cell_type": "code",
      "metadata": {
        "deletable": false,
        "nbgrader": {
          "cell_type": "code",
          "checksum": "54dafe40b7bbdb64dc0e21b4697ca76b",
          "grade": false,
          "grade_id": "cell-56c726745bff8aa7",
          "locked": false,
          "schema_version": 3,
          "solution": true,
          "task": false
        },
        "id": "019abf4e"
      },
      "source": [
        "#To add an item to the end of the list, use the append() method\n",
        "\n",
        "# YOUR CODE HERE\n",
        "q8 = [\"apple\", \"banana\", \"cherry\"]"
      ],
      "id": "019abf4e",
      "execution_count": 85,
      "outputs": []
    },
    {
      "cell_type": "code",
      "metadata": {
        "deletable": false,
        "editable": false,
        "nbgrader": {
          "cell_type": "code",
          "checksum": "d31711e55488df4227785ebd8cfd07d6",
          "grade": true,
          "grade_id": "cell-6df1c46d27b1c830",
          "locked": true,
          "points": 1,
          "schema_version": 3,
          "solution": false,
          "task": false
        },
        "id": "197d1193"
      },
      "source": [
        "my_list = [\"apple\", \"banana\", \"cherry\"]"
      ],
      "id": "197d1193",
      "execution_count": 86,
      "outputs": []
    },
    {
      "cell_type": "code",
      "metadata": {
        "id": "sj5-MIpf-B1O"
      },
      "source": [
        "my_list.append(\"pineapple\")"
      ],
      "id": "sj5-MIpf-B1O",
      "execution_count": 94,
      "outputs": []
    },
    {
      "cell_type": "code",
      "metadata": {
        "id": "OdrtbXG7-Ivq",
        "outputId": "938bdf1d-f5ee-4435-d95c-49d45b69cd63",
        "colab": {
          "base_uri": "https://localhost:8080/"
        }
      },
      "source": [
        "my_list"
      ],
      "id": "OdrtbXG7-Ivq",
      "execution_count": 95,
      "outputs": [
        {
          "output_type": "execute_result",
          "data": {
            "text/plain": [
              "['apple', 'banana', 'cherry', 'pineapple']"
            ]
          },
          "metadata": {},
          "execution_count": 95
        }
      ]
    },
    {
      "cell_type": "code",
      "metadata": {
        "id": "ILZ6SYYv-NtD"
      },
      "source": [
        "my_list = q8"
      ],
      "id": "ILZ6SYYv-NtD",
      "execution_count": 96,
      "outputs": []
    },
    {
      "cell_type": "code",
      "metadata": {
        "id": "bkwu65XJ-NhF",
        "outputId": "2ef9842c-be25-434e-e517-740284c0fbf9",
        "colab": {
          "base_uri": "https://localhost:8080/"
        }
      },
      "source": [
        "q8"
      ],
      "id": "bkwu65XJ-NhF",
      "execution_count": 97,
      "outputs": [
        {
          "output_type": "execute_result",
          "data": {
            "text/plain": [
              "['apple', 'banana', 'cherry', 'pineapple']"
            ]
          },
          "metadata": {},
          "execution_count": 97
        }
      ]
    },
    {
      "cell_type": "markdown",
      "metadata": {
        "deletable": false,
        "editable": false,
        "nbgrader": {
          "cell_type": "markdown",
          "checksum": "c7b986ac7476b04f41a561521dee07b3",
          "grade": false,
          "grade_id": "cell-a9b0cbc43f31e20b",
          "locked": true,
          "schema_version": 3,
          "solution": false,
          "task": false
        },
        "id": "a0e78ca9"
      },
      "source": [
        "**Question 9:** \n",
        "* Remove `\"mango\"` from the following set by using the `remove()` method:\n",
        "\n",
        "`q9 = {\"apple\", \"banana\", \"cherry\", \"mango\", \"blueberry\", \"pineapple\", \"cake\"}`"
      ],
      "id": "a0e78ca9"
    },
    {
      "cell_type": "code",
      "metadata": {
        "deletable": false,
        "nbgrader": {
          "cell_type": "code",
          "checksum": "6822b56dfb45ff3c145c2b316047b508",
          "grade": false,
          "grade_id": "cell-b135400fbc28f152",
          "locked": false,
          "schema_version": 3,
          "solution": true,
          "task": false
        },
        "id": "97c5230b"
      },
      "source": [
        "# YOUR CODE HERE\n",
        "my_list = {\"apple\", \"banana\", \"cherry\", \"mango\", \"blueberry\", \"pineapple\", \"cake\"}"
      ],
      "id": "97c5230b",
      "execution_count": 98,
      "outputs": []
    },
    {
      "cell_type": "code",
      "metadata": {
        "deletable": false,
        "editable": false,
        "nbgrader": {
          "cell_type": "code",
          "checksum": "55ea41185d997442fda9943c115c2356",
          "grade": true,
          "grade_id": "cell-9bcbcbbca25fc7c0",
          "locked": true,
          "points": 1,
          "schema_version": 3,
          "solution": false,
          "task": false
        },
        "id": "74b90aa9"
      },
      "source": [
        "my_list.remove(\"mango\")"
      ],
      "id": "74b90aa9",
      "execution_count": 99,
      "outputs": []
    },
    {
      "cell_type": "code",
      "metadata": {
        "id": "TEXvjQX9-kmX",
        "outputId": "449a49da-4b10-4647-a77b-6930869da2ad",
        "colab": {
          "base_uri": "https://localhost:8080/"
        }
      },
      "source": [
        "my_list"
      ],
      "id": "TEXvjQX9-kmX",
      "execution_count": 100,
      "outputs": [
        {
          "output_type": "execute_result",
          "data": {
            "text/plain": [
              "{'apple', 'banana', 'blueberry', 'cake', 'cherry', 'pineapple'}"
            ]
          },
          "metadata": {},
          "execution_count": 100
        }
      ]
    },
    {
      "cell_type": "code",
      "metadata": {
        "id": "jUmeH6oT-msJ"
      },
      "source": [
        "q9 = my_list"
      ],
      "id": "jUmeH6oT-msJ",
      "execution_count": 102,
      "outputs": []
    },
    {
      "cell_type": "code",
      "metadata": {
        "id": "9__YvMqf-tAT",
        "outputId": "15338dfa-a933-4bfd-f181-82a712a8013e",
        "colab": {
          "base_uri": "https://localhost:8080/"
        }
      },
      "source": [
        "q9"
      ],
      "id": "9__YvMqf-tAT",
      "execution_count": 103,
      "outputs": [
        {
          "output_type": "execute_result",
          "data": {
            "text/plain": [
              "{'apple', 'banana', 'blueberry', 'cake', 'cherry', 'pineapple'}"
            ]
          },
          "metadata": {},
          "execution_count": 103
        }
      ]
    },
    {
      "cell_type": "markdown",
      "metadata": {
        "deletable": false,
        "editable": false,
        "nbgrader": {
          "cell_type": "markdown",
          "checksum": "dbdc4176de31240208dd81469df77e65",
          "grade": false,
          "grade_id": "cell-1b0f90a582a2664c",
          "locked": true,
          "schema_version": 3,
          "solution": false,
          "task": false
        },
        "id": "278a9d81"
      },
      "source": [
        "**Question 10:** \n",
        "* Remove the last item of the set by using the pop() method:\n",
        "\n",
        "`q10 = {\"apple\", \"banana\", \"cherry\", \"mango\", \"blueberry\", \"pineapple\", \"cake\"}`"
      ],
      "id": "278a9d81"
    },
    {
      "cell_type": "code",
      "metadata": {
        "deletable": false,
        "nbgrader": {
          "cell_type": "code",
          "checksum": "bcac9a92aced86b2f90d79f57bdbed6a",
          "grade": false,
          "grade_id": "cell-571021f5b1d6b48e",
          "locked": false,
          "schema_version": 3,
          "solution": true,
          "task": false
        },
        "id": "50752a3b"
      },
      "source": [
        "# YOUR CODE HERE\n",
        "my_list = {\"apple\", \"banana\", \"cherry\", \"mango\", \"blueberry\", \"pineapple\", \"cake\"}"
      ],
      "id": "50752a3b",
      "execution_count": 105,
      "outputs": []
    },
    {
      "cell_type": "code",
      "metadata": {
        "deletable": false,
        "editable": false,
        "nbgrader": {
          "cell_type": "code",
          "checksum": "442e7d1449e9910262c75bf74d39a4e3",
          "grade": true,
          "grade_id": "cell-78150ab3b4c7ef37",
          "locked": true,
          "points": 1,
          "schema_version": 3,
          "solution": false,
          "task": false
        },
        "id": "755cd861",
        "outputId": "16255efa-1bf6-4cde-a11e-fa16bc83d6b8",
        "colab": {
          "base_uri": "https://localhost:8080/",
          "height": 35
        }
      },
      "source": [
        "my_list.pop()"
      ],
      "id": "755cd861",
      "execution_count": 106,
      "outputs": [
        {
          "output_type": "execute_result",
          "data": {
            "application/vnd.google.colaboratory.intrinsic+json": {
              "type": "string"
            },
            "text/plain": [
              "'mango'"
            ]
          },
          "metadata": {},
          "execution_count": 106
        }
      ]
    },
    {
      "cell_type": "code",
      "metadata": {
        "id": "WrgPVtgJ_BLc",
        "outputId": "796e45f8-e862-44ee-8e74-72f4c4f1cf9a",
        "colab": {
          "base_uri": "https://localhost:8080/",
          "height": 35
        }
      },
      "source": [
        "my_list.pop()  "
      ],
      "id": "WrgPVtgJ_BLc",
      "execution_count": 109,
      "outputs": [
        {
          "output_type": "execute_result",
          "data": {
            "application/vnd.google.colaboratory.intrinsic+json": {
              "type": "string"
            },
            "text/plain": [
              "'cake'"
            ]
          },
          "metadata": {},
          "execution_count": 109
        }
      ]
    },
    {
      "cell_type": "markdown",
      "metadata": {
        "deletable": false,
        "editable": false,
        "nbgrader": {
          "cell_type": "markdown",
          "checksum": "d8afa03a17b8ce6eb9601488cc57428f",
          "grade": false,
          "grade_id": "cell-c02571d4e4176422",
          "locked": true,
          "schema_version": 3,
          "solution": false,
          "task": false
        },
        "id": "392a1da2"
      },
      "source": [
        "### Congratulations! \n",
        "\n",
        "### You complete the third laboratory. \n",
        "\n",
        "### Please save your file and save it (push/commit changes) in GitHub in Lab 3. "
      ],
      "id": "392a1da2"
    },
    {
      "cell_type": "code",
      "metadata": {
        "id": "5ae61c51"
      },
      "source": [
        ""
      ],
      "id": "5ae61c51",
      "execution_count": null,
      "outputs": []
    }
  ]
}