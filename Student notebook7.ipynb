{
  "nbformat": 4,
  "nbformat_minor": 5,
  "metadata": {
    "kernelspec": {
      "display_name": "Python 3",
      "language": "python",
      "name": "python3"
    },
    "language_info": {
      "codemirror_mode": {
        "name": "ipython",
        "version": 3
      },
      "file_extension": ".py",
      "mimetype": "text/x-python",
      "name": "python",
      "nbconvert_exporter": "python",
      "pygments_lexer": "ipython3",
      "version": "3.7.11"
    },
    "colab": {
      "name": "Student notebook.ipynb",
      "provenance": []
    }
  },
  "cells": [
    {
      "cell_type": "markdown",
      "metadata": {
        "id": "a0fb4d32-1c6a-41f6-bcd5-5e32aea70fdf"
      },
      "source": [
        "# Student Notebook\n",
        "#### This notebook is for you to take notes and save directly to your Google drive and GITHUB.\n",
        "\n",
        "Please upload your changes so you can review it later."
      ],
      "id": "a0fb4d32-1c6a-41f6-bcd5-5e32aea70fdf"
    },
    {
      "cell_type": "markdown",
      "metadata": {
        "id": "9a8d1388-7e11-4262-8e94-581493c554f4"
      },
      "source": [
        "# Introduction to Python Basics I"
      ],
      "id": "9a8d1388-7e11-4262-8e94-581493c554f4"
    },
    {
      "cell_type": "code",
      "metadata": {
        "id": "61d77fcf-3df2-4fee-8da0-d8c0c39f1992"
      },
      "source": [
        "import numpy as np"
      ],
      "id": "61d77fcf-3df2-4fee-8da0-d8c0c39f1992",
      "execution_count": null,
      "outputs": []
    },
    {
      "cell_type": "code",
      "metadata": {
        "colab": {
          "base_uri": "https://localhost:8080/"
        },
        "id": "981ce62a-e33e-4a11-a369-b1f63f783208",
        "outputId": "9dc1af2a-0681-4cfb-9c1f-44cf14f0f80a"
      },
      "source": [
        "np.zeros(25)"
      ],
      "id": "981ce62a-e33e-4a11-a369-b1f63f783208",
      "execution_count": null,
      "outputs": [
        {
          "output_type": "execute_result",
          "data": {
            "text/plain": [
              "array([0., 0., 0., 0., 0., 0., 0., 0., 0., 0., 0., 0., 0., 0., 0., 0., 0.,\n",
              "       0., 0., 0., 0., 0., 0., 0., 0.])"
            ]
          },
          "metadata": {},
          "execution_count": 2
        }
      ]
    },
    {
      "cell_type": "code",
      "metadata": {
        "colab": {
          "base_uri": "https://localhost:8080/"
        },
        "id": "8a4eefe9-ec12-4e51-9227-0a769594ccdd",
        "outputId": "eedef192-41b6-4efd-b2b7-75433deedbd1"
      },
      "source": [
        "np.ones(25)"
      ],
      "id": "8a4eefe9-ec12-4e51-9227-0a769594ccdd",
      "execution_count": null,
      "outputs": [
        {
          "output_type": "execute_result",
          "data": {
            "text/plain": [
              "array([1., 1., 1., 1., 1., 1., 1., 1., 1., 1., 1., 1., 1., 1., 1., 1., 1.,\n",
              "       1., 1., 1., 1., 1., 1., 1., 1.])"
            ]
          },
          "metadata": {},
          "execution_count": 3
        }
      ]
    },
    {
      "cell_type": "code",
      "metadata": {
        "colab": {
          "base_uri": "https://localhost:8080/"
        },
        "id": "b1cbe5c6-102a-4c6a-b09a-b53a9c47b820",
        "outputId": "38ecafa5-cbe4-427f-d3e2-3954db141160"
      },
      "source": [
        "np.ones(25)*5"
      ],
      "id": "b1cbe5c6-102a-4c6a-b09a-b53a9c47b820",
      "execution_count": null,
      "outputs": [
        {
          "output_type": "execute_result",
          "data": {
            "text/plain": [
              "array([5., 5., 5., 5., 5., 5., 5., 5., 5., 5., 5., 5., 5., 5., 5., 5., 5.,\n",
              "       5., 5., 5., 5., 5., 5., 5., 5.])"
            ]
          },
          "metadata": {},
          "execution_count": 6
        }
      ]
    },
    {
      "cell_type": "code",
      "metadata": {
        "colab": {
          "base_uri": "https://localhost:8080/"
        },
        "id": "W4QMrwBIN1sQ",
        "outputId": "2b8f304e-51a9-4b83-8ad8-767010372c8b"
      },
      "source": [
        "np.arange(25, 50+1)"
      ],
      "id": "W4QMrwBIN1sQ",
      "execution_count": null,
      "outputs": [
        {
          "output_type": "execute_result",
          "data": {
            "text/plain": [
              "array([25, 26, 27, 28, 29, 30, 31, 32, 33, 34, 35, 36, 37, 38, 39, 40, 41,\n",
              "       42, 43, 44, 45, 46, 47, 48, 49, 50])"
            ]
          },
          "metadata": {},
          "execution_count": 9
        }
      ]
    },
    {
      "cell_type": "code",
      "metadata": {
        "colab": {
          "base_uri": "https://localhost:8080/"
        },
        "id": "3832eb93-094f-4de4-9726-f633e246cac5",
        "outputId": "7a7f87f3-09b1-4a1b-d068-bfe4bcd970cf"
      },
      "source": [
        "np.arange(10,51,2)"
      ],
      "id": "3832eb93-094f-4de4-9726-f633e246cac5",
      "execution_count": null,
      "outputs": [
        {
          "output_type": "execute_result",
          "data": {
            "text/plain": [
              "array([10, 12, 14, 16, 18, 20, 22, 24, 26, 28, 30, 32, 34, 36, 38, 40, 42,\n",
              "       44, 46, 48, 50])"
            ]
          },
          "metadata": {},
          "execution_count": 11
        }
      ]
    },
    {
      "cell_type": "markdown",
      "metadata": {
        "id": "dYaveFx1SCX2"
      },
      "source": [
        "###eye()"
      ],
      "id": "dYaveFx1SCX2"
    },
    {
      "cell_type": "code",
      "metadata": {
        "colab": {
          "base_uri": "https://localhost:8080/"
        },
        "id": "UgkXJuK-R_yH",
        "outputId": "a0429a9b-7221-4959-e7e8-8632ffb89615"
      },
      "source": [
        "np.eye(10)"
      ],
      "id": "UgkXJuK-R_yH",
      "execution_count": null,
      "outputs": [
        {
          "output_type": "execute_result",
          "data": {
            "text/plain": [
              "array([[1., 0., 0., 0., 0., 0., 0., 0., 0., 0.],\n",
              "       [0., 1., 0., 0., 0., 0., 0., 0., 0., 0.],\n",
              "       [0., 0., 1., 0., 0., 0., 0., 0., 0., 0.],\n",
              "       [0., 0., 0., 1., 0., 0., 0., 0., 0., 0.],\n",
              "       [0., 0., 0., 0., 1., 0., 0., 0., 0., 0.],\n",
              "       [0., 0., 0., 0., 0., 1., 0., 0., 0., 0.],\n",
              "       [0., 0., 0., 0., 0., 0., 1., 0., 0., 0.],\n",
              "       [0., 0., 0., 0., 0., 0., 0., 1., 0., 0.],\n",
              "       [0., 0., 0., 0., 0., 0., 0., 0., 1., 0.],\n",
              "       [0., 0., 0., 0., 0., 0., 0., 0., 0., 1.]])"
            ]
          },
          "metadata": {},
          "execution_count": 12
        }
      ]
    },
    {
      "cell_type": "markdown",
      "metadata": {
        "id": "fFNXw0LPSGN9"
      },
      "source": [
        "### linspace()"
      ],
      "id": "fFNXw0LPSGN9"
    },
    {
      "cell_type": "code",
      "metadata": {
        "colab": {
          "base_uri": "https://localhost:8080/"
        },
        "id": "520a6910-fec0-4c19-929d-23bbe0290946",
        "outputId": "9d6f86a4-c407-4b77-ef0a-6f860c5ae963"
      },
      "source": [
        "np.linspace(0,10,3)"
      ],
      "id": "520a6910-fec0-4c19-929d-23bbe0290946",
      "execution_count": null,
      "outputs": [
        {
          "output_type": "execute_result",
          "data": {
            "text/plain": [
              "array([ 0.,  5., 10.])"
            ]
          },
          "metadata": {},
          "execution_count": 16
        }
      ]
    },
    {
      "cell_type": "code",
      "metadata": {
        "colab": {
          "base_uri": "https://localhost:8080/"
        },
        "id": "bfd44c86-5e36-4f71-88ef-496589098171",
        "outputId": "288d5d18-fbbd-489e-c994-116537c6581f"
      },
      "source": [
        "np.linspace(0,10,4)"
      ],
      "id": "bfd44c86-5e36-4f71-88ef-496589098171",
      "execution_count": null,
      "outputs": [
        {
          "output_type": "execute_result",
          "data": {
            "text/plain": [
              "array([ 0.        ,  3.33333333,  6.66666667, 10.        ])"
            ]
          },
          "metadata": {},
          "execution_count": 17
        }
      ]
    },
    {
      "cell_type": "code",
      "metadata": {
        "colab": {
          "base_uri": "https://localhost:8080/"
        },
        "id": "f8d4c821-eca0-471d-91d8-ccb710d2166b",
        "outputId": "b8995a65-9796-4f95-d8a8-b4f93947c5fe"
      },
      "source": [
        "np.linspace(0,10,5)"
      ],
      "id": "f8d4c821-eca0-471d-91d8-ccb710d2166b",
      "execution_count": null,
      "outputs": [
        {
          "output_type": "execute_result",
          "data": {
            "text/plain": [
              "array([ 0. ,  2.5,  5. ,  7.5, 10. ])"
            ]
          },
          "metadata": {},
          "execution_count": 18
        }
      ]
    },
    {
      "cell_type": "code",
      "metadata": {
        "colab": {
          "base_uri": "https://localhost:8080/"
        },
        "id": "89c6149b-6276-48ab-a205-b0aed26c232c",
        "outputId": "c5f7db4a-30e9-455b-fea1-2c8cb07f3802"
      },
      "source": [
        "np.linspace(0, 10, 50)"
      ],
      "id": "89c6149b-6276-48ab-a205-b0aed26c232c",
      "execution_count": null,
      "outputs": [
        {
          "output_type": "execute_result",
          "data": {
            "text/plain": [
              "array([ 0.        ,  0.20408163,  0.40816327,  0.6122449 ,  0.81632653,\n",
              "        1.02040816,  1.2244898 ,  1.42857143,  1.63265306,  1.83673469,\n",
              "        2.04081633,  2.24489796,  2.44897959,  2.65306122,  2.85714286,\n",
              "        3.06122449,  3.26530612,  3.46938776,  3.67346939,  3.87755102,\n",
              "        4.08163265,  4.28571429,  4.48979592,  4.69387755,  4.89795918,\n",
              "        5.10204082,  5.30612245,  5.51020408,  5.71428571,  5.91836735,\n",
              "        6.12244898,  6.32653061,  6.53061224,  6.73469388,  6.93877551,\n",
              "        7.14285714,  7.34693878,  7.55102041,  7.75510204,  7.95918367,\n",
              "        8.16326531,  8.36734694,  8.57142857,  8.7755102 ,  8.97959184,\n",
              "        9.18367347,  9.3877551 ,  9.59183673,  9.79591837, 10.        ])"
            ]
          },
          "metadata": {},
          "execution_count": 20
        }
      ]
    },
    {
      "cell_type": "code",
      "metadata": {
        "colab": {
          "base_uri": "https://localhost:8080/"
        },
        "id": "07686502-7571-481a-8b20-bec590084b7b",
        "outputId": "e025aced-1f37-4481-9490-d17a4f61290c"
      },
      "source": [
        "np.linspace(0,10,11)"
      ],
      "id": "07686502-7571-481a-8b20-bec590084b7b",
      "execution_count": null,
      "outputs": [
        {
          "output_type": "execute_result",
          "data": {
            "text/plain": [
              "array([ 0.,  1.,  2.,  3.,  4.,  5.,  6.,  7.,  8.,  9., 10.])"
            ]
          },
          "metadata": {},
          "execution_count": 22
        }
      ]
    },
    {
      "cell_type": "markdown",
      "metadata": {
        "id": "FLWA76DQTZvJ"
      },
      "source": [
        "###Random"
      ],
      "id": "FLWA76DQTZvJ"
    },
    {
      "cell_type": "markdown",
      "metadata": {
        "id": "AWwbduPDTqil"
      },
      "source": [
        "### rand()"
      ],
      "id": "AWwbduPDTqil"
    },
    {
      "cell_type": "code",
      "metadata": {
        "colab": {
          "base_uri": "https://localhost:8080/"
        },
        "id": "MAldCXX1TqSE",
        "outputId": "97cd14d7-0962-452d-e84b-67b9d2a59345"
      },
      "source": [
        "np.random.rand(2) #[0,1)] uniform distribution"
      ],
      "id": "MAldCXX1TqSE",
      "execution_count": null,
      "outputs": [
        {
          "output_type": "execute_result",
          "data": {
            "text/plain": [
              "array([0.86948134, 0.80704344])"
            ]
          },
          "metadata": {},
          "execution_count": 23
        }
      ]
    },
    {
      "cell_type": "code",
      "metadata": {
        "colab": {
          "base_uri": "https://localhost:8080/"
        },
        "id": "8ca30ace-cb73-43dc-a3b0-2f27aa362c7c",
        "outputId": "4b1b97d9-5e7d-4b38-a4c9-f86653dc6082"
      },
      "source": [
        "np.random.rand(5,5)"
      ],
      "id": "8ca30ace-cb73-43dc-a3b0-2f27aa362c7c",
      "execution_count": null,
      "outputs": [
        {
          "output_type": "execute_result",
          "data": {
            "text/plain": [
              "array([[0.43546879, 0.6127321 , 0.60322192, 0.72868951, 0.37976895],\n",
              "       [0.07404153, 0.90652219, 0.64613867, 0.72005996, 0.90832997],\n",
              "       [0.3757751 , 0.40917366, 0.75050391, 0.72964705, 0.70645314],\n",
              "       [0.00552142, 0.12627852, 0.75479194, 0.445693  , 0.29046331],\n",
              "       [0.72809129, 0.20635709, 0.83199861, 0.26673929, 0.64491121]])"
            ]
          },
          "metadata": {},
          "execution_count": 24
        }
      ]
    },
    {
      "cell_type": "markdown",
      "metadata": {
        "id": "RxFrBAayUUT1"
      },
      "source": [
        "### randn"
      ],
      "id": "RxFrBAayUUT1"
    },
    {
      "cell_type": "code",
      "metadata": {
        "colab": {
          "base_uri": "https://localhost:8080/"
        },
        "id": "0f31b763-9d91-456a-bebe-e57ec2065451",
        "outputId": "66543db3-0895-4d1b-9f14-48b3f20dbb1b"
      },
      "source": [
        "# standard normal distribution\n",
        "np.random.randn(2)"
      ],
      "id": "0f31b763-9d91-456a-bebe-e57ec2065451",
      "execution_count": null,
      "outputs": [
        {
          "output_type": "execute_result",
          "data": {
            "text/plain": [
              "array([-0.05063709, -1.04197459])"
            ]
          },
          "metadata": {},
          "execution_count": 31
        }
      ]
    },
    {
      "cell_type": "code",
      "metadata": {
        "colab": {
          "base_uri": "https://localhost:8080/"
        },
        "id": "7b5cd6d5-5466-49ba-b198-7c8983a237cc",
        "outputId": "2a59081d-0318-4afc-8110-d45bfeadcef4"
      },
      "source": [
        "np.random.randn(5,5)"
      ],
      "id": "7b5cd6d5-5466-49ba-b198-7c8983a237cc",
      "execution_count": null,
      "outputs": [
        {
          "output_type": "execute_result",
          "data": {
            "text/plain": [
              "array([[ 1.13463458, -0.57787324, -0.24059575, -1.50488578, -0.69439381],\n",
              "       [-1.02253845,  0.16618795,  0.41239034,  2.12000452, -1.09230828],\n",
              "       [ 1.27396939, -1.7468854 ,  0.1547695 , -0.79886819, -0.33422831],\n",
              "       [ 1.15005553, -1.05217668,  0.96349297,  0.69822022,  2.08955244],\n",
              "       [-0.22133662, -1.25213258, -0.60434992,  0.58231019,  1.26621975]])"
            ]
          },
          "metadata": {},
          "execution_count": 32
        }
      ]
    },
    {
      "cell_type": "markdown",
      "metadata": {
        "id": "JXS3bNkHVGev"
      },
      "source": [
        "### randint()"
      ],
      "id": "JXS3bNkHVGev"
    },
    {
      "cell_type": "code",
      "metadata": {
        "colab": {
          "base_uri": "https://localhost:8080/"
        },
        "id": "26a6af88-80a4-4bd2-be9b-8d00c3d4a416",
        "outputId": "2aac56c2-acd6-4413-f8ad-97953b03d282"
      },
      "source": [
        "np.random.randint(1,100)"
      ],
      "id": "26a6af88-80a4-4bd2-be9b-8d00c3d4a416",
      "execution_count": null,
      "outputs": [
        {
          "output_type": "execute_result",
          "data": {
            "text/plain": [
              "53"
            ]
          },
          "metadata": {},
          "execution_count": 38
        }
      ]
    },
    {
      "cell_type": "code",
      "metadata": {
        "colab": {
          "base_uri": "https://localhost:8080/"
        },
        "id": "0207740d-fc24-4937-a9ca-f18c2e64aa98",
        "outputId": "ed5d290b-a41f-4376-9d36-5ebfded8a128"
      },
      "source": [
        "np.random.randint(1,100,10)"
      ],
      "id": "0207740d-fc24-4937-a9ca-f18c2e64aa98",
      "execution_count": null,
      "outputs": [
        {
          "output_type": "execute_result",
          "data": {
            "text/plain": [
              "array([73, 68, 20, 43, 64, 39, 88, 42, 77, 61])"
            ]
          },
          "metadata": {},
          "execution_count": 39
        }
      ]
    },
    {
      "cell_type": "markdown",
      "metadata": {
        "id": "W9RyY-GDV8v1"
      },
      "source": [
        "## Arrays and Methods"
      ],
      "id": "W9RyY-GDV8v1"
    },
    {
      "cell_type": "code",
      "metadata": {
        "colab": {
          "base_uri": "https://localhost:8080/"
        },
        "id": "MFh1le8lWDvq",
        "outputId": "7eb02343-91a2-477c-b492-7de76968df7b"
      },
      "source": [
        "arr = np.arange(25)\n",
        "print(arr)"
      ],
      "id": "MFh1le8lWDvq",
      "execution_count": 37,
      "outputs": [
        {
          "output_type": "stream",
          "name": "stdout",
          "text": [
            "[ 0  1  2  3  4  5  6  7  8  9 10 11 12 13 14 15 16 17 18 19 20 21 22 23\n",
            " 24]\n"
          ]
        }
      ]
    },
    {
      "cell_type": "code",
      "metadata": {
        "colab": {
          "base_uri": "https://localhost:8080/"
        },
        "id": "9uChpmLFWDrE",
        "outputId": "e6e94914-bc08-4634-898b-fdeaa835430b"
      },
      "source": [
        "ranarr = np.random.randint(0,50,10)\n",
        "print(ranarr)"
      ],
      "id": "9uChpmLFWDrE",
      "execution_count": 36,
      "outputs": [
        {
          "output_type": "stream",
          "name": "stdout",
          "text": [
            "[23  3 38 19  4  4 48 20 30 16]\n"
          ]
        }
      ]
    },
    {
      "cell_type": "markdown",
      "metadata": {
        "id": "JOOomSRjWkJg"
      },
      "source": [
        "### reshape"
      ],
      "id": "JOOomSRjWkJg"
    },
    {
      "cell_type": "code",
      "metadata": {
        "colab": {
          "base_uri": "https://localhost:8080/"
        },
        "id": "VAqVu8J_WDn5",
        "outputId": "3aa54a3c-cebc-40d7-e7e2-bcb71a529fa8"
      },
      "source": [
        "arr.reshape(5,5)"
      ],
      "id": "VAqVu8J_WDn5",
      "execution_count": 38,
      "outputs": [
        {
          "output_type": "execute_result",
          "data": {
            "text/plain": [
              "array([[ 0,  1,  2,  3,  4],\n",
              "       [ 5,  6,  7,  8,  9],\n",
              "       [10, 11, 12, 13, 14],\n",
              "       [15, 16, 17, 18, 19],\n",
              "       [20, 21, 22, 23, 24]])"
            ]
          },
          "metadata": {},
          "execution_count": 38
        }
      ]
    },
    {
      "cell_type": "code",
      "metadata": {
        "colab": {
          "base_uri": "https://localhost:8080/"
        },
        "id": "HOz0uX2DWDkc",
        "outputId": "1a17605c-c048-4085-e1ae-6e369b545fc6"
      },
      "source": [
        "grid = np.arange(1,10).reshape((3,3))\n",
        "print(grid)"
      ],
      "id": "HOz0uX2DWDkc",
      "execution_count": null,
      "outputs": [
        {
          "output_type": "stream",
          "name": "stdout",
          "text": [
            "[[1 2 3]\n",
            " [4 5 6]\n",
            " [7 8 9]]\n"
          ]
        }
      ]
    },
    {
      "cell_type": "code",
      "metadata": {
        "colab": {
          "base_uri": "https://localhost:8080/"
        },
        "id": "3E-L9aiwWDhe",
        "outputId": "9ceee7f5-7d16-4ca2-88cf-dd51be5daa6c"
      },
      "source": [
        "#Ex7) Create a 3x3 matrix with value ranging fro\n",
        "np.arange(9).reshape(3,3)"
      ],
      "id": "3E-L9aiwWDhe",
      "execution_count": null,
      "outputs": [
        {
          "output_type": "execute_result",
          "data": {
            "text/plain": [
              "array([[0, 1, 2],\n",
              "       [3, 4, 5],\n",
              "       [6, 7, 8]])"
            ]
          },
          "metadata": {},
          "execution_count": 78
        }
      ]
    },
    {
      "cell_type": "code",
      "metadata": {
        "colab": {
          "base_uri": "https://localhost:8080/"
        },
        "id": "nEVbXhRaWDd4",
        "outputId": "e6044cdd-693f-45d4-c934-713c57d0bbc6"
      },
      "source": [
        "#Ex8) Create a 5x5 identity matrix\n",
        "np.eye(5)"
      ],
      "id": "nEVbXhRaWDd4",
      "execution_count": null,
      "outputs": [
        {
          "output_type": "execute_result",
          "data": {
            "text/plain": [
              "array([[1., 0., 0., 0., 0.],\n",
              "       [0., 1., 0., 0., 0.],\n",
              "       [0., 0., 1., 0., 0.],\n",
              "       [0., 0., 0., 1., 0.],\n",
              "       [0., 0., 0., 0., 1.]])"
            ]
          },
          "metadata": {},
          "execution_count": 77
        }
      ]
    },
    {
      "cell_type": "code",
      "metadata": {
        "colab": {
          "base_uri": "https://localhost:8080/"
        },
        "id": "t0LJlnq-ZNZi",
        "outputId": "d0fe6f84-4172-4027-950f-25d69a544816"
      },
      "source": [
        "#Ex9) Use numpy to generate a random number between 0 and 1\n",
        "np.random.rand(1)"
      ],
      "id": "t0LJlnq-ZNZi",
      "execution_count": null,
      "outputs": [
        {
          "output_type": "execute_result",
          "data": {
            "text/plain": [
              "array([0.39228141])"
            ]
          },
          "metadata": {},
          "execution_count": 75
        }
      ]
    },
    {
      "cell_type": "code",
      "metadata": {
        "colab": {
          "base_uri": "https://localhost:8080/"
        },
        "id": "o7KXc2HEYMQY",
        "outputId": "4edd4471-a385-4288-a1cb-9618f317ab72"
      },
      "source": [
        "#Ex10) Use numpy to generate an array of 100 random numbers sampled from a standard distribution\n",
        "np.random.randn(100)"
      ],
      "id": "o7KXc2HEYMQY",
      "execution_count": null,
      "outputs": [
        {
          "output_type": "execute_result",
          "data": {
            "text/plain": [
              "array([-0.25349194,  0.39813769, -0.81706242,  0.43215529, -0.54586121,\n",
              "       -0.26772154,  0.38556584,  1.25327234,  0.92534787, -0.56708383,\n",
              "        0.74025833,  0.9180874 , -0.07349429,  1.87493146,  3.58478235,\n",
              "        0.07327063, -0.02487859, -0.27836187, -1.28821534,  1.0105865 ,\n",
              "       -0.62633218, -0.24575614, -0.1990164 , -1.57123223, -0.63970037,\n",
              "        0.46040826, -0.02320088, -1.17562192, -0.82990889, -0.45653026,\n",
              "       -0.99931969, -0.97567204,  2.1686092 ,  1.26850068,  0.46925119,\n",
              "       -0.4943875 , -0.32892808,  0.89032985,  1.55974169,  0.09152634,\n",
              "        0.95646434,  0.51803768, -0.72141985,  1.2810985 ,  1.49925296,\n",
              "        0.88631339,  0.73702104, -1.7016747 ,  0.83006003, -1.01376765,\n",
              "       -0.64034636,  0.25644087,  1.94678033, -0.19909268, -1.03239543,\n",
              "        0.01815673,  1.20146755, -2.13041303,  0.90212266,  1.282679  ,\n",
              "       -0.11426918,  1.25632424, -0.54199739,  0.69036596, -0.26398513,\n",
              "        0.06150949,  0.570689  , -1.16204754, -0.58010491, -0.92231362,\n",
              "        1.75204538,  1.89697348,  2.53226889, -0.52216314, -1.00301939,\n",
              "       -0.76771036,  2.18755168, -0.39307648,  0.36436628, -1.25141489,\n",
              "       -0.02181518,  0.43728205, -0.85488933, -1.20766854, -0.1815342 ,\n",
              "        0.55361686,  0.45518381, -0.42379419,  0.35532521,  1.89505346,\n",
              "        0.03323449, -0.4439379 ,  0.21572992, -0.59207888,  0.32314279,\n",
              "       -2.68484807, -0.74915335,  1.28739057,  1.4874189 ,  0.63561535])"
            ]
          },
          "metadata": {},
          "execution_count": 76
        }
      ]
    },
    {
      "cell_type": "code",
      "metadata": {
        "colab": {
          "base_uri": "https://localhost:8080/"
        },
        "id": "v59Vbu0qYbeZ",
        "outputId": "609f54a9-8545-4ccf-f918-9311962bdf46"
      },
      "source": [
        "#Ex11) Create an array of 25 linearly spaced point between 0 and 1\n",
        "np.linspace(0,1,25)"
      ],
      "id": "v59Vbu0qYbeZ",
      "execution_count": null,
      "outputs": [
        {
          "output_type": "execute_result",
          "data": {
            "text/plain": [
              "array([0.        , 0.04166667, 0.08333333, 0.125     , 0.16666667,\n",
              "       0.20833333, 0.25      , 0.29166667, 0.33333333, 0.375     ,\n",
              "       0.41666667, 0.45833333, 0.5       , 0.54166667, 0.58333333,\n",
              "       0.625     , 0.66666667, 0.70833333, 0.75      , 0.79166667,\n",
              "       0.83333333, 0.875     , 0.91666667, 0.95833333, 1.        ])"
            ]
          },
          "metadata": {},
          "execution_count": 62
        }
      ]
    },
    {
      "cell_type": "markdown",
      "metadata": {
        "id": "nXdoVsK0WA8Y"
      },
      "source": [
        "### max, min methods"
      ],
      "id": "nXdoVsK0WA8Y"
    },
    {
      "cell_type": "code",
      "metadata": {
        "id": "S6-TTQQHh81Q"
      },
      "source": [
        "ranarr = np.random.randint(0,50,10)"
      ],
      "id": "S6-TTQQHh81Q",
      "execution_count": null,
      "outputs": []
    },
    {
      "cell_type": "code",
      "metadata": {
        "colab": {
          "base_uri": "https://localhost:8080/"
        },
        "id": "395f484f-2453-4060-a9c6-484cfd699365",
        "outputId": "82619bb3-1d38-422a-8c72-094d5abe2e4b"
      },
      "source": [
        "ranarr"
      ],
      "id": "395f484f-2453-4060-a9c6-484cfd699365",
      "execution_count": null,
      "outputs": [
        {
          "output_type": "execute_result",
          "data": {
            "text/plain": [
              "array([ 0,  3, 46, 35,  5, 33,  6, 45, 43, 46])"
            ]
          },
          "metadata": {},
          "execution_count": 87
        }
      ]
    },
    {
      "cell_type": "code",
      "metadata": {
        "colab": {
          "base_uri": "https://localhost:8080/"
        },
        "id": "92eb00c8-432e-46fe-9463-bed79228fd63",
        "outputId": "700873c9-386f-41da-963e-ccdf9df4132a"
      },
      "source": [
        "ranarr.max()"
      ],
      "id": "92eb00c8-432e-46fe-9463-bed79228fd63",
      "execution_count": null,
      "outputs": [
        {
          "output_type": "execute_result",
          "data": {
            "text/plain": [
              "46"
            ]
          },
          "metadata": {},
          "execution_count": 88
        }
      ]
    },
    {
      "cell_type": "code",
      "metadata": {
        "colab": {
          "base_uri": "https://localhost:8080/"
        },
        "id": "a61e99c4-476f-4079-95b7-b02e29e13e73",
        "outputId": "0e5f60f2-8e6b-4ff6-e583-6ed0b351b58c"
      },
      "source": [
        "ranarr.min()"
      ],
      "id": "a61e99c4-476f-4079-95b7-b02e29e13e73",
      "execution_count": null,
      "outputs": [
        {
          "output_type": "execute_result",
          "data": {
            "text/plain": [
              "0"
            ]
          },
          "metadata": {},
          "execution_count": 89
        }
      ]
    },
    {
      "cell_type": "code",
      "metadata": {
        "colab": {
          "base_uri": "https://localhost:8080/"
        },
        "id": "KOrn2g0Rh1d_",
        "outputId": "1320b5f8-4186-444f-eaf3-7ca38cd79064"
      },
      "source": [
        "ranarr.argmax()"
      ],
      "id": "KOrn2g0Rh1d_",
      "execution_count": null,
      "outputs": [
        {
          "output_type": "execute_result",
          "data": {
            "text/plain": [
              "2"
            ]
          },
          "metadata": {},
          "execution_count": 90
        }
      ]
    },
    {
      "cell_type": "code",
      "metadata": {
        "colab": {
          "base_uri": "https://localhost:8080/"
        },
        "id": "6b7e050d-71db-45ec-81b6-b4f593b58930",
        "outputId": "115aa10d-3489-4c35-f320-1819ee8b41d4"
      },
      "source": [
        "ranarr.argmin()"
      ],
      "id": "6b7e050d-71db-45ec-81b6-b4f593b58930",
      "execution_count": null,
      "outputs": [
        {
          "output_type": "execute_result",
          "data": {
            "text/plain": [
              "0"
            ]
          },
          "metadata": {},
          "execution_count": 91
        }
      ]
    },
    {
      "cell_type": "markdown",
      "metadata": {
        "id": "hK7TpwmcI-Dg"
      },
      "source": [
        "### Shape"
      ],
      "id": "hK7TpwmcI-Dg"
    },
    {
      "cell_type": "code",
      "metadata": {
        "id": "n7gVXd8pJV-L"
      },
      "source": [
        "import numpy as np"
      ],
      "id": "n7gVXd8pJV-L",
      "execution_count": 2,
      "outputs": []
    },
    {
      "cell_type": "code",
      "metadata": {
        "id": "75083780-5bf8-4a21-a96f-be036bd6ed6e"
      },
      "source": [
        "arr = np.arange(25)"
      ],
      "id": "75083780-5bf8-4a21-a96f-be036bd6ed6e",
      "execution_count": 3,
      "outputs": []
    },
    {
      "cell_type": "code",
      "metadata": {
        "id": "7c4c384e-170c-453b-ba73-5b9e1112b30f",
        "outputId": "66a12297-62bf-43c6-d9fa-808479ce1e62",
        "colab": {
          "base_uri": "https://localhost:8080/"
        }
      },
      "source": [
        "arr.shape"
      ],
      "id": "7c4c384e-170c-453b-ba73-5b9e1112b30f",
      "execution_count": 4,
      "outputs": [
        {
          "output_type": "execute_result",
          "data": {
            "text/plain": [
              "(25,)"
            ]
          },
          "metadata": {},
          "execution_count": 4
        }
      ]
    },
    {
      "cell_type": "code",
      "metadata": {
        "id": "1ed20989-df63-4537-9543-f633510d2cdf",
        "outputId": "ed5dc5a0-fed4-4d04-bd8c-35e9e513303f",
        "colab": {
          "base_uri": "https://localhost:8080/"
        }
      },
      "source": [
        "print(arr)"
      ],
      "id": "1ed20989-df63-4537-9543-f633510d2cdf",
      "execution_count": 5,
      "outputs": [
        {
          "output_type": "stream",
          "name": "stdout",
          "text": [
            "[ 0  1  2  3  4  5  6  7  8  9 10 11 12 13 14 15 16 17 18 19 20 21 22 23\n",
            " 24]\n"
          ]
        }
      ]
    },
    {
      "cell_type": "code",
      "metadata": {
        "id": "1fefe175-e76f-45c2-9933-f201f6686c78",
        "outputId": "639d032d-645f-4f2c-a8a3-44a94b5685d7",
        "colab": {
          "base_uri": "https://localhost:8080/"
        }
      },
      "source": [
        "arr.reshape(1,25).shape"
      ],
      "id": "1fefe175-e76f-45c2-9933-f201f6686c78",
      "execution_count": 6,
      "outputs": [
        {
          "output_type": "execute_result",
          "data": {
            "text/plain": [
              "(1, 25)"
            ]
          },
          "metadata": {},
          "execution_count": 6
        }
      ]
    },
    {
      "cell_type": "code",
      "metadata": {
        "id": "9b98cc92-f24a-446d-bda5-fb4407e55451",
        "outputId": "b6900395-5957-4dda-d238-0675a177f4e8",
        "colab": {
          "base_uri": "https://localhost:8080/"
        }
      },
      "source": [
        "arr.reshape(1,25)"
      ],
      "id": "9b98cc92-f24a-446d-bda5-fb4407e55451",
      "execution_count": 8,
      "outputs": [
        {
          "output_type": "execute_result",
          "data": {
            "text/plain": [
              "array([[ 0,  1,  2,  3,  4,  5,  6,  7,  8,  9, 10, 11, 12, 13, 14, 15,\n",
              "        16, 17, 18, 19, 20, 21, 22, 23, 24]])"
            ]
          },
          "metadata": {},
          "execution_count": 8
        }
      ]
    },
    {
      "cell_type": "code",
      "metadata": {
        "id": "e91f3af0-53df-4f87-a9f7-c6f79c2fa1bb",
        "outputId": "a18ed741-0ef3-4453-c284-12f0a7e2b894",
        "colab": {
          "base_uri": "https://localhost:8080/"
        }
      },
      "source": [
        "arr.reshape(25,1)"
      ],
      "id": "e91f3af0-53df-4f87-a9f7-c6f79c2fa1bb",
      "execution_count": 9,
      "outputs": [
        {
          "output_type": "execute_result",
          "data": {
            "text/plain": [
              "array([[ 0],\n",
              "       [ 1],\n",
              "       [ 2],\n",
              "       [ 3],\n",
              "       [ 4],\n",
              "       [ 5],\n",
              "       [ 6],\n",
              "       [ 7],\n",
              "       [ 8],\n",
              "       [ 9],\n",
              "       [10],\n",
              "       [11],\n",
              "       [12],\n",
              "       [13],\n",
              "       [14],\n",
              "       [15],\n",
              "       [16],\n",
              "       [17],\n",
              "       [18],\n",
              "       [19],\n",
              "       [20],\n",
              "       [21],\n",
              "       [22],\n",
              "       [23],\n",
              "       [24]])"
            ]
          },
          "metadata": {},
          "execution_count": 9
        }
      ]
    },
    {
      "cell_type": "code",
      "metadata": {
        "id": "8fbcdbc0-4902-430f-9d44-451643eb9a6d",
        "outputId": "f7126371-c23a-4103-ad1b-32d95e60f3d3",
        "colab": {
          "base_uri": "https://localhost:8080/"
        }
      },
      "source": [
        "arr.reshape(25,1).shape"
      ],
      "id": "8fbcdbc0-4902-430f-9d44-451643eb9a6d",
      "execution_count": 11,
      "outputs": [
        {
          "output_type": "execute_result",
          "data": {
            "text/plain": [
              "(25, 1)"
            ]
          },
          "metadata": {},
          "execution_count": 11
        }
      ]
    },
    {
      "cell_type": "markdown",
      "metadata": {
        "id": "qeIhdrzZKbxP"
      },
      "source": [
        "###dtype"
      ],
      "id": "qeIhdrzZKbxP"
    },
    {
      "cell_type": "code",
      "metadata": {
        "id": "c20fe24b-93dc-454a-9bb7-aa85e77c6d4d",
        "outputId": "844da8df-8a10-4a99-d601-d69f1f6692f4",
        "colab": {
          "base_uri": "https://localhost:8080/"
        }
      },
      "source": [
        "arr.dtype"
      ],
      "id": "c20fe24b-93dc-454a-9bb7-aa85e77c6d4d",
      "execution_count": 12,
      "outputs": [
        {
          "output_type": "execute_result",
          "data": {
            "text/plain": [
              "dtype('int64')"
            ]
          },
          "metadata": {},
          "execution_count": 12
        }
      ]
    },
    {
      "cell_type": "markdown",
      "metadata": {
        "id": "ncUFx_MwKr4S"
      },
      "source": [
        "## Numpy Indexing and Selection"
      ],
      "id": "ncUFx_MwKr4S"
    },
    {
      "cell_type": "code",
      "metadata": {
        "id": "2ec357e0-2539-41fa-81ac-5378df7575e4",
        "outputId": "8085f090-c716-4de2-8d28-bb5b955d6d5a",
        "colab": {
          "base_uri": "https://localhost:8080/"
        }
      },
      "source": [
        "# create sample\n",
        "arr = np.arange(0,11)\n",
        "print(arr)"
      ],
      "id": "2ec357e0-2539-41fa-81ac-5378df7575e4",
      "execution_count": 13,
      "outputs": [
        {
          "output_type": "stream",
          "name": "stdout",
          "text": [
            "[ 0  1  2  3  4  5  6  7  8  9 10]\n"
          ]
        }
      ]
    },
    {
      "cell_type": "markdown",
      "metadata": {
        "id": "1y2BV-KcLB-b"
      },
      "source": [
        "### Bracket Indexing and Selection"
      ],
      "id": "1y2BV-KcLB-b"
    },
    {
      "cell_type": "code",
      "metadata": {
        "id": "9357fff5-5beb-4722-878a-fa348954682a",
        "outputId": "48d48c03-1efc-494e-b1fe-405e47523391",
        "colab": {
          "base_uri": "https://localhost:8080/"
        }
      },
      "source": [
        "arr[8]"
      ],
      "id": "9357fff5-5beb-4722-878a-fa348954682a",
      "execution_count": 14,
      "outputs": [
        {
          "output_type": "execute_result",
          "data": {
            "text/plain": [
              "8"
            ]
          },
          "metadata": {},
          "execution_count": 14
        }
      ]
    },
    {
      "cell_type": "code",
      "metadata": {
        "id": "I1Wk8xJrKebX",
        "outputId": "762c5190-18bd-4f16-c55d-439897c5e7b2",
        "colab": {
          "base_uri": "https://localhost:8080/"
        }
      },
      "source": [
        "#get values in a range [star:end]\n",
        "arr[1:5]"
      ],
      "id": "I1Wk8xJrKebX",
      "execution_count": 16,
      "outputs": [
        {
          "output_type": "execute_result",
          "data": {
            "text/plain": [
              "array([1, 2, 3, 4])"
            ]
          },
          "metadata": {},
          "execution_count": 16
        }
      ]
    },
    {
      "cell_type": "code",
      "metadata": {
        "id": "zMujO77rKeWW",
        "outputId": "3a057db5-1a48-4d89-bc7e-47453bbe188b",
        "colab": {
          "base_uri": "https://localhost:8080/"
        }
      },
      "source": [
        "arr[0:5]"
      ],
      "id": "zMujO77rKeWW",
      "execution_count": 17,
      "outputs": [
        {
          "output_type": "execute_result",
          "data": {
            "text/plain": [
              "array([0, 1, 2, 3, 4])"
            ]
          },
          "metadata": {},
          "execution_count": 17
        }
      ]
    },
    {
      "cell_type": "code",
      "metadata": {
        "id": "sQiDxT_cKeRW",
        "outputId": "7c7ed9d7-9556-467a-97f7-326b56b0263c",
        "colab": {
          "base_uri": "https://localhost:8080/"
        }
      },
      "source": [
        "arr[-1]"
      ],
      "id": "sQiDxT_cKeRW",
      "execution_count": 18,
      "outputs": [
        {
          "output_type": "execute_result",
          "data": {
            "text/plain": [
              "10"
            ]
          },
          "metadata": {},
          "execution_count": 18
        }
      ]
    },
    {
      "cell_type": "code",
      "metadata": {
        "id": "XcuotlO3KeNA",
        "outputId": "6e26c0b4-fca1-483a-d0a4-4a8bac784483",
        "colab": {
          "base_uri": "https://localhost:8080/"
        }
      },
      "source": [
        "arr[-2]"
      ],
      "id": "XcuotlO3KeNA",
      "execution_count": 19,
      "outputs": [
        {
          "output_type": "execute_result",
          "data": {
            "text/plain": [
              "9"
            ]
          },
          "metadata": {},
          "execution_count": 19
        }
      ]
    },
    {
      "cell_type": "markdown",
      "metadata": {
        "id": "PBANyAVjMDz2"
      },
      "source": [
        "### Broadcasting"
      ],
      "id": "PBANyAVjMDz2"
    },
    {
      "cell_type": "code",
      "metadata": {
        "id": "mZLdQorwL-pl",
        "outputId": "d3e5ee23-1c3e-4833-9336-46b124ac1633",
        "colab": {
          "base_uri": "https://localhost:8080/"
        }
      },
      "source": [
        "arr[0:5] = 100\n",
        "\n",
        "arr"
      ],
      "id": "mZLdQorwL-pl",
      "execution_count": 21,
      "outputs": [
        {
          "output_type": "execute_result",
          "data": {
            "text/plain": [
              "array([100, 100, 100, 100, 100,   5,   6,   7,   8,   9,  10])"
            ]
          },
          "metadata": {},
          "execution_count": 21
        }
      ]
    },
    {
      "cell_type": "code",
      "metadata": {
        "id": "NBXCnT7ML-l8",
        "outputId": "441c83fc-39cd-482c-fb35-aa5038ea4691",
        "colab": {
          "base_uri": "https://localhost:8080/"
        }
      },
      "source": [
        "arr = np.arange(0,11)\n",
        "arr"
      ],
      "id": "NBXCnT7ML-l8",
      "execution_count": 23,
      "outputs": [
        {
          "output_type": "execute_result",
          "data": {
            "text/plain": [
              "array([ 0,  1,  2,  3,  4,  5,  6,  7,  8,  9, 10])"
            ]
          },
          "metadata": {},
          "execution_count": 23
        }
      ]
    },
    {
      "cell_type": "code",
      "metadata": {
        "id": "bW0d2X0NL-if",
        "outputId": "e8df3cb7-8c97-401f-dd4a-c1b506e5be22",
        "colab": {
          "base_uri": "https://localhost:8080/"
        }
      },
      "source": [
        "slice_arr = arr[0:6]\n",
        "print(slice_arr)"
      ],
      "id": "bW0d2X0NL-if",
      "execution_count": 25,
      "outputs": [
        {
          "output_type": "stream",
          "name": "stdout",
          "text": [
            "[0 1 2 3 4 5]\n"
          ]
        }
      ]
    },
    {
      "cell_type": "code",
      "metadata": {
        "id": "w0GdVDQzMI36"
      },
      "source": [
        "slice_arr[:] = 99"
      ],
      "id": "w0GdVDQzMI36",
      "execution_count": 26,
      "outputs": []
    },
    {
      "cell_type": "code",
      "metadata": {
        "id": "INZc7QYsMI0M",
        "outputId": "907f7f67-144e-4fc3-ef62-d6a67c9a4b0f",
        "colab": {
          "base_uri": "https://localhost:8080/"
        }
      },
      "source": [
        "print(slice_arr)"
      ],
      "id": "INZc7QYsMI0M",
      "execution_count": 27,
      "outputs": [
        {
          "output_type": "stream",
          "name": "stdout",
          "text": [
            "[99 99 99 99 99 99]\n"
          ]
        }
      ]
    },
    {
      "cell_type": "code",
      "metadata": {
        "id": "DLu4B01cMIv6",
        "outputId": "fa4f5bc8-428f-48b9-f9b1-b526c117fcd8",
        "colab": {
          "base_uri": "https://localhost:8080/"
        }
      },
      "source": [
        "print(arr)"
      ],
      "id": "DLu4B01cMIv6",
      "execution_count": 28,
      "outputs": [
        {
          "output_type": "stream",
          "name": "stdout",
          "text": [
            "[99 99 99 99 99 99  6  7  8  9 10]\n"
          ]
        }
      ]
    },
    {
      "cell_type": "code",
      "metadata": {
        "id": "vVEBb5DtM7fV"
      },
      "source": [
        "#Ex1) Why it changed arr and slice_arr?"
      ],
      "id": "vVEBb5DtM7fV",
      "execution_count": 43,
      "outputs": []
    },
    {
      "cell_type": "code",
      "metadata": {
        "id": "S6raeunIQVv2",
        "outputId": "978de79d-6a61-4727-9bbc-a0f01d9cb22d",
        "colab": {
          "base_uri": "https://localhost:8080/"
        }
      },
      "source": [
        "arr_copy = arr.copy()\n",
        "arr_copy"
      ],
      "id": "S6raeunIQVv2",
      "execution_count": 42,
      "outputs": [
        {
          "output_type": "execute_result",
          "data": {
            "text/plain": [
              "array([ 0,  1,  2,  3,  4,  5,  6,  7,  8,  9, 10, 11, 12, 13, 14, 15, 16,\n",
              "       17, 18, 19, 20, 21, 22, 23, 24])"
            ]
          },
          "metadata": {},
          "execution_count": 42
        }
      ]
    },
    {
      "cell_type": "code",
      "metadata": {
        "id": "dfXWeTrgM7bh"
      },
      "source": [
        "#Ex2) you have to replicate the following matrix using python code\n",
        "#The variable name is \"matrix\":"
      ],
      "id": "dfXWeTrgM7bh",
      "execution_count": 45,
      "outputs": []
    },
    {
      "cell_type": "code",
      "metadata": {
        "id": "gTri2jddM7Yd",
        "outputId": "1962ceff-537c-499d-93f6-83995e2a1420",
        "colab": {
          "base_uri": "https://localhost:8080/"
        }
      },
      "source": [
        "matrix = np.arange(1,50).reshape(7,7)\n",
        "print(matrix)"
      ],
      "id": "gTri2jddM7Yd",
      "execution_count": 48,
      "outputs": [
        {
          "output_type": "stream",
          "name": "stdout",
          "text": [
            "[[ 1  2  3  4  5  6  7]\n",
            " [ 8  9 10 11 12 13 14]\n",
            " [15 16 17 18 19 20 21]\n",
            " [22 23 24 25 26 27 28]\n",
            " [29 30 31 32 33 34 35]\n",
            " [36 37 38 39 40 41 42]\n",
            " [43 44 45 46 47 48 49]]\n"
          ]
        }
      ]
    },
    {
      "cell_type": "markdown",
      "metadata": {
        "id": "vUplB-fJRTht"
      },
      "source": [
        "### Indexing a 2D array (matrix)"
      ],
      "id": "vUplB-fJRTht"
    },
    {
      "cell_type": "code",
      "metadata": {
        "id": "BhhD7fy1M7T7"
      },
      "source": [
        "# array_2d[row][col] = arr_2d[row,col]"
      ],
      "id": "BhhD7fy1M7T7",
      "execution_count": null,
      "outputs": []
    },
    {
      "cell_type": "code",
      "metadata": {
        "id": "D5n1SIMBM7O7",
        "outputId": "62f63009-2c31-41e3-e71b-3ad80be1d856",
        "colab": {
          "base_uri": "https://localhost:8080/"
        }
      },
      "source": [
        "arr_2d = np.array((  [5,10,15],[20,25,30],[35,40,45]  ))\n",
        "\n",
        "print(arr_2d)"
      ],
      "id": "D5n1SIMBM7O7",
      "execution_count": 49,
      "outputs": [
        {
          "output_type": "stream",
          "name": "stdout",
          "text": [
            "[[ 5 10 15]\n",
            " [20 25 30]\n",
            " [35 40 45]]\n"
          ]
        }
      ]
    },
    {
      "cell_type": "code",
      "metadata": {
        "id": "y-9nbom8M7LI",
        "outputId": "4173522f-cca0-42b2-d45a-a89cc872ae95",
        "colab": {
          "base_uri": "https://localhost:8080/"
        }
      },
      "source": [
        "#indexing a row\n",
        "arr_2d[1]"
      ],
      "id": "y-9nbom8M7LI",
      "execution_count": 50,
      "outputs": [
        {
          "output_type": "execute_result",
          "data": {
            "text/plain": [
              "array([20, 25, 30])"
            ]
          },
          "metadata": {},
          "execution_count": 50
        }
      ]
    },
    {
      "cell_type": "code",
      "metadata": {
        "id": "gys2d-bEM7G4",
        "outputId": "00a8e749-bb45-4b1b-839d-7c728158afa6",
        "colab": {
          "base_uri": "https://localhost:8080/"
        }
      },
      "source": [
        "arr_2d[-1]"
      ],
      "id": "gys2d-bEM7G4",
      "execution_count": 51,
      "outputs": [
        {
          "output_type": "execute_result",
          "data": {
            "text/plain": [
              "array([35, 40, 45])"
            ]
          },
          "metadata": {},
          "execution_count": 51
        }
      ]
    },
    {
      "cell_type": "code",
      "metadata": {
        "id": "tbPxXej4M7C2",
        "outputId": "4535e523-d4f7-460e-f4a1-9e2cf64e56e1",
        "colab": {
          "base_uri": "https://localhost:8080/"
        }
      },
      "source": [
        "# array_2d[row][col]\n",
        "arr_2d[1][0]"
      ],
      "id": "tbPxXej4M7C2",
      "execution_count": 52,
      "outputs": [
        {
          "output_type": "execute_result",
          "data": {
            "text/plain": [
              "20"
            ]
          },
          "metadata": {},
          "execution_count": 52
        }
      ]
    },
    {
      "cell_type": "code",
      "metadata": {
        "id": "cIy6lBH5M6_h",
        "outputId": "476abda6-c471-49a4-f41f-09ba01468633",
        "colab": {
          "base_uri": "https://localhost:8080/"
        }
      },
      "source": [
        "# array_2d[row,col]\n",
        "arr_2d[1,0]"
      ],
      "id": "cIy6lBH5M6_h",
      "execution_count": 54,
      "outputs": [
        {
          "output_type": "execute_result",
          "data": {
            "text/plain": [
              "20"
            ]
          },
          "metadata": {},
          "execution_count": 54
        }
      ]
    },
    {
      "cell_type": "code",
      "metadata": {
        "id": "tDVN4KxPWb7x",
        "outputId": "f2960009-0937-49fc-d7ca-d95547d1344e",
        "colab": {
          "base_uri": "https://localhost:8080/"
        }
      },
      "source": [
        "print(arr_2d)"
      ],
      "id": "tDVN4KxPWb7x",
      "execution_count": 55,
      "outputs": [
        {
          "output_type": "stream",
          "name": "stdout",
          "text": [
            "[[ 5 10 15]\n",
            " [20 25 30]\n",
            " [35 40 45]]\n"
          ]
        }
      ]
    },
    {
      "cell_type": "code",
      "metadata": {
        "id": "nfHLBiUfWEkG",
        "outputId": "abed6413-b59d-497f-a2dc-07b70fa36927",
        "colab": {
          "base_uri": "https://localhost:8080/"
        }
      },
      "source": [
        "#2d array slicing\n",
        "#top right corner of arr_2d with a shape of (2,2)\n",
        "\n",
        "arr_2d[:2, 1:]"
      ],
      "id": "nfHLBiUfWEkG",
      "execution_count": 58,
      "outputs": [
        {
          "output_type": "execute_result",
          "data": {
            "text/plain": [
              "array([[10, 15],\n",
              "       [25, 30]])"
            ]
          },
          "metadata": {},
          "execution_count": 58
        }
      ]
    },
    {
      "cell_type": "code",
      "metadata": {
        "id": "FL27XuoDWEgc",
        "outputId": "f9b6f42f-ec3d-4bd5-ae4a-128918301546",
        "colab": {
          "base_uri": "https://localhost:8080/"
        }
      },
      "source": [
        "#bottom row\n",
        "arr_2d[2]"
      ],
      "id": "FL27XuoDWEgc",
      "execution_count": 59,
      "outputs": [
        {
          "output_type": "execute_result",
          "data": {
            "text/plain": [
              "array([35, 40, 45])"
            ]
          },
          "metadata": {},
          "execution_count": 59
        }
      ]
    },
    {
      "cell_type": "code",
      "metadata": {
        "id": "ba3kjR5wWEcY",
        "outputId": "9da893b9-868b-4755-cdfe-3390f98fe325",
        "colab": {
          "base_uri": "https://localhost:8080/"
        }
      },
      "source": [
        "arr_2d[1:,:2]"
      ],
      "id": "ba3kjR5wWEcY",
      "execution_count": 60,
      "outputs": [
        {
          "output_type": "execute_result",
          "data": {
            "text/plain": [
              "array([[20, 25],\n",
              "       [35, 40]])"
            ]
          },
          "metadata": {},
          "execution_count": 60
        }
      ]
    },
    {
      "cell_type": "code",
      "metadata": {
        "id": "1PfIomR_WEX9",
        "outputId": "47cba35a-783b-4fe6-b037-d6ff49f18264",
        "colab": {
          "base_uri": "https://localhost:8080/"
        }
      },
      "source": [
        "#top row \n",
        "arr_2d[0,:]"
      ],
      "id": "1PfIomR_WEX9",
      "execution_count": 62,
      "outputs": [
        {
          "output_type": "execute_result",
          "data": {
            "text/plain": [
              "array([ 5, 10, 15])"
            ]
          },
          "metadata": {},
          "execution_count": 62
        }
      ]
    },
    {
      "cell_type": "code",
      "metadata": {
        "id": "-80vqI2mWETx",
        "outputId": "ce188d76-74c7-4a3c-d613-5683b14201cc",
        "colab": {
          "base_uri": "https://localhost:8080/"
        }
      },
      "source": [
        "matrix = np.arange(1,50).reshape(7,7)\n",
        "print(matrix)"
      ],
      "id": "-80vqI2mWETx",
      "execution_count": 65,
      "outputs": [
        {
          "output_type": "stream",
          "name": "stdout",
          "text": [
            "[[ 1  2  3  4  5  6  7]\n",
            " [ 8  9 10 11 12 13 14]\n",
            " [15 16 17 18 19 20 21]\n",
            " [22 23 24 25 26 27 28]\n",
            " [29 30 31 32 33 34 35]\n",
            " [36 37 38 39 40 41 42]\n",
            " [43 44 45 46 47 48 49]]\n"
          ]
        }
      ]
    },
    {
      "cell_type": "code",
      "metadata": {
        "id": "pSS3xMAGZLNS",
        "outputId": "e3b8ac41-cb52-4bad-981a-342fcad07493",
        "colab": {
          "base_uri": "https://localhost:8080/"
        }
      },
      "source": [
        "matrix = np.arange(1,50)\n",
        "print(matrix)"
      ],
      "id": "pSS3xMAGZLNS",
      "execution_count": 92,
      "outputs": [
        {
          "output_type": "stream",
          "name": "stdout",
          "text": [
            "[ 1  2  3  4  5  6  7  8  9 10 11 12 13 14 15 16 17 18 19 20 21 22 23 24\n",
            " 25 26 27 28 29 30 31 32 33 34 35 36 37 38 39 40 41 42 43 44 45 46 47 48\n",
            " 49]\n"
          ]
        }
      ]
    },
    {
      "cell_type": "code",
      "metadata": {
        "id": "Z0xpiaCJaOOA",
        "outputId": "782539ef-14d4-4164-e76f-534ab3d41172",
        "colab": {
          "base_uri": "https://localhost:8080/"
        }
      },
      "source": [
        "arr_2d = np.array((  [16,17,18,19,20,21],[23,24,25,26,27,28],[30,31,32,33,34,35],[37,38,39,40,41,42],[44,45,46,47,48,49]  ))\n",
        "\n",
        "print(arr_2d)"
      ],
      "id": "Z0xpiaCJaOOA",
      "execution_count": 83,
      "outputs": [
        {
          "output_type": "stream",
          "name": "stdout",
          "text": [
            "[[16 17 18 19 20 21]\n",
            " [23 24 25 26 27 28]\n",
            " [30 31 32 33 34 35]\n",
            " [37 38 39 40 41 42]\n",
            " [44 45 46 47 48 49]]\n"
          ]
        }
      ]
    },
    {
      "cell_type": "code",
      "metadata": {
        "id": "dEyzfA-FaOKG",
        "outputId": "b051673e-ecc7-4a6b-9b51-1a4bb07ebf56",
        "colab": {
          "base_uri": "https://localhost:8080/"
        }
      },
      "source": [
        "arr_2d[:2, 1:]"
      ],
      "id": "dEyzfA-FaOKG",
      "execution_count": 84,
      "outputs": [
        {
          "output_type": "execute_result",
          "data": {
            "text/plain": [
              "array([[17, 18, 19, 20, 21],\n",
              "       [24, 25, 26, 27, 28]])"
            ]
          },
          "metadata": {},
          "execution_count": 84
        }
      ]
    },
    {
      "cell_type": "code",
      "metadata": {
        "id": "MKhE3XWCaN_k",
        "outputId": "48f30686-9262-4867-fd03-89bcd112fd22",
        "colab": {
          "base_uri": "https://localhost:8080/"
        }
      },
      "source": [
        "arr_2d[1]"
      ],
      "id": "MKhE3XWCaN_k",
      "execution_count": 85,
      "outputs": [
        {
          "output_type": "execute_result",
          "data": {
            "text/plain": [
              "array([23, 24, 25, 26, 27, 28])"
            ]
          },
          "metadata": {},
          "execution_count": 85
        }
      ]
    },
    {
      "cell_type": "code",
      "metadata": {
        "id": "ohCvm0gpbI5P",
        "outputId": "91e77cc1-0474-4fae-808b-782448d9cac5",
        "colab": {
          "base_uri": "https://localhost:8080/"
        }
      },
      "source": [
        "arr_2d[1,3]"
      ],
      "id": "ohCvm0gpbI5P",
      "execution_count": 88,
      "outputs": [
        {
          "output_type": "execute_result",
          "data": {
            "text/plain": [
              "26"
            ]
          },
          "metadata": {},
          "execution_count": 88
        }
      ]
    },
    {
      "cell_type": "code",
      "metadata": {
        "id": "KeIsTlP7bbVu",
        "outputId": "9a5a1322-f4dc-4cd5-82ce-731e068ab676",
        "colab": {
          "base_uri": "https://localhost:8080/"
        }
      },
      "source": [
        "arr_2d = np.array((  [22,23,24,25,26,27,28], [29,30,31,32,33,34,35]  ))\n",
        "\n",
        "print(arr_2d)"
      ],
      "id": "KeIsTlP7bbVu",
      "execution_count": 89,
      "outputs": [
        {
          "output_type": "stream",
          "name": "stdout",
          "text": [
            "[[22 23 24 25 26 27 28]\n",
            " [29 30 31 32 33 34 35]]\n"
          ]
        }
      ]
    },
    {
      "cell_type": "code",
      "metadata": {
        "id": "0u54WUpuYsyv",
        "outputId": "f2adad03-0717-4379-d6e1-1585633995ea",
        "colab": {
          "base_uri": "https://localhost:8080/"
        }
      },
      "source": [
        "arr_2d = np.array((  [ 2], [ 9], [ 16]))\n",
        "\n",
        "print(arr_2d)"
      ],
      "id": "0u54WUpuYsyv",
      "execution_count": 90,
      "outputs": [
        {
          "output_type": "stream",
          "name": "stdout",
          "text": [
            "[[ 2]\n",
            " [ 9]\n",
            " [16]]\n"
          ]
        }
      ]
    },
    {
      "cell_type": "code",
      "metadata": {
        "id": "dsoV8I4reEcu",
        "outputId": "869bd913-8eb5-48c4-cf20-108f1576fa06",
        "colab": {
          "base_uri": "https://localhost:8080/"
        }
      },
      "source": [
        "print(matrix)"
      ],
      "id": "dsoV8I4reEcu",
      "execution_count": 93,
      "outputs": [
        {
          "output_type": "stream",
          "name": "stdout",
          "text": [
            "[ 1  2  3  4  5  6  7  8  9 10 11 12 13 14 15 16 17 18 19 20 21 22 23 24\n",
            " 25 26 27 28 29 30 31 32 33 34 35 36 37 38 39 40 41 42 43 44 45 46 47 48\n",
            " 49]\n"
          ]
        }
      ]
    },
    {
      "cell_type": "code",
      "metadata": {
        "id": "z4C6M-FleZDt",
        "outputId": "b5b7e867-5a9f-473b-f7ef-bef478df89d5",
        "colab": {
          "base_uri": "https://localhost:8080/"
        }
      },
      "source": [
        "matrix[2:]"
      ],
      "id": "z4C6M-FleZDt",
      "execution_count": 94,
      "outputs": [
        {
          "output_type": "execute_result",
          "data": {
            "text/plain": [
              "array([ 3,  4,  5,  6,  7,  8,  9, 10, 11, 12, 13, 14, 15, 16, 17, 18, 19,\n",
              "       20, 21, 22, 23, 24, 25, 26, 27, 28, 29, 30, 31, 32, 33, 34, 35, 36,\n",
              "       37, 38, 39, 40, 41, 42, 43, 44, 45, 46, 47, 48, 49])"
            ]
          },
          "metadata": {},
          "execution_count": 94
        }
      ]
    },
    {
      "cell_type": "code",
      "metadata": {
        "id": "8lbh9mfBerh9",
        "outputId": "3a5c49a8-5e46-4dc5-c76a-193f3d64dd24",
        "colab": {
          "base_uri": "https://localhost:8080/"
        }
      },
      "source": [
        "matrix = np.arange(1,50).reshape(7,7)\n",
        "print(matrix)"
      ],
      "id": "8lbh9mfBerh9",
      "execution_count": 95,
      "outputs": [
        {
          "output_type": "stream",
          "name": "stdout",
          "text": [
            "[[ 1  2  3  4  5  6  7]\n",
            " [ 8  9 10 11 12 13 14]\n",
            " [15 16 17 18 19 20 21]\n",
            " [22 23 24 25 26 27 28]\n",
            " [29 30 31 32 33 34 35]\n",
            " [36 37 38 39 40 41 42]\n",
            " [43 44 45 46 47 48 49]]\n"
          ]
        }
      ]
    },
    {
      "cell_type": "code",
      "metadata": {
        "id": "kimVsejNesvz",
        "outputId": "cedd5f8f-df96-45db-c03a-4d243cb8172c",
        "colab": {
          "base_uri": "https://localhost:8080/"
        }
      },
      "source": [
        "matrix[2:, 1:]"
      ],
      "id": "kimVsejNesvz",
      "execution_count": 96,
      "outputs": [
        {
          "output_type": "execute_result",
          "data": {
            "text/plain": [
              "array([[16, 17, 18, 19, 20, 21],\n",
              "       [23, 24, 25, 26, 27, 28],\n",
              "       [30, 31, 32, 33, 34, 35],\n",
              "       [37, 38, 39, 40, 41, 42],\n",
              "       [44, 45, 46, 47, 48, 49]])"
            ]
          },
          "metadata": {},
          "execution_count": 96
        }
      ]
    },
    {
      "cell_type": "code",
      "metadata": {
        "id": "5egIXaZoewVm",
        "outputId": "1b5f7af2-51bd-4805-8115-441a5eda9f1b",
        "colab": {
          "base_uri": "https://localhost:8080/"
        }
      },
      "source": [
        "matrix[3,4]"
      ],
      "id": "5egIXaZoewVm",
      "execution_count": 99,
      "outputs": [
        {
          "output_type": "execute_result",
          "data": {
            "text/plain": [
              "26"
            ]
          },
          "metadata": {},
          "execution_count": 99
        }
      ]
    },
    {
      "cell_type": "code",
      "metadata": {
        "id": "1FfrZtuAfL1-",
        "outputId": "e1f87ed0-6f61-47e6-a4a6-17a811bc0827",
        "colab": {
          "base_uri": "https://localhost:8080/"
        }
      },
      "source": [
        "matrix[:3,1]"
      ],
      "id": "1FfrZtuAfL1-",
      "execution_count": 101,
      "outputs": [
        {
          "output_type": "execute_result",
          "data": {
            "text/plain": [
              "array([ 2,  9, 16])"
            ]
          },
          "metadata": {},
          "execution_count": 101
        }
      ]
    },
    {
      "cell_type": "code",
      "metadata": {
        "id": "D3aecmaTfpWs",
        "outputId": "d98b64f5-391e-4b75-d4d7-6f2c6181468e",
        "colab": {
          "base_uri": "https://localhost:8080/"
        }
      },
      "source": [
        "matrix[3:5,:]"
      ],
      "id": "D3aecmaTfpWs",
      "execution_count": 102,
      "outputs": [
        {
          "output_type": "execute_result",
          "data": {
            "text/plain": [
              "array([[22, 23, 24, 25, 26, 27, 28],\n",
              "       [29, 30, 31, 32, 33, 34, 35]])"
            ]
          },
          "metadata": {},
          "execution_count": 102
        }
      ]
    },
    {
      "cell_type": "markdown",
      "metadata": {
        "id": "I0Iuoktlgcre"
      },
      "source": [
        "### Fancy Indexing"
      ],
      "id": "I0Iuoktlgcre"
    },
    {
      "cell_type": "code",
      "metadata": {
        "id": "RveU14j2ggNL"
      },
      "source": [
        "arr2d = np.zeros((10,10))"
      ],
      "id": "RveU14j2ggNL",
      "execution_count": 103,
      "outputs": []
    },
    {
      "cell_type": "code",
      "metadata": {
        "id": "xqshM5OhgvTo",
        "outputId": "0c217e0c-abc7-4091-af06-a42dc523c651",
        "colab": {
          "base_uri": "https://localhost:8080/"
        }
      },
      "source": [
        "arr2d"
      ],
      "id": "xqshM5OhgvTo",
      "execution_count": 104,
      "outputs": [
        {
          "output_type": "execute_result",
          "data": {
            "text/plain": [
              "array([[0., 0., 0., 0., 0., 0., 0., 0., 0., 0.],\n",
              "       [0., 0., 0., 0., 0., 0., 0., 0., 0., 0.],\n",
              "       [0., 0., 0., 0., 0., 0., 0., 0., 0., 0.],\n",
              "       [0., 0., 0., 0., 0., 0., 0., 0., 0., 0.],\n",
              "       [0., 0., 0., 0., 0., 0., 0., 0., 0., 0.],\n",
              "       [0., 0., 0., 0., 0., 0., 0., 0., 0., 0.],\n",
              "       [0., 0., 0., 0., 0., 0., 0., 0., 0., 0.],\n",
              "       [0., 0., 0., 0., 0., 0., 0., 0., 0., 0.],\n",
              "       [0., 0., 0., 0., 0., 0., 0., 0., 0., 0.],\n",
              "       [0., 0., 0., 0., 0., 0., 0., 0., 0., 0.]])"
            ]
          },
          "metadata": {},
          "execution_count": 104
        }
      ]
    },
    {
      "cell_type": "code",
      "metadata": {
        "id": "gON-KOkegvPb",
        "outputId": "1bfd779e-8fcd-498a-d56d-02805fcaa62d",
        "colab": {
          "base_uri": "https://localhost:8080/"
        }
      },
      "source": [
        "arr_length = arr2d.shape[1]\n",
        "print(arr_length)"
      ],
      "id": "gON-KOkegvPb",
      "execution_count": 105,
      "outputs": [
        {
          "output_type": "stream",
          "name": "stdout",
          "text": [
            "10\n"
          ]
        }
      ]
    },
    {
      "cell_type": "code",
      "metadata": {
        "id": "FvtpuxZ3gvLH",
        "outputId": "8f69cbcd-e493-42df-9fae-ca4acbef862f",
        "colab": {
          "base_uri": "https://localhost:8080/"
        }
      },
      "source": [
        "for i in range(arr_length):\n",
        "  arr2d[i] = i\n",
        "\n",
        "arr2d"
      ],
      "id": "FvtpuxZ3gvLH",
      "execution_count": 107,
      "outputs": [
        {
          "output_type": "execute_result",
          "data": {
            "text/plain": [
              "array([[0., 0., 0., 0., 0., 0., 0., 0., 0., 0.],\n",
              "       [1., 1., 1., 1., 1., 1., 1., 1., 1., 1.],\n",
              "       [2., 2., 2., 2., 2., 2., 2., 2., 2., 2.],\n",
              "       [3., 3., 3., 3., 3., 3., 3., 3., 3., 3.],\n",
              "       [4., 4., 4., 4., 4., 4., 4., 4., 4., 4.],\n",
              "       [5., 5., 5., 5., 5., 5., 5., 5., 5., 5.],\n",
              "       [6., 6., 6., 6., 6., 6., 6., 6., 6., 6.],\n",
              "       [7., 7., 7., 7., 7., 7., 7., 7., 7., 7.],\n",
              "       [8., 8., 8., 8., 8., 8., 8., 8., 8., 8.],\n",
              "       [9., 9., 9., 9., 9., 9., 9., 9., 9., 9.]])"
            ]
          },
          "metadata": {},
          "execution_count": 107
        }
      ]
    },
    {
      "cell_type": "code",
      "metadata": {
        "id": "HjLpCjJSgvGe",
        "outputId": "d64a4dd2-1ded-4f24-eedf-e3bcdaa4cc13",
        "colab": {
          "base_uri": "https://localhost:8080/"
        }
      },
      "source": [
        "arr2d[[ 2,4,6,8 ]]"
      ],
      "id": "HjLpCjJSgvGe",
      "execution_count": 108,
      "outputs": [
        {
          "output_type": "execute_result",
          "data": {
            "text/plain": [
              "array([[2., 2., 2., 2., 2., 2., 2., 2., 2., 2.],\n",
              "       [4., 4., 4., 4., 4., 4., 4., 4., 4., 4.],\n",
              "       [6., 6., 6., 6., 6., 6., 6., 6., 6., 6.],\n",
              "       [8., 8., 8., 8., 8., 8., 8., 8., 8., 8.]])"
            ]
          },
          "metadata": {},
          "execution_count": 108
        }
      ]
    },
    {
      "cell_type": "markdown",
      "metadata": {
        "id": "ee3mb_8AlJAx"
      },
      "source": [
        "### Selection"
      ],
      "id": "ee3mb_8AlJAx"
    },
    {
      "cell_type": "code",
      "metadata": {
        "id": "1Gr0jsX1gvCt",
        "outputId": "8da18212-3da1-4ce4-fafa-89a135e46c80",
        "colab": {
          "base_uri": "https://localhost:8080/"
        }
      },
      "source": [
        "arr = np.arange(1,11)\n",
        "arr"
      ],
      "id": "1Gr0jsX1gvCt",
      "execution_count": 109,
      "outputs": [
        {
          "output_type": "execute_result",
          "data": {
            "text/plain": [
              "array([ 1,  2,  3,  4,  5,  6,  7,  8,  9, 10])"
            ]
          },
          "metadata": {},
          "execution_count": 109
        }
      ]
    },
    {
      "cell_type": "code",
      "metadata": {
        "id": "oPksdzyblQYU",
        "outputId": "9dbd0170-d74e-4c9c-f555-3f2b2ef2df8a",
        "colab": {
          "base_uri": "https://localhost:8080/"
        }
      },
      "source": [
        "arr > 4"
      ],
      "id": "oPksdzyblQYU",
      "execution_count": 110,
      "outputs": [
        {
          "output_type": "execute_result",
          "data": {
            "text/plain": [
              "array([False, False, False, False,  True,  True,  True,  True,  True,\n",
              "        True])"
            ]
          },
          "metadata": {},
          "execution_count": 110
        }
      ]
    },
    {
      "cell_type": "code",
      "metadata": {
        "id": "36D1uDAalQVC"
      },
      "source": [
        "bool_arr = arr > 4"
      ],
      "id": "36D1uDAalQVC",
      "execution_count": 112,
      "outputs": []
    },
    {
      "cell_type": "code",
      "metadata": {
        "id": "6sWenIUolQRB",
        "outputId": "008dec4b-3436-42df-83fa-cb7610238341",
        "colab": {
          "base_uri": "https://localhost:8080/"
        }
      },
      "source": [
        "arr[bool_arr]"
      ],
      "id": "6sWenIUolQRB",
      "execution_count": 113,
      "outputs": [
        {
          "output_type": "execute_result",
          "data": {
            "text/plain": [
              "array([ 5,  6,  7,  8,  9, 10])"
            ]
          },
          "metadata": {},
          "execution_count": 113
        }
      ]
    },
    {
      "cell_type": "code",
      "metadata": {
        "id": "DvGw3KsqlQNY",
        "outputId": "6cd8fc2d-b02d-4cb0-b16d-f3440b46efa6",
        "colab": {
          "base_uri": "https://localhost:8080/"
        }
      },
      "source": [
        "x = 2\n",
        "arr[arr>x]"
      ],
      "id": "DvGw3KsqlQNY",
      "execution_count": 114,
      "outputs": [
        {
          "output_type": "execute_result",
          "data": {
            "text/plain": [
              "array([ 3,  4,  5,  6,  7,  8,  9, 10])"
            ]
          },
          "metadata": {},
          "execution_count": 114
        }
      ]
    },
    {
      "cell_type": "markdown",
      "metadata": {
        "id": "3cK8azCcmK4P"
      },
      "source": [
        "### Aritmetic"
      ],
      "id": "3cK8azCcmK4P"
    },
    {
      "cell_type": "code",
      "metadata": {
        "id": "caIcwqfUlQGS"
      },
      "source": [
        "arr = np.arange(0,10)"
      ],
      "id": "caIcwqfUlQGS",
      "execution_count": 115,
      "outputs": []
    },
    {
      "cell_type": "code",
      "metadata": {
        "id": "jSMLPeJ0lP7X",
        "outputId": "775f784f-eaa2-4be0-c3cf-c4aa1a12477e",
        "colab": {
          "base_uri": "https://localhost:8080/"
        }
      },
      "source": [
        "arr + arr"
      ],
      "id": "jSMLPeJ0lP7X",
      "execution_count": 116,
      "outputs": [
        {
          "output_type": "execute_result",
          "data": {
            "text/plain": [
              "array([ 0,  2,  4,  6,  8, 10, 12, 14, 16, 18])"
            ]
          },
          "metadata": {},
          "execution_count": 116
        }
      ]
    },
    {
      "cell_type": "code",
      "metadata": {
        "id": "mwne-K2klP3r",
        "outputId": "f3616a64-d87f-4e67-e240-59c97a9b64b7",
        "colab": {
          "base_uri": "https://localhost:8080/"
        }
      },
      "source": [
        "arr * arr"
      ],
      "id": "mwne-K2klP3r",
      "execution_count": 117,
      "outputs": [
        {
          "output_type": "execute_result",
          "data": {
            "text/plain": [
              "array([ 0,  1,  4,  9, 16, 25, 36, 49, 64, 81])"
            ]
          },
          "metadata": {},
          "execution_count": 117
        }
      ]
    },
    {
      "cell_type": "code",
      "metadata": {
        "id": "BBnpIpY_lP0M",
        "outputId": "cb05fcb0-664c-468b-8ff5-3dd8a9843d7d",
        "colab": {
          "base_uri": "https://localhost:8080/"
        }
      },
      "source": [
        "arr - arr"
      ],
      "id": "BBnpIpY_lP0M",
      "execution_count": 118,
      "outputs": [
        {
          "output_type": "execute_result",
          "data": {
            "text/plain": [
              "array([0, 0, 0, 0, 0, 0, 0, 0, 0, 0])"
            ]
          },
          "metadata": {},
          "execution_count": 118
        }
      ]
    },
    {
      "cell_type": "code",
      "metadata": {
        "id": "nKvEn3xYlPva",
        "outputId": "112dd6aa-2aff-4e96-c050-557245de9ca0",
        "colab": {
          "base_uri": "https://localhost:8080/"
        }
      },
      "source": [
        "arr / arr"
      ],
      "id": "nKvEn3xYlPva",
      "execution_count": 119,
      "outputs": [
        {
          "output_type": "stream",
          "name": "stderr",
          "text": [
            "/usr/local/lib/python3.7/dist-packages/ipykernel_launcher.py:1: RuntimeWarning: invalid value encountered in true_divide\n",
            "  \"\"\"Entry point for launching an IPython kernel.\n"
          ]
        },
        {
          "output_type": "execute_result",
          "data": {
            "text/plain": [
              "array([nan,  1.,  1.,  1.,  1.,  1.,  1.,  1.,  1.,  1.])"
            ]
          },
          "metadata": {},
          "execution_count": 119
        }
      ]
    },
    {
      "cell_type": "code",
      "metadata": {
        "id": "10DUal6_lPrk",
        "outputId": "0775fddc-007d-49fc-9a96-776522f940f6",
        "colab": {
          "base_uri": "https://localhost:8080/"
        }
      },
      "source": [
        "1/arr "
      ],
      "id": "10DUal6_lPrk",
      "execution_count": 120,
      "outputs": [
        {
          "output_type": "stream",
          "name": "stderr",
          "text": [
            "/usr/local/lib/python3.7/dist-packages/ipykernel_launcher.py:1: RuntimeWarning: divide by zero encountered in true_divide\n",
            "  \"\"\"Entry point for launching an IPython kernel.\n"
          ]
        },
        {
          "output_type": "execute_result",
          "data": {
            "text/plain": [
              "array([       inf, 1.        , 0.5       , 0.33333333, 0.25      ,\n",
              "       0.2       , 0.16666667, 0.14285714, 0.125     , 0.11111111])"
            ]
          },
          "metadata": {},
          "execution_count": 120
        }
      ]
    },
    {
      "cell_type": "code",
      "metadata": {
        "id": "8rYpI7A6lPmJ",
        "outputId": "ba4dc557-1ab2-4006-8ccc-71e5e0ab03e2",
        "colab": {
          "base_uri": "https://localhost:8080/"
        }
      },
      "source": [
        "arr ** 3"
      ],
      "id": "8rYpI7A6lPmJ",
      "execution_count": 121,
      "outputs": [
        {
          "output_type": "execute_result",
          "data": {
            "text/plain": [
              "array([  0,   1,   8,  27,  64, 125, 216, 343, 512, 729])"
            ]
          },
          "metadata": {},
          "execution_count": 121
        }
      ]
    },
    {
      "cell_type": "markdown",
      "metadata": {
        "id": "vacZfEo9ntl8"
      },
      "source": [
        "## Universal Array Functions"
      ],
      "id": "vacZfEo9ntl8"
    },
    {
      "cell_type": "code",
      "metadata": {
        "id": "iK5J6ojllPhN",
        "outputId": "404582b2-5f1c-4081-a698-3927e24f7f97",
        "colab": {
          "base_uri": "https://localhost:8080/"
        }
      },
      "source": [
        "#square root\n",
        "np.sqrt(arr)"
      ],
      "id": "iK5J6ojllPhN",
      "execution_count": 122,
      "outputs": [
        {
          "output_type": "execute_result",
          "data": {
            "text/plain": [
              "array([0.        , 1.        , 1.41421356, 1.73205081, 2.        ,\n",
              "       2.23606798, 2.44948974, 2.64575131, 2.82842712, 3.        ])"
            ]
          },
          "metadata": {},
          "execution_count": 122
        }
      ]
    },
    {
      "cell_type": "code",
      "metadata": {
        "id": "wSEBa1kylPa8",
        "outputId": "bb64aefc-318a-43da-89b9-3888bdf3fd24",
        "colab": {
          "base_uri": "https://localhost:8080/"
        }
      },
      "source": [
        "#exponential (e^)\n",
        "np.exp(arr)"
      ],
      "id": "wSEBa1kylPa8",
      "execution_count": 123,
      "outputs": [
        {
          "output_type": "execute_result",
          "data": {
            "text/plain": [
              "array([1.00000000e+00, 2.71828183e+00, 7.38905610e+00, 2.00855369e+01,\n",
              "       5.45981500e+01, 1.48413159e+02, 4.03428793e+02, 1.09663316e+03,\n",
              "       2.98095799e+03, 8.10308393e+03])"
            ]
          },
          "metadata": {},
          "execution_count": 123
        }
      ]
    },
    {
      "cell_type": "code",
      "metadata": {
        "id": "PGL02Vhtn0D6",
        "outputId": "a1947c43-7a81-4d24-cc9b-da2fb947382b",
        "colab": {
          "base_uri": "https://localhost:8080/"
        }
      },
      "source": [
        "np.max(arr) #arr.max"
      ],
      "id": "PGL02Vhtn0D6",
      "execution_count": 124,
      "outputs": [
        {
          "output_type": "execute_result",
          "data": {
            "text/plain": [
              "9"
            ]
          },
          "metadata": {},
          "execution_count": 124
        }
      ]
    },
    {
      "cell_type": "code",
      "metadata": {
        "id": "EsqvmthLnz6x",
        "outputId": "7336e7da-a712-40b1-821a-df2a062f87d8",
        "colab": {
          "base_uri": "https://localhost:8080/"
        }
      },
      "source": [
        "np.sin(arr)"
      ],
      "id": "EsqvmthLnz6x",
      "execution_count": 125,
      "outputs": [
        {
          "output_type": "execute_result",
          "data": {
            "text/plain": [
              "array([ 0.        ,  0.84147098,  0.90929743,  0.14112001, -0.7568025 ,\n",
              "       -0.95892427, -0.2794155 ,  0.6569866 ,  0.98935825,  0.41211849])"
            ]
          },
          "metadata": {},
          "execution_count": 125
        }
      ]
    },
    {
      "cell_type": "code",
      "metadata": {
        "id": "x8VvjonFoYAq",
        "outputId": "82ca847f-99a9-47d7-870b-bc2c0004c734",
        "colab": {
          "base_uri": "https://localhost:8080/"
        }
      },
      "source": [
        "np.log(arr)"
      ],
      "id": "x8VvjonFoYAq",
      "execution_count": 126,
      "outputs": [
        {
          "output_type": "stream",
          "name": "stderr",
          "text": [
            "/usr/local/lib/python3.7/dist-packages/ipykernel_launcher.py:1: RuntimeWarning: divide by zero encountered in log\n",
            "  \"\"\"Entry point for launching an IPython kernel.\n"
          ]
        },
        {
          "output_type": "execute_result",
          "data": {
            "text/plain": [
              "array([      -inf, 0.        , 0.69314718, 1.09861229, 1.38629436,\n",
              "       1.60943791, 1.79175947, 1.94591015, 2.07944154, 2.19722458])"
            ]
          },
          "metadata": {},
          "execution_count": 126
        }
      ]
    },
    {
      "cell_type": "code",
      "metadata": {
        "id": "sWDZYOp3oXun",
        "outputId": "52b691d7-f550-44ae-e562-a1471adb4a1e",
        "colab": {
          "base_uri": "https://localhost:8080/"
        }
      },
      "source": [
        "print(matrix)"
      ],
      "id": "sWDZYOp3oXun",
      "execution_count": 127,
      "outputs": [
        {
          "output_type": "stream",
          "name": "stdout",
          "text": [
            "[[ 1  2  3  4  5  6  7]\n",
            " [ 8  9 10 11 12 13 14]\n",
            " [15 16 17 18 19 20 21]\n",
            " [22 23 24 25 26 27 28]\n",
            " [29 30 31 32 33 34 35]\n",
            " [36 37 38 39 40 41 42]\n",
            " [43 44 45 46 47 48 49]]\n"
          ]
        }
      ]
    },
    {
      "cell_type": "code",
      "metadata": {
        "id": "RCZIZUqRoXjw"
      },
      "source": [
        "## For next week.\n",
        "Ex8) get the sum of all the values in the matrix\n",
        "\n",
        ">>1225"
      ],
      "id": "RCZIZUqRoXjw",
      "execution_count": null,
      "outputs": []
    },
    {
      "cell_type": "code",
      "metadata": {
        "id": "g663ofUBpLYK"
      },
      "source": [
        "Ex9) Get the standard deviation of the values in matrix\n",
        "\n",
        ">>14.1421..."
      ],
      "id": "g663ofUBpLYK",
      "execution_count": null,
      "outputs": []
    },
    {
      "cell_type": "code",
      "metadata": {
        "id": "XaCB13y6pLAK"
      },
      "source": [
        "Ex10) Get the sum of all the colums in the matrix\n",
        "\n",
        ">>array([154,161,168,175,189,196])"
      ],
      "id": "XaCB13y6pLAK",
      "execution_count": null,
      "outputs": []
    },
    {
      "cell_type": "code",
      "metadata": {
        "id": "KXof8fGTpK1w"
      },
      "source": [
        ""
      ],
      "id": "KXof8fGTpK1w",
      "execution_count": null,
      "outputs": []
    },
    {
      "cell_type": "code",
      "metadata": {
        "id": "IQOSwethpKxY"
      },
      "source": [
        ""
      ],
      "id": "IQOSwethpKxY",
      "execution_count": null,
      "outputs": []
    }
  ]
}