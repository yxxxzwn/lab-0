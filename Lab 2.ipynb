{
  "nbformat": 4,
  "nbformat_minor": 5,
  "metadata": {
    "kernelspec": {
      "display_name": "Python 3",
      "language": "python",
      "name": "python3"
    },
    "language_info": {
      "codemirror_mode": {
        "name": "ipython",
        "version": 3
      },
      "file_extension": ".py",
      "mimetype": "text/x-python",
      "name": "python",
      "nbconvert_exporter": "python",
      "pygments_lexer": "ipython3",
      "version": "3.7.11"
    },
    "colab": {
      "name": "Lab 2.ipynb",
      "provenance": []
    }
  },
  "cells": [
    {
      "cell_type": "markdown",
      "metadata": {
        "deletable": false,
        "editable": false,
        "nbgrader": {
          "cell_type": "markdown",
          "checksum": "a5395a11f967f65e40663e1029fba2fc",
          "grade": false,
          "grade_id": "Introduction",
          "locked": true,
          "schema_version": 3,
          "solution": false,
          "task": false
        },
        "id": "7384ff73"
      },
      "source": [
        "# Laboratory #2\n",
        "\n",
        "* This is an introductory exercise for you to learn about Python basics.\n",
        "\n",
        "* Each question has a value of 1 point\n",
        "\n",
        "* For this laboratory each exercise has its answer, please copy the answer after the comment `# YOUR CODE HERE` in their respective question\n"
      ],
      "id": "7384ff73"
    },
    {
      "cell_type": "markdown",
      "metadata": {
        "id": "e37aff44"
      },
      "source": [
        "* Name: 유지원\n",
        "* Student ID: 202001331\n",
        "\n",
        "Answer the questions or complete the tasks below, use the specific method described if applicable."
      ],
      "id": "e37aff44"
    },
    {
      "cell_type": "markdown",
      "metadata": {
        "deletable": false,
        "editable": false,
        "nbgrader": {
          "cell_type": "markdown",
          "checksum": "3c19e3403975e7524f14b10284bb72f5",
          "grade": false,
          "grade_id": "q1_desc",
          "locked": true,
          "schema_version": 3,
          "solution": false,
          "task": false
        },
        "id": "973b3138"
      },
      "source": [
        "**Question 1:** \n",
        "* Create the variables `a = 9` and `b = 6`.  \n",
        "* Create a variable `c` = (`a` to the power of `b`). \n",
        "* What is the value of `c`? (print the result)"
      ],
      "id": "973b3138"
    },
    {
      "cell_type": "code",
      "metadata": {
        "deletable": false,
        "nbgrader": {
          "cell_type": "code",
          "checksum": "c55f2f8267fe52ea577942fc14c4b497",
          "grade": false,
          "grade_id": "q1_ans",
          "locked": false,
          "schema_version": 3,
          "solution": true,
          "task": false
        },
        "id": "dbd24305"
      },
      "source": [
        "# YOUR CODE HERE\n",
        "a = 9\n",
        "b = 6"
      ],
      "id": "dbd24305",
      "execution_count": 1,
      "outputs": []
    },
    {
      "cell_type": "code",
      "metadata": {
        "deletable": false,
        "editable": false,
        "nbgrader": {
          "cell_type": "code",
          "checksum": "b39eeec384d965e33d5d22195ddf35e9",
          "grade": true,
          "grade_id": "q1_test_1",
          "locked": true,
          "points": 5,
          "schema_version": 3,
          "solution": false,
          "task": false
        },
        "id": "1c3c0c49"
      },
      "source": [
        "c = b**a"
      ],
      "id": "1c3c0c49",
      "execution_count": 4,
      "outputs": []
    },
    {
      "cell_type": "code",
      "metadata": {
        "deletable": false,
        "editable": false,
        "nbgrader": {
          "cell_type": "code",
          "checksum": "9833554bd8ff7b46f8400f94e31fc325",
          "grade": true,
          "grade_id": "q1_test_2",
          "locked": true,
          "points": 5,
          "schema_version": 3,
          "solution": false,
          "task": false
        },
        "id": "6723f7ce",
        "outputId": "473afbb5-472e-42f1-f3dd-63650e7a893a",
        "colab": {
          "base_uri": "https://localhost:8080/"
        }
      },
      "source": [
        "c"
      ],
      "id": "6723f7ce",
      "execution_count": 5,
      "outputs": [
        {
          "output_type": "execute_result",
          "data": {
            "text/plain": [
              "10077696"
            ]
          },
          "metadata": {},
          "execution_count": 5
        }
      ]
    },
    {
      "cell_type": "markdown",
      "metadata": {
        "deletable": false,
        "editable": false,
        "nbgrader": {
          "cell_type": "markdown",
          "checksum": "1307f1e9e22ee6ae5f26b9bcc981236f",
          "grade": false,
          "grade_id": "q2_desc",
          "locked": true,
          "schema_version": 3,
          "solution": false,
          "task": false
        },
        "id": "45f499b3"
      },
      "source": [
        "**Question 2:** Create and split this following string variable:\n",
        "\n",
        "`st = \"Programming Languages 101\"`\n",
        "\n",
        "into a list. Save the result in a new variable `s`."
      ],
      "id": "45f499b3"
    },
    {
      "cell_type": "code",
      "metadata": {
        "deletable": false,
        "nbgrader": {
          "cell_type": "code",
          "checksum": "e195a99c985e2cdae54fc6144d217d22",
          "grade": false,
          "grade_id": "q2_ans",
          "locked": false,
          "schema_version": 3,
          "solution": true,
          "task": false
        },
        "id": "732eab2d"
      },
      "source": [
        "# YOUR CODE HERE\n",
        "st = \"Programming Languages 101\""
      ],
      "id": "732eab2d",
      "execution_count": 6,
      "outputs": []
    },
    {
      "cell_type": "code",
      "metadata": {
        "deletable": false,
        "editable": false,
        "nbgrader": {
          "cell_type": "code",
          "checksum": "3ecb4e6d5bc840216eaef4421446c45b",
          "grade": true,
          "grade_id": "q2_test",
          "locked": true,
          "points": 10,
          "schema_version": 3,
          "solution": false,
          "task": false
        },
        "id": "8b75cf1c"
      },
      "source": [
        "s = st"
      ],
      "id": "8b75cf1c",
      "execution_count": 17,
      "outputs": []
    },
    {
      "cell_type": "code",
      "metadata": {
        "id": "jSBzh-n4u6HT",
        "outputId": "2a04a402-de58-4399-d9dd-1aa7ae1d3a11",
        "colab": {
          "base_uri": "https://localhost:8080/",
          "height": 35
        }
      },
      "source": [
        "s"
      ],
      "id": "jSBzh-n4u6HT",
      "execution_count": 35,
      "outputs": [
        {
          "output_type": "execute_result",
          "data": {
            "application/vnd.google.colaboratory.intrinsic+json": {
              "type": "string"
            },
            "text/plain": [
              "'Programming Languages 101'"
            ]
          },
          "metadata": {},
          "execution_count": 35
        }
      ]
    },
    {
      "cell_type": "markdown",
      "metadata": {
        "deletable": false,
        "editable": false,
        "nbgrader": {
          "cell_type": "markdown",
          "checksum": "4eebec668d6143ac974e0d295ec9ff75",
          "grade": false,
          "grade_id": "q3_desc",
          "locked": true,
          "schema_version": 3,
          "solution": false,
          "task": false
        },
        "id": "63c84c8c"
      },
      "source": [
        "**Question 3:**  Create and use the following variables:\n",
        "\n",
        "`space_station = \"Death Star I\"\n",
        "diameter = 120`\n",
        "\n",
        "Use .format() to print the following string:\n",
        "\n",
        "The diameter of Death Star I is 120 kilometers."
      ],
      "id": "63c84c8c"
    },
    {
      "cell_type": "code",
      "metadata": {
        "deletable": false,
        "nbgrader": {
          "cell_type": "code",
          "checksum": "2fc9935a068ab82211df6a0f58eebd57",
          "grade": false,
          "grade_id": "q3_ans",
          "locked": false,
          "schema_version": 3,
          "solution": true,
          "task": false
        },
        "id": "5db9e2c2"
      },
      "source": [
        "# YOUR CODE HERE\n",
        "space_station = \"Death Star I\""
      ],
      "id": "5db9e2c2",
      "execution_count": 20,
      "outputs": []
    },
    {
      "cell_type": "code",
      "metadata": {
        "deletable": false,
        "editable": false,
        "nbgrader": {
          "cell_type": "code",
          "checksum": "080ac43d0e7dbb76df3a06ff1943aa2f",
          "grade": true,
          "grade_id": "q3_test",
          "locked": true,
          "points": 10,
          "schema_version": 3,
          "solution": false,
          "task": false
        },
        "id": "7ffeb397"
      },
      "source": [
        "diameter = 120"
      ],
      "id": "7ffeb397",
      "execution_count": 21,
      "outputs": []
    },
    {
      "cell_type": "code",
      "metadata": {
        "id": "-g1En6Pgo9ak",
        "outputId": "44cb95a2-0520-4a52-a48e-6dd15ff57ef6",
        "colab": {
          "base_uri": "https://localhost:8080/",
          "height": 134
        }
      },
      "source": [
        ".format(120, format_spec)"
      ],
      "id": "-g1En6Pgo9ak",
      "execution_count": 30,
      "outputs": [
        {
          "output_type": "error",
          "ename": "SyntaxError",
          "evalue": "ignored",
          "traceback": [
            "\u001b[0;36m  File \u001b[0;32m\"<ipython-input-30-3713cef28086>\"\u001b[0;36m, line \u001b[0;32m1\u001b[0m\n\u001b[0;31m    .format(120, format_spec)\u001b[0m\n\u001b[0m    ^\u001b[0m\n\u001b[0;31mSyntaxError\u001b[0m\u001b[0;31m:\u001b[0m invalid syntax\n"
          ]
        }
      ]
    },
    {
      "cell_type": "markdown",
      "metadata": {
        "deletable": false,
        "editable": false,
        "nbgrader": {
          "cell_type": "markdown",
          "checksum": "808558c48d0838bb24b56fc869668cba",
          "grade": false,
          "grade_id": "q4_desc",
          "locked": true,
          "schema_version": 3,
          "solution": false,
          "task": false
        },
        "id": "751dbfda"
      },
      "source": [
        "**Question 4:**\n",
        "\n",
        "* Use the len method to print the length of the string. \n",
        "\n",
        "* `x = \"Welcome to Programming Language Course\"`\n",
        "\n",
        "* Save the result in a new variable `h`.\n"
      ],
      "id": "751dbfda"
    },
    {
      "cell_type": "code",
      "metadata": {
        "deletable": false,
        "nbgrader": {
          "cell_type": "code",
          "checksum": "4b171a81b89b04dff7621a8aa44c9237",
          "grade": false,
          "grade_id": "q4_ans",
          "locked": false,
          "schema_version": 3,
          "solution": true,
          "task": false
        },
        "id": "d99653b3"
      },
      "source": [
        "# YOUR CODE HERE\n",
        "x = \"Welcome to Programming Language Course\""
      ],
      "id": "d99653b3",
      "execution_count": 31,
      "outputs": []
    },
    {
      "cell_type": "code",
      "metadata": {
        "deletable": false,
        "editable": false,
        "nbgrader": {
          "cell_type": "code",
          "checksum": "e2d2e19b60274bbf36c17c544cebd85f",
          "grade": true,
          "grade_id": "q4_test",
          "locked": true,
          "points": 10,
          "schema_version": 3,
          "solution": false,
          "task": false
        },
        "id": "57c152e5"
      },
      "source": [
        "h = x"
      ],
      "id": "57c152e5",
      "execution_count": 33,
      "outputs": []
    },
    {
      "cell_type": "code",
      "metadata": {
        "id": "q_28z-o7u3-c",
        "outputId": "4a468147-9499-4d73-ce98-85c83b400112",
        "colab": {
          "base_uri": "https://localhost:8080/",
          "height": 35
        }
      },
      "source": [
        "h"
      ],
      "id": "q_28z-o7u3-c",
      "execution_count": 34,
      "outputs": [
        {
          "output_type": "execute_result",
          "data": {
            "application/vnd.google.colaboratory.intrinsic+json": {
              "type": "string"
            },
            "text/plain": [
              "'Welcome to Programming Language Course'"
            ]
          },
          "metadata": {},
          "execution_count": 34
        }
      ]
    },
    {
      "cell_type": "markdown",
      "metadata": {
        "deletable": false,
        "editable": false,
        "nbgrader": {
          "cell_type": "markdown",
          "checksum": "c70a6ae47a5f4a0fd0160544580be460",
          "grade": false,
          "grade_id": "q5_desc",
          "locked": true,
          "schema_version": 3,
          "solution": false,
          "task": false
        },
        "id": "93e7349a"
      },
      "source": [
        "**Question 5:**\n",
        "\n",
        "* Get the first character of the string txt\n",
        "* `txt = \"Welcome to the 2nd Laboratory\"`\n",
        "\n",
        "* Save the result in a new variable `k`.\n"
      ],
      "id": "93e7349a"
    },
    {
      "cell_type": "code",
      "metadata": {
        "deletable": false,
        "nbgrader": {
          "cell_type": "code",
          "checksum": "0250afeaaa8f96dde3ef816354dce02d",
          "grade": false,
          "grade_id": "q5_ans",
          "locked": false,
          "schema_version": 3,
          "solution": true,
          "task": false
        },
        "id": "0543d039"
      },
      "source": [
        "# YOUR CODE HERE\n",
        "txt = \"Welcome to the 2nd Labratory\""
      ],
      "id": "0543d039",
      "execution_count": 36,
      "outputs": []
    },
    {
      "cell_type": "code",
      "metadata": {
        "deletable": false,
        "editable": false,
        "nbgrader": {
          "cell_type": "code",
          "checksum": "dec9d46ff1416d7514b40b6bc869ef27",
          "grade": true,
          "grade_id": "q5_test",
          "locked": true,
          "points": 10,
          "schema_version": 3,
          "solution": false,
          "task": false
        },
        "id": "a60e26ab"
      },
      "source": [
        "k = txt"
      ],
      "id": "a60e26ab",
      "execution_count": 38,
      "outputs": []
    },
    {
      "cell_type": "code",
      "metadata": {
        "id": "TRrK8f7cvJ8p",
        "outputId": "a4b9ba0d-097d-4b11-de7d-066380210ffd",
        "colab": {
          "base_uri": "https://localhost:8080/",
          "height": 35
        }
      },
      "source": [
        "k"
      ],
      "id": "TRrK8f7cvJ8p",
      "execution_count": 39,
      "outputs": [
        {
          "output_type": "execute_result",
          "data": {
            "application/vnd.google.colaboratory.intrinsic+json": {
              "type": "string"
            },
            "text/plain": [
              "'Welcome to the 2nd Labratory'"
            ]
          },
          "metadata": {},
          "execution_count": 39
        }
      ]
    },
    {
      "cell_type": "markdown",
      "metadata": {
        "deletable": false,
        "editable": false,
        "nbgrader": {
          "cell_type": "markdown",
          "checksum": "89a76f3b8724b59f36d4979248bb4e2c",
          "grade": false,
          "grade_id": "q6_desc",
          "locked": true,
          "schema_version": 3,
          "solution": false,
          "task": false
        },
        "id": "892e8f0d"
      },
      "source": [
        "**Question 6:**\n",
        "\n",
        "* Get the characters from index 2 to index 4 of the string txt.\n",
        "* `txt = \"Welcome to the 2nd Laboratory\"`\n",
        "* Save the result in a new variable `v`.\n"
      ],
      "id": "892e8f0d"
    },
    {
      "cell_type": "code",
      "metadata": {
        "deletable": false,
        "nbgrader": {
          "cell_type": "code",
          "checksum": "3b18f284f67a6c0394b5c5d1a1c9ae47",
          "grade": false,
          "grade_id": "q6_ans",
          "locked": false,
          "schema_version": 3,
          "solution": true,
          "task": false
        },
        "id": "c7d064c5"
      },
      "source": [
        "# YOUR CODE HERE\n",
        "txt = \"Welcome to the 2nd Laboratory\""
      ],
      "id": "c7d064c5",
      "execution_count": 40,
      "outputs": []
    },
    {
      "cell_type": "code",
      "metadata": {
        "deletable": false,
        "editable": false,
        "nbgrader": {
          "cell_type": "code",
          "checksum": "64d3f9287f9f4c6d7fd24b4257d75c5a",
          "grade": true,
          "grade_id": "q6_test",
          "locked": true,
          "points": 10,
          "schema_version": 3,
          "solution": false,
          "task": false
        },
        "id": "ad987b2a"
      },
      "source": [
        "v = txt"
      ],
      "id": "ad987b2a",
      "execution_count": 41,
      "outputs": []
    },
    {
      "cell_type": "code",
      "metadata": {
        "id": "DAPTD96cxk9f",
        "outputId": "79e1b7ba-a0eb-4d92-cfb8-cf2dc4528d93",
        "colab": {
          "base_uri": "https://localhost:8080/",
          "height": 35
        }
      },
      "source": [
        "v"
      ],
      "id": "DAPTD96cxk9f",
      "execution_count": 42,
      "outputs": [
        {
          "output_type": "execute_result",
          "data": {
            "application/vnd.google.colaboratory.intrinsic+json": {
              "type": "string"
            },
            "text/plain": [
              "'Welcome to the 2nd Laboratory'"
            ]
          },
          "metadata": {},
          "execution_count": 42
        }
      ]
    },
    {
      "cell_type": "markdown",
      "metadata": {
        "deletable": false,
        "editable": false,
        "nbgrader": {
          "cell_type": "markdown",
          "checksum": "0b43aeee74759e72110f7136d973f7b2",
          "grade": false,
          "grade_id": "q7_desc",
          "locked": true,
          "schema_version": 3,
          "solution": false,
          "task": false
        },
        "id": "a93b74eb"
      },
      "source": [
        "**Question 7:**\n",
        "\n",
        "* Convert the value of txt to upper case.\n",
        "* `txt = \"Welcome to the 2nd Laboratory\"`\n",
        "* Save the result in a new variable `b`."
      ],
      "id": "a93b74eb"
    },
    {
      "cell_type": "code",
      "metadata": {
        "deletable": false,
        "nbgrader": {
          "cell_type": "code",
          "checksum": "0ef3c39b6a1972740052033903802d16",
          "grade": false,
          "grade_id": "q7_ans",
          "locked": false,
          "schema_version": 3,
          "solution": true,
          "task": false
        },
        "id": "8267e80b"
      },
      "source": [
        "# YOUR CODE HERE\n",
        "txt = \"Welcome to the 2nd Laboratory\""
      ],
      "id": "8267e80b",
      "execution_count": 43,
      "outputs": []
    },
    {
      "cell_type": "code",
      "metadata": {
        "deletable": false,
        "editable": false,
        "nbgrader": {
          "cell_type": "code",
          "checksum": "b93013c46d13650ce4a3a59b8c923f31",
          "grade": true,
          "grade_id": "q7_test",
          "locked": true,
          "points": 10,
          "schema_version": 3,
          "solution": false,
          "task": false
        },
        "id": "cffd9c6a",
        "outputId": "1974044b-2072-45a9-df1a-f4e640ffb660",
        "colab": {
          "base_uri": "https://localhost:8080/",
          "height": 35
        }
      },
      "source": [
        "st. upper ()"
      ],
      "id": "cffd9c6a",
      "execution_count": 46,
      "outputs": [
        {
          "output_type": "execute_result",
          "data": {
            "application/vnd.google.colaboratory.intrinsic+json": {
              "type": "string"
            },
            "text/plain": [
              "'PROGRAMMING LANGUAGES 101'"
            ]
          },
          "metadata": {},
          "execution_count": 46
        }
      ]
    },
    {
      "cell_type": "code",
      "metadata": {
        "id": "OAOLLn_7xtZA"
      },
      "source": [
        "b = st. upper ()"
      ],
      "id": "OAOLLn_7xtZA",
      "execution_count": 52,
      "outputs": []
    },
    {
      "cell_type": "code",
      "metadata": {
        "id": "Gv2FeF7KyMfA",
        "outputId": "7b4b7810-1886-43ae-a3e3-bc181804c5bb",
        "colab": {
          "base_uri": "https://localhost:8080/",
          "height": 35
        }
      },
      "source": [
        "b"
      ],
      "id": "Gv2FeF7KyMfA",
      "execution_count": 53,
      "outputs": [
        {
          "output_type": "execute_result",
          "data": {
            "application/vnd.google.colaboratory.intrinsic+json": {
              "type": "string"
            },
            "text/plain": [
              "'PROGRAMMING LANGUAGES 101'"
            ]
          },
          "metadata": {},
          "execution_count": 53
        }
      ]
    },
    {
      "cell_type": "markdown",
      "metadata": {
        "deletable": false,
        "editable": false,
        "nbgrader": {
          "cell_type": "markdown",
          "checksum": "df658ca50600e1e99c1706dffa447437",
          "grade": false,
          "grade_id": "q8_desc",
          "locked": true,
          "schema_version": 3,
          "solution": false,
          "task": false
        },
        "id": "d73a9944"
      },
      "source": [
        "**Question 8:**\n",
        "* Convert the value of txt to lower case.\n",
        "* `txt = \"Welcome to the 2nd Laboratory\"`\n",
        "* Save the result in a new variable `lw`."
      ],
      "id": "d73a9944"
    },
    {
      "cell_type": "code",
      "metadata": {
        "deletable": false,
        "nbgrader": {
          "cell_type": "code",
          "checksum": "28ca95c55895bf0fc7361b179f0712d6",
          "grade": false,
          "grade_id": "q8_ans",
          "locked": false,
          "schema_version": 3,
          "solution": true,
          "task": false
        },
        "id": "b3abc173"
      },
      "source": [
        "# YOUR CODE HERE\n",
        "txt = \"Welcome to the 2nd Laboratory\""
      ],
      "id": "b3abc173",
      "execution_count": 49,
      "outputs": []
    },
    {
      "cell_type": "code",
      "metadata": {
        "deletable": false,
        "editable": false,
        "nbgrader": {
          "cell_type": "code",
          "checksum": "5d1b01e95281183362e151e483f9ecc0",
          "grade": true,
          "grade_id": "q8_test",
          "locked": true,
          "points": 10,
          "schema_version": 3,
          "solution": false,
          "task": false
        },
        "id": "c68fa094",
        "outputId": "cdf86163-45d8-406e-c698-221b532dbf44",
        "colab": {
          "base_uri": "https://localhost:8080/",
          "height": 35
        }
      },
      "source": [
        "st. lower ()"
      ],
      "id": "c68fa094",
      "execution_count": 50,
      "outputs": [
        {
          "output_type": "execute_result",
          "data": {
            "application/vnd.google.colaboratory.intrinsic+json": {
              "type": "string"
            },
            "text/plain": [
              "'programming languages 101'"
            ]
          },
          "metadata": {},
          "execution_count": 50
        }
      ]
    },
    {
      "cell_type": "code",
      "metadata": {
        "id": "ncLKatkSyXMO"
      },
      "source": [
        "lw = st. lower()"
      ],
      "id": "ncLKatkSyXMO",
      "execution_count": 51,
      "outputs": []
    },
    {
      "cell_type": "code",
      "metadata": {
        "id": "19ZpbGBFye2a",
        "outputId": "031543cc-8941-46e9-b49f-a5c798144b36",
        "colab": {
          "base_uri": "https://localhost:8080/",
          "height": 35
        }
      },
      "source": [
        "lw"
      ],
      "id": "19ZpbGBFye2a",
      "execution_count": 54,
      "outputs": [
        {
          "output_type": "execute_result",
          "data": {
            "application/vnd.google.colaboratory.intrinsic+json": {
              "type": "string"
            },
            "text/plain": [
              "'programming languages 101'"
            ]
          },
          "metadata": {},
          "execution_count": 54
        }
      ]
    },
    {
      "cell_type": "markdown",
      "metadata": {
        "deletable": false,
        "editable": false,
        "nbgrader": {
          "cell_type": "markdown",
          "checksum": "596371dc2cec1c229322cd8f56cfea31",
          "grade": false,
          "grade_id": "q9_desc",
          "locked": true,
          "schema_version": 3,
          "solution": false,
          "task": false
        },
        "id": "b8aa8843"
      },
      "source": [
        "**Question 9:**\n",
        "* Replace the character o with an @ for txt.\n",
        "* `txt = \"Welcome to the 2nd Laboratory\"`\n",
        "* Save the result in a new variable `rp`.\n"
      ],
      "id": "b8aa8843"
    },
    {
      "cell_type": "code",
      "metadata": {
        "deletable": false,
        "nbgrader": {
          "cell_type": "code",
          "checksum": "43e056c0ff520c958b59f260c36e9251",
          "grade": false,
          "grade_id": "q9_ans",
          "locked": false,
          "schema_version": 3,
          "solution": true,
          "task": false
        },
        "id": "9c1ecbab"
      },
      "source": [
        "# YOUR CODE HERE\n",
        "txt = \"Welcome to the 2nd Laboratory\""
      ],
      "id": "9c1ecbab",
      "execution_count": 55,
      "outputs": []
    },
    {
      "cell_type": "code",
      "metadata": {
        "deletable": false,
        "editable": false,
        "nbgrader": {
          "cell_type": "code",
          "checksum": "52565a17376cad88f1e730095873f20b",
          "grade": true,
          "grade_id": "q9_test",
          "locked": true,
          "points": 10,
          "schema_version": 3,
          "solution": false,
          "task": false
        },
        "id": "210ed5b0",
        "outputId": "5637be02-99f2-4c90-fd10-7f7194e24223",
        "colab": {
          "base_uri": "https://localhost:8080/",
          "height": 35
        }
      },
      "source": [
        "txt.replace (\"o\", \"@\")"
      ],
      "id": "210ed5b0",
      "execution_count": 64,
      "outputs": [
        {
          "output_type": "execute_result",
          "data": {
            "application/vnd.google.colaboratory.intrinsic+json": {
              "type": "string"
            },
            "text/plain": [
              "'Welc@me t@ the 2nd Lab@rat@ry'"
            ]
          },
          "metadata": {},
          "execution_count": 64
        }
      ]
    },
    {
      "cell_type": "code",
      "metadata": {
        "id": "IXVOk2DLzsmm"
      },
      "source": [
        "rp = txt. replace (\"o\", \"@\")"
      ],
      "id": "IXVOk2DLzsmm",
      "execution_count": 67,
      "outputs": []
    },
    {
      "cell_type": "code",
      "metadata": {
        "id": "TAb_MI7Jz6M6",
        "outputId": "f24cb002-460c-401c-c354-d03beb1c457a",
        "colab": {
          "base_uri": "https://localhost:8080/",
          "height": 35
        }
      },
      "source": [
        "rp"
      ],
      "id": "TAb_MI7Jz6M6",
      "execution_count": 68,
      "outputs": [
        {
          "output_type": "execute_result",
          "data": {
            "application/vnd.google.colaboratory.intrinsic+json": {
              "type": "string"
            },
            "text/plain": [
              "'Welc@me t@ the 2nd Lab@rat@ry'"
            ]
          },
          "metadata": {},
          "execution_count": 68
        }
      ]
    },
    {
      "cell_type": "markdown",
      "metadata": {
        "deletable": false,
        "editable": false,
        "nbgrader": {
          "cell_type": "markdown",
          "checksum": "1e4d3143bef1cf7c0d8445cc7e35c64d",
          "grade": false,
          "grade_id": "q10_desc",
          "locked": true,
          "schema_version": 3,
          "solution": false,
          "task": false
        },
        "id": "76b90a9a"
      },
      "source": [
        "**Question 10:**\n",
        "* Create a string variable `str_heart` that make the following pattern in one sentence.\n",
        "\n",
        "       HHH    HHH\n",
        "  \n",
        "     HHH   HHH   HHH\n",
        "     \n",
        "    HHH          HHH\n",
        "    \n",
        "     HHH        HHH\n",
        "     \n",
        "      HHH      HHH\n",
        "      \n",
        "        HHH  HHH\n",
        "        \n",
        "          HHH\n"
      ],
      "id": "76b90a9a"
    },
    {
      "cell_type": "code",
      "metadata": {
        "deletable": false,
        "nbgrader": {
          "cell_type": "code",
          "checksum": "343cc165d728fcf08e6a99123930b365",
          "grade": false,
          "grade_id": "q10_ans",
          "locked": false,
          "schema_version": 3,
          "solution": true,
          "task": false
        },
        "id": "c4ca0f6f",
        "outputId": "245e270e-2459-40d5-e6da-cc377b815f93",
        "colab": {
          "base_uri": "https://localhost:8080/",
          "height": 186
        }
      },
      "source": [
        "# YOUR CODE HERE\n",
        "str_heart "
      ],
      "id": "c4ca0f6f",
      "execution_count": 69,
      "outputs": [
        {
          "output_type": "error",
          "ename": "NameError",
          "evalue": "ignored",
          "traceback": [
            "\u001b[0;31m---------------------------------------------------------------------------\u001b[0m",
            "\u001b[0;31mNameError\u001b[0m                                 Traceback (most recent call last)",
            "\u001b[0;32m<ipython-input-69-766e496fb835>\u001b[0m in \u001b[0;36m<module>\u001b[0;34m()\u001b[0m\n\u001b[1;32m      1\u001b[0m \u001b[0;31m# YOUR CODE HERE\u001b[0m\u001b[0;34m\u001b[0m\u001b[0;34m\u001b[0m\u001b[0;34m\u001b[0m\u001b[0m\n\u001b[0;32m----> 2\u001b[0;31m \u001b[0mstr_heart\u001b[0m\u001b[0;34m\u001b[0m\u001b[0;34m\u001b[0m\u001b[0m\n\u001b[0m",
            "\u001b[0;31mNameError\u001b[0m: name 'str_heart' is not defined"
          ]
        }
      ]
    },
    {
      "cell_type": "code",
      "metadata": {
        "deletable": false,
        "editable": false,
        "nbgrader": {
          "cell_type": "code",
          "checksum": "fe7969cd8f3fc628796c822224d7a49d",
          "grade": true,
          "grade_id": "q10_test",
          "locked": true,
          "points": 10,
          "schema_version": 3,
          "solution": false,
          "task": false
        },
        "id": "ebeeb186"
      },
      "source": [
        ""
      ],
      "id": "ebeeb186",
      "execution_count": null,
      "outputs": []
    },
    {
      "cell_type": "markdown",
      "metadata": {
        "deletable": false,
        "editable": false,
        "nbgrader": {
          "cell_type": "markdown",
          "checksum": "87fda00062f5774677289b77e6101aed",
          "grade": false,
          "grade_id": "Final",
          "locked": true,
          "schema_version": 3,
          "solution": false,
          "task": false
        },
        "id": "2564d0f2"
      },
      "source": [
        "### Congratulations! \n",
        "\n",
        "### You complete the second laboratory. \n",
        "\n",
        "### Please save your file and save it (push/commit changes) in GitHub in Lab 2. \n",
        "\n",
        "### Happy Chuseok"
      ],
      "id": "2564d0f2"
    },
    {
      "cell_type": "code",
      "metadata": {
        "id": "a3fb66cb"
      },
      "source": [
        ""
      ],
      "id": "a3fb66cb",
      "execution_count": null,
      "outputs": []
    }
  ]
}