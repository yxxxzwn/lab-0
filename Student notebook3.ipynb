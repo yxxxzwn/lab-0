{
  "nbformat": 4,
  "nbformat_minor": 5,
  "metadata": {
    "kernelspec": {
      "display_name": "Python 3",
      "language": "python",
      "name": "python3"
    },
    "language_info": {
      "codemirror_mode": {
        "name": "ipython",
        "version": 3
      },
      "file_extension": ".py",
      "mimetype": "text/x-python",
      "name": "python",
      "nbconvert_exporter": "python",
      "pygments_lexer": "ipython3",
      "version": "3.7.11"
    },
    "colab": {
      "name": "Student notebook.ipynb",
      "provenance": []
    }
  },
  "cells": [
    {
      "cell_type": "markdown",
      "metadata": {
        "id": "a0fb4d32-1c6a-41f6-bcd5-5e32aea70fdf"
      },
      "source": [
        "# Student Notebook\n",
        "#### This notebook is for you to take notes and save directly to your Google drive and GITHUB.\n",
        "\n",
        "Please upload your changes so you can review it later."
      ],
      "id": "a0fb4d32-1c6a-41f6-bcd5-5e32aea70fdf"
    },
    {
      "cell_type": "markdown",
      "metadata": {
        "id": "9a8d1388-7e11-4262-8e94-581493c554f4"
      },
      "source": [
        "# Introduction to Python Basics I"
      ],
      "id": "9a8d1388-7e11-4262-8e94-581493c554f4"
    },
    {
      "cell_type": "markdown",
      "metadata": {
        "id": "apfpGp8KEbNL"
      },
      "source": [
        "## Printing"
      ],
      "id": "apfpGp8KEbNL"
    },
    {
      "cell_type": "code",
      "metadata": {
        "id": "61d77fcf-3df2-4fee-8da0-d8c0c39f1992"
      },
      "source": [
        "x = 'hello'"
      ],
      "id": "61d77fcf-3df2-4fee-8da0-d8c0c39f1992",
      "execution_count": null,
      "outputs": []
    },
    {
      "cell_type": "code",
      "metadata": {
        "id": "981ce62a-e33e-4a11-a369-b1f63f783208",
        "colab": {
          "base_uri": "https://localhost:8080/",
          "height": 35
        },
        "outputId": "f1137e7e-f721-4660-d2a9-e4529c1a9cec"
      },
      "source": [
        "x\n",
        "x2='world'\n",
        "\n",
        "x"
      ],
      "id": "981ce62a-e33e-4a11-a369-b1f63f783208",
      "execution_count": null,
      "outputs": [
        {
          "output_type": "execute_result",
          "data": {
            "application/vnd.google.colaboratory.intrinsic+json": {
              "type": "string"
            },
            "text/plain": [
              "'hello'"
            ]
          },
          "metadata": {},
          "execution_count": 5
        }
      ]
    },
    {
      "cell_type": "code",
      "metadata": {
        "id": "8a4eefe9-ec12-4e51-9227-0a769594ccdd",
        "colab": {
          "base_uri": "https://localhost:8080/"
        },
        "outputId": "a5f02bf7-73c5-495f-d25d-603759132bec"
      },
      "source": [
        "print(x)"
      ],
      "id": "8a4eefe9-ec12-4e51-9227-0a769594ccdd",
      "execution_count": null,
      "outputs": [
        {
          "output_type": "stream",
          "name": "stdout",
          "text": [
            "hello\n"
          ]
        }
      ]
    },
    {
      "cell_type": "code",
      "metadata": {
        "id": "b1cbe5c6-102a-4c6a-b09a-b53a9c47b820"
      },
      "source": [
        "num = 12\n",
        "name = 'Anna'"
      ],
      "id": "b1cbe5c6-102a-4c6a-b09a-b53a9c47b820",
      "execution_count": null,
      "outputs": []
    },
    {
      "cell_type": "code",
      "metadata": {
        "id": "3832eb93-094f-4de4-9726-f633e246cac5",
        "colab": {
          "base_uri": "https://localhost:8080/"
        },
        "outputId": "3217eb39-d2d9-40c3-fe1e-aee0b5977f89"
      },
      "source": [
        "print('My name is: {one}, and my favorite number is: {two}'.format(one=name, two=num))"
      ],
      "id": "3832eb93-094f-4de4-9726-f633e246cac5",
      "execution_count": null,
      "outputs": [
        {
          "output_type": "stream",
          "name": "stdout",
          "text": [
            "My name is: Anna, and my favorite number is: 12\n"
          ]
        }
      ]
    },
    {
      "cell_type": "code",
      "metadata": {
        "id": "520a6910-fec0-4c19-929d-23bbe0290946",
        "colab": {
          "base_uri": "https://localhost:8080/"
        },
        "outputId": "09ae9d35-c8af-46fd-f88e-c1fbd7d0ab1e"
      },
      "source": [
        "print('My name is: {}, and my favorite number is: {}'.format(name, num))"
      ],
      "id": "520a6910-fec0-4c19-929d-23bbe0290946",
      "execution_count": null,
      "outputs": [
        {
          "output_type": "stream",
          "name": "stdout",
          "text": [
            "My name is: Anna, and my favorite number is: 12\n"
          ]
        }
      ]
    },
    {
      "cell_type": "code",
      "metadata": {
        "id": "bfd44c86-5e36-4f71-88ef-496589098171",
        "colab": {
          "base_uri": "https://localhost:8080/"
        },
        "outputId": "06c74ead-dca4-4990-887e-a062b9d6c8bd"
      },
      "source": [
        "print('Programming\\nLanguage\\n101\\n - Industrial Engineering')"
      ],
      "id": "bfd44c86-5e36-4f71-88ef-496589098171",
      "execution_count": null,
      "outputs": [
        {
          "output_type": "stream",
          "name": "stdout",
          "text": [
            "Programming\n",
            "Language\n",
            "101\n",
            " - Industrial Engineering\n"
          ]
        }
      ]
    },
    {
      "cell_type": "code",
      "metadata": {
        "id": "f8d4c821-eca0-471d-91d8-ccb710d2166b",
        "colab": {
          "base_uri": "https://localhost:8080/"
        },
        "outputId": "808251c0-9045-499d-e4dd-bd6b36d15c98"
      },
      "source": [
        "print('Programming', 'Language', '101', sep='\\n')"
      ],
      "id": "f8d4c821-eca0-471d-91d8-ccb710d2166b",
      "execution_count": null,
      "outputs": [
        {
          "output_type": "stream",
          "name": "stdout",
          "text": [
            "Programming\n",
            "Language\n",
            "101\n"
          ]
        }
      ]
    },
    {
      "cell_type": "code",
      "metadata": {
        "id": "89c6149b-6276-48ab-a205-b0aed26c232c",
        "colab": {
          "base_uri": "https://localhost:8080/"
        },
        "outputId": "d132cfaa-4aea-4020-cb88-ba293a79afec"
      },
      "source": [
        "print('home', 'user','documents', sep='/')"
      ],
      "id": "89c6149b-6276-48ab-a205-b0aed26c232c",
      "execution_count": null,
      "outputs": [
        {
          "output_type": "stream",
          "name": "stdout",
          "text": [
            "home/user/documents\n"
          ]
        }
      ]
    },
    {
      "cell_type": "code",
      "metadata": {
        "id": "07686502-7571-481a-8b20-bec590084b7b",
        "colab": {
          "base_uri": "https://localhost:8080/",
          "height": 172
        },
        "outputId": "47d958ee-b744-4924-b6a2-ca86c5799164"
      },
      "source": [
        "st2= 'My age is ' + 30"
      ],
      "id": "07686502-7571-481a-8b20-bec590084b7b",
      "execution_count": null,
      "outputs": [
        {
          "output_type": "error",
          "ename": "TypeError",
          "evalue": "ignored",
          "traceback": [
            "\u001b[0;31m---------------------------------------------------------------------------\u001b[0m",
            "\u001b[0;31mTypeError\u001b[0m                                 Traceback (most recent call last)",
            "\u001b[0;32m<ipython-input-23-b3bd4faf7409>\u001b[0m in \u001b[0;36m<module>\u001b[0;34m()\u001b[0m\n\u001b[0;32m----> 1\u001b[0;31m \u001b[0mst2\u001b[0m\u001b[0;34m=\u001b[0m \u001b[0;34m'My age is '\u001b[0m \u001b[0;34m+\u001b[0m \u001b[0;36m30\u001b[0m\u001b[0;34m\u001b[0m\u001b[0;34m\u001b[0m\u001b[0m\n\u001b[0m",
            "\u001b[0;31mTypeError\u001b[0m: can only concatenate str (not \"int\") to str"
          ]
        }
      ]
    },
    {
      "cell_type": "code",
      "metadata": {
        "id": "8ca30ace-cb73-43dc-a3b0-2f27aa362c7c"
      },
      "source": [
        "st2 = 'My age is ' + str(30)"
      ],
      "id": "8ca30ace-cb73-43dc-a3b0-2f27aa362c7c",
      "execution_count": null,
      "outputs": []
    },
    {
      "cell_type": "code",
      "metadata": {
        "id": "0f31b763-9d91-456a-bebe-e57ec2065451",
        "colab": {
          "base_uri": "https://localhost:8080/"
        },
        "outputId": "2e7b6f7e-4fd3-41f8-812c-9939d466d6cb"
      },
      "source": [
        "print(st2)"
      ],
      "id": "0f31b763-9d91-456a-bebe-e57ec2065451",
      "execution_count": null,
      "outputs": [
        {
          "output_type": "stream",
          "name": "stdout",
          "text": [
            "My age is 30\n"
          ]
        }
      ]
    },
    {
      "cell_type": "code",
      "metadata": {
        "id": "7b5cd6d5-5466-49ba-b198-7c8983a237cc",
        "colab": {
          "base_uri": "https://localhost:8080/"
        },
        "outputId": "06cbb7a5-d55b-431f-a790-9021db7d6121"
      },
      "source": [
        "print(\"Welcome to\", end = ' ')\n",
        "print(\"Programming Language\", end = ' 101')"
      ],
      "id": "7b5cd6d5-5466-49ba-b198-7c8983a237cc",
      "execution_count": null,
      "outputs": [
        {
          "output_type": "stream",
          "name": "stdout",
          "text": [
            "Welcome to Programming Language 101"
          ]
        }
      ]
    },
    {
      "cell_type": "markdown",
      "metadata": {
        "id": "yNQU8ZDrEX5x"
      },
      "source": [
        "## List"
      ],
      "id": "yNQU8ZDrEX5x"
    },
    {
      "cell_type": "code",
      "metadata": {
        "id": "26a6af88-80a4-4bd2-be9b-8d00c3d4a416",
        "colab": {
          "base_uri": "https://localhost:8080/"
        },
        "outputId": "eb57f612-b1f7-4688-b182-1cfcb8adcefd"
      },
      "source": [
        "{1,2,3}"
      ],
      "id": "26a6af88-80a4-4bd2-be9b-8d00c3d4a416",
      "execution_count": null,
      "outputs": [
        {
          "output_type": "execute_result",
          "data": {
            "text/plain": [
              "{1, 2, 3}"
            ]
          },
          "metadata": {},
          "execution_count": 28
        }
      ]
    },
    {
      "cell_type": "code",
      "metadata": {
        "id": "p_Bbe-GYEj22",
        "colab": {
          "base_uri": "https://localhost:8080/"
        },
        "outputId": "72cbfcc6-3b5c-4021-8f0d-fe28c68d3d54"
      },
      "source": [
        "['hi',1 ,[1,2]]"
      ],
      "id": "p_Bbe-GYEj22",
      "execution_count": null,
      "outputs": [
        {
          "output_type": "execute_result",
          "data": {
            "text/plain": [
              "['hi', 1, [1, 2]]"
            ]
          },
          "metadata": {},
          "execution_count": 29
        }
      ]
    },
    {
      "cell_type": "code",
      "metadata": {
        "id": "0207740d-fc24-4937-a9ca-f18c2e64aa98"
      },
      "source": [
        "my_list = ['a', 'b','c']"
      ],
      "id": "0207740d-fc24-4937-a9ca-f18c2e64aa98",
      "execution_count": null,
      "outputs": []
    },
    {
      "cell_type": "code",
      "metadata": {
        "id": "7492f9ac-99a0-44c7-9289-aae79a7a5ab4"
      },
      "source": [
        "#adding element at time end of the list\n",
        "my_list.append('e')"
      ],
      "id": "7492f9ac-99a0-44c7-9289-aae79a7a5ab4",
      "execution_count": null,
      "outputs": []
    },
    {
      "cell_type": "code",
      "metadata": {
        "id": "511545a3-3e1b-4f89-a4c2-50f5a11d6037",
        "colab": {
          "base_uri": "https://localhost:8080/"
        },
        "outputId": "1cc68da0-a5d4-4e55-94c4-3ce93d99d16f"
      },
      "source": [
        "my_list"
      ],
      "id": "511545a3-3e1b-4f89-a4c2-50f5a11d6037",
      "execution_count": null,
      "outputs": [
        {
          "output_type": "execute_result",
          "data": {
            "text/plain": [
              "['a', 'b', 'c', 'e']"
            ]
          },
          "metadata": {},
          "execution_count": 33
        }
      ]
    },
    {
      "cell_type": "code",
      "metadata": {
        "id": "395f484f-2453-4060-a9c6-484cfd699365"
      },
      "source": [
        "my_list.insert(3,'d')"
      ],
      "id": "395f484f-2453-4060-a9c6-484cfd699365",
      "execution_count": null,
      "outputs": []
    },
    {
      "cell_type": "code",
      "metadata": {
        "id": "92eb00c8-432e-46fe-9463-bed79228fd63",
        "colab": {
          "base_uri": "https://localhost:8080/"
        },
        "outputId": "20d136ad-3203-4699-ea0f-b7412d52fcca"
      },
      "source": [
        "my_list"
      ],
      "id": "92eb00c8-432e-46fe-9463-bed79228fd63",
      "execution_count": null,
      "outputs": [
        {
          "output_type": "execute_result",
          "data": {
            "text/plain": [
              "['a', 'b', 'c', 'd', 'e']"
            ]
          },
          "metadata": {},
          "execution_count": 35
        }
      ]
    },
    {
      "cell_type": "code",
      "metadata": {
        "id": "a61e99c4-476f-4079-95b7-b02e29e13e73"
      },
      "source": [
        "my_list.extend(['f','g'])"
      ],
      "id": "a61e99c4-476f-4079-95b7-b02e29e13e73",
      "execution_count": null,
      "outputs": []
    },
    {
      "cell_type": "code",
      "metadata": {
        "id": "6b7e050d-71db-45ec-81b6-b4f593b58930",
        "colab": {
          "base_uri": "https://localhost:8080/"
        },
        "outputId": "e7a0ec5a-f193-470a-946c-621ab88facad"
      },
      "source": [
        "my_list"
      ],
      "id": "6b7e050d-71db-45ec-81b6-b4f593b58930",
      "execution_count": null,
      "outputs": [
        {
          "output_type": "execute_result",
          "data": {
            "text/plain": [
              "['a', 'b', 'c', 'd', 'e', 'f', 'g']"
            ]
          },
          "metadata": {},
          "execution_count": 38
        }
      ]
    },
    {
      "cell_type": "code",
      "metadata": {
        "id": "75083780-5bf8-4a21-a96f-be036bd6ed6e"
      },
      "source": [
        "#my_list + ['f','g']"
      ],
      "id": "75083780-5bf8-4a21-a96f-be036bd6ed6e",
      "execution_count": null,
      "outputs": []
    },
    {
      "cell_type": "code",
      "metadata": {
        "id": "7c4c384e-170c-453b-ba73-5b9e1112b30f",
        "colab": {
          "base_uri": "https://localhost:8080/",
          "height": 35
        },
        "outputId": "cff4fb56-a592-49a8-d16f-8a5954ce0a63"
      },
      "source": [
        "my_list[0]"
      ],
      "id": "7c4c384e-170c-453b-ba73-5b9e1112b30f",
      "execution_count": null,
      "outputs": [
        {
          "output_type": "execute_result",
          "data": {
            "application/vnd.google.colaboratory.intrinsic+json": {
              "type": "string"
            },
            "text/plain": [
              "'a'"
            ]
          },
          "metadata": {},
          "execution_count": 40
        }
      ]
    },
    {
      "cell_type": "code",
      "metadata": {
        "id": "1ed20989-df63-4537-9543-f633510d2cdf",
        "colab": {
          "base_uri": "https://localhost:8080/",
          "height": 35
        },
        "outputId": "dcddac7f-64b9-42fe-f12d-71f98c618058"
      },
      "source": [
        "my_list[1]"
      ],
      "id": "1ed20989-df63-4537-9543-f633510d2cdf",
      "execution_count": null,
      "outputs": [
        {
          "output_type": "execute_result",
          "data": {
            "application/vnd.google.colaboratory.intrinsic+json": {
              "type": "string"
            },
            "text/plain": [
              "'b'"
            ]
          },
          "metadata": {},
          "execution_count": 41
        }
      ]
    },
    {
      "cell_type": "code",
      "metadata": {
        "id": "1fefe175-e76f-45c2-9933-f201f6686c78",
        "colab": {
          "base_uri": "https://localhost:8080/"
        },
        "outputId": "8a125272-8777-4ff0-b080-e246a3f3881c"
      },
      "source": [
        "my_list[2:]"
      ],
      "id": "1fefe175-e76f-45c2-9933-f201f6686c78",
      "execution_count": null,
      "outputs": [
        {
          "output_type": "execute_result",
          "data": {
            "text/plain": [
              "['c', 'd', 'e', 'f', 'g']"
            ]
          },
          "metadata": {},
          "execution_count": 42
        }
      ]
    },
    {
      "cell_type": "code",
      "metadata": {
        "id": "9b98cc92-f24a-446d-bda5-fb4407e55451",
        "colab": {
          "base_uri": "https://localhost:8080/"
        },
        "outputId": "b32189af-fc02-4113-d981-92facd60626f"
      },
      "source": [
        "my_list[:2]"
      ],
      "id": "9b98cc92-f24a-446d-bda5-fb4407e55451",
      "execution_count": null,
      "outputs": [
        {
          "output_type": "execute_result",
          "data": {
            "text/plain": [
              "['a', 'b']"
            ]
          },
          "metadata": {},
          "execution_count": 43
        }
      ]
    },
    {
      "cell_type": "code",
      "metadata": {
        "id": "e91f3af0-53df-4f87-a9f7-c6f79c2fa1bb",
        "colab": {
          "base_uri": "https://localhost:8080/"
        },
        "outputId": "3ccab0a4-b874-4007-9f24-a83d54f89df2"
      },
      "source": [
        "my_list[-2:]"
      ],
      "id": "e91f3af0-53df-4f87-a9f7-c6f79c2fa1bb",
      "execution_count": null,
      "outputs": [
        {
          "output_type": "execute_result",
          "data": {
            "text/plain": [
              "['f', 'g']"
            ]
          },
          "metadata": {},
          "execution_count": 45
        }
      ]
    },
    {
      "cell_type": "code",
      "metadata": {
        "id": "8fbcdbc0-4902-430f-9d44-451643eb9a6d"
      },
      "source": [
        "#update\n",
        "my_list[0] = \"NEW\""
      ],
      "id": "8fbcdbc0-4902-430f-9d44-451643eb9a6d",
      "execution_count": null,
      "outputs": []
    },
    {
      "cell_type": "code",
      "metadata": {
        "id": "c20fe24b-93dc-454a-9bb7-aa85e77c6d4d",
        "colab": {
          "base_uri": "https://localhost:8080/"
        },
        "outputId": "18c0a8a5-7a1d-42e7-88a0-acea5a0a1443"
      },
      "source": [
        "print(my_list)"
      ],
      "id": "c20fe24b-93dc-454a-9bb7-aa85e77c6d4d",
      "execution_count": null,
      "outputs": [
        {
          "output_type": "stream",
          "name": "stdout",
          "text": [
            "['NEW', 'b', 'c', 'd', 'e', 'f', 'g']\n"
          ]
        }
      ]
    },
    {
      "cell_type": "code",
      "metadata": {
        "id": "ykr0NbeBHnXI"
      },
      "source": [
        "my_list[1:4] =[11, 22, 33]"
      ],
      "id": "ykr0NbeBHnXI",
      "execution_count": null,
      "outputs": []
    },
    {
      "cell_type": "code",
      "metadata": {
        "id": "3Y5rc1asHnRG",
        "colab": {
          "base_uri": "https://localhost:8080/"
        },
        "outputId": "a53f947e-c229-4d6e-92dc-c161626fcf69"
      },
      "source": [
        "print(my_list)"
      ],
      "id": "3Y5rc1asHnRG",
      "execution_count": null,
      "outputs": [
        {
          "output_type": "stream",
          "name": "stdout",
          "text": [
            "['NEW', 11, 22, 33, 'e', 'f', 'g']\n"
          ]
        }
      ]
    },
    {
      "cell_type": "code",
      "metadata": {
        "id": "3SkW-p4dHnIP"
      },
      "source": [
        "nest_list = [1,2,3,[4.2,5.5,['target']]]"
      ],
      "id": "3SkW-p4dHnIP",
      "execution_count": null,
      "outputs": []
    },
    {
      "cell_type": "code",
      "metadata": {
        "id": "eUlNqKItHnDf",
        "colab": {
          "base_uri": "https://localhost:8080/"
        },
        "outputId": "56862934-3306-4b66-dfb8-c643e3387683"
      },
      "source": [
        "print(nest_list)"
      ],
      "id": "eUlNqKItHnDf",
      "execution_count": null,
      "outputs": [
        {
          "output_type": "stream",
          "name": "stdout",
          "text": [
            "[1, 2, 3, [4.2, 5.5, ['target']]]\n"
          ]
        }
      ]
    },
    {
      "cell_type": "code",
      "metadata": {
        "id": "i2OI4dOGHm_y",
        "colab": {
          "base_uri": "https://localhost:8080/"
        },
        "outputId": "59461d83-6a20-4d5d-c88f-1691797e99f1"
      },
      "source": [
        "nest_list[2]"
      ],
      "id": "i2OI4dOGHm_y",
      "execution_count": null,
      "outputs": [
        {
          "output_type": "execute_result",
          "data": {
            "text/plain": [
              "3"
            ]
          },
          "metadata": {},
          "execution_count": 54
        }
      ]
    },
    {
      "cell_type": "code",
      "metadata": {
        "id": "TgW_iVbcHm8a",
        "colab": {
          "base_uri": "https://localhost:8080/"
        },
        "outputId": "d7ff2bbf-93b4-428f-c6fd-e8afc47c32c2"
      },
      "source": [
        "nest_list[3]"
      ],
      "id": "TgW_iVbcHm8a",
      "execution_count": null,
      "outputs": [
        {
          "output_type": "execute_result",
          "data": {
            "text/plain": [
              "[4.2, 5.5, ['target']]"
            ]
          },
          "metadata": {},
          "execution_count": 55
        }
      ]
    },
    {
      "cell_type": "code",
      "metadata": {
        "id": "inr95noKHm3e",
        "colab": {
          "base_uri": "https://localhost:8080/"
        },
        "outputId": "5b3a638f-2560-45f4-d78e-bdb005274c93"
      },
      "source": [
        "nest_list[3][0]"
      ],
      "id": "inr95noKHm3e",
      "execution_count": null,
      "outputs": [
        {
          "output_type": "execute_result",
          "data": {
            "text/plain": [
              "4.2"
            ]
          },
          "metadata": {},
          "execution_count": 56
        }
      ]
    },
    {
      "cell_type": "code",
      "metadata": {
        "id": "2ec357e0-2539-41fa-81ac-5378df7575e4",
        "colab": {
          "base_uri": "https://localhost:8080/"
        },
        "outputId": "37821a9b-45d1-480c-85f2-2468cd359ba9"
      },
      "source": [
        "nest_list[3][2]"
      ],
      "id": "2ec357e0-2539-41fa-81ac-5378df7575e4",
      "execution_count": null,
      "outputs": [
        {
          "output_type": "execute_result",
          "data": {
            "text/plain": [
              "['target']"
            ]
          },
          "metadata": {},
          "execution_count": 58
        }
      ]
    },
    {
      "cell_type": "code",
      "metadata": {
        "id": "DPdKwQBUJBRF",
        "colab": {
          "base_uri": "https://localhost:8080/",
          "height": 35
        },
        "outputId": "56d96479-9e1d-482e-e6ff-4aeb82a10109"
      },
      "source": [
        "nest_list[3][2][0]"
      ],
      "id": "DPdKwQBUJBRF",
      "execution_count": null,
      "outputs": [
        {
          "output_type": "execute_result",
          "data": {
            "application/vnd.google.colaboratory.intrinsic+json": {
              "type": "string"
            },
            "text/plain": [
              "'target'"
            ]
          },
          "metadata": {},
          "execution_count": 59
        }
      ]
    },
    {
      "cell_type": "code",
      "metadata": {
        "id": "T3IS4Rx6JBNv"
      },
      "source": [
        "lst = my_list[:]"
      ],
      "id": "T3IS4Rx6JBNv",
      "execution_count": null,
      "outputs": []
    },
    {
      "cell_type": "code",
      "metadata": {
        "id": "n5BHh3nwJBLB",
        "colab": {
          "base_uri": "https://localhost:8080/"
        },
        "outputId": "284d2e50-2a6f-4ff9-b149-c36d60bb47fe"
      },
      "source": [
        "print(lst)"
      ],
      "id": "n5BHh3nwJBLB",
      "execution_count": null,
      "outputs": [
        {
          "output_type": "stream",
          "name": "stdout",
          "text": [
            "['NEW', 11, 22, 33, 'e', 'f', 'g']\n"
          ]
        }
      ]
    },
    {
      "cell_type": "code",
      "metadata": {
        "id": "qR05Oj4_JBIL",
        "colab": {
          "base_uri": "https://localhost:8080/",
          "height": 35
        },
        "outputId": "e1d5ad78-66d6-4687-f6b6-388a278d0062"
      },
      "source": [
        "lst.pop()"
      ],
      "id": "qR05Oj4_JBIL",
      "execution_count": null,
      "outputs": [
        {
          "output_type": "execute_result",
          "data": {
            "application/vnd.google.colaboratory.intrinsic+json": {
              "type": "string"
            },
            "text/plain": [
              "'g'"
            ]
          },
          "metadata": {},
          "execution_count": 63
        }
      ]
    },
    {
      "cell_type": "code",
      "metadata": {
        "id": "VEJETYi5JBEq"
      },
      "source": [
        "lst.remove('e')"
      ],
      "id": "VEJETYi5JBEq",
      "execution_count": null,
      "outputs": []
    },
    {
      "cell_type": "code",
      "metadata": {
        "id": "Gjl0vftWJBBX",
        "colab": {
          "base_uri": "https://localhost:8080/"
        },
        "outputId": "e3817a45-6015-4cb5-a28b-74ab7661ff62"
      },
      "source": [
        "print(lst)"
      ],
      "id": "Gjl0vftWJBBX",
      "execution_count": null,
      "outputs": [
        {
          "output_type": "stream",
          "name": "stdout",
          "text": [
            "['NEW', 11, 22, 33, 'f']\n"
          ]
        }
      ]
    },
    {
      "cell_type": "code",
      "metadata": {
        "id": "K3s0QQ36JA-a",
        "colab": {
          "base_uri": "https://localhost:8080/",
          "height": 35
        },
        "outputId": "931bb049-b781-4cff-8f2a-b492b8d19e4d"
      },
      "source": [
        "lst.pop(0)"
      ],
      "id": "K3s0QQ36JA-a",
      "execution_count": null,
      "outputs": [
        {
          "output_type": "execute_result",
          "data": {
            "application/vnd.google.colaboratory.intrinsic+json": {
              "type": "string"
            },
            "text/plain": [
              "'NEW'"
            ]
          },
          "metadata": {},
          "execution_count": 66
        }
      ]
    },
    {
      "cell_type": "code",
      "metadata": {
        "id": "h48JDMVDJA7F",
        "colab": {
          "base_uri": "https://localhost:8080/"
        },
        "outputId": "96ac03db-82ba-47ad-ddcc-d6c8baf52d3b"
      },
      "source": [
        "print(lst)"
      ],
      "id": "h48JDMVDJA7F",
      "execution_count": null,
      "outputs": [
        {
          "output_type": "stream",
          "name": "stdout",
          "text": [
            "[11, 22, 33, 'f']\n"
          ]
        }
      ]
    },
    {
      "cell_type": "code",
      "metadata": {
        "id": "Jkpkln_WJA3E"
      },
      "source": [
        "#remove all elements\n",
        "lst.clear()"
      ],
      "id": "Jkpkln_WJA3E",
      "execution_count": null,
      "outputs": []
    },
    {
      "cell_type": "code",
      "metadata": {
        "id": "2Cg_EZmHJAu5",
        "colab": {
          "base_uri": "https://localhost:8080/"
        },
        "outputId": "ca0420b8-09ec-4da1-ceaa-3aedba074bb1"
      },
      "source": [
        "print(lst)"
      ],
      "id": "2Cg_EZmHJAu5",
      "execution_count": null,
      "outputs": [
        {
          "output_type": "stream",
          "name": "stdout",
          "text": [
            "[]\n"
          ]
        }
      ]
    },
    {
      "cell_type": "code",
      "metadata": {
        "id": "fuy6CWkoJAq6",
        "colab": {
          "base_uri": "https://localhost:8080/"
        },
        "outputId": "e6a20e55-2e35-4963-cf19-1bb702bafd69"
      },
      "source": [
        "'g' in [1,2,3,4]"
      ],
      "id": "fuy6CWkoJAq6",
      "execution_count": null,
      "outputs": [
        {
          "output_type": "execute_result",
          "data": {
            "text/plain": [
              "False"
            ]
          },
          "metadata": {},
          "execution_count": 70
        }
      ]
    },
    {
      "cell_type": "code",
      "metadata": {
        "id": "BvkgRiFWJAmz",
        "colab": {
          "base_uri": "https://localhost:8080/"
        },
        "outputId": "0030f819-976d-41b8-9825-d6c1834cb836"
      },
      "source": [
        "'x' in ['x','y','z']"
      ],
      "id": "BvkgRiFWJAmz",
      "execution_count": null,
      "outputs": [
        {
          "output_type": "execute_result",
          "data": {
            "text/plain": [
              "True"
            ]
          },
          "metadata": {},
          "execution_count": 72
        }
      ]
    },
    {
      "cell_type": "code",
      "metadata": {
        "id": "vGIGQldULC27"
      },
      "source": [
        "#how to copy a list\n",
        "lst1 = [\"apple,\"\"banana\",\"cherry\"]\n",
        "lst2 = lst1"
      ],
      "id": "vGIGQldULC27",
      "execution_count": null,
      "outputs": []
    },
    {
      "cell_type": "code",
      "metadata": {
        "id": "JlNYyC3lLCzj",
        "colab": {
          "base_uri": "https://localhost:8080/"
        },
        "outputId": "ed16b5fe-0182-47dd-8271-47e0824aff3d"
      },
      "source": [
        "print(id(lst1))\n",
        "print(id(lst2))"
      ],
      "id": "JlNYyC3lLCzj",
      "execution_count": null,
      "outputs": [
        {
          "output_type": "stream",
          "name": "stdout",
          "text": [
            "140049626497504\n",
            "140049626497504\n"
          ]
        }
      ]
    },
    {
      "cell_type": "code",
      "metadata": {
        "id": "duNZeXTsLCws"
      },
      "source": [
        "# make a copy using copy() method:\n",
        "lst1= [\"apple\",\"banana\", \"cherry\"]\n",
        "lst2=lst1.copy()"
      ],
      "id": "duNZeXTsLCws",
      "execution_count": null,
      "outputs": []
    },
    {
      "cell_type": "code",
      "metadata": {
        "id": "d7fwpn2PLCso",
        "colab": {
          "base_uri": "https://localhost:8080/"
        },
        "outputId": "a0e8fc23-8644-4998-9b48-a24aa357c79a"
      },
      "source": [
        "print(lst2)"
      ],
      "id": "d7fwpn2PLCso",
      "execution_count": null,
      "outputs": [
        {
          "output_type": "stream",
          "name": "stdout",
          "text": [
            "['apple', 'banana', 'cherry']\n"
          ]
        }
      ]
    },
    {
      "cell_type": "code",
      "metadata": {
        "id": "ODrmtJxPLCou",
        "colab": {
          "base_uri": "https://localhost:8080/"
        },
        "outputId": "d44b1bb7-a5d2-4ed5-d1e3-8c7b181a0d5f"
      },
      "source": [
        "print(id(lst1))\n",
        "print(id(lst2))"
      ],
      "id": "ODrmtJxPLCou",
      "execution_count": null,
      "outputs": [
        {
          "output_type": "stream",
          "name": "stdout",
          "text": [
            "140049626676992\n",
            "140049626512112\n"
          ]
        }
      ]
    },
    {
      "cell_type": "code",
      "metadata": {
        "id": "oAaCfnVVLCk1"
      },
      "source": [
        "#sort\n",
        "a = [120, 52, 78, 98, 12, 13]"
      ],
      "id": "oAaCfnVVLCk1",
      "execution_count": null,
      "outputs": []
    },
    {
      "cell_type": "code",
      "metadata": {
        "id": "PCJQD30ELCgf",
        "colab": {
          "base_uri": "https://localhost:8080/"
        },
        "outputId": "2d90aba5-3fac-4746-8395-ef55316b564b"
      },
      "source": [
        "print(a)"
      ],
      "id": "PCJQD30ELCgf",
      "execution_count": null,
      "outputs": [
        {
          "output_type": "stream",
          "name": "stdout",
          "text": [
            "[120, 52, 78, 98, 12, 13]\n"
          ]
        }
      ]
    },
    {
      "cell_type": "code",
      "metadata": {
        "id": "9357fff5-5beb-4722-878a-fa348954682a",
        "colab": {
          "base_uri": "https://localhost:8080/"
        },
        "outputId": "1e616b1b-4417-4b26-d884-89c7db383bd9"
      },
      "source": [
        "a.sort()\n",
        "print(a)"
      ],
      "id": "9357fff5-5beb-4722-878a-fa348954682a",
      "execution_count": null,
      "outputs": [
        {
          "output_type": "stream",
          "name": "stdout",
          "text": [
            "[12, 13, 52, 78, 98, 120]\n"
          ]
        }
      ]
    },
    {
      "cell_type": "code",
      "metadata": {
        "id": "w6pOewHXNgG4",
        "colab": {
          "base_uri": "https://localhost:8080/"
        },
        "outputId": "985374bd-9dbc-4e04-8892-ef74a580db77"
      },
      "source": [
        "# join 2 list=\n",
        "list1 = ['a','b','c']\n",
        "list2 = [1,2,3]\n",
        "list3 = list1, list2\n",
        "print(list3)"
      ],
      "id": "w6pOewHXNgG4",
      "execution_count": null,
      "outputs": [
        {
          "output_type": "stream",
          "name": "stdout",
          "text": [
            "(['a', 'b', 'c'], [1, 2, 3])\n"
          ]
        }
      ]
    },
    {
      "cell_type": "markdown",
      "metadata": {
        "id": "-70KBYZoQm91"
      },
      "source": [
        "## Booleans"
      ],
      "id": "-70KBYZoQm91"
    },
    {
      "cell_type": "code",
      "metadata": {
        "id": "Q49BBkVPNgDa",
        "colab": {
          "base_uri": "https://localhost:8080/"
        },
        "outputId": "6fea4120-c8ab-4028-8a02-831b2342e0e5"
      },
      "source": [
        "True"
      ],
      "id": "Q49BBkVPNgDa",
      "execution_count": null,
      "outputs": [
        {
          "output_type": "execute_result",
          "data": {
            "text/plain": [
              "True"
            ]
          },
          "metadata": {},
          "execution_count": 86
        }
      ]
    },
    {
      "cell_type": "code",
      "metadata": {
        "id": "CHnSW3fJNf9Y",
        "colab": {
          "base_uri": "https://localhost:8080/"
        },
        "outputId": "253cb50e-bc77-407e-dc9f-e00c9d5cc417"
      },
      "source": [
        "False"
      ],
      "id": "CHnSW3fJNf9Y",
      "execution_count": null,
      "outputs": [
        {
          "output_type": "execute_result",
          "data": {
            "text/plain": [
              "False"
            ]
          },
          "metadata": {},
          "execution_count": 87
        }
      ]
    },
    {
      "cell_type": "markdown",
      "metadata": {
        "id": "TQ8LOpaAQz_K"
      },
      "source": [
        "##Tuples"
      ],
      "id": "TQ8LOpaAQz_K"
    },
    {
      "cell_type": "code",
      "metadata": {
        "id": "reM5jhETNf5i"
      },
      "source": [
        "t = (1,2,3,4)"
      ],
      "id": "reM5jhETNf5i",
      "execution_count": null,
      "outputs": []
    },
    {
      "cell_type": "code",
      "metadata": {
        "id": "OFS2yJatNf2X",
        "colab": {
          "base_uri": "https://localhost:8080/"
        },
        "outputId": "44007d19-17e4-4b80-a33c-50b41a905617"
      },
      "source": [
        "t[2:]"
      ],
      "id": "OFS2yJatNf2X",
      "execution_count": null,
      "outputs": [
        {
          "output_type": "execute_result",
          "data": {
            "text/plain": [
              "(3, 4)"
            ]
          },
          "metadata": {},
          "execution_count": 89
        }
      ]
    },
    {
      "cell_type": "code",
      "metadata": {
        "id": "LJFLXEk6NfyZ",
        "colab": {
          "base_uri": "https://localhost:8080/",
          "height": 172
        },
        "outputId": "fd6f58c6-c3ff-453a-9d06-577c5fe57a64"
      },
      "source": [
        "t[0] ='NEW'"
      ],
      "id": "LJFLXEk6NfyZ",
      "execution_count": null,
      "outputs": [
        {
          "output_type": "error",
          "ename": "TypeError",
          "evalue": "ignored",
          "traceback": [
            "\u001b[0;31m---------------------------------------------------------------------------\u001b[0m",
            "\u001b[0;31mTypeError\u001b[0m                                 Traceback (most recent call last)",
            "\u001b[0;32m<ipython-input-90-f1a12fb11e51>\u001b[0m in \u001b[0;36m<module>\u001b[0;34m()\u001b[0m\n\u001b[0;32m----> 1\u001b[0;31m \u001b[0mt\u001b[0m\u001b[0;34m[\u001b[0m\u001b[0;36m0\u001b[0m\u001b[0;34m]\u001b[0m \u001b[0;34m=\u001b[0m\u001b[0;34m'NEW'\u001b[0m\u001b[0;34m\u001b[0m\u001b[0;34m\u001b[0m\u001b[0m\n\u001b[0m",
            "\u001b[0;31mTypeError\u001b[0m: 'tuple' object does not support item assignment"
          ]
        }
      ]
    },
    {
      "cell_type": "code",
      "metadata": {
        "id": "JsXu2GE6Nfvk",
        "colab": {
          "base_uri": "https://localhost:8080/",
          "height": 136
        },
        "outputId": "95520859-a075-41cb-a598-c3e332804946"
      },
      "source": [
        "for number in\n",
        "\n"
      ],
      "id": "JsXu2GE6Nfvk",
      "execution_count": null,
      "outputs": [
        {
          "output_type": "error",
          "ename": "IndentationError",
          "evalue": "ignored",
          "traceback": [
            "\u001b[0;36m  File \u001b[0;32m\"<ipython-input-92-668112aceae5>\"\u001b[0;36m, line \u001b[0;32m2\u001b[0m\n\u001b[0;31m    print (number)\u001b[0m\n\u001b[0m        ^\u001b[0m\n\u001b[0;31mIndentationError\u001b[0m\u001b[0;31m:\u001b[0m expected an indented block\n"
          ]
        }
      ]
    },
    {
      "cell_type": "code",
      "metadata": {
        "id": "PryJe2M8Nfsg"
      },
      "source": [
        "t2 = (1,1,2,2,2,3,4,5)"
      ],
      "id": "PryJe2M8Nfsg",
      "execution_count": null,
      "outputs": []
    },
    {
      "cell_type": "code",
      "metadata": {
        "id": "n9t-cUyVNfoE",
        "colab": {
          "base_uri": "https://localhost:8080/"
        },
        "outputId": "5be3a018-6560-4eb1-b9a9-315cf61ea05c"
      },
      "source": [
        "t3 = ('INU')\n",
        "print(type(t3))"
      ],
      "id": "n9t-cUyVNfoE",
      "execution_count": null,
      "outputs": [
        {
          "output_type": "stream",
          "name": "stdout",
          "text": [
            "<class 'str'>\n"
          ]
        }
      ]
    },
    {
      "cell_type": "code",
      "metadata": {
        "id": "Tjcc48AtNfh9",
        "colab": {
          "base_uri": "https://localhost:8080/"
        },
        "outputId": "a23c2729-102d-461f-c1a4-7aa43becdda7"
      },
      "source": [
        "t4 = (\"INU\",)\n",
        "print(type(t4))"
      ],
      "id": "Tjcc48AtNfh9",
      "execution_count": null,
      "outputs": [
        {
          "output_type": "stream",
          "name": "stdout",
          "text": [
            "<class 'tuple'>\n"
          ]
        }
      ]
    },
    {
      "cell_type": "code",
      "metadata": {
        "id": "41XwaLiiNfZV"
      },
      "source": [
        "#how to modify\n",
        "x = (\"Programming\", 'Language', '101')\n",
        "y = list(x)"
      ],
      "id": "41XwaLiiNfZV",
      "execution_count": null,
      "outputs": []
    },
    {
      "cell_type": "code",
      "metadata": {
        "id": "YQDtu73LNfVt"
      },
      "source": [
        "y[2] = \"Industrial Engineering\"\n",
        "x = tuple(y)"
      ],
      "id": "YQDtu73LNfVt",
      "execution_count": null,
      "outputs": []
    },
    {
      "cell_type": "code",
      "metadata": {
        "id": "67f7kRd5NfRr",
        "colab": {
          "base_uri": "https://localhost:8080/"
        },
        "outputId": "b968f1cc-62e2-4d40-b65c-6e9f1991e0e8"
      },
      "source": [
        "print(x)"
      ],
      "id": "67f7kRd5NfRr",
      "execution_count": null,
      "outputs": [
        {
          "output_type": "stream",
          "name": "stdout",
          "text": [
            "('Programming', 'Language', 'Industrial Engineering')\n"
          ]
        }
      ]
    },
    {
      "cell_type": "code",
      "metadata": {
        "id": "EVuM6DGhNfOI"
      },
      "source": [
        "y.append(\" - 101\")\n",
        "x = tuple(y)"
      ],
      "id": "EVuM6DGhNfOI",
      "execution_count": null,
      "outputs": []
    },
    {
      "cell_type": "code",
      "metadata": {
        "id": "1UeERX3ANfLN",
        "colab": {
          "base_uri": "https://localhost:8080/"
        },
        "outputId": "aecace6c-2bed-44fa-de0b-a54399279cb6"
      },
      "source": [
        "print(x)"
      ],
      "id": "1UeERX3ANfLN",
      "execution_count": null,
      "outputs": [
        {
          "output_type": "stream",
          "name": "stdout",
          "text": [
            "('Programming', 'Language', 'Industrial Engineering', ' - 101')\n"
          ]
        }
      ]
    },
    {
      "cell_type": "code",
      "metadata": {
        "id": "itVzAHJtT_G-",
        "colab": {
          "base_uri": "https://localhost:8080/"
        },
        "outputId": "b6dda848-a377-46db-9bd2-81a99ee4226e"
      },
      "source": [
        "#join\n",
        "tuple1 = ('a', 'b','c')\n",
        "tuple2 = (1,2,3)\n",
        "tuple3 = tuple1, tuple2\n",
        "print(tuple3)"
      ],
      "id": "itVzAHJtT_G-",
      "execution_count": null,
      "outputs": [
        {
          "output_type": "stream",
          "name": "stdout",
          "text": [
            "(('a', 'b', 'c'), (1, 2, 3))\n"
          ]
        }
      ]
    },
    {
      "cell_type": "code",
      "metadata": {
        "id": "Lc9LTAhyT_CN",
        "colab": {
          "base_uri": "https://localhost:8080/"
        },
        "outputId": "d86aeb98-6cb4-40a8-9d30-d0ae89513ce2"
      },
      "source": [
        "#unpacking\n",
        "\n",
        "num = (1,2,3)\n",
        "print(num)\n",
        "(one, two, three) = num\n",
        "print(one)\n",
        "print(two)\n",
        "print(three)"
      ],
      "id": "Lc9LTAhyT_CN",
      "execution_count": null,
      "outputs": [
        {
          "output_type": "stream",
          "name": "stdout",
          "text": [
            "(1, 2, 3)\n",
            "1\n",
            "2\n",
            "3\n"
          ]
        }
      ]
    },
    {
      "cell_type": "markdown",
      "metadata": {
        "id": "m3JzhK2aVIFv"
      },
      "source": [
        "### Set"
      ],
      "id": "m3JzhK2aVIFv"
    },
    {
      "cell_type": "code",
      "metadata": {
        "id": "JN2rKpjuT--Q"
      },
      "source": [
        "s = {1,2,3}"
      ],
      "id": "JN2rKpjuT--Q",
      "execution_count": null,
      "outputs": []
    },
    {
      "cell_type": "code",
      "metadata": {
        "id": "QwtQc39OT-7K",
        "colab": {
          "base_uri": "https://localhost:8080/"
        },
        "outputId": "5bff2e14-ed90-4b4b-f59c-09a0d61dd861"
      },
      "source": [
        "print(len(s))"
      ],
      "id": "QwtQc39OT-7K",
      "execution_count": null,
      "outputs": [
        {
          "output_type": "stream",
          "name": "stdout",
          "text": [
            "3\n"
          ]
        }
      ]
    },
    {
      "cell_type": "code",
      "metadata": {
        "id": "QPyVGY0HT-3y",
        "colab": {
          "base_uri": "https://localhost:8080/"
        },
        "outputId": "8c15fbc5-08e5-48b8-fc16-4764d3fd9443"
      },
      "source": [
        "print(type(s))"
      ],
      "id": "QPyVGY0HT-3y",
      "execution_count": null,
      "outputs": [
        {
          "output_type": "stream",
          "name": "stdout",
          "text": [
            "<class 'set'>\n"
          ]
        }
      ]
    },
    {
      "cell_type": "code",
      "metadata": {
        "id": "DpQkXyxBT-0C",
        "colab": {
          "base_uri": "https://localhost:8080/"
        },
        "outputId": "da49d45f-b4e6-404b-842d-7275380db063"
      },
      "source": [
        "s2 = {1,1,1,1,1,1,1,1,2,2,2,2,2,2,2,3,3,3,3,3,3,3,3,}\n",
        "s2"
      ],
      "id": "DpQkXyxBT-0C",
      "execution_count": null,
      "outputs": [
        {
          "output_type": "execute_result",
          "data": {
            "text/plain": [
              "{1, 2, 3}"
            ]
          },
          "metadata": {},
          "execution_count": 109
        }
      ]
    },
    {
      "cell_type": "code",
      "metadata": {
        "id": "Ah_KCUAsT-vn",
        "colab": {
          "base_uri": "https://localhost:8080/"
        },
        "outputId": "1e993bba-bf3b-4009-efdb-0bd6674f087f"
      },
      "source": [
        "s2.add(99)\n",
        "s2"
      ],
      "id": "Ah_KCUAsT-vn",
      "execution_count": null,
      "outputs": [
        {
          "output_type": "execute_result",
          "data": {
            "text/plain": [
              "{1, 2, 3, 99}"
            ]
          },
          "metadata": {},
          "execution_count": 110
        }
      ]
    },
    {
      "cell_type": "code",
      "metadata": {
        "id": "KVv5dMp0T-lE"
      },
      "source": [
        "s2.remove(3)"
      ],
      "id": "KVv5dMp0T-lE",
      "execution_count": null,
      "outputs": []
    },
    {
      "cell_type": "code",
      "metadata": {
        "id": "SZDjxU64T-fk",
        "colab": {
          "base_uri": "https://localhost:8080/"
        },
        "outputId": "8861e912-1a9e-4758-893b-532a199ead92"
      },
      "source": [
        "s2"
      ],
      "id": "SZDjxU64T-fk",
      "execution_count": null,
      "outputs": [
        {
          "output_type": "execute_result",
          "data": {
            "text/plain": [
              "{1, 2, 99}"
            ]
          },
          "metadata": {},
          "execution_count": 112
        }
      ]
    },
    {
      "cell_type": "code",
      "metadata": {
        "id": "wpdXkp8iT-bo"
      },
      "source": [
        "set1 = {\"abc\", 30, True, 12, \"INU\"}"
      ],
      "id": "wpdXkp8iT-bo",
      "execution_count": null,
      "outputs": []
    },
    {
      "cell_type": "code",
      "metadata": {
        "id": "zZWYCQa-T-Wd",
        "colab": {
          "base_uri": "https://localhost:8080/"
        },
        "outputId": "45a65068-bf0d-4422-ad1a-6f9f843d3fd0"
      },
      "source": [
        "for i in set1:\n",
        "  print(i)"
      ],
      "id": "zZWYCQa-T-Wd",
      "execution_count": null,
      "outputs": [
        {
          "output_type": "stream",
          "name": "stdout",
          "text": [
            "True\n",
            "INU\n",
            "12\n",
            "30\n",
            "abc\n"
          ]
        }
      ]
    },
    {
      "cell_type": "code",
      "metadata": {
        "id": "3lDPq1aPWivL",
        "colab": {
          "base_uri": "https://localhost:8080/"
        },
        "outputId": "7501239b-1a53-44ff-af80-edea2bf5c0b9"
      },
      "source": [
        "s3 = {1,2,3,4,5}\n",
        "s4 = {5,6,7,8,9}\n",
        "\n",
        "s3.update(s4)\n",
        "\n",
        "print(s3)"
      ],
      "id": "3lDPq1aPWivL",
      "execution_count": null,
      "outputs": [
        {
          "output_type": "stream",
          "name": "stdout",
          "text": [
            "{1, 2, 3, 4, 5, 6, 7, 8, 9}\n"
          ]
        }
      ]
    },
    {
      "cell_type": "markdown",
      "metadata": {
        "id": "1bAsiIQBXGRW"
      },
      "source": [
        "##Dictionary"
      ],
      "id": "1bAsiIQBXGRW"
    },
    {
      "cell_type": "code",
      "metadata": {
        "id": "v6CfNgWGXF_Q"
      },
      "source": [
        ""
      ],
      "id": "v6CfNgWGXF_Q",
      "execution_count": null,
      "outputs": []
    },
    {
      "cell_type": "code",
      "metadata": {
        "id": "Znzgb5u2WiiS"
      },
      "source": [
        ""
      ],
      "id": "Znzgb5u2WiiS",
      "execution_count": null,
      "outputs": []
    },
    {
      "cell_type": "code",
      "metadata": {
        "id": "YsodiC5zWibG"
      },
      "source": [
        ""
      ],
      "id": "YsodiC5zWibG",
      "execution_count": null,
      "outputs": []
    },
    {
      "cell_type": "code",
      "metadata": {
        "id": "nqh_xsBwWiV5"
      },
      "source": [
        ""
      ],
      "id": "nqh_xsBwWiV5",
      "execution_count": null,
      "outputs": []
    },
    {
      "cell_type": "code",
      "metadata": {
        "id": "3C6uB1JtWiRJ"
      },
      "source": [
        ""
      ],
      "id": "3C6uB1JtWiRJ",
      "execution_count": null,
      "outputs": []
    },
    {
      "cell_type": "code",
      "metadata": {
        "id": "dUs6F4CmWiLR"
      },
      "source": [
        ""
      ],
      "id": "dUs6F4CmWiLR",
      "execution_count": null,
      "outputs": []
    },
    {
      "cell_type": "code",
      "metadata": {
        "id": "k0VgRJ_MWiCp"
      },
      "source": [
        ""
      ],
      "id": "k0VgRJ_MWiCp",
      "execution_count": null,
      "outputs": []
    },
    {
      "cell_type": "code",
      "metadata": {
        "id": "N09EVvRQWh81"
      },
      "source": [
        ""
      ],
      "id": "N09EVvRQWh81",
      "execution_count": null,
      "outputs": []
    },
    {
      "cell_type": "code",
      "metadata": {
        "id": "_p2ziLnkWh3n"
      },
      "source": [
        ""
      ],
      "id": "_p2ziLnkWh3n",
      "execution_count": null,
      "outputs": []
    },
    {
      "cell_type": "code",
      "metadata": {
        "id": "g_tFlVpoWhzQ"
      },
      "source": [
        ""
      ],
      "id": "g_tFlVpoWhzQ",
      "execution_count": null,
      "outputs": []
    },
    {
      "cell_type": "code",
      "metadata": {
        "id": "TP1yejIW9S8Z"
      },
      "source": [
        ""
      ],
      "id": "TP1yejIW9S8Z",
      "execution_count": null,
      "outputs": []
    },
    {
      "cell_type": "code",
      "metadata": {
        "id": "JEPo7qziNfF-"
      },
      "source": [
        ""
      ],
      "id": "JEPo7qziNfF-",
      "execution_count": null,
      "outputs": []
    },
    {
      "cell_type": "markdown",
      "metadata": {
        "id": "ITo0TA9k8hnS"
      },
      "source": [
        ""
      ],
      "id": "ITo0TA9k8hnS"
    },
    {
      "cell_type": "markdown",
      "metadata": {
        "id": "E3E75Nsz9KJu"
      },
      "source": [
        "### While loops"
      ],
      "id": "E3E75Nsz9KJu"
    },
    {
      "cell_type": "code",
      "metadata": {
        "id": "whpcnAGm9Udh"
      },
      "source": [
        "#sixtax\n",
        "\n",
        "#while test_expression:\n",
        "# body of while "
      ],
      "id": "whpcnAGm9Udh",
      "execution_count": 1,
      "outputs": []
    },
    {
      "cell_type": "code",
      "metadata": {
        "id": "c6M3j0JM9UT_",
        "outputId": "28b8d801-e778-4b83-cda2-47a393b6ce6d",
        "colab": {
          "base_uri": "https://localhost:8080/"
        }
      },
      "source": [
        "i = 1\n",
        "while i < 5:\n",
        "  print('i is: {}'.format(i))\n",
        "  i = i + 1\n",
        "print('end')"
      ],
      "id": "c6M3j0JM9UT_",
      "execution_count": 4,
      "outputs": [
        {
          "output_type": "stream",
          "name": "stdout",
          "text": [
            "i is: 1\n",
            "i is: 2\n",
            "i is: 3\n",
            "i is: 4\n",
            "end\n"
          ]
        }
      ]
    },
    {
      "cell_type": "code",
      "metadata": {
        "id": "6jWUiKda9UQr",
        "outputId": "e0f496e3-facc-4e7d-bc68-defd017733dd",
        "colab": {
          "base_uri": "https://localhost:8080/"
        }
      },
      "source": [
        "#Program to add natural numbers \n",
        "\n",
        "# sum = 1+2+3+4+...n\n",
        "\n",
        "n = 10 \n",
        "\n",
        "sum = 0\n",
        "i = 1\n",
        "\n",
        "while (i <= n):\n",
        "  sum = sum + i \n",
        "  i = i+1\n",
        "\n",
        "#print\n",
        "print(\"The sum is \",sum)"
      ],
      "id": "6jWUiKda9UQr",
      "execution_count": 5,
      "outputs": [
        {
          "output_type": "stream",
          "name": "stdout",
          "text": [
            "The sum is  55\n"
          ]
        }
      ]
    },
    {
      "cell_type": "code",
      "metadata": {
        "id": "-Gg1xXEj9UN5",
        "outputId": "a16133dc-7bf7-494e-cd7c-5d1e8253d6cb",
        "colab": {
          "base_uri": "https://localhost:8080/"
        }
      },
      "source": [
        "counter = 0\n",
        "\n",
        "while counter < 3:\n",
        "  print('inside of the while loop, counter =',counter)\n",
        "  counter = counter + 1\n",
        "else: \n",
        "  print('outside of the while loop')"
      ],
      "id": "-Gg1xXEj9UN5",
      "execution_count": 7,
      "outputs": [
        {
          "output_type": "stream",
          "name": "stdout",
          "text": [
            "inside of the while loop, counter = 0\n",
            "inside of the while loop, counter = 1\n",
            "inside of the while loop, counter = 2\n",
            "outside of the while loop\n"
          ]
        }
      ]
    },
    {
      "cell_type": "markdown",
      "metadata": {
        "id": "U0Fejlt2CNo-"
      },
      "source": [
        "### range()"
      ],
      "id": "U0Fejlt2CNo-"
    },
    {
      "cell_type": "code",
      "metadata": {
        "id": "BgmW_Kal9ULB",
        "outputId": "0a3af19e-71cc-4302-8f56-7e53bf1d37ce",
        "colab": {
          "base_uri": "https://localhost:8080/"
        }
      },
      "source": [
        "range(5)"
      ],
      "id": "BgmW_Kal9ULB",
      "execution_count": 8,
      "outputs": [
        {
          "output_type": "execute_result",
          "data": {
            "text/plain": [
              "range(0, 5)"
            ]
          },
          "metadata": {},
          "execution_count": 8
        }
      ]
    },
    {
      "cell_type": "code",
      "metadata": {
        "id": "ikXpdnYD9UIJ",
        "outputId": "695ff8db-54f9-4e1c-a30f-0584b50d65f7",
        "colab": {
          "base_uri": "https://localhost:8080/"
        }
      },
      "source": [
        "for i in range(5):\n",
        "  print(i)"
      ],
      "id": "ikXpdnYD9UIJ",
      "execution_count": 9,
      "outputs": [
        {
          "output_type": "stream",
          "name": "stdout",
          "text": [
            "0\n",
            "1\n",
            "2\n",
            "3\n",
            "4\n"
          ]
        }
      ]
    },
    {
      "cell_type": "code",
      "metadata": {
        "id": "OGZVnnAp9UET",
        "outputId": "d2656746-d3c4-4054-b741-bd1548073000",
        "colab": {
          "base_uri": "https://localhost:8080/"
        }
      },
      "source": [
        "for x in range(2,6):\n",
        "  print(x)"
      ],
      "id": "OGZVnnAp9UET",
      "execution_count": 11,
      "outputs": [
        {
          "output_type": "stream",
          "name": "stdout",
          "text": [
            "2\n",
            "3\n",
            "4\n",
            "5\n"
          ]
        }
      ]
    },
    {
      "cell_type": "code",
      "metadata": {
        "id": "oI92V8lU9T-s",
        "outputId": "ab62dbe7-7aa6-4221-972e-9e44e3d76b2c",
        "colab": {
          "base_uri": "https://localhost:8080/"
        }
      },
      "source": [
        "#increment the sequence with 3\n",
        "for x in range(2, 30, 3):\n",
        "  print(x)"
      ],
      "id": "oI92V8lU9T-s",
      "execution_count": 15,
      "outputs": [
        {
          "output_type": "stream",
          "name": "stdout",
          "text": [
            "2\n",
            "5\n",
            "8\n",
            "11\n",
            "14\n",
            "17\n",
            "20\n",
            "23\n",
            "26\n",
            "29\n"
          ]
        }
      ]
    },
    {
      "cell_type": "code",
      "metadata": {
        "id": "Xh1K4axV9T5E",
        "outputId": "f561fa56-d9df-48fa-b2e8-a464f8ec625d",
        "colab": {
          "base_uri": "https://localhost:8080/"
        }
      },
      "source": [
        "list(range(5))"
      ],
      "id": "Xh1K4axV9T5E",
      "execution_count": 16,
      "outputs": [
        {
          "output_type": "execute_result",
          "data": {
            "text/plain": [
              "[0, 1, 2, 3, 4]"
            ]
          },
          "metadata": {},
          "execution_count": 16
        }
      ]
    },
    {
      "cell_type": "code",
      "metadata": {
        "id": "Mug3SYoZ9T0v",
        "outputId": "53622c2f-1d84-435c-f8af-c1198c787213",
        "colab": {
          "base_uri": "https://localhost:8080/"
        }
      },
      "source": [
        "list(range(3,30,3))"
      ],
      "id": "Mug3SYoZ9T0v",
      "execution_count": 17,
      "outputs": [
        {
          "output_type": "execute_result",
          "data": {
            "text/plain": [
              "[3, 6, 9, 12, 15, 18, 21, 24, 27]"
            ]
          },
          "metadata": {},
          "execution_count": 17
        }
      ]
    },
    {
      "cell_type": "code",
      "metadata": {
        "id": "DWO7PSf69Txq",
        "outputId": "1dfc9166-a342-43d0-9b0e-4eaf765029cb",
        "colab": {
          "base_uri": "https://localhost:8080/"
        }
      },
      "source": [
        "list(range(5,50,5))"
      ],
      "id": "DWO7PSf69Txq",
      "execution_count": 18,
      "outputs": [
        {
          "output_type": "execute_result",
          "data": {
            "text/plain": [
              "[5, 10, 15, 20, 25, 30, 35, 40, 45]"
            ]
          },
          "metadata": {},
          "execution_count": 18
        }
      ]
    },
    {
      "cell_type": "markdown",
      "metadata": {
        "id": "EsoB23tdEwNM"
      },
      "source": [
        "###List comprehension"
      ],
      "id": "EsoB23tdEwNM"
    },
    {
      "cell_type": "code",
      "metadata": {
        "id": "k9_ScMoMEdkn"
      },
      "source": [
        "x = [1,2,3,4]"
      ],
      "id": "k9_ScMoMEdkn",
      "execution_count": 19,
      "outputs": []
    },
    {
      "cell_type": "code",
      "metadata": {
        "id": "6T4zE4WvEzFw",
        "outputId": "24ea0061-1685-4a63-e0c6-4ff4c705896b",
        "colab": {
          "base_uri": "https://localhost:8080/"
        }
      },
      "source": [
        "#get the power of 2 of x and save it in out\n",
        "out = []\n",
        "for i in x:\n",
        "  out.append(i**2)\n",
        "\n",
        "print(out)"
      ],
      "id": "6T4zE4WvEzFw",
      "execution_count": 20,
      "outputs": [
        {
          "output_type": "stream",
          "name": "stdout",
          "text": [
            "[1, 4, 9, 16]\n"
          ]
        }
      ]
    },
    {
      "cell_type": "code",
      "metadata": {
        "id": "wy4bF61ZEdhO",
        "outputId": "81b61872-38c9-443c-c2e2-23169855fe50",
        "colab": {
          "base_uri": "https://localhost:8080/"
        }
      },
      "source": [
        "#sintax [expression for item in list]\n",
        "[i**2 for i in x]\n",
        "print(out)"
      ],
      "id": "wy4bF61ZEdhO",
      "execution_count": 22,
      "outputs": [
        {
          "output_type": "stream",
          "name": "stdout",
          "text": [
            "[1, 4, 9, 16]\n"
          ]
        }
      ]
    },
    {
      "cell_type": "code",
      "metadata": {
        "colab": {
          "base_uri": "https://localhost:8080/"
        },
        "id": "dkrZw3JaEdb2",
        "outputId": "50ad6ea0-55ba-4162-d9b5-0a075c98e6f3"
      },
      "source": [
        "# EX) you have a list of fruits, and you want a new list, this new list only contains\n",
        "# fruits with the letter 'a'\n",
        "\n",
        "fruits = ['apple','banana', 'cherry','kiwi','mango']\n",
        "a_list = []\n",
        "\n",
        "for i in fruits:\n",
        " if 'a' in i:\n",
        "  a_list.append(i)\n",
        "\n",
        "print(a_list)"
      ],
      "id": "dkrZw3JaEdb2",
      "execution_count": 33,
      "outputs": [
        {
          "output_type": "stream",
          "name": "stdout",
          "text": [
            "['apple', 'banana', 'mango']\n"
          ]
        }
      ]
    },
    {
      "cell_type": "code",
      "metadata": {
        "id": "A51XmzcFLCbX"
      },
      "source": [
        "# Ex 2) tranform exercise 1 to list comprehension\n",
        "\n",
        "fruits = ['apple', 'banana', 'cherry', 'kiwi', 'mango']"
      ],
      "id": "A51XmzcFLCbX",
      "execution_count": 39,
      "outputs": []
    },
    {
      "cell_type": "code",
      "metadata": {
        "id": "PbLdQSdYEdXV"
      },
      "source": [
        "x = [1,2,3,4] #List"
      ],
      "id": "PbLdQSdYEdXV",
      "execution_count": 41,
      "outputs": []
    },
    {
      "cell_type": "code",
      "metadata": {
        "colab": {
          "base_uri": "https://localhost:8080/"
        },
        "id": "chdZ56eUOhQQ",
        "outputId": "426fb70d-e93b-401e-c099-a7b4f8442f75"
      },
      "source": [
        "out =[] #power of 2\n",
        "for item in x:\n",
        "  out.append(item**2)\n",
        "print(out)"
      ],
      "id": "chdZ56eUOhQQ",
      "execution_count": 42,
      "outputs": [
        {
          "output_type": "stream",
          "name": "stdout",
          "text": [
            "[1, 4, 9, 16]\n"
          ]
        }
      ]
    },
    {
      "cell_type": "code",
      "metadata": {
        "colab": {
          "base_uri": "https://localhost:8080/"
        },
        "id": "po1WY0EuOf8w",
        "outputId": "89799fa7-0f3a-412f-ebcd-818b4179afbc"
      },
      "source": [
        "#sintax [expression for item in list]\n",
        "\n",
        "[item**2 for item in x]"
      ],
      "id": "po1WY0EuOf8w",
      "execution_count": 43,
      "outputs": [
        {
          "output_type": "execute_result",
          "data": {
            "text/plain": [
              "[1, 4, 9, 16]"
            ]
          },
          "metadata": {},
          "execution_count": 43
        }
      ]
    },
    {
      "cell_type": "code",
      "metadata": {
        "id": "DOySieWhEdUp",
        "outputId": "8318e398-0867-4965-8262-a08b57c85f09",
        "colab": {
          "base_uri": "https://localhost:8080/"
        }
      },
      "source": [
        "fruits = [\"apple\",\"banana\",\"cherry\", \"kiwi\", \"mango\"]\n",
        "a_list = []\n",
        "\n",
        "for x in fruits:\n",
        "  if \"a\" in x:\n",
        "    a_list.append(x)\n",
        "\n",
        "print(a_list)"
      ],
      "id": "DOySieWhEdUp",
      "execution_count": 44,
      "outputs": [
        {
          "output_type": "stream",
          "name": "stdout",
          "text": [
            "['apple', 'banana', 'mango']\n"
          ]
        }
      ]
    },
    {
      "cell_type": "code",
      "metadata": {
        "colab": {
          "base_uri": "https://localhost:8080/"
        },
        "id": "0Z_zixnmEdN4",
        "outputId": "9bd25d35-7373-4bbd-8be6-e0d53cb5ab64"
      },
      "source": [
        "#Ex2) transform exercise 1 to list comprehension\n",
        "fruits = [\"apple\",\"banana\",\"cherry\", \"kiwi\", \"mango\"]\n",
        "\n",
        "#sintax a_list = [expression for x in fruits if condition == true]\n",
        "\n",
        "a_list = [x for x in fruits if 'a' in x]\n",
        "\n",
        "print(a_list)"
      ],
      "id": "0Z_zixnmEdN4",
      "execution_count": 45,
      "outputs": [
        {
          "output_type": "stream",
          "name": "stdout",
          "text": [
            "['apple', 'banana', 'mango']\n"
          ]
        }
      ]
    },
    {
      "cell_type": "code",
      "metadata": {
        "id": "EwN2cXnjEdKo",
        "outputId": "c5cb6704-5105-4dce-f23a-f1d620376531",
        "colab": {
          "base_uri": "https://localhost:8080/"
        }
      },
      "source": [
        "#Iterate throungh a string using a for Loop and transform this string to a list\n",
        "\n",
        "var = 'programing language'\n",
        "list_var = [] # >>> ['p','r',...., 'e']\n",
        "\n",
        "for letter in var:\n",
        "  list_var.append(letter)\n",
        "\n",
        "print(list_var)"
      ],
      "id": "EwN2cXnjEdKo",
      "execution_count": 46,
      "outputs": [
        {
          "output_type": "stream",
          "name": "stdout",
          "text": [
            "p\n",
            "r\n",
            "o\n",
            "g\n",
            "r\n",
            "a\n",
            "m\n",
            "i\n",
            "n\n",
            "g\n",
            " \n",
            "l\n",
            "a\n",
            "n\n",
            "g\n",
            "u\n",
            "a\n",
            "g\n",
            "e\n",
            "['p', 'r', 'o', 'g', 'r', 'a', 'm', 'i', 'n', 'g', ' ', 'l', 'a', 'n', 'g', 'u', 'a', 'g', 'e']\n"
          ]
        }
      ]
    },
    {
      "cell_type": "code",
      "metadata": {
        "id": "RClL2y7DEdGt",
        "outputId": "55bb09b9-4d6d-4130-81f9-e2e2188fa56d",
        "colab": {
          "base_uri": "https://localhost:8080/"
        }
      },
      "source": [
        "# Transform it to a list comprehension\n",
        "var = 'programing language'\n",
        "\n",
        "list_var = [letter for letter in var]\n",
        "print(list_var)"
      ],
      "id": "RClL2y7DEdGt",
      "execution_count": 48,
      "outputs": [
        {
          "output_type": "stream",
          "name": "stdout",
          "text": [
            "['p', 'r', 'o', 'g', 'r', 'a', 'm', 'i', 'n', 'g', ' ', 'l', 'a', 'n', 'g', 'u', 'a', 'g', 'e']\n"
          ]
        }
      ]
    },
    {
      "cell_type": "markdown",
      "metadata": {
        "id": "_Ntouv8XZO5N"
      },
      "source": [
        "### Functions"
      ],
      "id": "_Ntouv8XZO5N"
    },
    {
      "cell_type": "code",
      "metadata": {
        "id": "OB_uN_kqXTBK"
      },
      "source": [
        "# 1st term: parameter is a variable inside of the parethesis in the function definition.\n",
        "# 2nd term: argument is the value that is sent to the function when its called.\n"
      ],
      "id": "OB_uN_kqXTBK",
      "execution_count": 49,
      "outputs": []
    },
    {
      "cell_type": "code",
      "metadata": {
        "id": "aVvn7zDOEdBB",
        "outputId": "eee5325b-faff-47b3-8881-d384972bb747",
        "colab": {
          "base_uri": "https://localhost:8080/",
          "height": 134
        }
      },
      "source": [
        "#sintax\n",
        "def my_func  '''\n",
        "     Docstring goes here.\n",
        "  '''\n",
        "  print(parameter1 + parameter2 ....) \n",
        "\n",
        "my_func(1,2,3,...)"
      ],
      "id": "aVvn7zDOEdBB",
      "execution_count": 58,
      "outputs": [
        {
          "output_type": "error",
          "ename": "SyntaxError",
          "evalue": "ignored",
          "traceback": [
            "\u001b[0;36m  File \u001b[0;32m\"<ipython-input-58-b6e6982319de>\"\u001b[0;36m, line \u001b[0;32m2\u001b[0m\n\u001b[0;31m    def my_func(parameter1, parameter2, parameter3, ...):\u001b[0m\n\u001b[0m                                                      ^\u001b[0m\n\u001b[0;31mSyntaxError\u001b[0m\u001b[0;31m:\u001b[0m invalid syntax\n"
          ]
        }
      ]
    },
    {
      "cell_type": "code",
      "metadata": {
        "id": "NC05PippbAq_"
      },
      "source": [
        "def my_func(param1='default'):\n",
        "  print(pram1)"
      ],
      "id": "NC05PippbAq_",
      "execution_count": 54,
      "outputs": []
    },
    {
      "cell_type": "code",
      "metadata": {
        "id": "DCh-aAkhbAkP",
        "outputId": "c8f7245b-68a6-4fd2-9590-b1baffb51114",
        "colab": {
          "base_uri": "https://localhost:8080/"
        }
      },
      "source": [
        "my_func"
      ],
      "id": "DCh-aAkhbAkP",
      "execution_count": 55,
      "outputs": [
        {
          "output_type": "execute_result",
          "data": {
            "text/plain": [
              "<function __main__.my_func>"
            ]
          },
          "metadata": {},
          "execution_count": 55
        }
      ]
    },
    {
      "cell_type": "code",
      "metadata": {
        "id": "GjJvxBY3bAZD",
        "outputId": "e914af6e-08eb-4560-adea-5d857da55985",
        "colab": {
          "base_uri": "https://localhost:8080/",
          "height": 239
        }
      },
      "source": [
        "my_func()"
      ],
      "id": "GjJvxBY3bAZD",
      "execution_count": 57,
      "outputs": [
        {
          "output_type": "error",
          "ename": "NameError",
          "evalue": "ignored",
          "traceback": [
            "\u001b[0;31m---------------------------------------------------------------------------\u001b[0m",
            "\u001b[0;31mNameError\u001b[0m                                 Traceback (most recent call last)",
            "\u001b[0;32m<ipython-input-57-db3ada79940f>\u001b[0m in \u001b[0;36m<module>\u001b[0;34m()\u001b[0m\n\u001b[0;32m----> 1\u001b[0;31m \u001b[0mmy_func\u001b[0m\u001b[0;34m(\u001b[0m\u001b[0;34m)\u001b[0m\u001b[0;34m\u001b[0m\u001b[0;34m\u001b[0m\u001b[0m\n\u001b[0m",
            "\u001b[0;32m<ipython-input-54-bfeb56796ce4>\u001b[0m in \u001b[0;36mmy_func\u001b[0;34m(param1)\u001b[0m\n\u001b[1;32m      1\u001b[0m \u001b[0;32mdef\u001b[0m \u001b[0mmy_func\u001b[0m\u001b[0;34m(\u001b[0m\u001b[0mparam1\u001b[0m\u001b[0;34m=\u001b[0m\u001b[0;34m'default'\u001b[0m\u001b[0;34m)\u001b[0m\u001b[0;34m:\u001b[0m\u001b[0;34m\u001b[0m\u001b[0;34m\u001b[0m\u001b[0m\n\u001b[0;32m----> 2\u001b[0;31m   \u001b[0mprint\u001b[0m\u001b[0;34m(\u001b[0m\u001b[0mpram1\u001b[0m\u001b[0;34m)\u001b[0m\u001b[0;34m\u001b[0m\u001b[0;34m\u001b[0m\u001b[0m\n\u001b[0m",
            "\u001b[0;31mNameError\u001b[0m: name 'pram1' is not defined"
          ]
        }
      ]
    },
    {
      "cell_type": "code",
      "metadata": {
        "id": "Ch4tL1kpbAUi",
        "outputId": "af784264-434a-4d0d-eb7d-864e49803d67",
        "colab": {
          "base_uri": "https://localhost:8080/",
          "height": 239
        }
      },
      "source": [
        "my_func('new argument')"
      ],
      "id": "Ch4tL1kpbAUi",
      "execution_count": 59,
      "outputs": [
        {
          "output_type": "error",
          "ename": "NameError",
          "evalue": "ignored",
          "traceback": [
            "\u001b[0;31m---------------------------------------------------------------------------\u001b[0m",
            "\u001b[0;31mNameError\u001b[0m                                 Traceback (most recent call last)",
            "\u001b[0;32m<ipython-input-59-334e41dbee4e>\u001b[0m in \u001b[0;36m<module>\u001b[0;34m()\u001b[0m\n\u001b[0;32m----> 1\u001b[0;31m \u001b[0mmy_func\u001b[0m\u001b[0;34m(\u001b[0m\u001b[0;34m'new argument'\u001b[0m\u001b[0;34m)\u001b[0m\u001b[0;34m\u001b[0m\u001b[0;34m\u001b[0m\u001b[0m\n\u001b[0m",
            "\u001b[0;32m<ipython-input-54-bfeb56796ce4>\u001b[0m in \u001b[0;36mmy_func\u001b[0;34m(param1)\u001b[0m\n\u001b[1;32m      1\u001b[0m \u001b[0;32mdef\u001b[0m \u001b[0mmy_func\u001b[0m\u001b[0;34m(\u001b[0m\u001b[0mparam1\u001b[0m\u001b[0;34m=\u001b[0m\u001b[0;34m'default'\u001b[0m\u001b[0;34m)\u001b[0m\u001b[0;34m:\u001b[0m\u001b[0;34m\u001b[0m\u001b[0;34m\u001b[0m\u001b[0m\n\u001b[0;32m----> 2\u001b[0;31m   \u001b[0mprint\u001b[0m\u001b[0;34m(\u001b[0m\u001b[0mpram1\u001b[0m\u001b[0;34m)\u001b[0m\u001b[0;34m\u001b[0m\u001b[0;34m\u001b[0m\u001b[0m\n\u001b[0m",
            "\u001b[0;31mNameError\u001b[0m: name 'pram1' is not defined"
          ]
        }
      ]
    },
    {
      "cell_type": "code",
      "metadata": {
        "id": "i4JrV2BfbAQK"
      },
      "source": [
        "# Create a function that returns the square of number\n",
        "\n",
        "def square(num = 1):\n",
        "  sq = num ** 2\n",
        "  return sq"
      ],
      "id": "i4JrV2BfbAQK",
      "execution_count": 65,
      "outputs": []
    },
    {
      "cell_type": "code",
      "metadata": {
        "id": "QEaypGX_bALy"
      },
      "source": [
        "out = square(3)"
      ],
      "id": "QEaypGX_bALy",
      "execution_count": 66,
      "outputs": []
    },
    {
      "cell_type": "code",
      "metadata": {
        "id": "w8X6LNvQbADH",
        "outputId": "91a699f0-912d-4dd8-c851-40235ba78b1e",
        "colab": {
          "base_uri": "https://localhost:8080/"
        }
      },
      "source": [
        "print(out)"
      ],
      "id": "w8X6LNvQbADH",
      "execution_count": 69,
      "outputs": [
        {
          "output_type": "stream",
          "name": "stdout",
          "text": [
            "4\n"
          ]
        }
      ]
    },
    {
      "cell_type": "code",
      "metadata": {
        "id": "OSwcDAGwa_-j",
        "outputId": "3db81ffb-de4c-4c34-9497-c83c64f67f49",
        "colab": {
          "base_uri": "https://localhost:8080/"
        }
      },
      "source": [
        "print(square(10))"
      ],
      "id": "OSwcDAGwa_-j",
      "execution_count": 70,
      "outputs": [
        {
          "output_type": "stream",
          "name": "stdout",
          "text": [
            "100\n"
          ]
        }
      ]
    },
    {
      "cell_type": "code",
      "metadata": {
        "id": "oUy5EE2Qa_6G"
      },
      "source": [
        "#Exercise 4)\n",
        "#Transform the for loop from string to a list in a function\n",
        "\n",
        "def str_list(string1 = 'default'):\n",
        "  list_var =[]\n",
        "  for letter in string1:\n",
        "      list_var.append(letter)\n",
        "\n",
        "  return(list_var)\n"
      ],
      "id": "oUy5EE2Qa_6G",
      "execution_count": 73,
      "outputs": []
    },
    {
      "cell_type": "code",
      "metadata": {
        "id": "LLBNSNYMa_zq",
        "outputId": "31919dc6-8286-4590-a17f-033b677a07d7",
        "colab": {
          "base_uri": "https://localhost:8080/"
        }
      },
      "source": [
        "print(str_list())"
      ],
      "id": "LLBNSNYMa_zq",
      "execution_count": 74,
      "outputs": [
        {
          "output_type": "stream",
          "name": "stdout",
          "text": [
            "['d', 'e', 'f', 'a', 'u', 'l', 't']\n"
          ]
        }
      ]
    },
    {
      "cell_type": "code",
      "metadata": {
        "id": "0YpN08XRa_pV",
        "outputId": "74128fb0-eb8a-465b-980c-5ae1f87fa546",
        "colab": {
          "base_uri": "https://localhost:8080/"
        }
      },
      "source": [
        "new_variable = str_list('INU')\n",
        "print(new_variable)"
      ],
      "id": "0YpN08XRa_pV",
      "execution_count": 75,
      "outputs": [
        {
          "output_type": "stream",
          "name": "stdout",
          "text": [
            "['I', 'N', 'U']\n"
          ]
        }
      ]
    },
    {
      "cell_type": "code",
      "metadata": {
        "id": "IaZ2djehf4yU"
      },
      "source": [
        "var2 = str_list('0123456789')"
      ],
      "id": "IaZ2djehf4yU",
      "execution_count": 76,
      "outputs": []
    },
    {
      "cell_type": "code",
      "metadata": {
        "id": "scIle3Fuf4u1",
        "outputId": "c98da3f8-d943-4d88-d36c-1968bbc835e5",
        "colab": {
          "base_uri": "https://localhost:8080/"
        }
      },
      "source": [
        "print(var2)"
      ],
      "id": "scIle3Fuf4u1",
      "execution_count": 77,
      "outputs": [
        {
          "output_type": "stream",
          "name": "stdout",
          "text": [
            "['0', '1', '2', '3', '4', '5', '6', '7', '8', '9']\n"
          ]
        }
      ]
    },
    {
      "cell_type": "code",
      "metadata": {
        "id": "wBVQK-J1f4rk"
      },
      "source": [
        ""
      ],
      "id": "wBVQK-J1f4rk",
      "execution_count": null,
      "outputs": []
    },
    {
      "cell_type": "code",
      "metadata": {
        "id": "kAc9PPxjf4lb"
      },
      "source": [
        ""
      ],
      "id": "kAc9PPxjf4lb",
      "execution_count": null,
      "outputs": []
    },
    {
      "cell_type": "code",
      "metadata": {
        "id": "lWp5x_Vqf4Zt"
      },
      "source": [
        ""
      ],
      "id": "lWp5x_Vqf4Zt",
      "execution_count": null,
      "outputs": []
    },
    {
      "cell_type": "code",
      "metadata": {
        "id": "em_xxrRPf4Vt"
      },
      "source": [
        ""
      ],
      "id": "em_xxrRPf4Vt",
      "execution_count": null,
      "outputs": []
    },
    {
      "cell_type": "code",
      "metadata": {
        "id": "NUEXBEf-f4SQ"
      },
      "source": [
        ""
      ],
      "id": "NUEXBEf-f4SQ",
      "execution_count": null,
      "outputs": []
    },
    {
      "cell_type": "code",
      "metadata": {
        "id": "mmI3lCSlf4NW"
      },
      "source": [
        ""
      ],
      "id": "mmI3lCSlf4NW",
      "execution_count": null,
      "outputs": []
    },
    {
      "cell_type": "code",
      "metadata": {
        "id": "FtC4yv5-f4HH"
      },
      "source": [
        ""
      ],
      "id": "FtC4yv5-f4HH",
      "execution_count": null,
      "outputs": []
    },
    {
      "cell_type": "code",
      "metadata": {
        "id": "cXyStuS_f4CM"
      },
      "source": [
        ""
      ],
      "id": "cXyStuS_f4CM",
      "execution_count": null,
      "outputs": []
    },
    {
      "cell_type": "code",
      "metadata": {
        "id": "DTLNzXmnf3-W"
      },
      "source": [
        ""
      ],
      "id": "DTLNzXmnf3-W",
      "execution_count": null,
      "outputs": []
    },
    {
      "cell_type": "code",
      "metadata": {
        "id": "bxaAFk43f356"
      },
      "source": [
        ""
      ],
      "id": "bxaAFk43f356",
      "execution_count": null,
      "outputs": []
    },
    {
      "cell_type": "code",
      "metadata": {
        "id": "sIlWeCDrf31i"
      },
      "source": [
        ""
      ],
      "id": "sIlWeCDrf31i",
      "execution_count": null,
      "outputs": []
    }
  ]
}