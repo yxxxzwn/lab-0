{
  "nbformat": 4,
  "nbformat_minor": 5,
  "metadata": {
    "kernelspec": {
      "display_name": "Python 3",
      "language": "python",
      "name": "python3"
    },
    "language_info": {
      "codemirror_mode": {
        "name": "ipython",
        "version": 3
      },
      "file_extension": ".py",
      "mimetype": "text/x-python",
      "name": "python",
      "nbconvert_exporter": "python",
      "pygments_lexer": "ipython3",
      "version": "3.7.11"
    },
    "colab": {
      "name": "Student notebook.ipynb",
      "provenance": []
    }
  },
  "cells": [
    {
      "cell_type": "markdown",
      "metadata": {
        "id": "a0fb4d32-1c6a-41f6-bcd5-5e32aea70fdf"
      },
      "source": [
        "# Student Notebook\n",
        "#### This notebook is for you to take notes and save directly to your Google drive and GITHUB.\n",
        "\n",
        "Please upload your changes so you can review it later."
      ],
      "id": "a0fb4d32-1c6a-41f6-bcd5-5e32aea70fdf"
    },
    {
      "cell_type": "markdown",
      "metadata": {
        "id": "9a8d1388-7e11-4262-8e94-581493c554f4"
      },
      "source": [
        "# Introduction to Python Basics I"
      ],
      "id": "9a8d1388-7e11-4262-8e94-581493c554f4"
    },
    {
      "cell_type": "markdown",
      "metadata": {
        "id": "apfpGp8KEbNL"
      },
      "source": [
        "## Printing"
      ],
      "id": "apfpGp8KEbNL"
    },
    {
      "cell_type": "code",
      "metadata": {
        "id": "61d77fcf-3df2-4fee-8da0-d8c0c39f1992"
      },
      "source": [
        "x = 'hello'"
      ],
      "id": "61d77fcf-3df2-4fee-8da0-d8c0c39f1992",
      "execution_count": 2,
      "outputs": []
    },
    {
      "cell_type": "code",
      "metadata": {
        "id": "981ce62a-e33e-4a11-a369-b1f63f783208",
        "outputId": "f1137e7e-f721-4660-d2a9-e4529c1a9cec",
        "colab": {
          "base_uri": "https://localhost:8080/",
          "height": 35
        }
      },
      "source": [
        "x\n",
        "x2='world'\n",
        "\n",
        "x"
      ],
      "id": "981ce62a-e33e-4a11-a369-b1f63f783208",
      "execution_count": 5,
      "outputs": [
        {
          "output_type": "execute_result",
          "data": {
            "application/vnd.google.colaboratory.intrinsic+json": {
              "type": "string"
            },
            "text/plain": [
              "'hello'"
            ]
          },
          "metadata": {},
          "execution_count": 5
        }
      ]
    },
    {
      "cell_type": "code",
      "metadata": {
        "id": "8a4eefe9-ec12-4e51-9227-0a769594ccdd",
        "outputId": "a5f02bf7-73c5-495f-d25d-603759132bec",
        "colab": {
          "base_uri": "https://localhost:8080/"
        }
      },
      "source": [
        "print(x)"
      ],
      "id": "8a4eefe9-ec12-4e51-9227-0a769594ccdd",
      "execution_count": 4,
      "outputs": [
        {
          "output_type": "stream",
          "name": "stdout",
          "text": [
            "hello\n"
          ]
        }
      ]
    },
    {
      "cell_type": "code",
      "metadata": {
        "id": "b1cbe5c6-102a-4c6a-b09a-b53a9c47b820"
      },
      "source": [
        "num = 12\n",
        "name = 'Anna'"
      ],
      "id": "b1cbe5c6-102a-4c6a-b09a-b53a9c47b820",
      "execution_count": 6,
      "outputs": []
    },
    {
      "cell_type": "code",
      "metadata": {
        "id": "3832eb93-094f-4de4-9726-f633e246cac5",
        "outputId": "3217eb39-d2d9-40c3-fe1e-aee0b5977f89",
        "colab": {
          "base_uri": "https://localhost:8080/"
        }
      },
      "source": [
        "print('My name is: {one}, and my favorite number is: {two}'.format(one=name, two=num))"
      ],
      "id": "3832eb93-094f-4de4-9726-f633e246cac5",
      "execution_count": 8,
      "outputs": [
        {
          "output_type": "stream",
          "name": "stdout",
          "text": [
            "My name is: Anna, and my favorite number is: 12\n"
          ]
        }
      ]
    },
    {
      "cell_type": "code",
      "metadata": {
        "id": "520a6910-fec0-4c19-929d-23bbe0290946",
        "outputId": "09ae9d35-c8af-46fd-f88e-c1fbd7d0ab1e",
        "colab": {
          "base_uri": "https://localhost:8080/"
        }
      },
      "source": [
        "print('My name is: {}, and my favorite number is: {}'.format(name, num))"
      ],
      "id": "520a6910-fec0-4c19-929d-23bbe0290946",
      "execution_count": 10,
      "outputs": [
        {
          "output_type": "stream",
          "name": "stdout",
          "text": [
            "My name is: Anna, and my favorite number is: 12\n"
          ]
        }
      ]
    },
    {
      "cell_type": "code",
      "metadata": {
        "id": "bfd44c86-5e36-4f71-88ef-496589098171",
        "outputId": "06c74ead-dca4-4990-887e-a062b9d6c8bd",
        "colab": {
          "base_uri": "https://localhost:8080/"
        }
      },
      "source": [
        "print('Programming\\nLanguage\\n101\\n - Industrial Engineering')"
      ],
      "id": "bfd44c86-5e36-4f71-88ef-496589098171",
      "execution_count": 15,
      "outputs": [
        {
          "output_type": "stream",
          "name": "stdout",
          "text": [
            "Programming\n",
            "Language\n",
            "101\n",
            " - Industrial Engineering\n"
          ]
        }
      ]
    },
    {
      "cell_type": "code",
      "metadata": {
        "id": "f8d4c821-eca0-471d-91d8-ccb710d2166b",
        "outputId": "808251c0-9045-499d-e4dd-bd6b36d15c98",
        "colab": {
          "base_uri": "https://localhost:8080/"
        }
      },
      "source": [
        "print('Programming', 'Language', '101', sep='\\n')"
      ],
      "id": "f8d4c821-eca0-471d-91d8-ccb710d2166b",
      "execution_count": 20,
      "outputs": [
        {
          "output_type": "stream",
          "name": "stdout",
          "text": [
            "Programming\n",
            "Language\n",
            "101\n"
          ]
        }
      ]
    },
    {
      "cell_type": "code",
      "metadata": {
        "id": "89c6149b-6276-48ab-a205-b0aed26c232c",
        "outputId": "d132cfaa-4aea-4020-cb88-ba293a79afec",
        "colab": {
          "base_uri": "https://localhost:8080/"
        }
      },
      "source": [
        "print('home', 'user','documents', sep='/')"
      ],
      "id": "89c6149b-6276-48ab-a205-b0aed26c232c",
      "execution_count": 22,
      "outputs": [
        {
          "output_type": "stream",
          "name": "stdout",
          "text": [
            "home/user/documents\n"
          ]
        }
      ]
    },
    {
      "cell_type": "code",
      "metadata": {
        "id": "07686502-7571-481a-8b20-bec590084b7b",
        "outputId": "47d958ee-b744-4924-b6a2-ca86c5799164",
        "colab": {
          "base_uri": "https://localhost:8080/",
          "height": 172
        }
      },
      "source": [
        "st2= 'My age is ' + 30"
      ],
      "id": "07686502-7571-481a-8b20-bec590084b7b",
      "execution_count": 23,
      "outputs": [
        {
          "output_type": "error",
          "ename": "TypeError",
          "evalue": "ignored",
          "traceback": [
            "\u001b[0;31m---------------------------------------------------------------------------\u001b[0m",
            "\u001b[0;31mTypeError\u001b[0m                                 Traceback (most recent call last)",
            "\u001b[0;32m<ipython-input-23-b3bd4faf7409>\u001b[0m in \u001b[0;36m<module>\u001b[0;34m()\u001b[0m\n\u001b[0;32m----> 1\u001b[0;31m \u001b[0mst2\u001b[0m\u001b[0;34m=\u001b[0m \u001b[0;34m'My age is '\u001b[0m \u001b[0;34m+\u001b[0m \u001b[0;36m30\u001b[0m\u001b[0;34m\u001b[0m\u001b[0;34m\u001b[0m\u001b[0m\n\u001b[0m",
            "\u001b[0;31mTypeError\u001b[0m: can only concatenate str (not \"int\") to str"
          ]
        }
      ]
    },
    {
      "cell_type": "code",
      "metadata": {
        "id": "8ca30ace-cb73-43dc-a3b0-2f27aa362c7c"
      },
      "source": [
        "st2 = 'My age is ' + str(30)"
      ],
      "id": "8ca30ace-cb73-43dc-a3b0-2f27aa362c7c",
      "execution_count": 24,
      "outputs": []
    },
    {
      "cell_type": "code",
      "metadata": {
        "id": "0f31b763-9d91-456a-bebe-e57ec2065451",
        "outputId": "2e7b6f7e-4fd3-41f8-812c-9939d466d6cb",
        "colab": {
          "base_uri": "https://localhost:8080/"
        }
      },
      "source": [
        "print(st2)"
      ],
      "id": "0f31b763-9d91-456a-bebe-e57ec2065451",
      "execution_count": 25,
      "outputs": [
        {
          "output_type": "stream",
          "name": "stdout",
          "text": [
            "My age is 30\n"
          ]
        }
      ]
    },
    {
      "cell_type": "code",
      "metadata": {
        "id": "7b5cd6d5-5466-49ba-b198-7c8983a237cc",
        "outputId": "06cbb7a5-d55b-431f-a790-9021db7d6121",
        "colab": {
          "base_uri": "https://localhost:8080/"
        }
      },
      "source": [
        "print(\"Welcome to\", end = ' ')\n",
        "print(\"Programming Language\", end = ' 101')"
      ],
      "id": "7b5cd6d5-5466-49ba-b198-7c8983a237cc",
      "execution_count": 27,
      "outputs": [
        {
          "output_type": "stream",
          "name": "stdout",
          "text": [
            "Welcome to Programming Language 101"
          ]
        }
      ]
    },
    {
      "cell_type": "markdown",
      "metadata": {
        "id": "yNQU8ZDrEX5x"
      },
      "source": [
        "## List"
      ],
      "id": "yNQU8ZDrEX5x"
    },
    {
      "cell_type": "code",
      "metadata": {
        "id": "26a6af88-80a4-4bd2-be9b-8d00c3d4a416",
        "outputId": "eb57f612-b1f7-4688-b182-1cfcb8adcefd",
        "colab": {
          "base_uri": "https://localhost:8080/"
        }
      },
      "source": [
        "{1,2,3}"
      ],
      "id": "26a6af88-80a4-4bd2-be9b-8d00c3d4a416",
      "execution_count": 28,
      "outputs": [
        {
          "output_type": "execute_result",
          "data": {
            "text/plain": [
              "{1, 2, 3}"
            ]
          },
          "metadata": {},
          "execution_count": 28
        }
      ]
    },
    {
      "cell_type": "code",
      "metadata": {
        "id": "p_Bbe-GYEj22",
        "outputId": "72cbfcc6-3b5c-4021-8f0d-fe28c68d3d54",
        "colab": {
          "base_uri": "https://localhost:8080/"
        }
      },
      "source": [
        "['hi',1 ,[1,2]]"
      ],
      "id": "p_Bbe-GYEj22",
      "execution_count": 29,
      "outputs": [
        {
          "output_type": "execute_result",
          "data": {
            "text/plain": [
              "['hi', 1, [1, 2]]"
            ]
          },
          "metadata": {},
          "execution_count": 29
        }
      ]
    },
    {
      "cell_type": "code",
      "metadata": {
        "id": "0207740d-fc24-4937-a9ca-f18c2e64aa98"
      },
      "source": [
        "my_list = ['a', 'b','c']"
      ],
      "id": "0207740d-fc24-4937-a9ca-f18c2e64aa98",
      "execution_count": 31,
      "outputs": []
    },
    {
      "cell_type": "code",
      "metadata": {
        "id": "7492f9ac-99a0-44c7-9289-aae79a7a5ab4"
      },
      "source": [
        "#adding element at time end of the list\n",
        "my_list.append('e')"
      ],
      "id": "7492f9ac-99a0-44c7-9289-aae79a7a5ab4",
      "execution_count": 32,
      "outputs": []
    },
    {
      "cell_type": "code",
      "metadata": {
        "id": "511545a3-3e1b-4f89-a4c2-50f5a11d6037",
        "outputId": "1cc68da0-a5d4-4e55-94c4-3ce93d99d16f",
        "colab": {
          "base_uri": "https://localhost:8080/"
        }
      },
      "source": [
        "my_list"
      ],
      "id": "511545a3-3e1b-4f89-a4c2-50f5a11d6037",
      "execution_count": 33,
      "outputs": [
        {
          "output_type": "execute_result",
          "data": {
            "text/plain": [
              "['a', 'b', 'c', 'e']"
            ]
          },
          "metadata": {},
          "execution_count": 33
        }
      ]
    },
    {
      "cell_type": "code",
      "metadata": {
        "id": "395f484f-2453-4060-a9c6-484cfd699365"
      },
      "source": [
        "my_list.insert(3,'d')"
      ],
      "id": "395f484f-2453-4060-a9c6-484cfd699365",
      "execution_count": 34,
      "outputs": []
    },
    {
      "cell_type": "code",
      "metadata": {
        "id": "92eb00c8-432e-46fe-9463-bed79228fd63",
        "outputId": "20d136ad-3203-4699-ea0f-b7412d52fcca",
        "colab": {
          "base_uri": "https://localhost:8080/"
        }
      },
      "source": [
        "my_list"
      ],
      "id": "92eb00c8-432e-46fe-9463-bed79228fd63",
      "execution_count": 35,
      "outputs": [
        {
          "output_type": "execute_result",
          "data": {
            "text/plain": [
              "['a', 'b', 'c', 'd', 'e']"
            ]
          },
          "metadata": {},
          "execution_count": 35
        }
      ]
    },
    {
      "cell_type": "code",
      "metadata": {
        "id": "a61e99c4-476f-4079-95b7-b02e29e13e73"
      },
      "source": [
        "my_list.extend(['f','g'])"
      ],
      "id": "a61e99c4-476f-4079-95b7-b02e29e13e73",
      "execution_count": 37,
      "outputs": []
    },
    {
      "cell_type": "code",
      "metadata": {
        "id": "6b7e050d-71db-45ec-81b6-b4f593b58930",
        "outputId": "e7a0ec5a-f193-470a-946c-621ab88facad",
        "colab": {
          "base_uri": "https://localhost:8080/"
        }
      },
      "source": [
        "my_list"
      ],
      "id": "6b7e050d-71db-45ec-81b6-b4f593b58930",
      "execution_count": 38,
      "outputs": [
        {
          "output_type": "execute_result",
          "data": {
            "text/plain": [
              "['a', 'b', 'c', 'd', 'e', 'f', 'g']"
            ]
          },
          "metadata": {},
          "execution_count": 38
        }
      ]
    },
    {
      "cell_type": "code",
      "metadata": {
        "id": "75083780-5bf8-4a21-a96f-be036bd6ed6e"
      },
      "source": [
        "#my_list + ['f','g']"
      ],
      "id": "75083780-5bf8-4a21-a96f-be036bd6ed6e",
      "execution_count": 39,
      "outputs": []
    },
    {
      "cell_type": "code",
      "metadata": {
        "id": "7c4c384e-170c-453b-ba73-5b9e1112b30f",
        "outputId": "cff4fb56-a592-49a8-d16f-8a5954ce0a63",
        "colab": {
          "base_uri": "https://localhost:8080/",
          "height": 35
        }
      },
      "source": [
        "my_list[0]"
      ],
      "id": "7c4c384e-170c-453b-ba73-5b9e1112b30f",
      "execution_count": 40,
      "outputs": [
        {
          "output_type": "execute_result",
          "data": {
            "application/vnd.google.colaboratory.intrinsic+json": {
              "type": "string"
            },
            "text/plain": [
              "'a'"
            ]
          },
          "metadata": {},
          "execution_count": 40
        }
      ]
    },
    {
      "cell_type": "code",
      "metadata": {
        "id": "1ed20989-df63-4537-9543-f633510d2cdf",
        "outputId": "dcddac7f-64b9-42fe-f12d-71f98c618058",
        "colab": {
          "base_uri": "https://localhost:8080/",
          "height": 35
        }
      },
      "source": [
        "my_list[1]"
      ],
      "id": "1ed20989-df63-4537-9543-f633510d2cdf",
      "execution_count": 41,
      "outputs": [
        {
          "output_type": "execute_result",
          "data": {
            "application/vnd.google.colaboratory.intrinsic+json": {
              "type": "string"
            },
            "text/plain": [
              "'b'"
            ]
          },
          "metadata": {},
          "execution_count": 41
        }
      ]
    },
    {
      "cell_type": "code",
      "metadata": {
        "id": "1fefe175-e76f-45c2-9933-f201f6686c78",
        "outputId": "8a125272-8777-4ff0-b080-e246a3f3881c",
        "colab": {
          "base_uri": "https://localhost:8080/"
        }
      },
      "source": [
        "my_list[2:]"
      ],
      "id": "1fefe175-e76f-45c2-9933-f201f6686c78",
      "execution_count": 42,
      "outputs": [
        {
          "output_type": "execute_result",
          "data": {
            "text/plain": [
              "['c', 'd', 'e', 'f', 'g']"
            ]
          },
          "metadata": {},
          "execution_count": 42
        }
      ]
    },
    {
      "cell_type": "code",
      "metadata": {
        "id": "9b98cc92-f24a-446d-bda5-fb4407e55451",
        "outputId": "b32189af-fc02-4113-d981-92facd60626f",
        "colab": {
          "base_uri": "https://localhost:8080/"
        }
      },
      "source": [
        "my_list[:2]"
      ],
      "id": "9b98cc92-f24a-446d-bda5-fb4407e55451",
      "execution_count": 43,
      "outputs": [
        {
          "output_type": "execute_result",
          "data": {
            "text/plain": [
              "['a', 'b']"
            ]
          },
          "metadata": {},
          "execution_count": 43
        }
      ]
    },
    {
      "cell_type": "code",
      "metadata": {
        "id": "e91f3af0-53df-4f87-a9f7-c6f79c2fa1bb",
        "outputId": "3ccab0a4-b874-4007-9f24-a83d54f89df2",
        "colab": {
          "base_uri": "https://localhost:8080/"
        }
      },
      "source": [
        "my_list[-2:]"
      ],
      "id": "e91f3af0-53df-4f87-a9f7-c6f79c2fa1bb",
      "execution_count": 45,
      "outputs": [
        {
          "output_type": "execute_result",
          "data": {
            "text/plain": [
              "['f', 'g']"
            ]
          },
          "metadata": {},
          "execution_count": 45
        }
      ]
    },
    {
      "cell_type": "code",
      "metadata": {
        "id": "8fbcdbc0-4902-430f-9d44-451643eb9a6d"
      },
      "source": [
        "#update\n",
        "my_list[0] = \"NEW\""
      ],
      "id": "8fbcdbc0-4902-430f-9d44-451643eb9a6d",
      "execution_count": 46,
      "outputs": []
    },
    {
      "cell_type": "code",
      "metadata": {
        "id": "c20fe24b-93dc-454a-9bb7-aa85e77c6d4d",
        "outputId": "18c0a8a5-7a1d-42e7-88a0-acea5a0a1443",
        "colab": {
          "base_uri": "https://localhost:8080/"
        }
      },
      "source": [
        "print(my_list)"
      ],
      "id": "c20fe24b-93dc-454a-9bb7-aa85e77c6d4d",
      "execution_count": 47,
      "outputs": [
        {
          "output_type": "stream",
          "name": "stdout",
          "text": [
            "['NEW', 'b', 'c', 'd', 'e', 'f', 'g']\n"
          ]
        }
      ]
    },
    {
      "cell_type": "code",
      "metadata": {
        "id": "ykr0NbeBHnXI"
      },
      "source": [
        "my_list[1:4] =[11, 22, 33]"
      ],
      "id": "ykr0NbeBHnXI",
      "execution_count": 48,
      "outputs": []
    },
    {
      "cell_type": "code",
      "metadata": {
        "id": "3Y5rc1asHnRG",
        "outputId": "a53f947e-c229-4d6e-92dc-c161626fcf69",
        "colab": {
          "base_uri": "https://localhost:8080/"
        }
      },
      "source": [
        "print(my_list)"
      ],
      "id": "3Y5rc1asHnRG",
      "execution_count": 49,
      "outputs": [
        {
          "output_type": "stream",
          "name": "stdout",
          "text": [
            "['NEW', 11, 22, 33, 'e', 'f', 'g']\n"
          ]
        }
      ]
    },
    {
      "cell_type": "code",
      "metadata": {
        "id": "3SkW-p4dHnIP"
      },
      "source": [
        "nest_list = [1,2,3,[4.2,5.5,['target']]]"
      ],
      "id": "3SkW-p4dHnIP",
      "execution_count": 51,
      "outputs": []
    },
    {
      "cell_type": "code",
      "metadata": {
        "id": "eUlNqKItHnDf",
        "outputId": "56862934-3306-4b66-dfb8-c643e3387683",
        "colab": {
          "base_uri": "https://localhost:8080/"
        }
      },
      "source": [
        "print(nest_list)"
      ],
      "id": "eUlNqKItHnDf",
      "execution_count": 53,
      "outputs": [
        {
          "output_type": "stream",
          "name": "stdout",
          "text": [
            "[1, 2, 3, [4.2, 5.5, ['target']]]\n"
          ]
        }
      ]
    },
    {
      "cell_type": "code",
      "metadata": {
        "id": "i2OI4dOGHm_y",
        "outputId": "59461d83-6a20-4d5d-c88f-1691797e99f1",
        "colab": {
          "base_uri": "https://localhost:8080/"
        }
      },
      "source": [
        "nest_list[2]"
      ],
      "id": "i2OI4dOGHm_y",
      "execution_count": 54,
      "outputs": [
        {
          "output_type": "execute_result",
          "data": {
            "text/plain": [
              "3"
            ]
          },
          "metadata": {},
          "execution_count": 54
        }
      ]
    },
    {
      "cell_type": "code",
      "metadata": {
        "id": "TgW_iVbcHm8a",
        "outputId": "d7ff2bbf-93b4-428f-c6fd-e8afc47c32c2",
        "colab": {
          "base_uri": "https://localhost:8080/"
        }
      },
      "source": [
        "nest_list[3]"
      ],
      "id": "TgW_iVbcHm8a",
      "execution_count": 55,
      "outputs": [
        {
          "output_type": "execute_result",
          "data": {
            "text/plain": [
              "[4.2, 5.5, ['target']]"
            ]
          },
          "metadata": {},
          "execution_count": 55
        }
      ]
    },
    {
      "cell_type": "code",
      "metadata": {
        "id": "inr95noKHm3e",
        "outputId": "5b3a638f-2560-45f4-d78e-bdb005274c93",
        "colab": {
          "base_uri": "https://localhost:8080/"
        }
      },
      "source": [
        "nest_list[3][0]"
      ],
      "id": "inr95noKHm3e",
      "execution_count": 56,
      "outputs": [
        {
          "output_type": "execute_result",
          "data": {
            "text/plain": [
              "4.2"
            ]
          },
          "metadata": {},
          "execution_count": 56
        }
      ]
    },
    {
      "cell_type": "code",
      "metadata": {
        "id": "2ec357e0-2539-41fa-81ac-5378df7575e4",
        "outputId": "37821a9b-45d1-480c-85f2-2468cd359ba9",
        "colab": {
          "base_uri": "https://localhost:8080/"
        }
      },
      "source": [
        "nest_list[3][2]"
      ],
      "id": "2ec357e0-2539-41fa-81ac-5378df7575e4",
      "execution_count": 58,
      "outputs": [
        {
          "output_type": "execute_result",
          "data": {
            "text/plain": [
              "['target']"
            ]
          },
          "metadata": {},
          "execution_count": 58
        }
      ]
    },
    {
      "cell_type": "code",
      "metadata": {
        "id": "DPdKwQBUJBRF",
        "outputId": "56d96479-9e1d-482e-e6ff-4aeb82a10109",
        "colab": {
          "base_uri": "https://localhost:8080/",
          "height": 35
        }
      },
      "source": [
        "nest_list[3][2][0]"
      ],
      "id": "DPdKwQBUJBRF",
      "execution_count": 59,
      "outputs": [
        {
          "output_type": "execute_result",
          "data": {
            "application/vnd.google.colaboratory.intrinsic+json": {
              "type": "string"
            },
            "text/plain": [
              "'target'"
            ]
          },
          "metadata": {},
          "execution_count": 59
        }
      ]
    },
    {
      "cell_type": "code",
      "metadata": {
        "id": "T3IS4Rx6JBNv"
      },
      "source": [
        "lst = my_list[:]"
      ],
      "id": "T3IS4Rx6JBNv",
      "execution_count": 61,
      "outputs": []
    },
    {
      "cell_type": "code",
      "metadata": {
        "id": "n5BHh3nwJBLB",
        "outputId": "284d2e50-2a6f-4ff9-b149-c36d60bb47fe",
        "colab": {
          "base_uri": "https://localhost:8080/"
        }
      },
      "source": [
        "print(lst)"
      ],
      "id": "n5BHh3nwJBLB",
      "execution_count": 62,
      "outputs": [
        {
          "output_type": "stream",
          "name": "stdout",
          "text": [
            "['NEW', 11, 22, 33, 'e', 'f', 'g']\n"
          ]
        }
      ]
    },
    {
      "cell_type": "code",
      "metadata": {
        "id": "qR05Oj4_JBIL",
        "outputId": "e1d5ad78-66d6-4687-f6b6-388a278d0062",
        "colab": {
          "base_uri": "https://localhost:8080/",
          "height": 35
        }
      },
      "source": [
        "lst.pop()"
      ],
      "id": "qR05Oj4_JBIL",
      "execution_count": 63,
      "outputs": [
        {
          "output_type": "execute_result",
          "data": {
            "application/vnd.google.colaboratory.intrinsic+json": {
              "type": "string"
            },
            "text/plain": [
              "'g'"
            ]
          },
          "metadata": {},
          "execution_count": 63
        }
      ]
    },
    {
      "cell_type": "code",
      "metadata": {
        "id": "VEJETYi5JBEq"
      },
      "source": [
        "lst.remove('e')"
      ],
      "id": "VEJETYi5JBEq",
      "execution_count": 64,
      "outputs": []
    },
    {
      "cell_type": "code",
      "metadata": {
        "id": "Gjl0vftWJBBX",
        "outputId": "e3817a45-6015-4cb5-a28b-74ab7661ff62",
        "colab": {
          "base_uri": "https://localhost:8080/"
        }
      },
      "source": [
        "print(lst)"
      ],
      "id": "Gjl0vftWJBBX",
      "execution_count": 65,
      "outputs": [
        {
          "output_type": "stream",
          "name": "stdout",
          "text": [
            "['NEW', 11, 22, 33, 'f']\n"
          ]
        }
      ]
    },
    {
      "cell_type": "code",
      "metadata": {
        "id": "K3s0QQ36JA-a",
        "outputId": "931bb049-b781-4cff-8f2a-b492b8d19e4d",
        "colab": {
          "base_uri": "https://localhost:8080/",
          "height": 35
        }
      },
      "source": [
        "lst.pop(0)"
      ],
      "id": "K3s0QQ36JA-a",
      "execution_count": 66,
      "outputs": [
        {
          "output_type": "execute_result",
          "data": {
            "application/vnd.google.colaboratory.intrinsic+json": {
              "type": "string"
            },
            "text/plain": [
              "'NEW'"
            ]
          },
          "metadata": {},
          "execution_count": 66
        }
      ]
    },
    {
      "cell_type": "code",
      "metadata": {
        "id": "h48JDMVDJA7F",
        "outputId": "96ac03db-82ba-47ad-ddcc-d6c8baf52d3b",
        "colab": {
          "base_uri": "https://localhost:8080/"
        }
      },
      "source": [
        "print(lst)"
      ],
      "id": "h48JDMVDJA7F",
      "execution_count": 67,
      "outputs": [
        {
          "output_type": "stream",
          "name": "stdout",
          "text": [
            "[11, 22, 33, 'f']\n"
          ]
        }
      ]
    },
    {
      "cell_type": "code",
      "metadata": {
        "id": "Jkpkln_WJA3E"
      },
      "source": [
        "#remove all elements\n",
        "lst.clear()"
      ],
      "id": "Jkpkln_WJA3E",
      "execution_count": 68,
      "outputs": []
    },
    {
      "cell_type": "code",
      "metadata": {
        "id": "2Cg_EZmHJAu5",
        "outputId": "ca0420b8-09ec-4da1-ceaa-3aedba074bb1",
        "colab": {
          "base_uri": "https://localhost:8080/"
        }
      },
      "source": [
        "print(lst)"
      ],
      "id": "2Cg_EZmHJAu5",
      "execution_count": 69,
      "outputs": [
        {
          "output_type": "stream",
          "name": "stdout",
          "text": [
            "[]\n"
          ]
        }
      ]
    },
    {
      "cell_type": "code",
      "metadata": {
        "id": "fuy6CWkoJAq6",
        "outputId": "e6a20e55-2e35-4963-cf19-1bb702bafd69",
        "colab": {
          "base_uri": "https://localhost:8080/"
        }
      },
      "source": [
        "'g' in [1,2,3,4]"
      ],
      "id": "fuy6CWkoJAq6",
      "execution_count": 70,
      "outputs": [
        {
          "output_type": "execute_result",
          "data": {
            "text/plain": [
              "False"
            ]
          },
          "metadata": {},
          "execution_count": 70
        }
      ]
    },
    {
      "cell_type": "code",
      "metadata": {
        "id": "BvkgRiFWJAmz",
        "outputId": "0030f819-976d-41b8-9825-d6c1834cb836",
        "colab": {
          "base_uri": "https://localhost:8080/"
        }
      },
      "source": [
        "'x' in ['x','y','z']"
      ],
      "id": "BvkgRiFWJAmz",
      "execution_count": 72,
      "outputs": [
        {
          "output_type": "execute_result",
          "data": {
            "text/plain": [
              "True"
            ]
          },
          "metadata": {},
          "execution_count": 72
        }
      ]
    },
    {
      "cell_type": "code",
      "metadata": {
        "id": "vGIGQldULC27"
      },
      "source": [
        "#how to copy a list\n",
        "lst1 = [\"apple,\"\"banana\",\"cherry\"]\n",
        "lst2 = lst1"
      ],
      "id": "vGIGQldULC27",
      "execution_count": 74,
      "outputs": []
    },
    {
      "cell_type": "code",
      "metadata": {
        "id": "JlNYyC3lLCzj",
        "outputId": "ed16b5fe-0182-47dd-8271-47e0824aff3d",
        "colab": {
          "base_uri": "https://localhost:8080/"
        }
      },
      "source": [
        "print(id(lst1))\n",
        "print(id(lst2))"
      ],
      "id": "JlNYyC3lLCzj",
      "execution_count": 76,
      "outputs": [
        {
          "output_type": "stream",
          "name": "stdout",
          "text": [
            "140049626497504\n",
            "140049626497504\n"
          ]
        }
      ]
    },
    {
      "cell_type": "code",
      "metadata": {
        "id": "duNZeXTsLCws"
      },
      "source": [
        "# make a copy using copy() method:\n",
        "lst1= [\"apple\",\"banana\", \"cherry\"]\n",
        "lst2=lst1.copy()"
      ],
      "id": "duNZeXTsLCws",
      "execution_count": 78,
      "outputs": []
    },
    {
      "cell_type": "code",
      "metadata": {
        "id": "d7fwpn2PLCso",
        "outputId": "a0e8fc23-8644-4998-9b48-a24aa357c79a",
        "colab": {
          "base_uri": "https://localhost:8080/"
        }
      },
      "source": [
        "print(lst2)"
      ],
      "id": "d7fwpn2PLCso",
      "execution_count": 80,
      "outputs": [
        {
          "output_type": "stream",
          "name": "stdout",
          "text": [
            "['apple', 'banana', 'cherry']\n"
          ]
        }
      ]
    },
    {
      "cell_type": "code",
      "metadata": {
        "id": "ODrmtJxPLCou",
        "outputId": "d44b1bb7-a5d2-4ed5-d1e3-8c7b181a0d5f",
        "colab": {
          "base_uri": "https://localhost:8080/"
        }
      },
      "source": [
        "print(id(lst1))\n",
        "print(id(lst2))"
      ],
      "id": "ODrmtJxPLCou",
      "execution_count": 81,
      "outputs": [
        {
          "output_type": "stream",
          "name": "stdout",
          "text": [
            "140049626676992\n",
            "140049626512112\n"
          ]
        }
      ]
    },
    {
      "cell_type": "code",
      "metadata": {
        "id": "oAaCfnVVLCk1"
      },
      "source": [
        "#sort\n",
        "a = [120, 52, 78, 98, 12, 13]"
      ],
      "id": "oAaCfnVVLCk1",
      "execution_count": 82,
      "outputs": []
    },
    {
      "cell_type": "code",
      "metadata": {
        "id": "PCJQD30ELCgf",
        "outputId": "2d90aba5-3fac-4746-8395-ef55316b564b",
        "colab": {
          "base_uri": "https://localhost:8080/"
        }
      },
      "source": [
        "print(a)"
      ],
      "id": "PCJQD30ELCgf",
      "execution_count": 83,
      "outputs": [
        {
          "output_type": "stream",
          "name": "stdout",
          "text": [
            "[120, 52, 78, 98, 12, 13]\n"
          ]
        }
      ]
    },
    {
      "cell_type": "code",
      "metadata": {
        "id": "9357fff5-5beb-4722-878a-fa348954682a",
        "outputId": "1e616b1b-4417-4b26-d884-89c7db383bd9",
        "colab": {
          "base_uri": "https://localhost:8080/"
        }
      },
      "source": [
        "a.sort()\n",
        "print(a)"
      ],
      "id": "9357fff5-5beb-4722-878a-fa348954682a",
      "execution_count": 84,
      "outputs": [
        {
          "output_type": "stream",
          "name": "stdout",
          "text": [
            "[12, 13, 52, 78, 98, 120]\n"
          ]
        }
      ]
    },
    {
      "cell_type": "code",
      "metadata": {
        "id": "w6pOewHXNgG4",
        "outputId": "985374bd-9dbc-4e04-8892-ef74a580db77",
        "colab": {
          "base_uri": "https://localhost:8080/"
        }
      },
      "source": [
        "# join 2 list=\n",
        "list1 = ['a','b','c']\n",
        "list2 = [1,2,3]\n",
        "list3 = list1, list2\n",
        "print(list3)"
      ],
      "id": "w6pOewHXNgG4",
      "execution_count": 85,
      "outputs": [
        {
          "output_type": "stream",
          "name": "stdout",
          "text": [
            "(['a', 'b', 'c'], [1, 2, 3])\n"
          ]
        }
      ]
    },
    {
      "cell_type": "markdown",
      "metadata": {
        "id": "-70KBYZoQm91"
      },
      "source": [
        "## Booleans"
      ],
      "id": "-70KBYZoQm91"
    },
    {
      "cell_type": "code",
      "metadata": {
        "id": "Q49BBkVPNgDa",
        "outputId": "6fea4120-c8ab-4028-8a02-831b2342e0e5",
        "colab": {
          "base_uri": "https://localhost:8080/"
        }
      },
      "source": [
        "True"
      ],
      "id": "Q49BBkVPNgDa",
      "execution_count": 86,
      "outputs": [
        {
          "output_type": "execute_result",
          "data": {
            "text/plain": [
              "True"
            ]
          },
          "metadata": {},
          "execution_count": 86
        }
      ]
    },
    {
      "cell_type": "code",
      "metadata": {
        "id": "CHnSW3fJNf9Y",
        "outputId": "253cb50e-bc77-407e-dc9f-e00c9d5cc417",
        "colab": {
          "base_uri": "https://localhost:8080/"
        }
      },
      "source": [
        "False"
      ],
      "id": "CHnSW3fJNf9Y",
      "execution_count": 87,
      "outputs": [
        {
          "output_type": "execute_result",
          "data": {
            "text/plain": [
              "False"
            ]
          },
          "metadata": {},
          "execution_count": 87
        }
      ]
    },
    {
      "cell_type": "markdown",
      "metadata": {
        "id": "TQ8LOpaAQz_K"
      },
      "source": [
        "##Tuples"
      ],
      "id": "TQ8LOpaAQz_K"
    },
    {
      "cell_type": "code",
      "metadata": {
        "id": "reM5jhETNf5i"
      },
      "source": [
        "t = (1,2,3,4)"
      ],
      "id": "reM5jhETNf5i",
      "execution_count": 88,
      "outputs": []
    },
    {
      "cell_type": "code",
      "metadata": {
        "id": "OFS2yJatNf2X",
        "outputId": "44007d19-17e4-4b80-a33c-50b41a905617",
        "colab": {
          "base_uri": "https://localhost:8080/"
        }
      },
      "source": [
        "t[2:]"
      ],
      "id": "OFS2yJatNf2X",
      "execution_count": 89,
      "outputs": [
        {
          "output_type": "execute_result",
          "data": {
            "text/plain": [
              "(3, 4)"
            ]
          },
          "metadata": {},
          "execution_count": 89
        }
      ]
    },
    {
      "cell_type": "code",
      "metadata": {
        "id": "LJFLXEk6NfyZ",
        "outputId": "fd6f58c6-c3ff-453a-9d06-577c5fe57a64",
        "colab": {
          "base_uri": "https://localhost:8080/",
          "height": 172
        }
      },
      "source": [
        "t[0] ='NEW'"
      ],
      "id": "LJFLXEk6NfyZ",
      "execution_count": 90,
      "outputs": [
        {
          "output_type": "error",
          "ename": "TypeError",
          "evalue": "ignored",
          "traceback": [
            "\u001b[0;31m---------------------------------------------------------------------------\u001b[0m",
            "\u001b[0;31mTypeError\u001b[0m                                 Traceback (most recent call last)",
            "\u001b[0;32m<ipython-input-90-f1a12fb11e51>\u001b[0m in \u001b[0;36m<module>\u001b[0;34m()\u001b[0m\n\u001b[0;32m----> 1\u001b[0;31m \u001b[0mt\u001b[0m\u001b[0;34m[\u001b[0m\u001b[0;36m0\u001b[0m\u001b[0;34m]\u001b[0m \u001b[0;34m=\u001b[0m\u001b[0;34m'NEW'\u001b[0m\u001b[0;34m\u001b[0m\u001b[0;34m\u001b[0m\u001b[0m\n\u001b[0m",
            "\u001b[0;31mTypeError\u001b[0m: 'tuple' object does not support item assignment"
          ]
        }
      ]
    },
    {
      "cell_type": "code",
      "metadata": {
        "id": "JsXu2GE6Nfvk",
        "outputId": "95520859-a075-41cb-a598-c3e332804946",
        "colab": {
          "base_uri": "https://localhost:8080/",
          "height": 136
        }
      },
      "source": [
        "for number in\n",
        "\n"
      ],
      "id": "JsXu2GE6Nfvk",
      "execution_count": 92,
      "outputs": [
        {
          "output_type": "error",
          "ename": "IndentationError",
          "evalue": "ignored",
          "traceback": [
            "\u001b[0;36m  File \u001b[0;32m\"<ipython-input-92-668112aceae5>\"\u001b[0;36m, line \u001b[0;32m2\u001b[0m\n\u001b[0;31m    print (number)\u001b[0m\n\u001b[0m        ^\u001b[0m\n\u001b[0;31mIndentationError\u001b[0m\u001b[0;31m:\u001b[0m expected an indented block\n"
          ]
        }
      ]
    },
    {
      "cell_type": "code",
      "metadata": {
        "id": "PryJe2M8Nfsg"
      },
      "source": [
        "t2 = (1,1,2,2,2,3,4,5)"
      ],
      "id": "PryJe2M8Nfsg",
      "execution_count": 93,
      "outputs": []
    },
    {
      "cell_type": "code",
      "metadata": {
        "id": "n9t-cUyVNfoE",
        "outputId": "5be3a018-6560-4eb1-b9a9-315cf61ea05c",
        "colab": {
          "base_uri": "https://localhost:8080/"
        }
      },
      "source": [
        "t3 = ('INU')\n",
        "print(type(t3))"
      ],
      "id": "n9t-cUyVNfoE",
      "execution_count": 95,
      "outputs": [
        {
          "output_type": "stream",
          "name": "stdout",
          "text": [
            "<class 'str'>\n"
          ]
        }
      ]
    },
    {
      "cell_type": "code",
      "metadata": {
        "id": "Tjcc48AtNfh9",
        "outputId": "a23c2729-102d-461f-c1a4-7aa43becdda7",
        "colab": {
          "base_uri": "https://localhost:8080/"
        }
      },
      "source": [
        "t4 = (\"INU\",)\n",
        "print(type(t4))"
      ],
      "id": "Tjcc48AtNfh9",
      "execution_count": 96,
      "outputs": [
        {
          "output_type": "stream",
          "name": "stdout",
          "text": [
            "<class 'tuple'>\n"
          ]
        }
      ]
    },
    {
      "cell_type": "code",
      "metadata": {
        "id": "41XwaLiiNfZV"
      },
      "source": [
        "#how to modify\n",
        "x = (\"Programming\", 'Language', '101')\n",
        "y = list(x)"
      ],
      "id": "41XwaLiiNfZV",
      "execution_count": 97,
      "outputs": []
    },
    {
      "cell_type": "code",
      "metadata": {
        "id": "YQDtu73LNfVt"
      },
      "source": [
        "y[2] = \"Industrial Engineering\"\n",
        "x = tuple(y)"
      ],
      "id": "YQDtu73LNfVt",
      "execution_count": 98,
      "outputs": []
    },
    {
      "cell_type": "code",
      "metadata": {
        "id": "67f7kRd5NfRr",
        "outputId": "b968f1cc-62e2-4d40-b65c-6e9f1991e0e8",
        "colab": {
          "base_uri": "https://localhost:8080/"
        }
      },
      "source": [
        "print(x)"
      ],
      "id": "67f7kRd5NfRr",
      "execution_count": 99,
      "outputs": [
        {
          "output_type": "stream",
          "name": "stdout",
          "text": [
            "('Programming', 'Language', 'Industrial Engineering')\n"
          ]
        }
      ]
    },
    {
      "cell_type": "code",
      "metadata": {
        "id": "EVuM6DGhNfOI"
      },
      "source": [
        "y.append(\" - 101\")\n",
        "x = tuple(y)"
      ],
      "id": "EVuM6DGhNfOI",
      "execution_count": 100,
      "outputs": []
    },
    {
      "cell_type": "code",
      "metadata": {
        "id": "1UeERX3ANfLN",
        "outputId": "aecace6c-2bed-44fa-de0b-a54399279cb6",
        "colab": {
          "base_uri": "https://localhost:8080/"
        }
      },
      "source": [
        "print(x)"
      ],
      "id": "1UeERX3ANfLN",
      "execution_count": 101,
      "outputs": [
        {
          "output_type": "stream",
          "name": "stdout",
          "text": [
            "('Programming', 'Language', 'Industrial Engineering', ' - 101')\n"
          ]
        }
      ]
    },
    {
      "cell_type": "code",
      "metadata": {
        "id": "itVzAHJtT_G-",
        "outputId": "b6dda848-a377-46db-9bd2-81a99ee4226e",
        "colab": {
          "base_uri": "https://localhost:8080/"
        }
      },
      "source": [
        "#join\n",
        "tuple1 = ('a', 'b','c')\n",
        "tuple2 = (1,2,3)\n",
        "tuple3 = tuple1, tuple2\n",
        "print(tuple3)"
      ],
      "id": "itVzAHJtT_G-",
      "execution_count": 102,
      "outputs": [
        {
          "output_type": "stream",
          "name": "stdout",
          "text": [
            "(('a', 'b', 'c'), (1, 2, 3))\n"
          ]
        }
      ]
    },
    {
      "cell_type": "code",
      "metadata": {
        "id": "Lc9LTAhyT_CN",
        "outputId": "d86aeb98-6cb4-40a8-9d30-d0ae89513ce2",
        "colab": {
          "base_uri": "https://localhost:8080/"
        }
      },
      "source": [
        "#unpacking\n",
        "\n",
        "num = (1,2,3)\n",
        "print(num)\n",
        "(one, two, three) = num\n",
        "print(one)\n",
        "print(two)\n",
        "print(three)"
      ],
      "id": "Lc9LTAhyT_CN",
      "execution_count": 104,
      "outputs": [
        {
          "output_type": "stream",
          "name": "stdout",
          "text": [
            "(1, 2, 3)\n",
            "1\n",
            "2\n",
            "3\n"
          ]
        }
      ]
    },
    {
      "cell_type": "markdown",
      "metadata": {
        "id": "m3JzhK2aVIFv"
      },
      "source": [
        "### Set"
      ],
      "id": "m3JzhK2aVIFv"
    },
    {
      "cell_type": "code",
      "metadata": {
        "id": "JN2rKpjuT--Q"
      },
      "source": [
        "s = {1,2,3}"
      ],
      "id": "JN2rKpjuT--Q",
      "execution_count": 105,
      "outputs": []
    },
    {
      "cell_type": "code",
      "metadata": {
        "id": "QwtQc39OT-7K",
        "outputId": "5bff2e14-ed90-4b4b-f59c-09a0d61dd861",
        "colab": {
          "base_uri": "https://localhost:8080/"
        }
      },
      "source": [
        "print(len(s))"
      ],
      "id": "QwtQc39OT-7K",
      "execution_count": 106,
      "outputs": [
        {
          "output_type": "stream",
          "name": "stdout",
          "text": [
            "3\n"
          ]
        }
      ]
    },
    {
      "cell_type": "code",
      "metadata": {
        "id": "QPyVGY0HT-3y",
        "outputId": "8c15fbc5-08e5-48b8-fc16-4764d3fd9443",
        "colab": {
          "base_uri": "https://localhost:8080/"
        }
      },
      "source": [
        "print(type(s))"
      ],
      "id": "QPyVGY0HT-3y",
      "execution_count": 107,
      "outputs": [
        {
          "output_type": "stream",
          "name": "stdout",
          "text": [
            "<class 'set'>\n"
          ]
        }
      ]
    },
    {
      "cell_type": "code",
      "metadata": {
        "id": "DpQkXyxBT-0C",
        "outputId": "da49d45f-b4e6-404b-842d-7275380db063",
        "colab": {
          "base_uri": "https://localhost:8080/"
        }
      },
      "source": [
        "s2 = {1,1,1,1,1,1,1,1,2,2,2,2,2,2,2,3,3,3,3,3,3,3,3,}\n",
        "s2"
      ],
      "id": "DpQkXyxBT-0C",
      "execution_count": 109,
      "outputs": [
        {
          "output_type": "execute_result",
          "data": {
            "text/plain": [
              "{1, 2, 3}"
            ]
          },
          "metadata": {},
          "execution_count": 109
        }
      ]
    },
    {
      "cell_type": "code",
      "metadata": {
        "id": "Ah_KCUAsT-vn",
        "outputId": "1e993bba-bf3b-4009-efdb-0bd6674f087f",
        "colab": {
          "base_uri": "https://localhost:8080/"
        }
      },
      "source": [
        "s2.add(99)\n",
        "s2"
      ],
      "id": "Ah_KCUAsT-vn",
      "execution_count": 110,
      "outputs": [
        {
          "output_type": "execute_result",
          "data": {
            "text/plain": [
              "{1, 2, 3, 99}"
            ]
          },
          "metadata": {},
          "execution_count": 110
        }
      ]
    },
    {
      "cell_type": "code",
      "metadata": {
        "id": "KVv5dMp0T-lE"
      },
      "source": [
        "s2.remove(3)"
      ],
      "id": "KVv5dMp0T-lE",
      "execution_count": 111,
      "outputs": []
    },
    {
      "cell_type": "code",
      "metadata": {
        "id": "SZDjxU64T-fk",
        "outputId": "8861e912-1a9e-4758-893b-532a199ead92",
        "colab": {
          "base_uri": "https://localhost:8080/"
        }
      },
      "source": [
        "s2"
      ],
      "id": "SZDjxU64T-fk",
      "execution_count": 112,
      "outputs": [
        {
          "output_type": "execute_result",
          "data": {
            "text/plain": [
              "{1, 2, 99}"
            ]
          },
          "metadata": {},
          "execution_count": 112
        }
      ]
    },
    {
      "cell_type": "code",
      "metadata": {
        "id": "wpdXkp8iT-bo"
      },
      "source": [
        "set1 = {\"abc\", 30, True, 12, \"INU\"}"
      ],
      "id": "wpdXkp8iT-bo",
      "execution_count": 113,
      "outputs": []
    },
    {
      "cell_type": "code",
      "metadata": {
        "id": "zZWYCQa-T-Wd",
        "outputId": "45a65068-bf0d-4422-ad1a-6f9f843d3fd0",
        "colab": {
          "base_uri": "https://localhost:8080/"
        }
      },
      "source": [
        "for i in set1:\n",
        "  print(i)"
      ],
      "id": "zZWYCQa-T-Wd",
      "execution_count": 114,
      "outputs": [
        {
          "output_type": "stream",
          "name": "stdout",
          "text": [
            "True\n",
            "INU\n",
            "12\n",
            "30\n",
            "abc\n"
          ]
        }
      ]
    },
    {
      "cell_type": "code",
      "metadata": {
        "id": "3lDPq1aPWivL",
        "outputId": "7501239b-1a53-44ff-af80-edea2bf5c0b9",
        "colab": {
          "base_uri": "https://localhost:8080/"
        }
      },
      "source": [
        "s3 = {1,2,3,4,5}\n",
        "s4 = {5,6,7,8,9}\n",
        "\n",
        "s3.update(s4)\n",
        "\n",
        "print(s3)"
      ],
      "id": "3lDPq1aPWivL",
      "execution_count": 115,
      "outputs": [
        {
          "output_type": "stream",
          "name": "stdout",
          "text": [
            "{1, 2, 3, 4, 5, 6, 7, 8, 9}\n"
          ]
        }
      ]
    },
    {
      "cell_type": "markdown",
      "metadata": {
        "id": "1bAsiIQBXGRW"
      },
      "source": [
        "##Dictionary"
      ],
      "id": "1bAsiIQBXGRW"
    },
    {
      "cell_type": "code",
      "metadata": {
        "id": "v6CfNgWGXF_Q"
      },
      "source": [
        ""
      ],
      "id": "v6CfNgWGXF_Q",
      "execution_count": null,
      "outputs": []
    },
    {
      "cell_type": "code",
      "metadata": {
        "id": "Znzgb5u2WiiS"
      },
      "source": [
        ""
      ],
      "id": "Znzgb5u2WiiS",
      "execution_count": null,
      "outputs": []
    },
    {
      "cell_type": "code",
      "metadata": {
        "id": "YsodiC5zWibG"
      },
      "source": [
        ""
      ],
      "id": "YsodiC5zWibG",
      "execution_count": null,
      "outputs": []
    },
    {
      "cell_type": "code",
      "metadata": {
        "id": "nqh_xsBwWiV5"
      },
      "source": [
        ""
      ],
      "id": "nqh_xsBwWiV5",
      "execution_count": null,
      "outputs": []
    },
    {
      "cell_type": "code",
      "metadata": {
        "id": "3C6uB1JtWiRJ"
      },
      "source": [
        ""
      ],
      "id": "3C6uB1JtWiRJ",
      "execution_count": null,
      "outputs": []
    },
    {
      "cell_type": "code",
      "metadata": {
        "id": "dUs6F4CmWiLR"
      },
      "source": [
        ""
      ],
      "id": "dUs6F4CmWiLR",
      "execution_count": null,
      "outputs": []
    },
    {
      "cell_type": "code",
      "metadata": {
        "id": "k0VgRJ_MWiCp"
      },
      "source": [
        ""
      ],
      "id": "k0VgRJ_MWiCp",
      "execution_count": null,
      "outputs": []
    },
    {
      "cell_type": "code",
      "metadata": {
        "id": "N09EVvRQWh81"
      },
      "source": [
        ""
      ],
      "id": "N09EVvRQWh81",
      "execution_count": null,
      "outputs": []
    },
    {
      "cell_type": "code",
      "metadata": {
        "id": "_p2ziLnkWh3n"
      },
      "source": [
        ""
      ],
      "id": "_p2ziLnkWh3n",
      "execution_count": null,
      "outputs": []
    },
    {
      "cell_type": "code",
      "metadata": {
        "id": "g_tFlVpoWhzQ"
      },
      "source": [
        ""
      ],
      "id": "g_tFlVpoWhzQ",
      "execution_count": null,
      "outputs": []
    },
    {
      "cell_type": "code",
      "metadata": {
        "id": "JEPo7qziNfF-"
      },
      "source": [
        ""
      ],
      "id": "JEPo7qziNfF-",
      "execution_count": 104,
      "outputs": []
    }
  ]
}