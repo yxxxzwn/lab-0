{
  "nbformat": 4,
  "nbformat_minor": 5,
  "metadata": {
    "kernelspec": {
      "display_name": "Python 3",
      "language": "python",
      "name": "python3"
    },
    "language_info": {
      "codemirror_mode": {
        "name": "ipython",
        "version": 3
      },
      "file_extension": ".py",
      "mimetype": "text/x-python",
      "name": "python",
      "nbconvert_exporter": "python",
      "pygments_lexer": "ipython3",
      "version": "3.7.11"
    },
    "colab": {
      "name": "Student notebook.ipynb",
      "provenance": []
    }
  },
  "cells": [
    {
      "cell_type": "markdown",
      "metadata": {
        "id": "a0fb4d32-1c6a-41f6-bcd5-5e32aea70fdf"
      },
      "source": [
        "# Student Notebook\n",
        "#### This notebook is for you to take notes and save directly to your Google drive and GITHUB.\n",
        "\n",
        "Please upload your changes so you can review it later."
      ],
      "id": "a0fb4d32-1c6a-41f6-bcd5-5e32aea70fdf"
    },
    {
      "cell_type": "markdown",
      "metadata": {
        "id": "9a8d1388-7e11-4262-8e94-581493c554f4"
      },
      "source": [
        "# Introduction to Python Basics I"
      ],
      "id": "9a8d1388-7e11-4262-8e94-581493c554f4"
    },
    {
      "cell_type": "code",
      "metadata": {
        "id": "61d77fcf-3df2-4fee-8da0-d8c0c39f1992",
        "outputId": "432bdbed-ad0c-4aee-cfa1-039d21f51d53",
        "colab": {
          "base_uri": "https://localhost:8080/"
        }
      },
      "source": [
        "1 + 1"
      ],
      "id": "61d77fcf-3df2-4fee-8da0-d8c0c39f1992",
      "execution_count": 1,
      "outputs": [
        {
          "output_type": "execute_result",
          "data": {
            "text/plain": [
              "2"
            ]
          },
          "metadata": {},
          "execution_count": 1
        }
      ]
    },
    {
      "cell_type": "code",
      "metadata": {
        "id": "981ce62a-e33e-4a11-a369-b1f63f783208",
        "outputId": "e900919a-5bf9-4c54-a10f-6c1bfe975b97",
        "colab": {
          "base_uri": "https://localhost:8080/"
        }
      },
      "source": [
        "1 * 3"
      ],
      "id": "981ce62a-e33e-4a11-a369-b1f63f783208",
      "execution_count": 2,
      "outputs": [
        {
          "output_type": "execute_result",
          "data": {
            "text/plain": [
              "3"
            ]
          },
          "metadata": {},
          "execution_count": 2
        }
      ]
    },
    {
      "cell_type": "code",
      "metadata": {
        "id": "8a4eefe9-ec12-4e51-9227-0a769594ccdd",
        "outputId": "f2144031-c1ee-4811-f221-260f505ad1d7",
        "colab": {
          "base_uri": "https://localhost:8080/"
        }
      },
      "source": [
        "1 / 2"
      ],
      "id": "8a4eefe9-ec12-4e51-9227-0a769594ccdd",
      "execution_count": 3,
      "outputs": [
        {
          "output_type": "execute_result",
          "data": {
            "text/plain": [
              "0.5"
            ]
          },
          "metadata": {},
          "execution_count": 3
        }
      ]
    },
    {
      "cell_type": "code",
      "metadata": {
        "id": "b1cbe5c6-102a-4c6a-b09a-b53a9c47b820",
        "outputId": "b591b248-5075-4bbf-f996-f7a040bdf537",
        "colab": {
          "base_uri": "https://localhost:8080/"
        }
      },
      "source": [
        "2 ** 4"
      ],
      "id": "b1cbe5c6-102a-4c6a-b09a-b53a9c47b820",
      "execution_count": 4,
      "outputs": [
        {
          "output_type": "execute_result",
          "data": {
            "text/plain": [
              "16"
            ]
          },
          "metadata": {},
          "execution_count": 4
        }
      ]
    },
    {
      "cell_type": "code",
      "metadata": {
        "id": "3832eb93-094f-4de4-9726-f633e246cac5",
        "outputId": "76e41021-6580-4978-97fb-47233337dcfa",
        "colab": {
          "base_uri": "https://localhost:8080/"
        }
      },
      "source": [
        "4 % 2"
      ],
      "id": "3832eb93-094f-4de4-9726-f633e246cac5",
      "execution_count": 5,
      "outputs": [
        {
          "output_type": "execute_result",
          "data": {
            "text/plain": [
              "0"
            ]
          },
          "metadata": {},
          "execution_count": 5
        }
      ]
    },
    {
      "cell_type": "code",
      "metadata": {
        "id": "520a6910-fec0-4c19-929d-23bbe0290946",
        "outputId": "b2e3c213-cf9b-4b7f-ad1f-63361efaded5",
        "colab": {
          "base_uri": "https://localhost:8080/"
        }
      },
      "source": [
        "4 % 3"
      ],
      "id": "520a6910-fec0-4c19-929d-23bbe0290946",
      "execution_count": 6,
      "outputs": [
        {
          "output_type": "execute_result",
          "data": {
            "text/plain": [
              "1"
            ]
          },
          "metadata": {},
          "execution_count": 6
        }
      ]
    },
    {
      "cell_type": "code",
      "metadata": {
        "id": "bfd44c86-5e36-4f71-88ef-496589098171",
        "outputId": "0984f535-42bb-4b55-bcce-9a0e744b12c9",
        "colab": {
          "base_uri": "https://localhost:8080/"
        }
      },
      "source": [
        "(2 + 3) * (5 + 5)"
      ],
      "id": "bfd44c86-5e36-4f71-88ef-496589098171",
      "execution_count": 7,
      "outputs": [
        {
          "output_type": "execute_result",
          "data": {
            "text/plain": [
              "50"
            ]
          },
          "metadata": {},
          "execution_count": 7
        }
      ]
    },
    {
      "cell_type": "code",
      "metadata": {
        "id": "f8d4c821-eca0-471d-91d8-ccb710d2166b",
        "outputId": "8307618d-d021-4196-e6bb-8c2e4e4bb56c",
        "colab": {
          "base_uri": "https://localhost:8080/"
        }
      },
      "source": [
        "type( 4 )"
      ],
      "id": "f8d4c821-eca0-471d-91d8-ccb710d2166b",
      "execution_count": 8,
      "outputs": [
        {
          "output_type": "execute_result",
          "data": {
            "text/plain": [
              "int"
            ]
          },
          "metadata": {},
          "execution_count": 8
        }
      ]
    },
    {
      "cell_type": "code",
      "metadata": {
        "id": "89c6149b-6276-48ab-a205-b0aed26c232c",
        "outputId": "24430a2c-0e5d-4e41-c10d-1dc4a9b916a0",
        "colab": {
          "base_uri": "https://localhost:8080/"
        }
      },
      "source": [
        "type(5.63)"
      ],
      "id": "89c6149b-6276-48ab-a205-b0aed26c232c",
      "execution_count": 9,
      "outputs": [
        {
          "output_type": "execute_result",
          "data": {
            "text/plain": [
              "float"
            ]
          },
          "metadata": {},
          "execution_count": 9
        }
      ]
    },
    {
      "cell_type": "code",
      "metadata": {
        "id": "07686502-7571-481a-8b20-bec590084b7b",
        "outputId": "0c2e467c-178d-49db-ef95-ae1f7a191f1e",
        "colab": {
          "base_uri": "https://localhost:8080/"
        }
      },
      "source": [
        "type(float(5))"
      ],
      "id": "07686502-7571-481a-8b20-bec590084b7b",
      "execution_count": 10,
      "outputs": [
        {
          "output_type": "execute_result",
          "data": {
            "text/plain": [
              "float"
            ]
          },
          "metadata": {},
          "execution_count": 10
        }
      ]
    },
    {
      "cell_type": "markdown",
      "metadata": {
        "id": "ar56zKlPPgtM"
      },
      "source": [
        "###variable assignment"
      ],
      "id": "ar56zKlPPgtM"
    },
    {
      "cell_type": "code",
      "metadata": {
        "id": "7b5cd6d5-5466-49ba-b198-7c8983a237cc"
      },
      "source": [
        "#cannot start with number or special characters\n",
        "name_of_var = 2"
      ],
      "id": "7b5cd6d5-5466-49ba-b198-7c8983a237cc",
      "execution_count": 15,
      "outputs": []
    },
    {
      "cell_type": "code",
      "metadata": {
        "id": "26a6af88-80a4-4bd2-be9b-8d00c3d4a416",
        "outputId": "53624834-75e1-4421-f43c-82f7a150cc7c",
        "colab": {
          "base_uri": "https://localhost:8080/",
          "height": 169
        }
      },
      "source": [
        "name_of_var_hello"
      ],
      "id": "26a6af88-80a4-4bd2-be9b-8d00c3d4a416",
      "execution_count": 22,
      "outputs": [
        {
          "output_type": "error",
          "ename": "NameError",
          "evalue": "ignored",
          "traceback": [
            "\u001b[0;31m---------------------------------------------------------------------------\u001b[0m",
            "\u001b[0;31mNameError\u001b[0m                                 Traceback (most recent call last)",
            "\u001b[0;32m<ipython-input-22-74622c2459f3>\u001b[0m in \u001b[0;36m<module>\u001b[0;34m()\u001b[0m\n\u001b[0;32m----> 1\u001b[0;31m \u001b[0mname_of_var_hello\u001b[0m\u001b[0;34m\u001b[0m\u001b[0;34m\u001b[0m\u001b[0m\n\u001b[0m",
            "\u001b[0;31mNameError\u001b[0m: name 'name_of_var_hello' is not defined"
          ]
        }
      ]
    },
    {
      "cell_type": "code",
      "metadata": {
        "id": "0207740d-fc24-4937-a9ca-f18c2e64aa98"
      },
      "source": [
        "x = 2\n",
        "y = 3"
      ],
      "id": "0207740d-fc24-4937-a9ca-f18c2e64aa98",
      "execution_count": 17,
      "outputs": []
    },
    {
      "cell_type": "code",
      "metadata": {
        "id": "7492f9ac-99a0-44c7-9289-aae79a7a5ab4"
      },
      "source": [
        "z = x + y"
      ],
      "id": "7492f9ac-99a0-44c7-9289-aae79a7a5ab4",
      "execution_count": 19,
      "outputs": []
    },
    {
      "cell_type": "code",
      "metadata": {
        "id": "511545a3-3e1b-4f89-a4c2-50f5a11d6037",
        "outputId": "434da0b5-fbfd-4f0b-93d8-1397753af1b8",
        "colab": {
          "base_uri": "https://localhost:8080/"
        }
      },
      "source": [
        "z"
      ],
      "id": "511545a3-3e1b-4f89-a4c2-50f5a11d6037",
      "execution_count": 20,
      "outputs": [
        {
          "output_type": "execute_result",
          "data": {
            "text/plain": [
              "5"
            ]
          },
          "metadata": {},
          "execution_count": 20
        }
      ]
    },
    {
      "cell_type": "code",
      "metadata": {
        "id": "395f484f-2453-4060-a9c6-484cfd699365",
        "outputId": "8ed53014-4665-4661-df13-3ed7934598bc",
        "colab": {
          "base_uri": "https://localhost:8080/"
        }
      },
      "source": [
        "id(x)"
      ],
      "id": "395f484f-2453-4060-a9c6-484cfd699365",
      "execution_count": 23,
      "outputs": [
        {
          "output_type": "execute_result",
          "data": {
            "text/plain": [
              "94434283248160"
            ]
          },
          "metadata": {},
          "execution_count": 23
        }
      ]
    },
    {
      "cell_type": "code",
      "metadata": {
        "id": "92eb00c8-432e-46fe-9463-bed79228fd63",
        "outputId": "433105ee-2303-4891-944b-082b0b158b5f",
        "colab": {
          "base_uri": "https://localhost:8080/"
        }
      },
      "source": [
        "id(y)"
      ],
      "id": "92eb00c8-432e-46fe-9463-bed79228fd63",
      "execution_count": 24,
      "outputs": [
        {
          "output_type": "execute_result",
          "data": {
            "text/plain": [
              "94434283248192"
            ]
          },
          "metadata": {},
          "execution_count": 24
        }
      ]
    },
    {
      "cell_type": "code",
      "metadata": {
        "id": "a61e99c4-476f-4079-95b7-b02e29e13e73"
      },
      "source": [
        "x = y "
      ],
      "id": "a61e99c4-476f-4079-95b7-b02e29e13e73",
      "execution_count": 25,
      "outputs": []
    },
    {
      "cell_type": "code",
      "metadata": {
        "id": "6b7e050d-71db-45ec-81b6-b4f593b58930",
        "outputId": "80895699-90ea-4a54-f36d-e64351ccaa43",
        "colab": {
          "base_uri": "https://localhost:8080/"
        }
      },
      "source": [
        "id(x)"
      ],
      "id": "6b7e050d-71db-45ec-81b6-b4f593b58930",
      "execution_count": 26,
      "outputs": [
        {
          "output_type": "execute_result",
          "data": {
            "text/plain": [
              "94434283248192"
            ]
          },
          "metadata": {},
          "execution_count": 26
        }
      ]
    },
    {
      "cell_type": "code",
      "metadata": {
        "id": "75083780-5bf8-4a21-a96f-be036bd6ed6e"
      },
      "source": [
        "del (y)"
      ],
      "id": "75083780-5bf8-4a21-a96f-be036bd6ed6e",
      "execution_count": 27,
      "outputs": []
    },
    {
      "cell_type": "code",
      "metadata": {
        "id": "7c4c384e-170c-453b-ba73-5b9e1112b30f",
        "outputId": "1f20e27a-251c-4b22-dbff-90c64145d8bd",
        "colab": {
          "base_uri": "https://localhost:8080/",
          "height": 169
        }
      },
      "source": [
        "y"
      ],
      "id": "7c4c384e-170c-453b-ba73-5b9e1112b30f",
      "execution_count": 28,
      "outputs": [
        {
          "output_type": "error",
          "ename": "NameError",
          "evalue": "ignored",
          "traceback": [
            "\u001b[0;31m---------------------------------------------------------------------------\u001b[0m",
            "\u001b[0;31mNameError\u001b[0m                                 Traceback (most recent call last)",
            "\u001b[0;32m<ipython-input-28-9063a9f0e032>\u001b[0m in \u001b[0;36m<module>\u001b[0;34m()\u001b[0m\n\u001b[0;32m----> 1\u001b[0;31m \u001b[0my\u001b[0m\u001b[0;34m\u001b[0m\u001b[0;34m\u001b[0m\u001b[0m\n\u001b[0m",
            "\u001b[0;31mNameError\u001b[0m: name 'y' is not defined"
          ]
        }
      ]
    },
    {
      "cell_type": "markdown",
      "metadata": {
        "id": "iCBDYDXSQvhF"
      },
      "source": [
        "#### Strings "
      ],
      "id": "iCBDYDXSQvhF"
    },
    {
      "cell_type": "code",
      "metadata": {
        "id": "1ed20989-df63-4537-9543-f633510d2cdf",
        "outputId": "fe82ac8a-c054-48b5-b508-d5c30fcbe248",
        "colab": {
          "base_uri": "https://localhost:8080/",
          "height": 35
        }
      },
      "source": [
        "'single quotes'"
      ],
      "id": "1ed20989-df63-4537-9543-f633510d2cdf",
      "execution_count": 30,
      "outputs": [
        {
          "output_type": "execute_result",
          "data": {
            "application/vnd.google.colaboratory.intrinsic+json": {
              "type": "string"
            },
            "text/plain": [
              "'single quotes'"
            ]
          },
          "metadata": {},
          "execution_count": 30
        }
      ]
    },
    {
      "cell_type": "code",
      "metadata": {
        "id": "1fefe175-e76f-45c2-9933-f201f6686c78",
        "outputId": "04794045-a613-4fb1-a84b-1cd9f7e9bded",
        "colab": {
          "base_uri": "https://localhost:8080/",
          "height": 35
        }
      },
      "source": [
        "\"double quotes\""
      ],
      "id": "1fefe175-e76f-45c2-9933-f201f6686c78",
      "execution_count": 31,
      "outputs": [
        {
          "output_type": "execute_result",
          "data": {
            "application/vnd.google.colaboratory.intrinsic+json": {
              "type": "string"
            },
            "text/plain": [
              "'double quotes'"
            ]
          },
          "metadata": {},
          "execution_count": 31
        }
      ]
    },
    {
      "cell_type": "code",
      "metadata": {
        "id": "9b98cc92-f24a-446d-bda5-fb4407e55451",
        "outputId": "dbab8394-e7d0-4d21-d3c7-c0c66e0c8d9e",
        "colab": {
          "base_uri": "https://localhost:8080/",
          "height": 35
        }
      },
      "source": [
        "\" wrap lot's of other quotes \""
      ],
      "id": "9b98cc92-f24a-446d-bda5-fb4407e55451",
      "execution_count": 34,
      "outputs": [
        {
          "output_type": "execute_result",
          "data": {
            "application/vnd.google.colaboratory.intrinsic+json": {
              "type": "string"
            },
            "text/plain": [
              "\" wrap lot's of other quotes \""
            ]
          },
          "metadata": {},
          "execution_count": 34
        }
      ]
    },
    {
      "cell_type": "code",
      "metadata": {
        "id": "e91f3af0-53df-4f87-a9f7-c6f79c2fa1bb"
      },
      "source": [
        "my_string = \"\"\"Hello welcome to the world \n",
        "of Python\"\"\""
      ],
      "id": "e91f3af0-53df-4f87-a9f7-c6f79c2fa1bb",
      "execution_count": 43,
      "outputs": []
    },
    {
      "cell_type": "code",
      "metadata": {
        "id": "8fbcdbc0-4902-430f-9d44-451643eb9a6d",
        "outputId": "898b6ab5-442f-4313-8ce1-9946ac6413a8",
        "colab": {
          "base_uri": "https://localhost:8080/",
          "height": 35
        }
      },
      "source": [
        "my_string"
      ],
      "id": "8fbcdbc0-4902-430f-9d44-451643eb9a6d",
      "execution_count": 44,
      "outputs": [
        {
          "output_type": "execute_result",
          "data": {
            "application/vnd.google.colaboratory.intrinsic+json": {
              "type": "string"
            },
            "text/plain": [
              "'Hello welcome to the world \\nof Python'"
            ]
          },
          "metadata": {},
          "execution_count": 44
        }
      ]
    },
    {
      "cell_type": "code",
      "metadata": {
        "id": "c20fe24b-93dc-454a-9bb7-aa85e77c6d4d"
      },
      "source": [
        "st = 'programming Language 101'"
      ],
      "id": "c20fe24b-93dc-454a-9bb7-aa85e77c6d4d",
      "execution_count": 45,
      "outputs": []
    },
    {
      "cell_type": "code",
      "metadata": {
        "id": "2ec357e0-2539-41fa-81ac-5378df7575e4",
        "outputId": "e33f8f24-3175-4404-993a-33001db94332",
        "colab": {
          "base_uri": "https://localhost:8080/",
          "height": 35
        }
      },
      "source": [
        "st[0]"
      ],
      "id": "2ec357e0-2539-41fa-81ac-5378df7575e4",
      "execution_count": 46,
      "outputs": [
        {
          "output_type": "execute_result",
          "data": {
            "application/vnd.google.colaboratory.intrinsic+json": {
              "type": "string"
            },
            "text/plain": [
              "'p'"
            ]
          },
          "metadata": {},
          "execution_count": 46
        }
      ]
    },
    {
      "cell_type": "code",
      "metadata": {
        "id": "9357fff5-5beb-4722-878a-fa348954682a",
        "outputId": "2ae069da-c436-446d-be71-0419d3066c28",
        "colab": {
          "base_uri": "https://localhost:8080/",
          "height": 35
        }
      },
      "source": [
        "st[-1]"
      ],
      "id": "9357fff5-5beb-4722-878a-fa348954682a",
      "execution_count": 47,
      "outputs": [
        {
          "output_type": "execute_result",
          "data": {
            "application/vnd.google.colaboratory.intrinsic+json": {
              "type": "string"
            },
            "text/plain": [
              "'1'"
            ]
          },
          "metadata": {},
          "execution_count": 47
        }
      ]
    },
    {
      "cell_type": "code",
      "metadata": {
        "id": "5JVboCoSSC2m",
        "outputId": "06201bfb-7e21-4688-bad7-b6343ef886f9",
        "colab": {
          "base_uri": "https://localhost:8080/",
          "height": 35
        }
      },
      "source": [
        "st[-6:]"
      ],
      "id": "5JVboCoSSC2m",
      "execution_count": 49,
      "outputs": [
        {
          "output_type": "execute_result",
          "data": {
            "application/vnd.google.colaboratory.intrinsic+json": {
              "type": "string"
            },
            "text/plain": [
              "'ge 101'"
            ]
          },
          "metadata": {},
          "execution_count": 49
        }
      ]
    },
    {
      "cell_type": "code",
      "metadata": {
        "id": "GqAXeFivSLtT",
        "outputId": "5f470a83-595e-491b-db10-2220b5ac247d",
        "colab": {
          "base_uri": "https://localhost:8080/",
          "height": 35
        }
      },
      "source": [
        "st[10:15]"
      ],
      "id": "GqAXeFivSLtT",
      "execution_count": 50,
      "outputs": [
        {
          "output_type": "execute_result",
          "data": {
            "application/vnd.google.colaboratory.intrinsic+json": {
              "type": "string"
            },
            "text/plain": [
              "'g Lan'"
            ]
          },
          "metadata": {},
          "execution_count": 50
        }
      ]
    },
    {
      "cell_type": "code",
      "metadata": {
        "id": "8IUEAsevSZyk",
        "outputId": "7fd09994-79c1-4fed-aa04-f2a61ceb819d",
        "colab": {
          "base_uri": "https://localhost:8080/"
        }
      },
      "source": [
        "len(st)"
      ],
      "id": "8IUEAsevSZyk",
      "execution_count": 51,
      "outputs": [
        {
          "output_type": "execute_result",
          "data": {
            "text/plain": [
              "24"
            ]
          },
          "metadata": {},
          "execution_count": 51
        }
      ]
    },
    {
      "cell_type": "code",
      "metadata": {
        "id": "WPOZ0LHWSng3",
        "outputId": "a7bbe220-d0c9-4a72-84c0-a0aa7aba5f2f",
        "colab": {
          "base_uri": "https://localhost:8080/",
          "height": 35
        }
      },
      "source": [
        "st.lower()"
      ],
      "id": "WPOZ0LHWSng3",
      "execution_count": 53,
      "outputs": [
        {
          "output_type": "execute_result",
          "data": {
            "application/vnd.google.colaboratory.intrinsic+json": {
              "type": "string"
            },
            "text/plain": [
              "'programming language 101'"
            ]
          },
          "metadata": {},
          "execution_count": 53
        }
      ]
    },
    {
      "cell_type": "code",
      "metadata": {
        "id": "JDa3StOrS3GY",
        "outputId": "92ec49ef-0e9d-47f8-8776-561b3f4430f7",
        "colab": {
          "base_uri": "https://localhost:8080/",
          "height": 35
        }
      },
      "source": [
        "st.upper()"
      ],
      "id": "JDa3StOrS3GY",
      "execution_count": 54,
      "outputs": [
        {
          "output_type": "execute_result",
          "data": {
            "application/vnd.google.colaboratory.intrinsic+json": {
              "type": "string"
            },
            "text/plain": [
              "'PROGRAMMING LANGUAGE 101'"
            ]
          },
          "metadata": {},
          "execution_count": 54
        }
      ]
    },
    {
      "cell_type": "code",
      "metadata": {
        "id": "hViPSqr2S6fe",
        "outputId": "5c8c5d93-7710-4f63-86df-4f62f9be92eb",
        "colab": {
          "base_uri": "https://localhost:8080/"
        }
      },
      "source": [
        "st.split()"
      ],
      "id": "hViPSqr2S6fe",
      "execution_count": 55,
      "outputs": [
        {
          "output_type": "execute_result",
          "data": {
            "text/plain": [
              "['programming', 'Language', '101']"
            ]
          },
          "metadata": {},
          "execution_count": 55
        }
      ]
    },
    {
      "cell_type": "code",
      "metadata": {
        "id": "-uX6D3WNTHN5",
        "outputId": "97ca0c0f-d32d-4690-ed08-28a680df0e46",
        "colab": {
          "base_uri": "https://localhost:8080/"
        }
      },
      "source": [
        "st.split(\"a\")"
      ],
      "id": "-uX6D3WNTHN5",
      "execution_count": 56,
      "outputs": [
        {
          "output_type": "execute_result",
          "data": {
            "text/plain": [
              "['progr', 'mming L', 'ngu', 'ge 101']"
            ]
          },
          "metadata": {},
          "execution_count": 56
        }
      ]
    },
    {
      "cell_type": "markdown",
      "metadata": {
        "id": "fucEpzYYTWa-"
      },
      "source": [
        "#### Printing"
      ],
      "id": "fucEpzYYTWa-"
    },
    {
      "cell_type": "code",
      "metadata": {
        "id": "y0n8S_jMTfZL"
      },
      "source": [
        "num = 12\n",
        "name = 'Anna'"
      ],
      "id": "y0n8S_jMTfZL",
      "execution_count": 57,
      "outputs": []
    },
    {
      "cell_type": "code",
      "metadata": {
        "id": "Y_1-SDX9Tli6",
        "outputId": "e7283e28-638f-4502-f29f-b7ed16b27b75",
        "colab": {
          "base_uri": "https://localhost:8080/"
        }
      },
      "source": [
        "print('My favorite number is: {one}, and my name is: {two} '.format(one=num, two=name))"
      ],
      "id": "Y_1-SDX9Tli6",
      "execution_count": 58,
      "outputs": [
        {
          "output_type": "stream",
          "name": "stdout",
          "text": [
            "My favorite number is: 12, and my name is: Anna \n"
          ]
        }
      ]
    }
  ]
}