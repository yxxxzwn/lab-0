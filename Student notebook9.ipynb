{
  "nbformat": 4,
  "nbformat_minor": 5,
  "metadata": {
    "kernelspec": {
      "display_name": "Python 3",
      "language": "python",
      "name": "python3"
    },
    "language_info": {
      "codemirror_mode": {
        "name": "ipython",
        "version": 3
      },
      "file_extension": ".py",
      "mimetype": "text/x-python",
      "name": "python",
      "nbconvert_exporter": "python",
      "pygments_lexer": "ipython3",
      "version": "3.7.11"
    },
    "colab": {
      "name": "Student notebook.ipynb",
      "provenance": []
    }
  },
  "cells": [
    {
      "cell_type": "markdown",
      "metadata": {
        "id": "a0fb4d32-1c6a-41f6-bcd5-5e32aea70fdf"
      },
      "source": [
        "# Student Notebook\n",
        "#### This notebook is for you to take notes and save directly to your Google drive and GITHUB.\n",
        "\n",
        "Please upload your changes so you can review it later."
      ],
      "id": "a0fb4d32-1c6a-41f6-bcd5-5e32aea70fdf"
    },
    {
      "cell_type": "markdown",
      "metadata": {
        "id": "9a8d1388-7e11-4262-8e94-581493c554f4"
      },
      "source": [
        "# Introduction to Python Basics I"
      ],
      "id": "9a8d1388-7e11-4262-8e94-581493c554f4"
    },
    {
      "cell_type": "code",
      "metadata": {
        "id": "61d77fcf-3df2-4fee-8da0-d8c0c39f1992"
      },
      "source": [
        "import numpy as np"
      ],
      "id": "61d77fcf-3df2-4fee-8da0-d8c0c39f1992",
      "execution_count": null,
      "outputs": []
    },
    {
      "cell_type": "code",
      "metadata": {
        "colab": {
          "base_uri": "https://localhost:8080/"
        },
        "id": "981ce62a-e33e-4a11-a369-b1f63f783208",
        "outputId": "9dc1af2a-0681-4cfb-9c1f-44cf14f0f80a"
      },
      "source": [
        "np.zeros(25)"
      ],
      "id": "981ce62a-e33e-4a11-a369-b1f63f783208",
      "execution_count": null,
      "outputs": [
        {
          "output_type": "execute_result",
          "data": {
            "text/plain": [
              "array([0., 0., 0., 0., 0., 0., 0., 0., 0., 0., 0., 0., 0., 0., 0., 0., 0.,\n",
              "       0., 0., 0., 0., 0., 0., 0., 0.])"
            ]
          },
          "metadata": {},
          "execution_count": 2
        }
      ]
    },
    {
      "cell_type": "code",
      "metadata": {
        "colab": {
          "base_uri": "https://localhost:8080/"
        },
        "id": "8a4eefe9-ec12-4e51-9227-0a769594ccdd",
        "outputId": "eedef192-41b6-4efd-b2b7-75433deedbd1"
      },
      "source": [
        "np.ones(25)"
      ],
      "id": "8a4eefe9-ec12-4e51-9227-0a769594ccdd",
      "execution_count": null,
      "outputs": [
        {
          "output_type": "execute_result",
          "data": {
            "text/plain": [
              "array([1., 1., 1., 1., 1., 1., 1., 1., 1., 1., 1., 1., 1., 1., 1., 1., 1.,\n",
              "       1., 1., 1., 1., 1., 1., 1., 1.])"
            ]
          },
          "metadata": {},
          "execution_count": 3
        }
      ]
    },
    {
      "cell_type": "code",
      "metadata": {
        "colab": {
          "base_uri": "https://localhost:8080/"
        },
        "id": "b1cbe5c6-102a-4c6a-b09a-b53a9c47b820",
        "outputId": "38ecafa5-cbe4-427f-d3e2-3954db141160"
      },
      "source": [
        "np.ones(25)*5"
      ],
      "id": "b1cbe5c6-102a-4c6a-b09a-b53a9c47b820",
      "execution_count": null,
      "outputs": [
        {
          "output_type": "execute_result",
          "data": {
            "text/plain": [
              "array([5., 5., 5., 5., 5., 5., 5., 5., 5., 5., 5., 5., 5., 5., 5., 5., 5.,\n",
              "       5., 5., 5., 5., 5., 5., 5., 5.])"
            ]
          },
          "metadata": {},
          "execution_count": 6
        }
      ]
    },
    {
      "cell_type": "code",
      "metadata": {
        "colab": {
          "base_uri": "https://localhost:8080/"
        },
        "id": "W4QMrwBIN1sQ",
        "outputId": "2b8f304e-51a9-4b83-8ad8-767010372c8b"
      },
      "source": [
        "np.arange(25, 50+1)"
      ],
      "id": "W4QMrwBIN1sQ",
      "execution_count": null,
      "outputs": [
        {
          "output_type": "execute_result",
          "data": {
            "text/plain": [
              "array([25, 26, 27, 28, 29, 30, 31, 32, 33, 34, 35, 36, 37, 38, 39, 40, 41,\n",
              "       42, 43, 44, 45, 46, 47, 48, 49, 50])"
            ]
          },
          "metadata": {},
          "execution_count": 9
        }
      ]
    },
    {
      "cell_type": "code",
      "metadata": {
        "colab": {
          "base_uri": "https://localhost:8080/"
        },
        "id": "3832eb93-094f-4de4-9726-f633e246cac5",
        "outputId": "7a7f87f3-09b1-4a1b-d068-bfe4bcd970cf"
      },
      "source": [
        "np.arange(10,51,2)"
      ],
      "id": "3832eb93-094f-4de4-9726-f633e246cac5",
      "execution_count": null,
      "outputs": [
        {
          "output_type": "execute_result",
          "data": {
            "text/plain": [
              "array([10, 12, 14, 16, 18, 20, 22, 24, 26, 28, 30, 32, 34, 36, 38, 40, 42,\n",
              "       44, 46, 48, 50])"
            ]
          },
          "metadata": {},
          "execution_count": 11
        }
      ]
    },
    {
      "cell_type": "markdown",
      "metadata": {
        "id": "dYaveFx1SCX2"
      },
      "source": [
        "###eye()"
      ],
      "id": "dYaveFx1SCX2"
    },
    {
      "cell_type": "code",
      "metadata": {
        "colab": {
          "base_uri": "https://localhost:8080/"
        },
        "id": "UgkXJuK-R_yH",
        "outputId": "a0429a9b-7221-4959-e7e8-8632ffb89615"
      },
      "source": [
        "np.eye(10)"
      ],
      "id": "UgkXJuK-R_yH",
      "execution_count": null,
      "outputs": [
        {
          "output_type": "execute_result",
          "data": {
            "text/plain": [
              "array([[1., 0., 0., 0., 0., 0., 0., 0., 0., 0.],\n",
              "       [0., 1., 0., 0., 0., 0., 0., 0., 0., 0.],\n",
              "       [0., 0., 1., 0., 0., 0., 0., 0., 0., 0.],\n",
              "       [0., 0., 0., 1., 0., 0., 0., 0., 0., 0.],\n",
              "       [0., 0., 0., 0., 1., 0., 0., 0., 0., 0.],\n",
              "       [0., 0., 0., 0., 0., 1., 0., 0., 0., 0.],\n",
              "       [0., 0., 0., 0., 0., 0., 1., 0., 0., 0.],\n",
              "       [0., 0., 0., 0., 0., 0., 0., 1., 0., 0.],\n",
              "       [0., 0., 0., 0., 0., 0., 0., 0., 1., 0.],\n",
              "       [0., 0., 0., 0., 0., 0., 0., 0., 0., 1.]])"
            ]
          },
          "metadata": {},
          "execution_count": 12
        }
      ]
    },
    {
      "cell_type": "markdown",
      "metadata": {
        "id": "fFNXw0LPSGN9"
      },
      "source": [
        "### linspace()"
      ],
      "id": "fFNXw0LPSGN9"
    },
    {
      "cell_type": "code",
      "metadata": {
        "colab": {
          "base_uri": "https://localhost:8080/"
        },
        "id": "520a6910-fec0-4c19-929d-23bbe0290946",
        "outputId": "9d6f86a4-c407-4b77-ef0a-6f860c5ae963"
      },
      "source": [
        "np.linspace(0,10,3)"
      ],
      "id": "520a6910-fec0-4c19-929d-23bbe0290946",
      "execution_count": null,
      "outputs": [
        {
          "output_type": "execute_result",
          "data": {
            "text/plain": [
              "array([ 0.,  5., 10.])"
            ]
          },
          "metadata": {},
          "execution_count": 16
        }
      ]
    },
    {
      "cell_type": "code",
      "metadata": {
        "colab": {
          "base_uri": "https://localhost:8080/"
        },
        "id": "bfd44c86-5e36-4f71-88ef-496589098171",
        "outputId": "288d5d18-fbbd-489e-c994-116537c6581f"
      },
      "source": [
        "np.linspace(0,10,4)"
      ],
      "id": "bfd44c86-5e36-4f71-88ef-496589098171",
      "execution_count": null,
      "outputs": [
        {
          "output_type": "execute_result",
          "data": {
            "text/plain": [
              "array([ 0.        ,  3.33333333,  6.66666667, 10.        ])"
            ]
          },
          "metadata": {},
          "execution_count": 17
        }
      ]
    },
    {
      "cell_type": "code",
      "metadata": {
        "colab": {
          "base_uri": "https://localhost:8080/"
        },
        "id": "f8d4c821-eca0-471d-91d8-ccb710d2166b",
        "outputId": "b8995a65-9796-4f95-d8a8-b4f93947c5fe"
      },
      "source": [
        "np.linspace(0,10,5)"
      ],
      "id": "f8d4c821-eca0-471d-91d8-ccb710d2166b",
      "execution_count": null,
      "outputs": [
        {
          "output_type": "execute_result",
          "data": {
            "text/plain": [
              "array([ 0. ,  2.5,  5. ,  7.5, 10. ])"
            ]
          },
          "metadata": {},
          "execution_count": 18
        }
      ]
    },
    {
      "cell_type": "code",
      "metadata": {
        "colab": {
          "base_uri": "https://localhost:8080/"
        },
        "id": "89c6149b-6276-48ab-a205-b0aed26c232c",
        "outputId": "c5f7db4a-30e9-455b-fea1-2c8cb07f3802"
      },
      "source": [
        "np.linspace(0, 10, 50)"
      ],
      "id": "89c6149b-6276-48ab-a205-b0aed26c232c",
      "execution_count": null,
      "outputs": [
        {
          "output_type": "execute_result",
          "data": {
            "text/plain": [
              "array([ 0.        ,  0.20408163,  0.40816327,  0.6122449 ,  0.81632653,\n",
              "        1.02040816,  1.2244898 ,  1.42857143,  1.63265306,  1.83673469,\n",
              "        2.04081633,  2.24489796,  2.44897959,  2.65306122,  2.85714286,\n",
              "        3.06122449,  3.26530612,  3.46938776,  3.67346939,  3.87755102,\n",
              "        4.08163265,  4.28571429,  4.48979592,  4.69387755,  4.89795918,\n",
              "        5.10204082,  5.30612245,  5.51020408,  5.71428571,  5.91836735,\n",
              "        6.12244898,  6.32653061,  6.53061224,  6.73469388,  6.93877551,\n",
              "        7.14285714,  7.34693878,  7.55102041,  7.75510204,  7.95918367,\n",
              "        8.16326531,  8.36734694,  8.57142857,  8.7755102 ,  8.97959184,\n",
              "        9.18367347,  9.3877551 ,  9.59183673,  9.79591837, 10.        ])"
            ]
          },
          "metadata": {},
          "execution_count": 20
        }
      ]
    },
    {
      "cell_type": "code",
      "metadata": {
        "colab": {
          "base_uri": "https://localhost:8080/"
        },
        "id": "07686502-7571-481a-8b20-bec590084b7b",
        "outputId": "e025aced-1f37-4481-9490-d17a4f61290c"
      },
      "source": [
        "np.linspace(0,10,11)"
      ],
      "id": "07686502-7571-481a-8b20-bec590084b7b",
      "execution_count": null,
      "outputs": [
        {
          "output_type": "execute_result",
          "data": {
            "text/plain": [
              "array([ 0.,  1.,  2.,  3.,  4.,  5.,  6.,  7.,  8.,  9., 10.])"
            ]
          },
          "metadata": {},
          "execution_count": 22
        }
      ]
    },
    {
      "cell_type": "markdown",
      "metadata": {
        "id": "FLWA76DQTZvJ"
      },
      "source": [
        "###Random"
      ],
      "id": "FLWA76DQTZvJ"
    },
    {
      "cell_type": "markdown",
      "metadata": {
        "id": "AWwbduPDTqil"
      },
      "source": [
        "### rand()"
      ],
      "id": "AWwbduPDTqil"
    },
    {
      "cell_type": "code",
      "metadata": {
        "colab": {
          "base_uri": "https://localhost:8080/"
        },
        "id": "MAldCXX1TqSE",
        "outputId": "97cd14d7-0962-452d-e84b-67b9d2a59345"
      },
      "source": [
        "np.random.rand(2) #[0,1)] uniform distribution"
      ],
      "id": "MAldCXX1TqSE",
      "execution_count": null,
      "outputs": [
        {
          "output_type": "execute_result",
          "data": {
            "text/plain": [
              "array([0.86948134, 0.80704344])"
            ]
          },
          "metadata": {},
          "execution_count": 23
        }
      ]
    },
    {
      "cell_type": "code",
      "metadata": {
        "colab": {
          "base_uri": "https://localhost:8080/"
        },
        "id": "8ca30ace-cb73-43dc-a3b0-2f27aa362c7c",
        "outputId": "4b1b97d9-5e7d-4b38-a4c9-f86653dc6082"
      },
      "source": [
        "np.random.rand(5,5)"
      ],
      "id": "8ca30ace-cb73-43dc-a3b0-2f27aa362c7c",
      "execution_count": null,
      "outputs": [
        {
          "output_type": "execute_result",
          "data": {
            "text/plain": [
              "array([[0.43546879, 0.6127321 , 0.60322192, 0.72868951, 0.37976895],\n",
              "       [0.07404153, 0.90652219, 0.64613867, 0.72005996, 0.90832997],\n",
              "       [0.3757751 , 0.40917366, 0.75050391, 0.72964705, 0.70645314],\n",
              "       [0.00552142, 0.12627852, 0.75479194, 0.445693  , 0.29046331],\n",
              "       [0.72809129, 0.20635709, 0.83199861, 0.26673929, 0.64491121]])"
            ]
          },
          "metadata": {},
          "execution_count": 24
        }
      ]
    },
    {
      "cell_type": "markdown",
      "metadata": {
        "id": "RxFrBAayUUT1"
      },
      "source": [
        "### randn"
      ],
      "id": "RxFrBAayUUT1"
    },
    {
      "cell_type": "code",
      "metadata": {
        "colab": {
          "base_uri": "https://localhost:8080/"
        },
        "id": "0f31b763-9d91-456a-bebe-e57ec2065451",
        "outputId": "66543db3-0895-4d1b-9f14-48b3f20dbb1b"
      },
      "source": [
        "# standard normal distribution\n",
        "np.random.randn(2)"
      ],
      "id": "0f31b763-9d91-456a-bebe-e57ec2065451",
      "execution_count": null,
      "outputs": [
        {
          "output_type": "execute_result",
          "data": {
            "text/plain": [
              "array([-0.05063709, -1.04197459])"
            ]
          },
          "metadata": {},
          "execution_count": 31
        }
      ]
    },
    {
      "cell_type": "code",
      "metadata": {
        "colab": {
          "base_uri": "https://localhost:8080/"
        },
        "id": "7b5cd6d5-5466-49ba-b198-7c8983a237cc",
        "outputId": "2a59081d-0318-4afc-8110-d45bfeadcef4"
      },
      "source": [
        "np.random.randn(5,5)"
      ],
      "id": "7b5cd6d5-5466-49ba-b198-7c8983a237cc",
      "execution_count": null,
      "outputs": [
        {
          "output_type": "execute_result",
          "data": {
            "text/plain": [
              "array([[ 1.13463458, -0.57787324, -0.24059575, -1.50488578, -0.69439381],\n",
              "       [-1.02253845,  0.16618795,  0.41239034,  2.12000452, -1.09230828],\n",
              "       [ 1.27396939, -1.7468854 ,  0.1547695 , -0.79886819, -0.33422831],\n",
              "       [ 1.15005553, -1.05217668,  0.96349297,  0.69822022,  2.08955244],\n",
              "       [-0.22133662, -1.25213258, -0.60434992,  0.58231019,  1.26621975]])"
            ]
          },
          "metadata": {},
          "execution_count": 32
        }
      ]
    },
    {
      "cell_type": "markdown",
      "metadata": {
        "id": "JXS3bNkHVGev"
      },
      "source": [
        "### randint()"
      ],
      "id": "JXS3bNkHVGev"
    },
    {
      "cell_type": "code",
      "metadata": {
        "colab": {
          "base_uri": "https://localhost:8080/"
        },
        "id": "26a6af88-80a4-4bd2-be9b-8d00c3d4a416",
        "outputId": "2aac56c2-acd6-4413-f8ad-97953b03d282"
      },
      "source": [
        "np.random.randint(1,100)"
      ],
      "id": "26a6af88-80a4-4bd2-be9b-8d00c3d4a416",
      "execution_count": null,
      "outputs": [
        {
          "output_type": "execute_result",
          "data": {
            "text/plain": [
              "53"
            ]
          },
          "metadata": {},
          "execution_count": 38
        }
      ]
    },
    {
      "cell_type": "code",
      "metadata": {
        "colab": {
          "base_uri": "https://localhost:8080/"
        },
        "id": "0207740d-fc24-4937-a9ca-f18c2e64aa98",
        "outputId": "ed5d290b-a41f-4376-9d36-5ebfded8a128"
      },
      "source": [
        "np.random.randint(1,100,10)"
      ],
      "id": "0207740d-fc24-4937-a9ca-f18c2e64aa98",
      "execution_count": null,
      "outputs": [
        {
          "output_type": "execute_result",
          "data": {
            "text/plain": [
              "array([73, 68, 20, 43, 64, 39, 88, 42, 77, 61])"
            ]
          },
          "metadata": {},
          "execution_count": 39
        }
      ]
    },
    {
      "cell_type": "markdown",
      "metadata": {
        "id": "W9RyY-GDV8v1"
      },
      "source": [
        "## Arrays and Methods"
      ],
      "id": "W9RyY-GDV8v1"
    },
    {
      "cell_type": "code",
      "metadata": {
        "colab": {
          "base_uri": "https://localhost:8080/"
        },
        "id": "MFh1le8lWDvq",
        "outputId": "7eb02343-91a2-477c-b492-7de76968df7b"
      },
      "source": [
        "arr = np.arange(25)\n",
        "print(arr)"
      ],
      "id": "MFh1le8lWDvq",
      "execution_count": null,
      "outputs": [
        {
          "output_type": "stream",
          "name": "stdout",
          "text": [
            "[ 0  1  2  3  4  5  6  7  8  9 10 11 12 13 14 15 16 17 18 19 20 21 22 23\n",
            " 24]\n"
          ]
        }
      ]
    },
    {
      "cell_type": "code",
      "metadata": {
        "colab": {
          "base_uri": "https://localhost:8080/"
        },
        "id": "9uChpmLFWDrE",
        "outputId": "e6e94914-bc08-4634-898b-fdeaa835430b"
      },
      "source": [
        "ranarr = np.random.randint(0,50,10)\n",
        "print(ranarr)"
      ],
      "id": "9uChpmLFWDrE",
      "execution_count": null,
      "outputs": [
        {
          "output_type": "stream",
          "name": "stdout",
          "text": [
            "[23  3 38 19  4  4 48 20 30 16]\n"
          ]
        }
      ]
    },
    {
      "cell_type": "markdown",
      "metadata": {
        "id": "JOOomSRjWkJg"
      },
      "source": [
        "### reshape"
      ],
      "id": "JOOomSRjWkJg"
    },
    {
      "cell_type": "code",
      "metadata": {
        "colab": {
          "base_uri": "https://localhost:8080/"
        },
        "id": "VAqVu8J_WDn5",
        "outputId": "3aa54a3c-cebc-40d7-e7e2-bcb71a529fa8"
      },
      "source": [
        "arr.reshape(5,5)"
      ],
      "id": "VAqVu8J_WDn5",
      "execution_count": null,
      "outputs": [
        {
          "output_type": "execute_result",
          "data": {
            "text/plain": [
              "array([[ 0,  1,  2,  3,  4],\n",
              "       [ 5,  6,  7,  8,  9],\n",
              "       [10, 11, 12, 13, 14],\n",
              "       [15, 16, 17, 18, 19],\n",
              "       [20, 21, 22, 23, 24]])"
            ]
          },
          "metadata": {},
          "execution_count": 38
        }
      ]
    },
    {
      "cell_type": "code",
      "metadata": {
        "colab": {
          "base_uri": "https://localhost:8080/"
        },
        "id": "HOz0uX2DWDkc",
        "outputId": "1a17605c-c048-4085-e1ae-6e369b545fc6"
      },
      "source": [
        "grid = np.arange(1,10).reshape((3,3))\n",
        "print(grid)"
      ],
      "id": "HOz0uX2DWDkc",
      "execution_count": null,
      "outputs": [
        {
          "output_type": "stream",
          "name": "stdout",
          "text": [
            "[[1 2 3]\n",
            " [4 5 6]\n",
            " [7 8 9]]\n"
          ]
        }
      ]
    },
    {
      "cell_type": "code",
      "metadata": {
        "colab": {
          "base_uri": "https://localhost:8080/"
        },
        "id": "3E-L9aiwWDhe",
        "outputId": "9ceee7f5-7d16-4ca2-88cf-dd51be5daa6c"
      },
      "source": [
        "#Ex7) Create a 3x3 matrix with value ranging fro\n",
        "np.arange(9).reshape(3,3)"
      ],
      "id": "3E-L9aiwWDhe",
      "execution_count": null,
      "outputs": [
        {
          "output_type": "execute_result",
          "data": {
            "text/plain": [
              "array([[0, 1, 2],\n",
              "       [3, 4, 5],\n",
              "       [6, 7, 8]])"
            ]
          },
          "metadata": {},
          "execution_count": 78
        }
      ]
    },
    {
      "cell_type": "code",
      "metadata": {
        "colab": {
          "base_uri": "https://localhost:8080/"
        },
        "id": "nEVbXhRaWDd4",
        "outputId": "e6044cdd-693f-45d4-c934-713c57d0bbc6"
      },
      "source": [
        "#Ex8) Create a 5x5 identity matrix\n",
        "np.eye(5)"
      ],
      "id": "nEVbXhRaWDd4",
      "execution_count": null,
      "outputs": [
        {
          "output_type": "execute_result",
          "data": {
            "text/plain": [
              "array([[1., 0., 0., 0., 0.],\n",
              "       [0., 1., 0., 0., 0.],\n",
              "       [0., 0., 1., 0., 0.],\n",
              "       [0., 0., 0., 1., 0.],\n",
              "       [0., 0., 0., 0., 1.]])"
            ]
          },
          "metadata": {},
          "execution_count": 77
        }
      ]
    },
    {
      "cell_type": "code",
      "metadata": {
        "colab": {
          "base_uri": "https://localhost:8080/"
        },
        "id": "t0LJlnq-ZNZi",
        "outputId": "d0fe6f84-4172-4027-950f-25d69a544816"
      },
      "source": [
        "#Ex9) Use numpy to generate a random number between 0 and 1\n",
        "np.random.rand(1)"
      ],
      "id": "t0LJlnq-ZNZi",
      "execution_count": null,
      "outputs": [
        {
          "output_type": "execute_result",
          "data": {
            "text/plain": [
              "array([0.39228141])"
            ]
          },
          "metadata": {},
          "execution_count": 75
        }
      ]
    },
    {
      "cell_type": "code",
      "metadata": {
        "colab": {
          "base_uri": "https://localhost:8080/"
        },
        "id": "o7KXc2HEYMQY",
        "outputId": "4edd4471-a385-4288-a1cb-9618f317ab72"
      },
      "source": [
        "#Ex10) Use numpy to generate an array of 100 random numbers sampled from a standard distribution\n",
        "np.random.randn(100)"
      ],
      "id": "o7KXc2HEYMQY",
      "execution_count": null,
      "outputs": [
        {
          "output_type": "execute_result",
          "data": {
            "text/plain": [
              "array([-0.25349194,  0.39813769, -0.81706242,  0.43215529, -0.54586121,\n",
              "       -0.26772154,  0.38556584,  1.25327234,  0.92534787, -0.56708383,\n",
              "        0.74025833,  0.9180874 , -0.07349429,  1.87493146,  3.58478235,\n",
              "        0.07327063, -0.02487859, -0.27836187, -1.28821534,  1.0105865 ,\n",
              "       -0.62633218, -0.24575614, -0.1990164 , -1.57123223, -0.63970037,\n",
              "        0.46040826, -0.02320088, -1.17562192, -0.82990889, -0.45653026,\n",
              "       -0.99931969, -0.97567204,  2.1686092 ,  1.26850068,  0.46925119,\n",
              "       -0.4943875 , -0.32892808,  0.89032985,  1.55974169,  0.09152634,\n",
              "        0.95646434,  0.51803768, -0.72141985,  1.2810985 ,  1.49925296,\n",
              "        0.88631339,  0.73702104, -1.7016747 ,  0.83006003, -1.01376765,\n",
              "       -0.64034636,  0.25644087,  1.94678033, -0.19909268, -1.03239543,\n",
              "        0.01815673,  1.20146755, -2.13041303,  0.90212266,  1.282679  ,\n",
              "       -0.11426918,  1.25632424, -0.54199739,  0.69036596, -0.26398513,\n",
              "        0.06150949,  0.570689  , -1.16204754, -0.58010491, -0.92231362,\n",
              "        1.75204538,  1.89697348,  2.53226889, -0.52216314, -1.00301939,\n",
              "       -0.76771036,  2.18755168, -0.39307648,  0.36436628, -1.25141489,\n",
              "       -0.02181518,  0.43728205, -0.85488933, -1.20766854, -0.1815342 ,\n",
              "        0.55361686,  0.45518381, -0.42379419,  0.35532521,  1.89505346,\n",
              "        0.03323449, -0.4439379 ,  0.21572992, -0.59207888,  0.32314279,\n",
              "       -2.68484807, -0.74915335,  1.28739057,  1.4874189 ,  0.63561535])"
            ]
          },
          "metadata": {},
          "execution_count": 76
        }
      ]
    },
    {
      "cell_type": "code",
      "metadata": {
        "colab": {
          "base_uri": "https://localhost:8080/"
        },
        "id": "v59Vbu0qYbeZ",
        "outputId": "609f54a9-8545-4ccf-f918-9311962bdf46"
      },
      "source": [
        "#Ex11) Create an array of 25 linearly spaced point between 0 and 1\n",
        "np.linspace(0,1,25)"
      ],
      "id": "v59Vbu0qYbeZ",
      "execution_count": null,
      "outputs": [
        {
          "output_type": "execute_result",
          "data": {
            "text/plain": [
              "array([0.        , 0.04166667, 0.08333333, 0.125     , 0.16666667,\n",
              "       0.20833333, 0.25      , 0.29166667, 0.33333333, 0.375     ,\n",
              "       0.41666667, 0.45833333, 0.5       , 0.54166667, 0.58333333,\n",
              "       0.625     , 0.66666667, 0.70833333, 0.75      , 0.79166667,\n",
              "       0.83333333, 0.875     , 0.91666667, 0.95833333, 1.        ])"
            ]
          },
          "metadata": {},
          "execution_count": 62
        }
      ]
    },
    {
      "cell_type": "markdown",
      "metadata": {
        "id": "nXdoVsK0WA8Y"
      },
      "source": [
        "### max, min methods"
      ],
      "id": "nXdoVsK0WA8Y"
    },
    {
      "cell_type": "code",
      "metadata": {
        "id": "S6-TTQQHh81Q"
      },
      "source": [
        "ranarr = np.random.randint(0,50,10)"
      ],
      "id": "S6-TTQQHh81Q",
      "execution_count": null,
      "outputs": []
    },
    {
      "cell_type": "code",
      "metadata": {
        "colab": {
          "base_uri": "https://localhost:8080/"
        },
        "id": "395f484f-2453-4060-a9c6-484cfd699365",
        "outputId": "82619bb3-1d38-422a-8c72-094d5abe2e4b"
      },
      "source": [
        "ranarr"
      ],
      "id": "395f484f-2453-4060-a9c6-484cfd699365",
      "execution_count": null,
      "outputs": [
        {
          "output_type": "execute_result",
          "data": {
            "text/plain": [
              "array([ 0,  3, 46, 35,  5, 33,  6, 45, 43, 46])"
            ]
          },
          "metadata": {},
          "execution_count": 87
        }
      ]
    },
    {
      "cell_type": "code",
      "metadata": {
        "colab": {
          "base_uri": "https://localhost:8080/"
        },
        "id": "92eb00c8-432e-46fe-9463-bed79228fd63",
        "outputId": "700873c9-386f-41da-963e-ccdf9df4132a"
      },
      "source": [
        "ranarr.max()"
      ],
      "id": "92eb00c8-432e-46fe-9463-bed79228fd63",
      "execution_count": null,
      "outputs": [
        {
          "output_type": "execute_result",
          "data": {
            "text/plain": [
              "46"
            ]
          },
          "metadata": {},
          "execution_count": 88
        }
      ]
    },
    {
      "cell_type": "code",
      "metadata": {
        "colab": {
          "base_uri": "https://localhost:8080/"
        },
        "id": "a61e99c4-476f-4079-95b7-b02e29e13e73",
        "outputId": "0e5f60f2-8e6b-4ff6-e583-6ed0b351b58c"
      },
      "source": [
        "ranarr.min()"
      ],
      "id": "a61e99c4-476f-4079-95b7-b02e29e13e73",
      "execution_count": null,
      "outputs": [
        {
          "output_type": "execute_result",
          "data": {
            "text/plain": [
              "0"
            ]
          },
          "metadata": {},
          "execution_count": 89
        }
      ]
    },
    {
      "cell_type": "code",
      "metadata": {
        "colab": {
          "base_uri": "https://localhost:8080/"
        },
        "id": "KOrn2g0Rh1d_",
        "outputId": "1320b5f8-4186-444f-eaf3-7ca38cd79064"
      },
      "source": [
        "ranarr.argmax()"
      ],
      "id": "KOrn2g0Rh1d_",
      "execution_count": null,
      "outputs": [
        {
          "output_type": "execute_result",
          "data": {
            "text/plain": [
              "2"
            ]
          },
          "metadata": {},
          "execution_count": 90
        }
      ]
    },
    {
      "cell_type": "code",
      "metadata": {
        "colab": {
          "base_uri": "https://localhost:8080/"
        },
        "id": "6b7e050d-71db-45ec-81b6-b4f593b58930",
        "outputId": "115aa10d-3489-4c35-f320-1819ee8b41d4"
      },
      "source": [
        "ranarr.argmin()"
      ],
      "id": "6b7e050d-71db-45ec-81b6-b4f593b58930",
      "execution_count": null,
      "outputs": [
        {
          "output_type": "execute_result",
          "data": {
            "text/plain": [
              "0"
            ]
          },
          "metadata": {},
          "execution_count": 91
        }
      ]
    },
    {
      "cell_type": "markdown",
      "metadata": {
        "id": "hK7TpwmcI-Dg"
      },
      "source": [
        "### Shape"
      ],
      "id": "hK7TpwmcI-Dg"
    },
    {
      "cell_type": "code",
      "metadata": {
        "id": "n7gVXd8pJV-L"
      },
      "source": [
        "import numpy as np"
      ],
      "id": "n7gVXd8pJV-L",
      "execution_count": null,
      "outputs": []
    },
    {
      "cell_type": "code",
      "metadata": {
        "id": "75083780-5bf8-4a21-a96f-be036bd6ed6e"
      },
      "source": [
        "arr = np.arange(25)"
      ],
      "id": "75083780-5bf8-4a21-a96f-be036bd6ed6e",
      "execution_count": null,
      "outputs": []
    },
    {
      "cell_type": "code",
      "metadata": {
        "id": "7c4c384e-170c-453b-ba73-5b9e1112b30f",
        "colab": {
          "base_uri": "https://localhost:8080/"
        },
        "outputId": "66a12297-62bf-43c6-d9fa-808479ce1e62"
      },
      "source": [
        "arr.shape"
      ],
      "id": "7c4c384e-170c-453b-ba73-5b9e1112b30f",
      "execution_count": null,
      "outputs": [
        {
          "output_type": "execute_result",
          "data": {
            "text/plain": [
              "(25,)"
            ]
          },
          "metadata": {},
          "execution_count": 4
        }
      ]
    },
    {
      "cell_type": "code",
      "metadata": {
        "id": "1ed20989-df63-4537-9543-f633510d2cdf",
        "colab": {
          "base_uri": "https://localhost:8080/"
        },
        "outputId": "ed5dc5a0-fed4-4d04-bd8c-35e9e513303f"
      },
      "source": [
        "print(arr)"
      ],
      "id": "1ed20989-df63-4537-9543-f633510d2cdf",
      "execution_count": null,
      "outputs": [
        {
          "output_type": "stream",
          "name": "stdout",
          "text": [
            "[ 0  1  2  3  4  5  6  7  8  9 10 11 12 13 14 15 16 17 18 19 20 21 22 23\n",
            " 24]\n"
          ]
        }
      ]
    },
    {
      "cell_type": "code",
      "metadata": {
        "id": "1fefe175-e76f-45c2-9933-f201f6686c78",
        "colab": {
          "base_uri": "https://localhost:8080/"
        },
        "outputId": "639d032d-645f-4f2c-a8a3-44a94b5685d7"
      },
      "source": [
        "arr.reshape(1,25).shape"
      ],
      "id": "1fefe175-e76f-45c2-9933-f201f6686c78",
      "execution_count": null,
      "outputs": [
        {
          "output_type": "execute_result",
          "data": {
            "text/plain": [
              "(1, 25)"
            ]
          },
          "metadata": {},
          "execution_count": 6
        }
      ]
    },
    {
      "cell_type": "code",
      "metadata": {
        "id": "9b98cc92-f24a-446d-bda5-fb4407e55451",
        "colab": {
          "base_uri": "https://localhost:8080/"
        },
        "outputId": "b6900395-5957-4dda-d238-0675a177f4e8"
      },
      "source": [
        "arr.reshape(1,25)"
      ],
      "id": "9b98cc92-f24a-446d-bda5-fb4407e55451",
      "execution_count": null,
      "outputs": [
        {
          "output_type": "execute_result",
          "data": {
            "text/plain": [
              "array([[ 0,  1,  2,  3,  4,  5,  6,  7,  8,  9, 10, 11, 12, 13, 14, 15,\n",
              "        16, 17, 18, 19, 20, 21, 22, 23, 24]])"
            ]
          },
          "metadata": {},
          "execution_count": 8
        }
      ]
    },
    {
      "cell_type": "code",
      "metadata": {
        "id": "e91f3af0-53df-4f87-a9f7-c6f79c2fa1bb",
        "colab": {
          "base_uri": "https://localhost:8080/"
        },
        "outputId": "a18ed741-0ef3-4453-c284-12f0a7e2b894"
      },
      "source": [
        "arr.reshape(25,1)"
      ],
      "id": "e91f3af0-53df-4f87-a9f7-c6f79c2fa1bb",
      "execution_count": null,
      "outputs": [
        {
          "output_type": "execute_result",
          "data": {
            "text/plain": [
              "array([[ 0],\n",
              "       [ 1],\n",
              "       [ 2],\n",
              "       [ 3],\n",
              "       [ 4],\n",
              "       [ 5],\n",
              "       [ 6],\n",
              "       [ 7],\n",
              "       [ 8],\n",
              "       [ 9],\n",
              "       [10],\n",
              "       [11],\n",
              "       [12],\n",
              "       [13],\n",
              "       [14],\n",
              "       [15],\n",
              "       [16],\n",
              "       [17],\n",
              "       [18],\n",
              "       [19],\n",
              "       [20],\n",
              "       [21],\n",
              "       [22],\n",
              "       [23],\n",
              "       [24]])"
            ]
          },
          "metadata": {},
          "execution_count": 9
        }
      ]
    },
    {
      "cell_type": "code",
      "metadata": {
        "id": "8fbcdbc0-4902-430f-9d44-451643eb9a6d",
        "colab": {
          "base_uri": "https://localhost:8080/"
        },
        "outputId": "f7126371-c23a-4103-ad1b-32d95e60f3d3"
      },
      "source": [
        "arr.reshape(25,1).shape"
      ],
      "id": "8fbcdbc0-4902-430f-9d44-451643eb9a6d",
      "execution_count": null,
      "outputs": [
        {
          "output_type": "execute_result",
          "data": {
            "text/plain": [
              "(25, 1)"
            ]
          },
          "metadata": {},
          "execution_count": 11
        }
      ]
    },
    {
      "cell_type": "markdown",
      "metadata": {
        "id": "qeIhdrzZKbxP"
      },
      "source": [
        "###dtype"
      ],
      "id": "qeIhdrzZKbxP"
    },
    {
      "cell_type": "code",
      "metadata": {
        "id": "c20fe24b-93dc-454a-9bb7-aa85e77c6d4d",
        "colab": {
          "base_uri": "https://localhost:8080/"
        },
        "outputId": "844da8df-8a10-4a99-d601-d69f1f6692f4"
      },
      "source": [
        "arr.dtype"
      ],
      "id": "c20fe24b-93dc-454a-9bb7-aa85e77c6d4d",
      "execution_count": null,
      "outputs": [
        {
          "output_type": "execute_result",
          "data": {
            "text/plain": [
              "dtype('int64')"
            ]
          },
          "metadata": {},
          "execution_count": 12
        }
      ]
    },
    {
      "cell_type": "markdown",
      "metadata": {
        "id": "ncUFx_MwKr4S"
      },
      "source": [
        "## Numpy Indexing and Selection"
      ],
      "id": "ncUFx_MwKr4S"
    },
    {
      "cell_type": "code",
      "metadata": {
        "id": "2ec357e0-2539-41fa-81ac-5378df7575e4",
        "colab": {
          "base_uri": "https://localhost:8080/"
        },
        "outputId": "8085f090-c716-4de2-8d28-bb5b955d6d5a"
      },
      "source": [
        "# create sample\n",
        "arr = np.arange(0,11)\n",
        "print(arr)"
      ],
      "id": "2ec357e0-2539-41fa-81ac-5378df7575e4",
      "execution_count": null,
      "outputs": [
        {
          "output_type": "stream",
          "name": "stdout",
          "text": [
            "[ 0  1  2  3  4  5  6  7  8  9 10]\n"
          ]
        }
      ]
    },
    {
      "cell_type": "markdown",
      "metadata": {
        "id": "1y2BV-KcLB-b"
      },
      "source": [
        "### Bracket Indexing and Selection"
      ],
      "id": "1y2BV-KcLB-b"
    },
    {
      "cell_type": "code",
      "metadata": {
        "id": "9357fff5-5beb-4722-878a-fa348954682a",
        "colab": {
          "base_uri": "https://localhost:8080/"
        },
        "outputId": "48d48c03-1efc-494e-b1fe-405e47523391"
      },
      "source": [
        "arr[8]"
      ],
      "id": "9357fff5-5beb-4722-878a-fa348954682a",
      "execution_count": null,
      "outputs": [
        {
          "output_type": "execute_result",
          "data": {
            "text/plain": [
              "8"
            ]
          },
          "metadata": {},
          "execution_count": 14
        }
      ]
    },
    {
      "cell_type": "code",
      "metadata": {
        "id": "I1Wk8xJrKebX",
        "colab": {
          "base_uri": "https://localhost:8080/"
        },
        "outputId": "762c5190-18bd-4f16-c55d-439897c5e7b2"
      },
      "source": [
        "#get values in a range [star:end]\n",
        "arr[1:5]"
      ],
      "id": "I1Wk8xJrKebX",
      "execution_count": null,
      "outputs": [
        {
          "output_type": "execute_result",
          "data": {
            "text/plain": [
              "array([1, 2, 3, 4])"
            ]
          },
          "metadata": {},
          "execution_count": 16
        }
      ]
    },
    {
      "cell_type": "code",
      "metadata": {
        "id": "zMujO77rKeWW",
        "colab": {
          "base_uri": "https://localhost:8080/"
        },
        "outputId": "3a057db5-1a48-4d89-bc7e-47453bbe188b"
      },
      "source": [
        "arr[0:5]"
      ],
      "id": "zMujO77rKeWW",
      "execution_count": null,
      "outputs": [
        {
          "output_type": "execute_result",
          "data": {
            "text/plain": [
              "array([0, 1, 2, 3, 4])"
            ]
          },
          "metadata": {},
          "execution_count": 17
        }
      ]
    },
    {
      "cell_type": "code",
      "metadata": {
        "id": "sQiDxT_cKeRW",
        "colab": {
          "base_uri": "https://localhost:8080/"
        },
        "outputId": "7c7ed9d7-9556-467a-97f7-326b56b0263c"
      },
      "source": [
        "arr[-1]"
      ],
      "id": "sQiDxT_cKeRW",
      "execution_count": null,
      "outputs": [
        {
          "output_type": "execute_result",
          "data": {
            "text/plain": [
              "10"
            ]
          },
          "metadata": {},
          "execution_count": 18
        }
      ]
    },
    {
      "cell_type": "code",
      "metadata": {
        "id": "XcuotlO3KeNA",
        "colab": {
          "base_uri": "https://localhost:8080/"
        },
        "outputId": "6e26c0b4-fca1-483a-d0a4-4a8bac784483"
      },
      "source": [
        "arr[-2]"
      ],
      "id": "XcuotlO3KeNA",
      "execution_count": null,
      "outputs": [
        {
          "output_type": "execute_result",
          "data": {
            "text/plain": [
              "9"
            ]
          },
          "metadata": {},
          "execution_count": 19
        }
      ]
    },
    {
      "cell_type": "markdown",
      "metadata": {
        "id": "PBANyAVjMDz2"
      },
      "source": [
        "### Broadcasting"
      ],
      "id": "PBANyAVjMDz2"
    },
    {
      "cell_type": "code",
      "metadata": {
        "id": "mZLdQorwL-pl",
        "colab": {
          "base_uri": "https://localhost:8080/"
        },
        "outputId": "d3e5ee23-1c3e-4833-9336-46b124ac1633"
      },
      "source": [
        "arr[0:5] = 100\n",
        "\n",
        "arr"
      ],
      "id": "mZLdQorwL-pl",
      "execution_count": null,
      "outputs": [
        {
          "output_type": "execute_result",
          "data": {
            "text/plain": [
              "array([100, 100, 100, 100, 100,   5,   6,   7,   8,   9,  10])"
            ]
          },
          "metadata": {},
          "execution_count": 21
        }
      ]
    },
    {
      "cell_type": "code",
      "metadata": {
        "id": "NBXCnT7ML-l8",
        "colab": {
          "base_uri": "https://localhost:8080/"
        },
        "outputId": "441c83fc-39cd-482c-fb35-aa5038ea4691"
      },
      "source": [
        "arr = np.arange(0,11)\n",
        "arr"
      ],
      "id": "NBXCnT7ML-l8",
      "execution_count": null,
      "outputs": [
        {
          "output_type": "execute_result",
          "data": {
            "text/plain": [
              "array([ 0,  1,  2,  3,  4,  5,  6,  7,  8,  9, 10])"
            ]
          },
          "metadata": {},
          "execution_count": 23
        }
      ]
    },
    {
      "cell_type": "code",
      "metadata": {
        "id": "bW0d2X0NL-if",
        "colab": {
          "base_uri": "https://localhost:8080/"
        },
        "outputId": "e8df3cb7-8c97-401f-dd4a-c1b506e5be22"
      },
      "source": [
        "slice_arr = arr[0:6]\n",
        "print(slice_arr)"
      ],
      "id": "bW0d2X0NL-if",
      "execution_count": null,
      "outputs": [
        {
          "output_type": "stream",
          "name": "stdout",
          "text": [
            "[0 1 2 3 4 5]\n"
          ]
        }
      ]
    },
    {
      "cell_type": "code",
      "metadata": {
        "id": "w0GdVDQzMI36"
      },
      "source": [
        "slice_arr[:] = 99"
      ],
      "id": "w0GdVDQzMI36",
      "execution_count": null,
      "outputs": []
    },
    {
      "cell_type": "code",
      "metadata": {
        "id": "INZc7QYsMI0M",
        "colab": {
          "base_uri": "https://localhost:8080/"
        },
        "outputId": "907f7f67-144e-4fc3-ef62-d6a67c9a4b0f"
      },
      "source": [
        "print(slice_arr)"
      ],
      "id": "INZc7QYsMI0M",
      "execution_count": null,
      "outputs": [
        {
          "output_type": "stream",
          "name": "stdout",
          "text": [
            "[99 99 99 99 99 99]\n"
          ]
        }
      ]
    },
    {
      "cell_type": "code",
      "metadata": {
        "id": "DLu4B01cMIv6",
        "colab": {
          "base_uri": "https://localhost:8080/"
        },
        "outputId": "fa4f5bc8-428f-48b9-f9b1-b526c117fcd8"
      },
      "source": [
        "print(arr)"
      ],
      "id": "DLu4B01cMIv6",
      "execution_count": null,
      "outputs": [
        {
          "output_type": "stream",
          "name": "stdout",
          "text": [
            "[99 99 99 99 99 99  6  7  8  9 10]\n"
          ]
        }
      ]
    },
    {
      "cell_type": "code",
      "metadata": {
        "id": "vVEBb5DtM7fV"
      },
      "source": [
        "#Ex1) Why it changed arr and slice_arr?"
      ],
      "id": "vVEBb5DtM7fV",
      "execution_count": null,
      "outputs": []
    },
    {
      "cell_type": "code",
      "metadata": {
        "id": "S6raeunIQVv2",
        "colab": {
          "base_uri": "https://localhost:8080/"
        },
        "outputId": "978de79d-6a61-4727-9bbc-a0f01d9cb22d"
      },
      "source": [
        "arr_copy = arr.copy()\n",
        "arr_copy"
      ],
      "id": "S6raeunIQVv2",
      "execution_count": null,
      "outputs": [
        {
          "output_type": "execute_result",
          "data": {
            "text/plain": [
              "array([ 0,  1,  2,  3,  4,  5,  6,  7,  8,  9, 10, 11, 12, 13, 14, 15, 16,\n",
              "       17, 18, 19, 20, 21, 22, 23, 24])"
            ]
          },
          "metadata": {},
          "execution_count": 42
        }
      ]
    },
    {
      "cell_type": "code",
      "metadata": {
        "id": "dfXWeTrgM7bh"
      },
      "source": [
        "#Ex2) you have to replicate the following matrix using python code\n",
        "#The variable name is \"matrix\":"
      ],
      "id": "dfXWeTrgM7bh",
      "execution_count": null,
      "outputs": []
    },
    {
      "cell_type": "code",
      "metadata": {
        "id": "gTri2jddM7Yd",
        "colab": {
          "base_uri": "https://localhost:8080/"
        },
        "outputId": "1962ceff-537c-499d-93f6-83995e2a1420"
      },
      "source": [
        "matrix = np.arange(1,50).reshape(7,7)\n",
        "print(matrix)"
      ],
      "id": "gTri2jddM7Yd",
      "execution_count": null,
      "outputs": [
        {
          "output_type": "stream",
          "name": "stdout",
          "text": [
            "[[ 1  2  3  4  5  6  7]\n",
            " [ 8  9 10 11 12 13 14]\n",
            " [15 16 17 18 19 20 21]\n",
            " [22 23 24 25 26 27 28]\n",
            " [29 30 31 32 33 34 35]\n",
            " [36 37 38 39 40 41 42]\n",
            " [43 44 45 46 47 48 49]]\n"
          ]
        }
      ]
    },
    {
      "cell_type": "markdown",
      "metadata": {
        "id": "vUplB-fJRTht"
      },
      "source": [
        "### Indexing a 2D array (matrix)"
      ],
      "id": "vUplB-fJRTht"
    },
    {
      "cell_type": "code",
      "metadata": {
        "id": "BhhD7fy1M7T7"
      },
      "source": [
        "# array_2d[row][col] = arr_2d[row,col]"
      ],
      "id": "BhhD7fy1M7T7",
      "execution_count": null,
      "outputs": []
    },
    {
      "cell_type": "code",
      "metadata": {
        "id": "D5n1SIMBM7O7",
        "colab": {
          "base_uri": "https://localhost:8080/"
        },
        "outputId": "62f63009-2c31-41e3-e71b-3ad80be1d856"
      },
      "source": [
        "arr_2d = np.array((  [5,10,15],[20,25,30],[35,40,45]  ))\n",
        "\n",
        "print(arr_2d)"
      ],
      "id": "D5n1SIMBM7O7",
      "execution_count": null,
      "outputs": [
        {
          "output_type": "stream",
          "name": "stdout",
          "text": [
            "[[ 5 10 15]\n",
            " [20 25 30]\n",
            " [35 40 45]]\n"
          ]
        }
      ]
    },
    {
      "cell_type": "code",
      "metadata": {
        "id": "y-9nbom8M7LI",
        "colab": {
          "base_uri": "https://localhost:8080/"
        },
        "outputId": "4173522f-cca0-42b2-d45a-a89cc872ae95"
      },
      "source": [
        "#indexing a row\n",
        "arr_2d[1]"
      ],
      "id": "y-9nbom8M7LI",
      "execution_count": null,
      "outputs": [
        {
          "output_type": "execute_result",
          "data": {
            "text/plain": [
              "array([20, 25, 30])"
            ]
          },
          "metadata": {},
          "execution_count": 50
        }
      ]
    },
    {
      "cell_type": "code",
      "metadata": {
        "id": "gys2d-bEM7G4",
        "colab": {
          "base_uri": "https://localhost:8080/"
        },
        "outputId": "00a8e749-bb45-4b1b-839d-7c728158afa6"
      },
      "source": [
        "arr_2d[-1]"
      ],
      "id": "gys2d-bEM7G4",
      "execution_count": null,
      "outputs": [
        {
          "output_type": "execute_result",
          "data": {
            "text/plain": [
              "array([35, 40, 45])"
            ]
          },
          "metadata": {},
          "execution_count": 51
        }
      ]
    },
    {
      "cell_type": "code",
      "metadata": {
        "id": "tbPxXej4M7C2",
        "colab": {
          "base_uri": "https://localhost:8080/"
        },
        "outputId": "4535e523-d4f7-460e-f4a1-9e2cf64e56e1"
      },
      "source": [
        "# array_2d[row][col]\n",
        "arr_2d[1][0]"
      ],
      "id": "tbPxXej4M7C2",
      "execution_count": null,
      "outputs": [
        {
          "output_type": "execute_result",
          "data": {
            "text/plain": [
              "20"
            ]
          },
          "metadata": {},
          "execution_count": 52
        }
      ]
    },
    {
      "cell_type": "code",
      "metadata": {
        "id": "cIy6lBH5M6_h",
        "colab": {
          "base_uri": "https://localhost:8080/"
        },
        "outputId": "476abda6-c471-49a4-f41f-09ba01468633"
      },
      "source": [
        "# array_2d[row,col]\n",
        "arr_2d[1,0]"
      ],
      "id": "cIy6lBH5M6_h",
      "execution_count": null,
      "outputs": [
        {
          "output_type": "execute_result",
          "data": {
            "text/plain": [
              "20"
            ]
          },
          "metadata": {},
          "execution_count": 54
        }
      ]
    },
    {
      "cell_type": "code",
      "metadata": {
        "id": "tDVN4KxPWb7x",
        "colab": {
          "base_uri": "https://localhost:8080/"
        },
        "outputId": "f2960009-0937-49fc-d7ca-d95547d1344e"
      },
      "source": [
        "print(arr_2d)"
      ],
      "id": "tDVN4KxPWb7x",
      "execution_count": null,
      "outputs": [
        {
          "output_type": "stream",
          "name": "stdout",
          "text": [
            "[[ 5 10 15]\n",
            " [20 25 30]\n",
            " [35 40 45]]\n"
          ]
        }
      ]
    },
    {
      "cell_type": "code",
      "metadata": {
        "id": "nfHLBiUfWEkG",
        "colab": {
          "base_uri": "https://localhost:8080/"
        },
        "outputId": "abed6413-b59d-497f-a2dc-07b70fa36927"
      },
      "source": [
        "#2d array slicing\n",
        "#top right corner of arr_2d with a shape of (2,2)\n",
        "\n",
        "arr_2d[:2, 1:]"
      ],
      "id": "nfHLBiUfWEkG",
      "execution_count": null,
      "outputs": [
        {
          "output_type": "execute_result",
          "data": {
            "text/plain": [
              "array([[10, 15],\n",
              "       [25, 30]])"
            ]
          },
          "metadata": {},
          "execution_count": 58
        }
      ]
    },
    {
      "cell_type": "code",
      "metadata": {
        "id": "FL27XuoDWEgc",
        "colab": {
          "base_uri": "https://localhost:8080/"
        },
        "outputId": "f9b6f42f-ec3d-4bd5-ae4a-128918301546"
      },
      "source": [
        "#bottom row\n",
        "arr_2d[2]"
      ],
      "id": "FL27XuoDWEgc",
      "execution_count": null,
      "outputs": [
        {
          "output_type": "execute_result",
          "data": {
            "text/plain": [
              "array([35, 40, 45])"
            ]
          },
          "metadata": {},
          "execution_count": 59
        }
      ]
    },
    {
      "cell_type": "code",
      "metadata": {
        "id": "ba3kjR5wWEcY",
        "colab": {
          "base_uri": "https://localhost:8080/"
        },
        "outputId": "9da893b9-868b-4755-cdfe-3390f98fe325"
      },
      "source": [
        "arr_2d[1:,:2]"
      ],
      "id": "ba3kjR5wWEcY",
      "execution_count": null,
      "outputs": [
        {
          "output_type": "execute_result",
          "data": {
            "text/plain": [
              "array([[20, 25],\n",
              "       [35, 40]])"
            ]
          },
          "metadata": {},
          "execution_count": 60
        }
      ]
    },
    {
      "cell_type": "code",
      "metadata": {
        "id": "1PfIomR_WEX9",
        "colab": {
          "base_uri": "https://localhost:8080/"
        },
        "outputId": "47cba35a-783b-4fe6-b037-d6ff49f18264"
      },
      "source": [
        "#top row \n",
        "arr_2d[0,:]"
      ],
      "id": "1PfIomR_WEX9",
      "execution_count": null,
      "outputs": [
        {
          "output_type": "execute_result",
          "data": {
            "text/plain": [
              "array([ 5, 10, 15])"
            ]
          },
          "metadata": {},
          "execution_count": 62
        }
      ]
    },
    {
      "cell_type": "code",
      "metadata": {
        "id": "-80vqI2mWETx",
        "colab": {
          "base_uri": "https://localhost:8080/"
        },
        "outputId": "ce188d76-74c7-4a3c-d613-5683b14201cc"
      },
      "source": [
        "matrix = np.arange(1,50).reshape(7,7)\n",
        "print(matrix)"
      ],
      "id": "-80vqI2mWETx",
      "execution_count": null,
      "outputs": [
        {
          "output_type": "stream",
          "name": "stdout",
          "text": [
            "[[ 1  2  3  4  5  6  7]\n",
            " [ 8  9 10 11 12 13 14]\n",
            " [15 16 17 18 19 20 21]\n",
            " [22 23 24 25 26 27 28]\n",
            " [29 30 31 32 33 34 35]\n",
            " [36 37 38 39 40 41 42]\n",
            " [43 44 45 46 47 48 49]]\n"
          ]
        }
      ]
    },
    {
      "cell_type": "code",
      "metadata": {
        "id": "pSS3xMAGZLNS",
        "colab": {
          "base_uri": "https://localhost:8080/"
        },
        "outputId": "e3b8ac41-cb52-4bad-981a-342fcad07493"
      },
      "source": [
        "matrix = np.arange(1,50)\n",
        "print(matrix)"
      ],
      "id": "pSS3xMAGZLNS",
      "execution_count": null,
      "outputs": [
        {
          "output_type": "stream",
          "name": "stdout",
          "text": [
            "[ 1  2  3  4  5  6  7  8  9 10 11 12 13 14 15 16 17 18 19 20 21 22 23 24\n",
            " 25 26 27 28 29 30 31 32 33 34 35 36 37 38 39 40 41 42 43 44 45 46 47 48\n",
            " 49]\n"
          ]
        }
      ]
    },
    {
      "cell_type": "code",
      "metadata": {
        "id": "Z0xpiaCJaOOA",
        "colab": {
          "base_uri": "https://localhost:8080/"
        },
        "outputId": "782539ef-14d4-4164-e76f-534ab3d41172"
      },
      "source": [
        "arr_2d = np.array((  [16,17,18,19,20,21],[23,24,25,26,27,28],[30,31,32,33,34,35],[37,38,39,40,41,42],[44,45,46,47,48,49]  ))\n",
        "\n",
        "print(arr_2d)"
      ],
      "id": "Z0xpiaCJaOOA",
      "execution_count": null,
      "outputs": [
        {
          "output_type": "stream",
          "name": "stdout",
          "text": [
            "[[16 17 18 19 20 21]\n",
            " [23 24 25 26 27 28]\n",
            " [30 31 32 33 34 35]\n",
            " [37 38 39 40 41 42]\n",
            " [44 45 46 47 48 49]]\n"
          ]
        }
      ]
    },
    {
      "cell_type": "code",
      "metadata": {
        "id": "dEyzfA-FaOKG",
        "colab": {
          "base_uri": "https://localhost:8080/"
        },
        "outputId": "b051673e-ecc7-4a6b-9b51-1a4bb07ebf56"
      },
      "source": [
        "arr_2d[:2, 1:]"
      ],
      "id": "dEyzfA-FaOKG",
      "execution_count": null,
      "outputs": [
        {
          "output_type": "execute_result",
          "data": {
            "text/plain": [
              "array([[17, 18, 19, 20, 21],\n",
              "       [24, 25, 26, 27, 28]])"
            ]
          },
          "metadata": {},
          "execution_count": 84
        }
      ]
    },
    {
      "cell_type": "code",
      "metadata": {
        "id": "MKhE3XWCaN_k",
        "colab": {
          "base_uri": "https://localhost:8080/"
        },
        "outputId": "48f30686-9262-4867-fd03-89bcd112fd22"
      },
      "source": [
        "arr_2d[1]"
      ],
      "id": "MKhE3XWCaN_k",
      "execution_count": null,
      "outputs": [
        {
          "output_type": "execute_result",
          "data": {
            "text/plain": [
              "array([23, 24, 25, 26, 27, 28])"
            ]
          },
          "metadata": {},
          "execution_count": 85
        }
      ]
    },
    {
      "cell_type": "code",
      "metadata": {
        "id": "ohCvm0gpbI5P",
        "colab": {
          "base_uri": "https://localhost:8080/"
        },
        "outputId": "91e77cc1-0474-4fae-808b-782448d9cac5"
      },
      "source": [
        "arr_2d[1,3]"
      ],
      "id": "ohCvm0gpbI5P",
      "execution_count": null,
      "outputs": [
        {
          "output_type": "execute_result",
          "data": {
            "text/plain": [
              "26"
            ]
          },
          "metadata": {},
          "execution_count": 88
        }
      ]
    },
    {
      "cell_type": "code",
      "metadata": {
        "id": "KeIsTlP7bbVu",
        "colab": {
          "base_uri": "https://localhost:8080/"
        },
        "outputId": "9a5a1322-f4dc-4cd5-82ce-731e068ab676"
      },
      "source": [
        "arr_2d = np.array((  [22,23,24,25,26,27,28], [29,30,31,32,33,34,35]  ))\n",
        "\n",
        "print(arr_2d)"
      ],
      "id": "KeIsTlP7bbVu",
      "execution_count": null,
      "outputs": [
        {
          "output_type": "stream",
          "name": "stdout",
          "text": [
            "[[22 23 24 25 26 27 28]\n",
            " [29 30 31 32 33 34 35]]\n"
          ]
        }
      ]
    },
    {
      "cell_type": "code",
      "metadata": {
        "id": "0u54WUpuYsyv",
        "colab": {
          "base_uri": "https://localhost:8080/"
        },
        "outputId": "f2adad03-0717-4379-d6e1-1585633995ea"
      },
      "source": [
        "arr_2d = np.array((  [ 2], [ 9], [ 16]))\n",
        "\n",
        "print(arr_2d)"
      ],
      "id": "0u54WUpuYsyv",
      "execution_count": null,
      "outputs": [
        {
          "output_type": "stream",
          "name": "stdout",
          "text": [
            "[[ 2]\n",
            " [ 9]\n",
            " [16]]\n"
          ]
        }
      ]
    },
    {
      "cell_type": "code",
      "metadata": {
        "id": "dsoV8I4reEcu",
        "colab": {
          "base_uri": "https://localhost:8080/"
        },
        "outputId": "869bd913-8eb5-48c4-cf20-108f1576fa06"
      },
      "source": [
        "print(matrix)"
      ],
      "id": "dsoV8I4reEcu",
      "execution_count": null,
      "outputs": [
        {
          "output_type": "stream",
          "name": "stdout",
          "text": [
            "[ 1  2  3  4  5  6  7  8  9 10 11 12 13 14 15 16 17 18 19 20 21 22 23 24\n",
            " 25 26 27 28 29 30 31 32 33 34 35 36 37 38 39 40 41 42 43 44 45 46 47 48\n",
            " 49]\n"
          ]
        }
      ]
    },
    {
      "cell_type": "code",
      "metadata": {
        "id": "z4C6M-FleZDt",
        "colab": {
          "base_uri": "https://localhost:8080/"
        },
        "outputId": "b5b7e867-5a9f-473b-f7ef-bef478df89d5"
      },
      "source": [
        "matrix[2:]"
      ],
      "id": "z4C6M-FleZDt",
      "execution_count": null,
      "outputs": [
        {
          "output_type": "execute_result",
          "data": {
            "text/plain": [
              "array([ 3,  4,  5,  6,  7,  8,  9, 10, 11, 12, 13, 14, 15, 16, 17, 18, 19,\n",
              "       20, 21, 22, 23, 24, 25, 26, 27, 28, 29, 30, 31, 32, 33, 34, 35, 36,\n",
              "       37, 38, 39, 40, 41, 42, 43, 44, 45, 46, 47, 48, 49])"
            ]
          },
          "metadata": {},
          "execution_count": 94
        }
      ]
    },
    {
      "cell_type": "code",
      "metadata": {
        "id": "8lbh9mfBerh9",
        "colab": {
          "base_uri": "https://localhost:8080/"
        },
        "outputId": "3a5c49a8-5e46-4dc5-c76a-193f3d64dd24"
      },
      "source": [
        "matrix = np.arange(1,50).reshape(7,7)\n",
        "print(matrix)"
      ],
      "id": "8lbh9mfBerh9",
      "execution_count": null,
      "outputs": [
        {
          "output_type": "stream",
          "name": "stdout",
          "text": [
            "[[ 1  2  3  4  5  6  7]\n",
            " [ 8  9 10 11 12 13 14]\n",
            " [15 16 17 18 19 20 21]\n",
            " [22 23 24 25 26 27 28]\n",
            " [29 30 31 32 33 34 35]\n",
            " [36 37 38 39 40 41 42]\n",
            " [43 44 45 46 47 48 49]]\n"
          ]
        }
      ]
    },
    {
      "cell_type": "code",
      "metadata": {
        "id": "kimVsejNesvz",
        "colab": {
          "base_uri": "https://localhost:8080/"
        },
        "outputId": "cedd5f8f-df96-45db-c03a-4d243cb8172c"
      },
      "source": [
        "matrix[2:, 1:]"
      ],
      "id": "kimVsejNesvz",
      "execution_count": null,
      "outputs": [
        {
          "output_type": "execute_result",
          "data": {
            "text/plain": [
              "array([[16, 17, 18, 19, 20, 21],\n",
              "       [23, 24, 25, 26, 27, 28],\n",
              "       [30, 31, 32, 33, 34, 35],\n",
              "       [37, 38, 39, 40, 41, 42],\n",
              "       [44, 45, 46, 47, 48, 49]])"
            ]
          },
          "metadata": {},
          "execution_count": 96
        }
      ]
    },
    {
      "cell_type": "code",
      "metadata": {
        "id": "5egIXaZoewVm",
        "colab": {
          "base_uri": "https://localhost:8080/"
        },
        "outputId": "1b5f7af2-51bd-4805-8115-441a5eda9f1b"
      },
      "source": [
        "matrix[3,4]"
      ],
      "id": "5egIXaZoewVm",
      "execution_count": null,
      "outputs": [
        {
          "output_type": "execute_result",
          "data": {
            "text/plain": [
              "26"
            ]
          },
          "metadata": {},
          "execution_count": 99
        }
      ]
    },
    {
      "cell_type": "code",
      "metadata": {
        "id": "1FfrZtuAfL1-",
        "colab": {
          "base_uri": "https://localhost:8080/"
        },
        "outputId": "e1f87ed0-6f61-47e6-a4a6-17a811bc0827"
      },
      "source": [
        "matrix[:3,1]"
      ],
      "id": "1FfrZtuAfL1-",
      "execution_count": null,
      "outputs": [
        {
          "output_type": "execute_result",
          "data": {
            "text/plain": [
              "array([ 2,  9, 16])"
            ]
          },
          "metadata": {},
          "execution_count": 101
        }
      ]
    },
    {
      "cell_type": "code",
      "metadata": {
        "id": "D3aecmaTfpWs",
        "colab": {
          "base_uri": "https://localhost:8080/"
        },
        "outputId": "d98b64f5-391e-4b75-d4d7-6f2c6181468e"
      },
      "source": [
        "matrix[3:5,:]"
      ],
      "id": "D3aecmaTfpWs",
      "execution_count": null,
      "outputs": [
        {
          "output_type": "execute_result",
          "data": {
            "text/plain": [
              "array([[22, 23, 24, 25, 26, 27, 28],\n",
              "       [29, 30, 31, 32, 33, 34, 35]])"
            ]
          },
          "metadata": {},
          "execution_count": 102
        }
      ]
    },
    {
      "cell_type": "markdown",
      "metadata": {
        "id": "I0Iuoktlgcre"
      },
      "source": [
        "### Fancy Indexing"
      ],
      "id": "I0Iuoktlgcre"
    },
    {
      "cell_type": "code",
      "metadata": {
        "id": "RveU14j2ggNL"
      },
      "source": [
        "arr2d = np.zeros((10,10))"
      ],
      "id": "RveU14j2ggNL",
      "execution_count": null,
      "outputs": []
    },
    {
      "cell_type": "code",
      "metadata": {
        "id": "xqshM5OhgvTo",
        "colab": {
          "base_uri": "https://localhost:8080/"
        },
        "outputId": "0c217e0c-abc7-4091-af06-a42dc523c651"
      },
      "source": [
        "arr2d"
      ],
      "id": "xqshM5OhgvTo",
      "execution_count": null,
      "outputs": [
        {
          "output_type": "execute_result",
          "data": {
            "text/plain": [
              "array([[0., 0., 0., 0., 0., 0., 0., 0., 0., 0.],\n",
              "       [0., 0., 0., 0., 0., 0., 0., 0., 0., 0.],\n",
              "       [0., 0., 0., 0., 0., 0., 0., 0., 0., 0.],\n",
              "       [0., 0., 0., 0., 0., 0., 0., 0., 0., 0.],\n",
              "       [0., 0., 0., 0., 0., 0., 0., 0., 0., 0.],\n",
              "       [0., 0., 0., 0., 0., 0., 0., 0., 0., 0.],\n",
              "       [0., 0., 0., 0., 0., 0., 0., 0., 0., 0.],\n",
              "       [0., 0., 0., 0., 0., 0., 0., 0., 0., 0.],\n",
              "       [0., 0., 0., 0., 0., 0., 0., 0., 0., 0.],\n",
              "       [0., 0., 0., 0., 0., 0., 0., 0., 0., 0.]])"
            ]
          },
          "metadata": {},
          "execution_count": 104
        }
      ]
    },
    {
      "cell_type": "code",
      "metadata": {
        "id": "gON-KOkegvPb",
        "colab": {
          "base_uri": "https://localhost:8080/"
        },
        "outputId": "1bfd779e-8fcd-498a-d56d-02805fcaa62d"
      },
      "source": [
        "arr_length = arr2d.shape[1]\n",
        "print(arr_length)"
      ],
      "id": "gON-KOkegvPb",
      "execution_count": null,
      "outputs": [
        {
          "output_type": "stream",
          "name": "stdout",
          "text": [
            "10\n"
          ]
        }
      ]
    },
    {
      "cell_type": "code",
      "metadata": {
        "id": "FvtpuxZ3gvLH",
        "colab": {
          "base_uri": "https://localhost:8080/"
        },
        "outputId": "8f69cbcd-e493-42df-9fae-ca4acbef862f"
      },
      "source": [
        "for i in range(arr_length):\n",
        "  arr2d[i] = i\n",
        "\n",
        "arr2d"
      ],
      "id": "FvtpuxZ3gvLH",
      "execution_count": null,
      "outputs": [
        {
          "output_type": "execute_result",
          "data": {
            "text/plain": [
              "array([[0., 0., 0., 0., 0., 0., 0., 0., 0., 0.],\n",
              "       [1., 1., 1., 1., 1., 1., 1., 1., 1., 1.],\n",
              "       [2., 2., 2., 2., 2., 2., 2., 2., 2., 2.],\n",
              "       [3., 3., 3., 3., 3., 3., 3., 3., 3., 3.],\n",
              "       [4., 4., 4., 4., 4., 4., 4., 4., 4., 4.],\n",
              "       [5., 5., 5., 5., 5., 5., 5., 5., 5., 5.],\n",
              "       [6., 6., 6., 6., 6., 6., 6., 6., 6., 6.],\n",
              "       [7., 7., 7., 7., 7., 7., 7., 7., 7., 7.],\n",
              "       [8., 8., 8., 8., 8., 8., 8., 8., 8., 8.],\n",
              "       [9., 9., 9., 9., 9., 9., 9., 9., 9., 9.]])"
            ]
          },
          "metadata": {},
          "execution_count": 107
        }
      ]
    },
    {
      "cell_type": "code",
      "metadata": {
        "id": "HjLpCjJSgvGe",
        "colab": {
          "base_uri": "https://localhost:8080/"
        },
        "outputId": "d64a4dd2-1ded-4f24-eedf-e3bcdaa4cc13"
      },
      "source": [
        "arr2d[[ 2,4,6,8 ]]"
      ],
      "id": "HjLpCjJSgvGe",
      "execution_count": null,
      "outputs": [
        {
          "output_type": "execute_result",
          "data": {
            "text/plain": [
              "array([[2., 2., 2., 2., 2., 2., 2., 2., 2., 2.],\n",
              "       [4., 4., 4., 4., 4., 4., 4., 4., 4., 4.],\n",
              "       [6., 6., 6., 6., 6., 6., 6., 6., 6., 6.],\n",
              "       [8., 8., 8., 8., 8., 8., 8., 8., 8., 8.]])"
            ]
          },
          "metadata": {},
          "execution_count": 108
        }
      ]
    },
    {
      "cell_type": "markdown",
      "metadata": {
        "id": "ee3mb_8AlJAx"
      },
      "source": [
        "### Selection"
      ],
      "id": "ee3mb_8AlJAx"
    },
    {
      "cell_type": "code",
      "metadata": {
        "id": "1Gr0jsX1gvCt",
        "colab": {
          "base_uri": "https://localhost:8080/"
        },
        "outputId": "8da18212-3da1-4ce4-fafa-89a135e46c80"
      },
      "source": [
        "arr = np.arange(1,11)\n",
        "arr"
      ],
      "id": "1Gr0jsX1gvCt",
      "execution_count": null,
      "outputs": [
        {
          "output_type": "execute_result",
          "data": {
            "text/plain": [
              "array([ 1,  2,  3,  4,  5,  6,  7,  8,  9, 10])"
            ]
          },
          "metadata": {},
          "execution_count": 109
        }
      ]
    },
    {
      "cell_type": "code",
      "metadata": {
        "id": "oPksdzyblQYU",
        "colab": {
          "base_uri": "https://localhost:8080/"
        },
        "outputId": "9dbd0170-d74e-4c9c-f555-3f2b2ef2df8a"
      },
      "source": [
        "arr > 4"
      ],
      "id": "oPksdzyblQYU",
      "execution_count": null,
      "outputs": [
        {
          "output_type": "execute_result",
          "data": {
            "text/plain": [
              "array([False, False, False, False,  True,  True,  True,  True,  True,\n",
              "        True])"
            ]
          },
          "metadata": {},
          "execution_count": 110
        }
      ]
    },
    {
      "cell_type": "code",
      "metadata": {
        "id": "36D1uDAalQVC"
      },
      "source": [
        "bool_arr = arr > 4"
      ],
      "id": "36D1uDAalQVC",
      "execution_count": null,
      "outputs": []
    },
    {
      "cell_type": "code",
      "metadata": {
        "id": "6sWenIUolQRB",
        "colab": {
          "base_uri": "https://localhost:8080/"
        },
        "outputId": "008dec4b-3436-42df-83fa-cb7610238341"
      },
      "source": [
        "arr[bool_arr]"
      ],
      "id": "6sWenIUolQRB",
      "execution_count": null,
      "outputs": [
        {
          "output_type": "execute_result",
          "data": {
            "text/plain": [
              "array([ 5,  6,  7,  8,  9, 10])"
            ]
          },
          "metadata": {},
          "execution_count": 113
        }
      ]
    },
    {
      "cell_type": "code",
      "metadata": {
        "id": "DvGw3KsqlQNY",
        "colab": {
          "base_uri": "https://localhost:8080/"
        },
        "outputId": "6cd8fc2d-b02d-4cb0-b16d-f3440b46efa6"
      },
      "source": [
        "x = 2\n",
        "arr[arr>x]"
      ],
      "id": "DvGw3KsqlQNY",
      "execution_count": null,
      "outputs": [
        {
          "output_type": "execute_result",
          "data": {
            "text/plain": [
              "array([ 3,  4,  5,  6,  7,  8,  9, 10])"
            ]
          },
          "metadata": {},
          "execution_count": 114
        }
      ]
    },
    {
      "cell_type": "markdown",
      "metadata": {
        "id": "3cK8azCcmK4P"
      },
      "source": [
        "### Aritmetic"
      ],
      "id": "3cK8azCcmK4P"
    },
    {
      "cell_type": "code",
      "metadata": {
        "id": "caIcwqfUlQGS"
      },
      "source": [
        "arr = np.arange(0,10)"
      ],
      "id": "caIcwqfUlQGS",
      "execution_count": null,
      "outputs": []
    },
    {
      "cell_type": "code",
      "metadata": {
        "id": "jSMLPeJ0lP7X",
        "colab": {
          "base_uri": "https://localhost:8080/"
        },
        "outputId": "775f784f-eaa2-4be0-c3cf-c4aa1a12477e"
      },
      "source": [
        "arr + arr"
      ],
      "id": "jSMLPeJ0lP7X",
      "execution_count": null,
      "outputs": [
        {
          "output_type": "execute_result",
          "data": {
            "text/plain": [
              "array([ 0,  2,  4,  6,  8, 10, 12, 14, 16, 18])"
            ]
          },
          "metadata": {},
          "execution_count": 116
        }
      ]
    },
    {
      "cell_type": "code",
      "metadata": {
        "id": "mwne-K2klP3r",
        "colab": {
          "base_uri": "https://localhost:8080/"
        },
        "outputId": "f3616a64-d87f-4e67-e240-59c97a9b64b7"
      },
      "source": [
        "arr * arr"
      ],
      "id": "mwne-K2klP3r",
      "execution_count": null,
      "outputs": [
        {
          "output_type": "execute_result",
          "data": {
            "text/plain": [
              "array([ 0,  1,  4,  9, 16, 25, 36, 49, 64, 81])"
            ]
          },
          "metadata": {},
          "execution_count": 117
        }
      ]
    },
    {
      "cell_type": "code",
      "metadata": {
        "id": "BBnpIpY_lP0M",
        "colab": {
          "base_uri": "https://localhost:8080/"
        },
        "outputId": "cb05fcb0-664c-468b-8ff5-3dd8a9843d7d"
      },
      "source": [
        "arr - arr"
      ],
      "id": "BBnpIpY_lP0M",
      "execution_count": null,
      "outputs": [
        {
          "output_type": "execute_result",
          "data": {
            "text/plain": [
              "array([0, 0, 0, 0, 0, 0, 0, 0, 0, 0])"
            ]
          },
          "metadata": {},
          "execution_count": 118
        }
      ]
    },
    {
      "cell_type": "code",
      "metadata": {
        "id": "nKvEn3xYlPva",
        "colab": {
          "base_uri": "https://localhost:8080/"
        },
        "outputId": "112dd6aa-2aff-4e96-c050-557245de9ca0"
      },
      "source": [
        "arr / arr"
      ],
      "id": "nKvEn3xYlPva",
      "execution_count": null,
      "outputs": [
        {
          "output_type": "stream",
          "name": "stderr",
          "text": [
            "/usr/local/lib/python3.7/dist-packages/ipykernel_launcher.py:1: RuntimeWarning: invalid value encountered in true_divide\n",
            "  \"\"\"Entry point for launching an IPython kernel.\n"
          ]
        },
        {
          "output_type": "execute_result",
          "data": {
            "text/plain": [
              "array([nan,  1.,  1.,  1.,  1.,  1.,  1.,  1.,  1.,  1.])"
            ]
          },
          "metadata": {},
          "execution_count": 119
        }
      ]
    },
    {
      "cell_type": "code",
      "metadata": {
        "id": "10DUal6_lPrk",
        "colab": {
          "base_uri": "https://localhost:8080/"
        },
        "outputId": "0775fddc-007d-49fc-9a96-776522f940f6"
      },
      "source": [
        "1/arr "
      ],
      "id": "10DUal6_lPrk",
      "execution_count": null,
      "outputs": [
        {
          "output_type": "stream",
          "name": "stderr",
          "text": [
            "/usr/local/lib/python3.7/dist-packages/ipykernel_launcher.py:1: RuntimeWarning: divide by zero encountered in true_divide\n",
            "  \"\"\"Entry point for launching an IPython kernel.\n"
          ]
        },
        {
          "output_type": "execute_result",
          "data": {
            "text/plain": [
              "array([       inf, 1.        , 0.5       , 0.33333333, 0.25      ,\n",
              "       0.2       , 0.16666667, 0.14285714, 0.125     , 0.11111111])"
            ]
          },
          "metadata": {},
          "execution_count": 120
        }
      ]
    },
    {
      "cell_type": "code",
      "metadata": {
        "id": "8rYpI7A6lPmJ",
        "colab": {
          "base_uri": "https://localhost:8080/"
        },
        "outputId": "ba4dc557-1ab2-4006-8ccc-71e5e0ab03e2"
      },
      "source": [
        "arr ** 3"
      ],
      "id": "8rYpI7A6lPmJ",
      "execution_count": null,
      "outputs": [
        {
          "output_type": "execute_result",
          "data": {
            "text/plain": [
              "array([  0,   1,   8,  27,  64, 125, 216, 343, 512, 729])"
            ]
          },
          "metadata": {},
          "execution_count": 121
        }
      ]
    },
    {
      "cell_type": "markdown",
      "metadata": {
        "id": "vacZfEo9ntl8"
      },
      "source": [
        "## Universal Array Functions"
      ],
      "id": "vacZfEo9ntl8"
    },
    {
      "cell_type": "code",
      "metadata": {
        "id": "iK5J6ojllPhN",
        "colab": {
          "base_uri": "https://localhost:8080/"
        },
        "outputId": "404582b2-5f1c-4081-a698-3927e24f7f97"
      },
      "source": [
        "#square root\n",
        "np.sqrt(arr)"
      ],
      "id": "iK5J6ojllPhN",
      "execution_count": null,
      "outputs": [
        {
          "output_type": "execute_result",
          "data": {
            "text/plain": [
              "array([0.        , 1.        , 1.41421356, 1.73205081, 2.        ,\n",
              "       2.23606798, 2.44948974, 2.64575131, 2.82842712, 3.        ])"
            ]
          },
          "metadata": {},
          "execution_count": 122
        }
      ]
    },
    {
      "cell_type": "code",
      "metadata": {
        "id": "wSEBa1kylPa8",
        "colab": {
          "base_uri": "https://localhost:8080/"
        },
        "outputId": "bb64aefc-318a-43da-89b9-3888bdf3fd24"
      },
      "source": [
        "#exponential (e^)\n",
        "np.exp(arr)"
      ],
      "id": "wSEBa1kylPa8",
      "execution_count": null,
      "outputs": [
        {
          "output_type": "execute_result",
          "data": {
            "text/plain": [
              "array([1.00000000e+00, 2.71828183e+00, 7.38905610e+00, 2.00855369e+01,\n",
              "       5.45981500e+01, 1.48413159e+02, 4.03428793e+02, 1.09663316e+03,\n",
              "       2.98095799e+03, 8.10308393e+03])"
            ]
          },
          "metadata": {},
          "execution_count": 123
        }
      ]
    },
    {
      "cell_type": "code",
      "metadata": {
        "id": "PGL02Vhtn0D6",
        "colab": {
          "base_uri": "https://localhost:8080/"
        },
        "outputId": "a1947c43-7a81-4d24-cc9b-da2fb947382b"
      },
      "source": [
        "np.max(arr) #arr.max"
      ],
      "id": "PGL02Vhtn0D6",
      "execution_count": null,
      "outputs": [
        {
          "output_type": "execute_result",
          "data": {
            "text/plain": [
              "9"
            ]
          },
          "metadata": {},
          "execution_count": 124
        }
      ]
    },
    {
      "cell_type": "code",
      "metadata": {
        "id": "EsqvmthLnz6x",
        "colab": {
          "base_uri": "https://localhost:8080/"
        },
        "outputId": "7336e7da-a712-40b1-821a-df2a062f87d8"
      },
      "source": [
        "np.sin(arr)"
      ],
      "id": "EsqvmthLnz6x",
      "execution_count": null,
      "outputs": [
        {
          "output_type": "execute_result",
          "data": {
            "text/plain": [
              "array([ 0.        ,  0.84147098,  0.90929743,  0.14112001, -0.7568025 ,\n",
              "       -0.95892427, -0.2794155 ,  0.6569866 ,  0.98935825,  0.41211849])"
            ]
          },
          "metadata": {},
          "execution_count": 125
        }
      ]
    },
    {
      "cell_type": "code",
      "metadata": {
        "id": "x8VvjonFoYAq",
        "colab": {
          "base_uri": "https://localhost:8080/"
        },
        "outputId": "82ca847f-99a9-47d7-870b-bc2c0004c734"
      },
      "source": [
        "np.log(arr)"
      ],
      "id": "x8VvjonFoYAq",
      "execution_count": null,
      "outputs": [
        {
          "output_type": "stream",
          "name": "stderr",
          "text": [
            "/usr/local/lib/python3.7/dist-packages/ipykernel_launcher.py:1: RuntimeWarning: divide by zero encountered in log\n",
            "  \"\"\"Entry point for launching an IPython kernel.\n"
          ]
        },
        {
          "output_type": "execute_result",
          "data": {
            "text/plain": [
              "array([      -inf, 0.        , 0.69314718, 1.09861229, 1.38629436,\n",
              "       1.60943791, 1.79175947, 1.94591015, 2.07944154, 2.19722458])"
            ]
          },
          "metadata": {},
          "execution_count": 126
        }
      ]
    },
    {
      "cell_type": "code",
      "metadata": {
        "id": "sWDZYOp3oXun",
        "colab": {
          "base_uri": "https://localhost:8080/"
        },
        "outputId": "52b691d7-f550-44ae-e562-a1471adb4a1e"
      },
      "source": [
        "print(matrix)"
      ],
      "id": "sWDZYOp3oXun",
      "execution_count": null,
      "outputs": [
        {
          "output_type": "stream",
          "name": "stdout",
          "text": [
            "[[ 1  2  3  4  5  6  7]\n",
            " [ 8  9 10 11 12 13 14]\n",
            " [15 16 17 18 19 20 21]\n",
            " [22 23 24 25 26 27 28]\n",
            " [29 30 31 32 33 34 35]\n",
            " [36 37 38 39 40 41 42]\n",
            " [43 44 45 46 47 48 49]]\n"
          ]
        }
      ]
    },
    {
      "cell_type": "code",
      "metadata": {
        "id": "RCZIZUqRoXjw"
      },
      "source": [
        "## For next week.\n",
        "Ex8) get the sum of all the values in the matrix\n",
        "\n",
        ">>1225"
      ],
      "id": "RCZIZUqRoXjw",
      "execution_count": null,
      "outputs": []
    },
    {
      "cell_type": "code",
      "metadata": {
        "id": "g663ofUBpLYK"
      },
      "source": [
        "Ex9) Get the standard deviation of the values in matrix\n",
        "\n",
        ">>14.1421..."
      ],
      "id": "g663ofUBpLYK",
      "execution_count": null,
      "outputs": []
    },
    {
      "cell_type": "code",
      "metadata": {
        "id": "XaCB13y6pLAK"
      },
      "source": [
        "Ex10) Get the sum of all the colums in the matrix\n",
        "\n",
        ">>array([154,161,168,175,189,196])"
      ],
      "id": "XaCB13y6pLAK",
      "execution_count": null,
      "outputs": []
    },
    {
      "cell_type": "markdown",
      "metadata": {
        "id": "9m-LrtJKkmtV"
      },
      "source": [
        "#Pandas"
      ],
      "id": "9m-LrtJKkmtV"
    },
    {
      "cell_type": "markdown",
      "metadata": {
        "id": "JsT1U6BKkqwT"
      },
      "source": [
        "##Series"
      ],
      "id": "JsT1U6BKkqwT"
    },
    {
      "cell_type": "code",
      "metadata": {
        "id": "KXof8fGTpK1w"
      },
      "source": [
        "import numpy as np\n",
        "import pandas as pd"
      ],
      "id": "KXof8fGTpK1w",
      "execution_count": 7,
      "outputs": []
    },
    {
      "cell_type": "markdown",
      "metadata": {
        "id": "IlK3yr18k8zE"
      },
      "source": [
        "### Creating a Series"
      ],
      "id": "IlK3yr18k8zE"
    },
    {
      "cell_type": "code",
      "metadata": {
        "id": "IQOSwethpKxY"
      },
      "source": [
        "lables = ['a','b','c'] #list of lables\n",
        "my_list = [10,20,30] #list\n",
        "arr = np.array([10,20,30]) #numpy array\n",
        "d = {'a':10, 'b':20, 'c':30}"
      ],
      "id": "IQOSwethpKxY",
      "execution_count": 17,
      "outputs": []
    },
    {
      "cell_type": "code",
      "metadata": {
        "id": "DhTUq-HZlFdS",
        "colab": {
          "base_uri": "https://localhost:8080/"
        },
        "outputId": "c2b95329-525d-427d-940a-1307e70ea44d"
      },
      "source": [
        "#using Lists\n",
        "pd.Series(data=my_list)"
      ],
      "id": "DhTUq-HZlFdS",
      "execution_count": 18,
      "outputs": [
        {
          "output_type": "execute_result",
          "data": {
            "text/plain": [
              "0    10\n",
              "1    20\n",
              "2    30\n",
              "dtype: int64"
            ]
          },
          "metadata": {},
          "execution_count": 18
        }
      ]
    },
    {
      "cell_type": "code",
      "metadata": {
        "id": "mLypoXfolFZ4",
        "colab": {
          "base_uri": "https://localhost:8080/"
        },
        "outputId": "560a5a53-c91d-45b0-aa25-18cadbe7da06"
      },
      "source": [
        "pd.Series(data=my_list, index=lables)"
      ],
      "id": "mLypoXfolFZ4",
      "execution_count": 19,
      "outputs": [
        {
          "output_type": "execute_result",
          "data": {
            "text/plain": [
              "a    10\n",
              "b    20\n",
              "c    30\n",
              "dtype: int64"
            ]
          },
          "metadata": {},
          "execution_count": 19
        }
      ]
    },
    {
      "cell_type": "code",
      "metadata": {
        "id": "9PzNZAlKlFXC",
        "colab": {
          "base_uri": "https://localhost:8080/"
        },
        "outputId": "64e4859e-57f1-403d-e5ce-3b4c7a41800e"
      },
      "source": [
        "pd.Series(my_list,lables)"
      ],
      "id": "9PzNZAlKlFXC",
      "execution_count": 20,
      "outputs": [
        {
          "output_type": "execute_result",
          "data": {
            "text/plain": [
              "a    10\n",
              "b    20\n",
              "c    30\n",
              "dtype: int64"
            ]
          },
          "metadata": {},
          "execution_count": 20
        }
      ]
    },
    {
      "cell_type": "code",
      "metadata": {
        "id": "p6WIyzeQlFLj",
        "colab": {
          "base_uri": "https://localhost:8080/"
        },
        "outputId": "28fb0c7c-f0cc-4940-f8bb-6bf301e4813d"
      },
      "source": [
        "#using Numpy arrays\n",
        "pd.Series(arr)"
      ],
      "id": "p6WIyzeQlFLj",
      "execution_count": 21,
      "outputs": [
        {
          "output_type": "execute_result",
          "data": {
            "text/plain": [
              "0    10\n",
              "1    20\n",
              "2    30\n",
              "dtype: int64"
            ]
          },
          "metadata": {},
          "execution_count": 21
        }
      ]
    },
    {
      "cell_type": "code",
      "metadata": {
        "id": "KjFYZCwslFIP",
        "colab": {
          "base_uri": "https://localhost:8080/"
        },
        "outputId": "38a1efa9-843b-4d16-8cea-b506e28fbb85"
      },
      "source": [
        "pd.Series(arr,lables)"
      ],
      "id": "KjFYZCwslFIP",
      "execution_count": 22,
      "outputs": [
        {
          "output_type": "execute_result",
          "data": {
            "text/plain": [
              "a    10\n",
              "b    20\n",
              "c    30\n",
              "dtype: int64"
            ]
          },
          "metadata": {},
          "execution_count": 22
        }
      ]
    },
    {
      "cell_type": "code",
      "metadata": {
        "id": "uZAiQ7f7lFCf",
        "colab": {
          "base_uri": "https://localhost:8080/"
        },
        "outputId": "c31b621e-29a8-4f09-92f7-64eb111962a4"
      },
      "source": [
        "#using Dictionary\n",
        "pd.Series(d)"
      ],
      "id": "uZAiQ7f7lFCf",
      "execution_count": 23,
      "outputs": [
        {
          "output_type": "execute_result",
          "data": {
            "text/plain": [
              "a    10\n",
              "b    20\n",
              "c    30\n",
              "dtype: int64"
            ]
          },
          "metadata": {},
          "execution_count": 23
        }
      ]
    },
    {
      "cell_type": "markdown",
      "metadata": {
        "id": "3pIcVqsFo9AX"
      },
      "source": [
        "### Data in a Series"
      ],
      "id": "3pIcVqsFo9AX"
    },
    {
      "cell_type": "code",
      "metadata": {
        "id": "eFqLeeFelE-1",
        "colab": {
          "base_uri": "https://localhost:8080/"
        },
        "outputId": "c6044181-a577-45af-fa8e-90197114ee7a"
      },
      "source": [
        "pd.Series(data = lables)"
      ],
      "id": "eFqLeeFelE-1",
      "execution_count": 15,
      "outputs": [
        {
          "output_type": "execute_result",
          "data": {
            "text/plain": [
              "0    a\n",
              "1    b\n",
              "2    c\n",
              "dtype: object"
            ]
          },
          "metadata": {},
          "execution_count": 15
        }
      ]
    },
    {
      "cell_type": "code",
      "metadata": {
        "id": "zzUB5_XIlE8U",
        "colab": {
          "base_uri": "https://localhost:8080/"
        },
        "outputId": "d6e9308c-5173-4f0d-f32f-7d083db36e14"
      },
      "source": [
        "pd.Series([sum,print,len])"
      ],
      "id": "zzUB5_XIlE8U",
      "execution_count": 16,
      "outputs": [
        {
          "output_type": "execute_result",
          "data": {
            "text/plain": [
              "0      <built-in function sum>\n",
              "1    <built-in function print>\n",
              "2      <built-in function len>\n",
              "dtype: object"
            ]
          },
          "metadata": {},
          "execution_count": 16
        }
      ]
    },
    {
      "cell_type": "markdown",
      "metadata": {
        "id": "5ZGyz9m6pgar"
      },
      "source": [
        "###Using an Index"
      ],
      "id": "5ZGyz9m6pgar"
    },
    {
      "cell_type": "code",
      "metadata": {
        "id": "gxdM7FMSpL4O",
        "colab": {
          "base_uri": "https://localhost:8080/"
        },
        "outputId": "49f363af-2b1d-4589-8931-752946b07a40"
      },
      "source": [
        "ser1 = pd.Series([1,2,3,4],index=['Incheon','Suwon','Seoul','Busan'])\n",
        "print(ser1)"
      ],
      "id": "gxdM7FMSpL4O",
      "execution_count": 24,
      "outputs": [
        {
          "output_type": "stream",
          "name": "stdout",
          "text": [
            "Incheon    1\n",
            "Suwon      2\n",
            "Seoul      3\n",
            "Busan      4\n",
            "dtype: int64\n"
          ]
        }
      ]
    },
    {
      "cell_type": "code",
      "metadata": {
        "id": "ZHzSNXbfpLr2",
        "colab": {
          "base_uri": "https://localhost:8080/"
        },
        "outputId": "50cde844-e8c5-4f4f-a8cb-b1fd7eaf4bbc"
      },
      "source": [
        "ser2 = pd.Series([1,2,5,4],index = ['Incheon','Suwon','Seoul','Busan'])\n",
        "print(ser2)"
      ],
      "id": "ZHzSNXbfpLr2",
      "execution_count": 25,
      "outputs": [
        {
          "output_type": "stream",
          "name": "stdout",
          "text": [
            "Incheon    1\n",
            "Suwon      2\n",
            "Seoul      5\n",
            "Busan      4\n",
            "dtype: int64\n"
          ]
        }
      ]
    },
    {
      "cell_type": "code",
      "metadata": {
        "id": "mQ29bBWdpLnX",
        "colab": {
          "base_uri": "https://localhost:8080/"
        },
        "outputId": "0bd7e0d7-6c44-4b7d-ae6a-98d8734d74b9"
      },
      "source": [
        "ser1['Incheon']"
      ],
      "id": "mQ29bBWdpLnX",
      "execution_count": 26,
      "outputs": [
        {
          "output_type": "execute_result",
          "data": {
            "text/plain": [
              "1"
            ]
          },
          "metadata": {},
          "execution_count": 26
        }
      ]
    },
    {
      "cell_type": "code",
      "metadata": {
        "id": "JuXZYmoopnby",
        "colab": {
          "base_uri": "https://localhost:8080/"
        },
        "outputId": "6cab426e-b96a-4602-e142-aef62b46979d"
      },
      "source": [
        "ser1 + ser2"
      ],
      "id": "JuXZYmoopnby",
      "execution_count": 27,
      "outputs": [
        {
          "output_type": "execute_result",
          "data": {
            "text/plain": [
              "Incheon    2\n",
              "Suwon      4\n",
              "Seoul      8\n",
              "Busan      8\n",
              "dtype: int64"
            ]
          },
          "metadata": {},
          "execution_count": 27
        }
      ]
    },
    {
      "cell_type": "markdown",
      "metadata": {
        "id": "GLeXu5E9sQKT"
      },
      "source": [
        "## DataFrames"
      ],
      "id": "GLeXu5E9sQKT"
    },
    {
      "cell_type": "code",
      "metadata": {
        "id": "zXXvNiinpnZp"
      },
      "source": [
        "from numpy.random import randn\n",
        "np.random.seed(101)\n"
      ],
      "id": "zXXvNiinpnZp",
      "execution_count": 28,
      "outputs": []
    },
    {
      "cell_type": "code",
      "metadata": {
        "id": "3Wqf2zJ-pnXL"
      },
      "source": [
        "df = pd.DataFrame(randn(5,4), index = 'A B C D E'.split(), columns = 'W X Y Z'.split() )"
      ],
      "id": "3Wqf2zJ-pnXL",
      "execution_count": 29,
      "outputs": []
    },
    {
      "cell_type": "code",
      "metadata": {
        "id": "b3RgqJGPpnU-",
        "colab": {
          "base_uri": "https://localhost:8080/",
          "height": 206
        },
        "outputId": "59632e0c-f609-46ee-f989-025e78e68cd3"
      },
      "source": [
        "df"
      ],
      "id": "b3RgqJGPpnU-",
      "execution_count": 30,
      "outputs": [
        {
          "output_type": "execute_result",
          "data": {
            "text/html": [
              "<div>\n",
              "<style scoped>\n",
              "    .dataframe tbody tr th:only-of-type {\n",
              "        vertical-align: middle;\n",
              "    }\n",
              "\n",
              "    .dataframe tbody tr th {\n",
              "        vertical-align: top;\n",
              "    }\n",
              "\n",
              "    .dataframe thead th {\n",
              "        text-align: right;\n",
              "    }\n",
              "</style>\n",
              "<table border=\"1\" class=\"dataframe\">\n",
              "  <thead>\n",
              "    <tr style=\"text-align: right;\">\n",
              "      <th></th>\n",
              "      <th>W</th>\n",
              "      <th>X</th>\n",
              "      <th>Y</th>\n",
              "      <th>Z</th>\n",
              "    </tr>\n",
              "  </thead>\n",
              "  <tbody>\n",
              "    <tr>\n",
              "      <th>A</th>\n",
              "      <td>2.706850</td>\n",
              "      <td>0.628133</td>\n",
              "      <td>0.907969</td>\n",
              "      <td>0.503826</td>\n",
              "    </tr>\n",
              "    <tr>\n",
              "      <th>B</th>\n",
              "      <td>0.651118</td>\n",
              "      <td>-0.319318</td>\n",
              "      <td>-0.848077</td>\n",
              "      <td>0.605965</td>\n",
              "    </tr>\n",
              "    <tr>\n",
              "      <th>C</th>\n",
              "      <td>-2.018168</td>\n",
              "      <td>0.740122</td>\n",
              "      <td>0.528813</td>\n",
              "      <td>-0.589001</td>\n",
              "    </tr>\n",
              "    <tr>\n",
              "      <th>D</th>\n",
              "      <td>0.188695</td>\n",
              "      <td>-0.758872</td>\n",
              "      <td>-0.933237</td>\n",
              "      <td>0.955057</td>\n",
              "    </tr>\n",
              "    <tr>\n",
              "      <th>E</th>\n",
              "      <td>0.190794</td>\n",
              "      <td>1.978757</td>\n",
              "      <td>2.605967</td>\n",
              "      <td>0.683509</td>\n",
              "    </tr>\n",
              "  </tbody>\n",
              "</table>\n",
              "</div>"
            ],
            "text/plain": [
              "          W         X         Y         Z\n",
              "A  2.706850  0.628133  0.907969  0.503826\n",
              "B  0.651118 -0.319318 -0.848077  0.605965\n",
              "C -2.018168  0.740122  0.528813 -0.589001\n",
              "D  0.188695 -0.758872 -0.933237  0.955057\n",
              "E  0.190794  1.978757  2.605967  0.683509"
            ]
          },
          "metadata": {},
          "execution_count": 30
        }
      ]
    },
    {
      "cell_type": "markdown",
      "metadata": {
        "id": "zRDZ5gzLt_HJ"
      },
      "source": [
        "### Selction and Indexing"
      ],
      "id": "zRDZ5gzLt_HJ"
    },
    {
      "cell_type": "code",
      "metadata": {
        "id": "vkq1dBfKpnTA",
        "colab": {
          "base_uri": "https://localhost:8080/"
        },
        "outputId": "3fd63dfa-1a48-451a-99c2-a27e202008ae"
      },
      "source": [
        "df['W']"
      ],
      "id": "vkq1dBfKpnTA",
      "execution_count": 31,
      "outputs": [
        {
          "output_type": "execute_result",
          "data": {
            "text/plain": [
              "A    2.706850\n",
              "B    0.651118\n",
              "C   -2.018168\n",
              "D    0.188695\n",
              "E    0.190794\n",
              "Name: W, dtype: float64"
            ]
          },
          "metadata": {},
          "execution_count": 31
        }
      ]
    },
    {
      "cell_type": "code",
      "metadata": {
        "id": "sMAJXGWMpnOb",
        "colab": {
          "base_uri": "https://localhost:8080/",
          "height": 206
        },
        "outputId": "ccaf54e6-32c4-4825-e7bc-0e0ab9295211"
      },
      "source": [
        "#Pass a list of col names\n",
        "\n",
        "df[['W','Z']]"
      ],
      "id": "sMAJXGWMpnOb",
      "execution_count": 32,
      "outputs": [
        {
          "output_type": "execute_result",
          "data": {
            "text/html": [
              "<div>\n",
              "<style scoped>\n",
              "    .dataframe tbody tr th:only-of-type {\n",
              "        vertical-align: middle;\n",
              "    }\n",
              "\n",
              "    .dataframe tbody tr th {\n",
              "        vertical-align: top;\n",
              "    }\n",
              "\n",
              "    .dataframe thead th {\n",
              "        text-align: right;\n",
              "    }\n",
              "</style>\n",
              "<table border=\"1\" class=\"dataframe\">\n",
              "  <thead>\n",
              "    <tr style=\"text-align: right;\">\n",
              "      <th></th>\n",
              "      <th>W</th>\n",
              "      <th>Z</th>\n",
              "    </tr>\n",
              "  </thead>\n",
              "  <tbody>\n",
              "    <tr>\n",
              "      <th>A</th>\n",
              "      <td>2.706850</td>\n",
              "      <td>0.503826</td>\n",
              "    </tr>\n",
              "    <tr>\n",
              "      <th>B</th>\n",
              "      <td>0.651118</td>\n",
              "      <td>0.605965</td>\n",
              "    </tr>\n",
              "    <tr>\n",
              "      <th>C</th>\n",
              "      <td>-2.018168</td>\n",
              "      <td>-0.589001</td>\n",
              "    </tr>\n",
              "    <tr>\n",
              "      <th>D</th>\n",
              "      <td>0.188695</td>\n",
              "      <td>0.955057</td>\n",
              "    </tr>\n",
              "    <tr>\n",
              "      <th>E</th>\n",
              "      <td>0.190794</td>\n",
              "      <td>0.683509</td>\n",
              "    </tr>\n",
              "  </tbody>\n",
              "</table>\n",
              "</div>"
            ],
            "text/plain": [
              "          W         Z\n",
              "A  2.706850  0.503826\n",
              "B  0.651118  0.605965\n",
              "C -2.018168 -0.589001\n",
              "D  0.188695  0.955057\n",
              "E  0.190794  0.683509"
            ]
          },
          "metadata": {},
          "execution_count": 32
        }
      ]
    },
    {
      "cell_type": "code",
      "metadata": {
        "id": "17p78vUzpnMJ",
        "colab": {
          "base_uri": "https://localhost:8080/"
        },
        "outputId": "09a5b028-329a-4d73-84c2-289c17acb364"
      },
      "source": [
        "#I don't recommend this:\n",
        "\n",
        "df.W"
      ],
      "id": "17p78vUzpnMJ",
      "execution_count": 33,
      "outputs": [
        {
          "output_type": "execute_result",
          "data": {
            "text/plain": [
              "A    2.706850\n",
              "B    0.651118\n",
              "C   -2.018168\n",
              "D    0.188695\n",
              "E    0.190794\n",
              "Name: W, dtype: float64"
            ]
          },
          "metadata": {},
          "execution_count": 33
        }
      ]
    },
    {
      "cell_type": "code",
      "metadata": {
        "id": "brrOUX5opnJc",
        "colab": {
          "base_uri": "https://localhost:8080/"
        },
        "outputId": "3faeb490-5e97-4687-9687-e89fdb68f3d8"
      },
      "source": [
        "type(df['W'])"
      ],
      "id": "brrOUX5opnJc",
      "execution_count": 34,
      "outputs": [
        {
          "output_type": "execute_result",
          "data": {
            "text/plain": [
              "pandas.core.series.Series"
            ]
          },
          "metadata": {},
          "execution_count": 34
        }
      ]
    },
    {
      "cell_type": "code",
      "metadata": {
        "id": "ubuWqIx3pnGM",
        "colab": {
          "base_uri": "https://localhost:8080/",
          "height": 206
        },
        "outputId": "6746f1ef-cec6-4178-bdf2-a3e3dee824ee"
      },
      "source": [
        "df"
      ],
      "id": "ubuWqIx3pnGM",
      "execution_count": 35,
      "outputs": [
        {
          "output_type": "execute_result",
          "data": {
            "text/html": [
              "<div>\n",
              "<style scoped>\n",
              "    .dataframe tbody tr th:only-of-type {\n",
              "        vertical-align: middle;\n",
              "    }\n",
              "\n",
              "    .dataframe tbody tr th {\n",
              "        vertical-align: top;\n",
              "    }\n",
              "\n",
              "    .dataframe thead th {\n",
              "        text-align: right;\n",
              "    }\n",
              "</style>\n",
              "<table border=\"1\" class=\"dataframe\">\n",
              "  <thead>\n",
              "    <tr style=\"text-align: right;\">\n",
              "      <th></th>\n",
              "      <th>W</th>\n",
              "      <th>X</th>\n",
              "      <th>Y</th>\n",
              "      <th>Z</th>\n",
              "    </tr>\n",
              "  </thead>\n",
              "  <tbody>\n",
              "    <tr>\n",
              "      <th>A</th>\n",
              "      <td>2.706850</td>\n",
              "      <td>0.628133</td>\n",
              "      <td>0.907969</td>\n",
              "      <td>0.503826</td>\n",
              "    </tr>\n",
              "    <tr>\n",
              "      <th>B</th>\n",
              "      <td>0.651118</td>\n",
              "      <td>-0.319318</td>\n",
              "      <td>-0.848077</td>\n",
              "      <td>0.605965</td>\n",
              "    </tr>\n",
              "    <tr>\n",
              "      <th>C</th>\n",
              "      <td>-2.018168</td>\n",
              "      <td>0.740122</td>\n",
              "      <td>0.528813</td>\n",
              "      <td>-0.589001</td>\n",
              "    </tr>\n",
              "    <tr>\n",
              "      <th>D</th>\n",
              "      <td>0.188695</td>\n",
              "      <td>-0.758872</td>\n",
              "      <td>-0.933237</td>\n",
              "      <td>0.955057</td>\n",
              "    </tr>\n",
              "    <tr>\n",
              "      <th>E</th>\n",
              "      <td>0.190794</td>\n",
              "      <td>1.978757</td>\n",
              "      <td>2.605967</td>\n",
              "      <td>0.683509</td>\n",
              "    </tr>\n",
              "  </tbody>\n",
              "</table>\n",
              "</div>"
            ],
            "text/plain": [
              "          W         X         Y         Z\n",
              "A  2.706850  0.628133  0.907969  0.503826\n",
              "B  0.651118 -0.319318 -0.848077  0.605965\n",
              "C -2.018168  0.740122  0.528813 -0.589001\n",
              "D  0.188695 -0.758872 -0.933237  0.955057\n",
              "E  0.190794  1.978757  2.605967  0.683509"
            ]
          },
          "metadata": {},
          "execution_count": 35
        }
      ]
    },
    {
      "cell_type": "code",
      "metadata": {
        "id": "6hAwplzkpnBt"
      },
      "source": [
        "#create a new column\n",
        "df['new'] = df['W'] + df['Y']"
      ],
      "id": "6hAwplzkpnBt",
      "execution_count": 36,
      "outputs": []
    },
    {
      "cell_type": "code",
      "metadata": {
        "id": "4GX9uDDFwaBs",
        "colab": {
          "base_uri": "https://localhost:8080/",
          "height": 206
        },
        "outputId": "2e3d5705-b1b9-47a6-8429-2b4faddf1c30"
      },
      "source": [
        "df"
      ],
      "id": "4GX9uDDFwaBs",
      "execution_count": 37,
      "outputs": [
        {
          "output_type": "execute_result",
          "data": {
            "text/html": [
              "<div>\n",
              "<style scoped>\n",
              "    .dataframe tbody tr th:only-of-type {\n",
              "        vertical-align: middle;\n",
              "    }\n",
              "\n",
              "    .dataframe tbody tr th {\n",
              "        vertical-align: top;\n",
              "    }\n",
              "\n",
              "    .dataframe thead th {\n",
              "        text-align: right;\n",
              "    }\n",
              "</style>\n",
              "<table border=\"1\" class=\"dataframe\">\n",
              "  <thead>\n",
              "    <tr style=\"text-align: right;\">\n",
              "      <th></th>\n",
              "      <th>W</th>\n",
              "      <th>X</th>\n",
              "      <th>Y</th>\n",
              "      <th>Z</th>\n",
              "      <th>new</th>\n",
              "    </tr>\n",
              "  </thead>\n",
              "  <tbody>\n",
              "    <tr>\n",
              "      <th>A</th>\n",
              "      <td>2.706850</td>\n",
              "      <td>0.628133</td>\n",
              "      <td>0.907969</td>\n",
              "      <td>0.503826</td>\n",
              "      <td>3.614819</td>\n",
              "    </tr>\n",
              "    <tr>\n",
              "      <th>B</th>\n",
              "      <td>0.651118</td>\n",
              "      <td>-0.319318</td>\n",
              "      <td>-0.848077</td>\n",
              "      <td>0.605965</td>\n",
              "      <td>-0.196959</td>\n",
              "    </tr>\n",
              "    <tr>\n",
              "      <th>C</th>\n",
              "      <td>-2.018168</td>\n",
              "      <td>0.740122</td>\n",
              "      <td>0.528813</td>\n",
              "      <td>-0.589001</td>\n",
              "      <td>-1.489355</td>\n",
              "    </tr>\n",
              "    <tr>\n",
              "      <th>D</th>\n",
              "      <td>0.188695</td>\n",
              "      <td>-0.758872</td>\n",
              "      <td>-0.933237</td>\n",
              "      <td>0.955057</td>\n",
              "      <td>-0.744542</td>\n",
              "    </tr>\n",
              "    <tr>\n",
              "      <th>E</th>\n",
              "      <td>0.190794</td>\n",
              "      <td>1.978757</td>\n",
              "      <td>2.605967</td>\n",
              "      <td>0.683509</td>\n",
              "      <td>2.796762</td>\n",
              "    </tr>\n",
              "  </tbody>\n",
              "</table>\n",
              "</div>"
            ],
            "text/plain": [
              "          W         X         Y         Z       new\n",
              "A  2.706850  0.628133  0.907969  0.503826  3.614819\n",
              "B  0.651118 -0.319318 -0.848077  0.605965 -0.196959\n",
              "C -2.018168  0.740122  0.528813 -0.589001 -1.489355\n",
              "D  0.188695 -0.758872 -0.933237  0.955057 -0.744542\n",
              "E  0.190794  1.978757  2.605967  0.683509  2.796762"
            ]
          },
          "metadata": {},
          "execution_count": 37
        }
      ]
    },
    {
      "cell_type": "code",
      "metadata": {
        "id": "YxUFQQbJwZ_d",
        "colab": {
          "base_uri": "https://localhost:8080/",
          "height": 206
        },
        "outputId": "78e89d3f-6a0a-4035-91bf-b0fcc5da2db9"
      },
      "source": [
        "#removing columns\n",
        "df.drop('new',axis=1)"
      ],
      "id": "YxUFQQbJwZ_d",
      "execution_count": 38,
      "outputs": [
        {
          "output_type": "execute_result",
          "data": {
            "text/html": [
              "<div>\n",
              "<style scoped>\n",
              "    .dataframe tbody tr th:only-of-type {\n",
              "        vertical-align: middle;\n",
              "    }\n",
              "\n",
              "    .dataframe tbody tr th {\n",
              "        vertical-align: top;\n",
              "    }\n",
              "\n",
              "    .dataframe thead th {\n",
              "        text-align: right;\n",
              "    }\n",
              "</style>\n",
              "<table border=\"1\" class=\"dataframe\">\n",
              "  <thead>\n",
              "    <tr style=\"text-align: right;\">\n",
              "      <th></th>\n",
              "      <th>W</th>\n",
              "      <th>X</th>\n",
              "      <th>Y</th>\n",
              "      <th>Z</th>\n",
              "    </tr>\n",
              "  </thead>\n",
              "  <tbody>\n",
              "    <tr>\n",
              "      <th>A</th>\n",
              "      <td>2.706850</td>\n",
              "      <td>0.628133</td>\n",
              "      <td>0.907969</td>\n",
              "      <td>0.503826</td>\n",
              "    </tr>\n",
              "    <tr>\n",
              "      <th>B</th>\n",
              "      <td>0.651118</td>\n",
              "      <td>-0.319318</td>\n",
              "      <td>-0.848077</td>\n",
              "      <td>0.605965</td>\n",
              "    </tr>\n",
              "    <tr>\n",
              "      <th>C</th>\n",
              "      <td>-2.018168</td>\n",
              "      <td>0.740122</td>\n",
              "      <td>0.528813</td>\n",
              "      <td>-0.589001</td>\n",
              "    </tr>\n",
              "    <tr>\n",
              "      <th>D</th>\n",
              "      <td>0.188695</td>\n",
              "      <td>-0.758872</td>\n",
              "      <td>-0.933237</td>\n",
              "      <td>0.955057</td>\n",
              "    </tr>\n",
              "    <tr>\n",
              "      <th>E</th>\n",
              "      <td>0.190794</td>\n",
              "      <td>1.978757</td>\n",
              "      <td>2.605967</td>\n",
              "      <td>0.683509</td>\n",
              "    </tr>\n",
              "  </tbody>\n",
              "</table>\n",
              "</div>"
            ],
            "text/plain": [
              "          W         X         Y         Z\n",
              "A  2.706850  0.628133  0.907969  0.503826\n",
              "B  0.651118 -0.319318 -0.848077  0.605965\n",
              "C -2.018168  0.740122  0.528813 -0.589001\n",
              "D  0.188695 -0.758872 -0.933237  0.955057\n",
              "E  0.190794  1.978757  2.605967  0.683509"
            ]
          },
          "metadata": {},
          "execution_count": 38
        }
      ]
    },
    {
      "cell_type": "code",
      "metadata": {
        "id": "VBAoKUKRwZ8n",
        "colab": {
          "base_uri": "https://localhost:8080/",
          "height": 206
        },
        "outputId": "900ee155-4cd0-4612-ce58-f3b422285e8d"
      },
      "source": [
        "df"
      ],
      "id": "VBAoKUKRwZ8n",
      "execution_count": 39,
      "outputs": [
        {
          "output_type": "execute_result",
          "data": {
            "text/html": [
              "<div>\n",
              "<style scoped>\n",
              "    .dataframe tbody tr th:only-of-type {\n",
              "        vertical-align: middle;\n",
              "    }\n",
              "\n",
              "    .dataframe tbody tr th {\n",
              "        vertical-align: top;\n",
              "    }\n",
              "\n",
              "    .dataframe thead th {\n",
              "        text-align: right;\n",
              "    }\n",
              "</style>\n",
              "<table border=\"1\" class=\"dataframe\">\n",
              "  <thead>\n",
              "    <tr style=\"text-align: right;\">\n",
              "      <th></th>\n",
              "      <th>W</th>\n",
              "      <th>X</th>\n",
              "      <th>Y</th>\n",
              "      <th>Z</th>\n",
              "      <th>new</th>\n",
              "    </tr>\n",
              "  </thead>\n",
              "  <tbody>\n",
              "    <tr>\n",
              "      <th>A</th>\n",
              "      <td>2.706850</td>\n",
              "      <td>0.628133</td>\n",
              "      <td>0.907969</td>\n",
              "      <td>0.503826</td>\n",
              "      <td>3.614819</td>\n",
              "    </tr>\n",
              "    <tr>\n",
              "      <th>B</th>\n",
              "      <td>0.651118</td>\n",
              "      <td>-0.319318</td>\n",
              "      <td>-0.848077</td>\n",
              "      <td>0.605965</td>\n",
              "      <td>-0.196959</td>\n",
              "    </tr>\n",
              "    <tr>\n",
              "      <th>C</th>\n",
              "      <td>-2.018168</td>\n",
              "      <td>0.740122</td>\n",
              "      <td>0.528813</td>\n",
              "      <td>-0.589001</td>\n",
              "      <td>-1.489355</td>\n",
              "    </tr>\n",
              "    <tr>\n",
              "      <th>D</th>\n",
              "      <td>0.188695</td>\n",
              "      <td>-0.758872</td>\n",
              "      <td>-0.933237</td>\n",
              "      <td>0.955057</td>\n",
              "      <td>-0.744542</td>\n",
              "    </tr>\n",
              "    <tr>\n",
              "      <th>E</th>\n",
              "      <td>0.190794</td>\n",
              "      <td>1.978757</td>\n",
              "      <td>2.605967</td>\n",
              "      <td>0.683509</td>\n",
              "      <td>2.796762</td>\n",
              "    </tr>\n",
              "  </tbody>\n",
              "</table>\n",
              "</div>"
            ],
            "text/plain": [
              "          W         X         Y         Z       new\n",
              "A  2.706850  0.628133  0.907969  0.503826  3.614819\n",
              "B  0.651118 -0.319318 -0.848077  0.605965 -0.196959\n",
              "C -2.018168  0.740122  0.528813 -0.589001 -1.489355\n",
              "D  0.188695 -0.758872 -0.933237  0.955057 -0.744542\n",
              "E  0.190794  1.978757  2.605967  0.683509  2.796762"
            ]
          },
          "metadata": {},
          "execution_count": 39
        }
      ]
    },
    {
      "cell_type": "code",
      "metadata": {
        "id": "SBP_nIo1wZ46"
      },
      "source": [
        "df.drop('new',axis=1,inplace=True)"
      ],
      "id": "SBP_nIo1wZ46",
      "execution_count": 40,
      "outputs": []
    },
    {
      "cell_type": "code",
      "metadata": {
        "id": "f5vx-1X9wza9",
        "colab": {
          "base_uri": "https://localhost:8080/",
          "height": 206
        },
        "outputId": "8ec30b24-d64a-4e06-d938-db313f0a9b72"
      },
      "source": [
        "df"
      ],
      "id": "f5vx-1X9wza9",
      "execution_count": 41,
      "outputs": [
        {
          "output_type": "execute_result",
          "data": {
            "text/html": [
              "<div>\n",
              "<style scoped>\n",
              "    .dataframe tbody tr th:only-of-type {\n",
              "        vertical-align: middle;\n",
              "    }\n",
              "\n",
              "    .dataframe tbody tr th {\n",
              "        vertical-align: top;\n",
              "    }\n",
              "\n",
              "    .dataframe thead th {\n",
              "        text-align: right;\n",
              "    }\n",
              "</style>\n",
              "<table border=\"1\" class=\"dataframe\">\n",
              "  <thead>\n",
              "    <tr style=\"text-align: right;\">\n",
              "      <th></th>\n",
              "      <th>W</th>\n",
              "      <th>X</th>\n",
              "      <th>Y</th>\n",
              "      <th>Z</th>\n",
              "    </tr>\n",
              "  </thead>\n",
              "  <tbody>\n",
              "    <tr>\n",
              "      <th>A</th>\n",
              "      <td>2.706850</td>\n",
              "      <td>0.628133</td>\n",
              "      <td>0.907969</td>\n",
              "      <td>0.503826</td>\n",
              "    </tr>\n",
              "    <tr>\n",
              "      <th>B</th>\n",
              "      <td>0.651118</td>\n",
              "      <td>-0.319318</td>\n",
              "      <td>-0.848077</td>\n",
              "      <td>0.605965</td>\n",
              "    </tr>\n",
              "    <tr>\n",
              "      <th>C</th>\n",
              "      <td>-2.018168</td>\n",
              "      <td>0.740122</td>\n",
              "      <td>0.528813</td>\n",
              "      <td>-0.589001</td>\n",
              "    </tr>\n",
              "    <tr>\n",
              "      <th>D</th>\n",
              "      <td>0.188695</td>\n",
              "      <td>-0.758872</td>\n",
              "      <td>-0.933237</td>\n",
              "      <td>0.955057</td>\n",
              "    </tr>\n",
              "    <tr>\n",
              "      <th>E</th>\n",
              "      <td>0.190794</td>\n",
              "      <td>1.978757</td>\n",
              "      <td>2.605967</td>\n",
              "      <td>0.683509</td>\n",
              "    </tr>\n",
              "  </tbody>\n",
              "</table>\n",
              "</div>"
            ],
            "text/plain": [
              "          W         X         Y         Z\n",
              "A  2.706850  0.628133  0.907969  0.503826\n",
              "B  0.651118 -0.319318 -0.848077  0.605965\n",
              "C -2.018168  0.740122  0.528813 -0.589001\n",
              "D  0.188695 -0.758872 -0.933237  0.955057\n",
              "E  0.190794  1.978757  2.605967  0.683509"
            ]
          },
          "metadata": {},
          "execution_count": 41
        }
      ]
    },
    {
      "cell_type": "code",
      "metadata": {
        "id": "xh8ujwlKwzYF",
        "colab": {
          "base_uri": "https://localhost:8080/",
          "height": 174
        },
        "outputId": "b54229e4-0ea4-4593-adfc-4652d8206237"
      },
      "source": [
        "df.drop('E',axis=0)"
      ],
      "id": "xh8ujwlKwzYF",
      "execution_count": 42,
      "outputs": [
        {
          "output_type": "execute_result",
          "data": {
            "text/html": [
              "<div>\n",
              "<style scoped>\n",
              "    .dataframe tbody tr th:only-of-type {\n",
              "        vertical-align: middle;\n",
              "    }\n",
              "\n",
              "    .dataframe tbody tr th {\n",
              "        vertical-align: top;\n",
              "    }\n",
              "\n",
              "    .dataframe thead th {\n",
              "        text-align: right;\n",
              "    }\n",
              "</style>\n",
              "<table border=\"1\" class=\"dataframe\">\n",
              "  <thead>\n",
              "    <tr style=\"text-align: right;\">\n",
              "      <th></th>\n",
              "      <th>W</th>\n",
              "      <th>X</th>\n",
              "      <th>Y</th>\n",
              "      <th>Z</th>\n",
              "    </tr>\n",
              "  </thead>\n",
              "  <tbody>\n",
              "    <tr>\n",
              "      <th>A</th>\n",
              "      <td>2.706850</td>\n",
              "      <td>0.628133</td>\n",
              "      <td>0.907969</td>\n",
              "      <td>0.503826</td>\n",
              "    </tr>\n",
              "    <tr>\n",
              "      <th>B</th>\n",
              "      <td>0.651118</td>\n",
              "      <td>-0.319318</td>\n",
              "      <td>-0.848077</td>\n",
              "      <td>0.605965</td>\n",
              "    </tr>\n",
              "    <tr>\n",
              "      <th>C</th>\n",
              "      <td>-2.018168</td>\n",
              "      <td>0.740122</td>\n",
              "      <td>0.528813</td>\n",
              "      <td>-0.589001</td>\n",
              "    </tr>\n",
              "    <tr>\n",
              "      <th>D</th>\n",
              "      <td>0.188695</td>\n",
              "      <td>-0.758872</td>\n",
              "      <td>-0.933237</td>\n",
              "      <td>0.955057</td>\n",
              "    </tr>\n",
              "  </tbody>\n",
              "</table>\n",
              "</div>"
            ],
            "text/plain": [
              "          W         X         Y         Z\n",
              "A  2.706850  0.628133  0.907969  0.503826\n",
              "B  0.651118 -0.319318 -0.848077  0.605965\n",
              "C -2.018168  0.740122  0.528813 -0.589001\n",
              "D  0.188695 -0.758872 -0.933237  0.955057"
            ]
          },
          "metadata": {},
          "execution_count": 42
        }
      ]
    },
    {
      "cell_type": "code",
      "metadata": {
        "id": "DQG3v5QzwzVq",
        "colab": {
          "base_uri": "https://localhost:8080/"
        },
        "outputId": "13266746-912b-4c65-de2b-8f93da85a132"
      },
      "source": [
        "#Selecting a row\n",
        "df.loc['A']"
      ],
      "id": "DQG3v5QzwzVq",
      "execution_count": 43,
      "outputs": [
        {
          "output_type": "execute_result",
          "data": {
            "text/plain": [
              "W    2.706850\n",
              "X    0.628133\n",
              "Y    0.907969\n",
              "Z    0.503826\n",
              "Name: A, dtype: float64"
            ]
          },
          "metadata": {},
          "execution_count": 43
        }
      ]
    },
    {
      "cell_type": "code",
      "metadata": {
        "id": "FZMIoyHrwzSu",
        "colab": {
          "base_uri": "https://localhost:8080/"
        },
        "outputId": "55440fb8-633d-41c1-de0a-b87a35da26f4"
      },
      "source": [
        "df.iloc[2]"
      ],
      "id": "FZMIoyHrwzSu",
      "execution_count": 44,
      "outputs": [
        {
          "output_type": "execute_result",
          "data": {
            "text/plain": [
              "W   -2.018168\n",
              "X    0.740122\n",
              "Y    0.528813\n",
              "Z   -0.589001\n",
              "Name: C, dtype: float64"
            ]
          },
          "metadata": {},
          "execution_count": 44
        }
      ]
    },
    {
      "cell_type": "code",
      "metadata": {
        "id": "Pqf7HQSTxhr9",
        "colab": {
          "base_uri": "https://localhost:8080/"
        },
        "outputId": "5b3b820c-1bfd-4431-c189-d3f93a9b529f"
      },
      "source": [
        "#selecting a subset of rows and columns\n",
        "df.loc['B','Y']"
      ],
      "id": "Pqf7HQSTxhr9",
      "execution_count": 45,
      "outputs": [
        {
          "output_type": "execute_result",
          "data": {
            "text/plain": [
              "-0.8480769834036315"
            ]
          },
          "metadata": {},
          "execution_count": 45
        }
      ]
    },
    {
      "cell_type": "code",
      "metadata": {
        "id": "3JpO9DwGxhfI",
        "colab": {
          "base_uri": "https://localhost:8080/",
          "height": 112
        },
        "outputId": "e565447c-0ae2-4324-dc75-e163213be560"
      },
      "source": [
        "df.loc[['A','B'],['W','Y']]"
      ],
      "id": "3JpO9DwGxhfI",
      "execution_count": 46,
      "outputs": [
        {
          "output_type": "execute_result",
          "data": {
            "text/html": [
              "<div>\n",
              "<style scoped>\n",
              "    .dataframe tbody tr th:only-of-type {\n",
              "        vertical-align: middle;\n",
              "    }\n",
              "\n",
              "    .dataframe tbody tr th {\n",
              "        vertical-align: top;\n",
              "    }\n",
              "\n",
              "    .dataframe thead th {\n",
              "        text-align: right;\n",
              "    }\n",
              "</style>\n",
              "<table border=\"1\" class=\"dataframe\">\n",
              "  <thead>\n",
              "    <tr style=\"text-align: right;\">\n",
              "      <th></th>\n",
              "      <th>W</th>\n",
              "      <th>Y</th>\n",
              "    </tr>\n",
              "  </thead>\n",
              "  <tbody>\n",
              "    <tr>\n",
              "      <th>A</th>\n",
              "      <td>2.706850</td>\n",
              "      <td>0.907969</td>\n",
              "    </tr>\n",
              "    <tr>\n",
              "      <th>B</th>\n",
              "      <td>0.651118</td>\n",
              "      <td>-0.848077</td>\n",
              "    </tr>\n",
              "  </tbody>\n",
              "</table>\n",
              "</div>"
            ],
            "text/plain": [
              "          W         Y\n",
              "A  2.706850  0.907969\n",
              "B  0.651118 -0.848077"
            ]
          },
          "metadata": {},
          "execution_count": 46
        }
      ]
    },
    {
      "cell_type": "markdown",
      "metadata": {
        "id": "3UyRIRnMykAo"
      },
      "source": [
        "### Conditional Selection"
      ],
      "id": "3UyRIRnMykAo"
    },
    {
      "cell_type": "code",
      "metadata": {
        "id": "RQuyBg0_wzQv",
        "colab": {
          "base_uri": "https://localhost:8080/",
          "height": 206
        },
        "outputId": "432b35a2-65e7-4b4f-f66e-ae5ab73a37a3"
      },
      "source": [
        "df"
      ],
      "id": "RQuyBg0_wzQv",
      "execution_count": 48,
      "outputs": [
        {
          "output_type": "execute_result",
          "data": {
            "text/html": [
              "<div>\n",
              "<style scoped>\n",
              "    .dataframe tbody tr th:only-of-type {\n",
              "        vertical-align: middle;\n",
              "    }\n",
              "\n",
              "    .dataframe tbody tr th {\n",
              "        vertical-align: top;\n",
              "    }\n",
              "\n",
              "    .dataframe thead th {\n",
              "        text-align: right;\n",
              "    }\n",
              "</style>\n",
              "<table border=\"1\" class=\"dataframe\">\n",
              "  <thead>\n",
              "    <tr style=\"text-align: right;\">\n",
              "      <th></th>\n",
              "      <th>W</th>\n",
              "      <th>X</th>\n",
              "      <th>Y</th>\n",
              "      <th>Z</th>\n",
              "    </tr>\n",
              "  </thead>\n",
              "  <tbody>\n",
              "    <tr>\n",
              "      <th>A</th>\n",
              "      <td>2.706850</td>\n",
              "      <td>0.628133</td>\n",
              "      <td>0.907969</td>\n",
              "      <td>0.503826</td>\n",
              "    </tr>\n",
              "    <tr>\n",
              "      <th>B</th>\n",
              "      <td>0.651118</td>\n",
              "      <td>-0.319318</td>\n",
              "      <td>-0.848077</td>\n",
              "      <td>0.605965</td>\n",
              "    </tr>\n",
              "    <tr>\n",
              "      <th>C</th>\n",
              "      <td>-2.018168</td>\n",
              "      <td>0.740122</td>\n",
              "      <td>0.528813</td>\n",
              "      <td>-0.589001</td>\n",
              "    </tr>\n",
              "    <tr>\n",
              "      <th>D</th>\n",
              "      <td>0.188695</td>\n",
              "      <td>-0.758872</td>\n",
              "      <td>-0.933237</td>\n",
              "      <td>0.955057</td>\n",
              "    </tr>\n",
              "    <tr>\n",
              "      <th>E</th>\n",
              "      <td>0.190794</td>\n",
              "      <td>1.978757</td>\n",
              "      <td>2.605967</td>\n",
              "      <td>0.683509</td>\n",
              "    </tr>\n",
              "  </tbody>\n",
              "</table>\n",
              "</div>"
            ],
            "text/plain": [
              "          W         X         Y         Z\n",
              "A  2.706850  0.628133  0.907969  0.503826\n",
              "B  0.651118 -0.319318 -0.848077  0.605965\n",
              "C -2.018168  0.740122  0.528813 -0.589001\n",
              "D  0.188695 -0.758872 -0.933237  0.955057\n",
              "E  0.190794  1.978757  2.605967  0.683509"
            ]
          },
          "metadata": {},
          "execution_count": 48
        }
      ]
    },
    {
      "cell_type": "code",
      "metadata": {
        "id": "XGk9lMT1wzLj",
        "colab": {
          "base_uri": "https://localhost:8080/",
          "height": 206
        },
        "outputId": "a55cca3e-e8c0-4ce7-c131-50392e08e396"
      },
      "source": [
        "df > 0"
      ],
      "id": "XGk9lMT1wzLj",
      "execution_count": 49,
      "outputs": [
        {
          "output_type": "execute_result",
          "data": {
            "text/html": [
              "<div>\n",
              "<style scoped>\n",
              "    .dataframe tbody tr th:only-of-type {\n",
              "        vertical-align: middle;\n",
              "    }\n",
              "\n",
              "    .dataframe tbody tr th {\n",
              "        vertical-align: top;\n",
              "    }\n",
              "\n",
              "    .dataframe thead th {\n",
              "        text-align: right;\n",
              "    }\n",
              "</style>\n",
              "<table border=\"1\" class=\"dataframe\">\n",
              "  <thead>\n",
              "    <tr style=\"text-align: right;\">\n",
              "      <th></th>\n",
              "      <th>W</th>\n",
              "      <th>X</th>\n",
              "      <th>Y</th>\n",
              "      <th>Z</th>\n",
              "    </tr>\n",
              "  </thead>\n",
              "  <tbody>\n",
              "    <tr>\n",
              "      <th>A</th>\n",
              "      <td>True</td>\n",
              "      <td>True</td>\n",
              "      <td>True</td>\n",
              "      <td>True</td>\n",
              "    </tr>\n",
              "    <tr>\n",
              "      <th>B</th>\n",
              "      <td>True</td>\n",
              "      <td>False</td>\n",
              "      <td>False</td>\n",
              "      <td>True</td>\n",
              "    </tr>\n",
              "    <tr>\n",
              "      <th>C</th>\n",
              "      <td>False</td>\n",
              "      <td>True</td>\n",
              "      <td>True</td>\n",
              "      <td>False</td>\n",
              "    </tr>\n",
              "    <tr>\n",
              "      <th>D</th>\n",
              "      <td>True</td>\n",
              "      <td>False</td>\n",
              "      <td>False</td>\n",
              "      <td>True</td>\n",
              "    </tr>\n",
              "    <tr>\n",
              "      <th>E</th>\n",
              "      <td>True</td>\n",
              "      <td>True</td>\n",
              "      <td>True</td>\n",
              "      <td>True</td>\n",
              "    </tr>\n",
              "  </tbody>\n",
              "</table>\n",
              "</div>"
            ],
            "text/plain": [
              "       W      X      Y      Z\n",
              "A   True   True   True   True\n",
              "B   True  False  False   True\n",
              "C  False   True   True  False\n",
              "D   True  False  False   True\n",
              "E   True   True   True   True"
            ]
          },
          "metadata": {},
          "execution_count": 49
        }
      ]
    },
    {
      "cell_type": "code",
      "metadata": {
        "id": "LKxAyasOx9pg",
        "colab": {
          "base_uri": "https://localhost:8080/",
          "height": 206
        },
        "outputId": "b46d9c7d-ac3b-4aaa-e178-48757e30c2e9"
      },
      "source": [
        "df[df>0]"
      ],
      "id": "LKxAyasOx9pg",
      "execution_count": 50,
      "outputs": [
        {
          "output_type": "execute_result",
          "data": {
            "text/html": [
              "<div>\n",
              "<style scoped>\n",
              "    .dataframe tbody tr th:only-of-type {\n",
              "        vertical-align: middle;\n",
              "    }\n",
              "\n",
              "    .dataframe tbody tr th {\n",
              "        vertical-align: top;\n",
              "    }\n",
              "\n",
              "    .dataframe thead th {\n",
              "        text-align: right;\n",
              "    }\n",
              "</style>\n",
              "<table border=\"1\" class=\"dataframe\">\n",
              "  <thead>\n",
              "    <tr style=\"text-align: right;\">\n",
              "      <th></th>\n",
              "      <th>W</th>\n",
              "      <th>X</th>\n",
              "      <th>Y</th>\n",
              "      <th>Z</th>\n",
              "    </tr>\n",
              "  </thead>\n",
              "  <tbody>\n",
              "    <tr>\n",
              "      <th>A</th>\n",
              "      <td>2.706850</td>\n",
              "      <td>0.628133</td>\n",
              "      <td>0.907969</td>\n",
              "      <td>0.503826</td>\n",
              "    </tr>\n",
              "    <tr>\n",
              "      <th>B</th>\n",
              "      <td>0.651118</td>\n",
              "      <td>NaN</td>\n",
              "      <td>NaN</td>\n",
              "      <td>0.605965</td>\n",
              "    </tr>\n",
              "    <tr>\n",
              "      <th>C</th>\n",
              "      <td>NaN</td>\n",
              "      <td>0.740122</td>\n",
              "      <td>0.528813</td>\n",
              "      <td>NaN</td>\n",
              "    </tr>\n",
              "    <tr>\n",
              "      <th>D</th>\n",
              "      <td>0.188695</td>\n",
              "      <td>NaN</td>\n",
              "      <td>NaN</td>\n",
              "      <td>0.955057</td>\n",
              "    </tr>\n",
              "    <tr>\n",
              "      <th>E</th>\n",
              "      <td>0.190794</td>\n",
              "      <td>1.978757</td>\n",
              "      <td>2.605967</td>\n",
              "      <td>0.683509</td>\n",
              "    </tr>\n",
              "  </tbody>\n",
              "</table>\n",
              "</div>"
            ],
            "text/plain": [
              "          W         X         Y         Z\n",
              "A  2.706850  0.628133  0.907969  0.503826\n",
              "B  0.651118       NaN       NaN  0.605965\n",
              "C       NaN  0.740122  0.528813       NaN\n",
              "D  0.188695       NaN       NaN  0.955057\n",
              "E  0.190794  1.978757  2.605967  0.683509"
            ]
          },
          "metadata": {},
          "execution_count": 50
        }
      ]
    },
    {
      "cell_type": "code",
      "metadata": {
        "id": "-ECofNUtx9nf",
        "colab": {
          "base_uri": "https://localhost:8080/",
          "height": 174
        },
        "outputId": "88e29deb-2dc1-4769-d7bd-c14f6a0d1dff"
      },
      "source": [
        "df[df['W']>0]"
      ],
      "id": "-ECofNUtx9nf",
      "execution_count": 51,
      "outputs": [
        {
          "output_type": "execute_result",
          "data": {
            "text/html": [
              "<div>\n",
              "<style scoped>\n",
              "    .dataframe tbody tr th:only-of-type {\n",
              "        vertical-align: middle;\n",
              "    }\n",
              "\n",
              "    .dataframe tbody tr th {\n",
              "        vertical-align: top;\n",
              "    }\n",
              "\n",
              "    .dataframe thead th {\n",
              "        text-align: right;\n",
              "    }\n",
              "</style>\n",
              "<table border=\"1\" class=\"dataframe\">\n",
              "  <thead>\n",
              "    <tr style=\"text-align: right;\">\n",
              "      <th></th>\n",
              "      <th>W</th>\n",
              "      <th>X</th>\n",
              "      <th>Y</th>\n",
              "      <th>Z</th>\n",
              "    </tr>\n",
              "  </thead>\n",
              "  <tbody>\n",
              "    <tr>\n",
              "      <th>A</th>\n",
              "      <td>2.706850</td>\n",
              "      <td>0.628133</td>\n",
              "      <td>0.907969</td>\n",
              "      <td>0.503826</td>\n",
              "    </tr>\n",
              "    <tr>\n",
              "      <th>B</th>\n",
              "      <td>0.651118</td>\n",
              "      <td>-0.319318</td>\n",
              "      <td>-0.848077</td>\n",
              "      <td>0.605965</td>\n",
              "    </tr>\n",
              "    <tr>\n",
              "      <th>D</th>\n",
              "      <td>0.188695</td>\n",
              "      <td>-0.758872</td>\n",
              "      <td>-0.933237</td>\n",
              "      <td>0.955057</td>\n",
              "    </tr>\n",
              "    <tr>\n",
              "      <th>E</th>\n",
              "      <td>0.190794</td>\n",
              "      <td>1.978757</td>\n",
              "      <td>2.605967</td>\n",
              "      <td>0.683509</td>\n",
              "    </tr>\n",
              "  </tbody>\n",
              "</table>\n",
              "</div>"
            ],
            "text/plain": [
              "          W         X         Y         Z\n",
              "A  2.706850  0.628133  0.907969  0.503826\n",
              "B  0.651118 -0.319318 -0.848077  0.605965\n",
              "D  0.188695 -0.758872 -0.933237  0.955057\n",
              "E  0.190794  1.978757  2.605967  0.683509"
            ]
          },
          "metadata": {},
          "execution_count": 51
        }
      ]
    },
    {
      "cell_type": "code",
      "metadata": {
        "id": "zZ3clMogx9kw",
        "colab": {
          "base_uri": "https://localhost:8080/"
        },
        "outputId": "d78a2fd1-7264-4d11-c48e-e919c1e670bc"
      },
      "source": [
        "df[df['W']>0]['Y']"
      ],
      "id": "zZ3clMogx9kw",
      "execution_count": 52,
      "outputs": [
        {
          "output_type": "execute_result",
          "data": {
            "text/plain": [
              "A    0.907969\n",
              "B   -0.848077\n",
              "D   -0.933237\n",
              "E    2.605967\n",
              "Name: Y, dtype: float64"
            ]
          },
          "metadata": {},
          "execution_count": 52
        }
      ]
    },
    {
      "cell_type": "code",
      "metadata": {
        "id": "I6Pk0dCDx9iM",
        "colab": {
          "base_uri": "https://localhost:8080/",
          "height": 174
        },
        "outputId": "3253f190-c0e2-479c-d3b8-cca5ffc4ad9c"
      },
      "source": [
        "df[df['W']>0][['Y','X']]"
      ],
      "id": "I6Pk0dCDx9iM",
      "execution_count": 53,
      "outputs": [
        {
          "output_type": "execute_result",
          "data": {
            "text/html": [
              "<div>\n",
              "<style scoped>\n",
              "    .dataframe tbody tr th:only-of-type {\n",
              "        vertical-align: middle;\n",
              "    }\n",
              "\n",
              "    .dataframe tbody tr th {\n",
              "        vertical-align: top;\n",
              "    }\n",
              "\n",
              "    .dataframe thead th {\n",
              "        text-align: right;\n",
              "    }\n",
              "</style>\n",
              "<table border=\"1\" class=\"dataframe\">\n",
              "  <thead>\n",
              "    <tr style=\"text-align: right;\">\n",
              "      <th></th>\n",
              "      <th>Y</th>\n",
              "      <th>X</th>\n",
              "    </tr>\n",
              "  </thead>\n",
              "  <tbody>\n",
              "    <tr>\n",
              "      <th>A</th>\n",
              "      <td>0.907969</td>\n",
              "      <td>0.628133</td>\n",
              "    </tr>\n",
              "    <tr>\n",
              "      <th>B</th>\n",
              "      <td>-0.848077</td>\n",
              "      <td>-0.319318</td>\n",
              "    </tr>\n",
              "    <tr>\n",
              "      <th>D</th>\n",
              "      <td>-0.933237</td>\n",
              "      <td>-0.758872</td>\n",
              "    </tr>\n",
              "    <tr>\n",
              "      <th>E</th>\n",
              "      <td>2.605967</td>\n",
              "      <td>1.978757</td>\n",
              "    </tr>\n",
              "  </tbody>\n",
              "</table>\n",
              "</div>"
            ],
            "text/plain": [
              "          Y         X\n",
              "A  0.907969  0.628133\n",
              "B -0.848077 -0.319318\n",
              "D -0.933237 -0.758872\n",
              "E  2.605967  1.978757"
            ]
          },
          "metadata": {},
          "execution_count": 53
        }
      ]
    },
    {
      "cell_type": "code",
      "metadata": {
        "id": "H0b1Hk6Kx9dk",
        "colab": {
          "base_uri": "https://localhost:8080/",
          "height": 81
        },
        "outputId": "27e472f0-567f-4f6a-c861-8e5fb40e71a6"
      },
      "source": [
        "df[(df['W']>0) & (df['Y']>1) ]"
      ],
      "id": "H0b1Hk6Kx9dk",
      "execution_count": 54,
      "outputs": [
        {
          "output_type": "execute_result",
          "data": {
            "text/html": [
              "<div>\n",
              "<style scoped>\n",
              "    .dataframe tbody tr th:only-of-type {\n",
              "        vertical-align: middle;\n",
              "    }\n",
              "\n",
              "    .dataframe tbody tr th {\n",
              "        vertical-align: top;\n",
              "    }\n",
              "\n",
              "    .dataframe thead th {\n",
              "        text-align: right;\n",
              "    }\n",
              "</style>\n",
              "<table border=\"1\" class=\"dataframe\">\n",
              "  <thead>\n",
              "    <tr style=\"text-align: right;\">\n",
              "      <th></th>\n",
              "      <th>W</th>\n",
              "      <th>X</th>\n",
              "      <th>Y</th>\n",
              "      <th>Z</th>\n",
              "    </tr>\n",
              "  </thead>\n",
              "  <tbody>\n",
              "    <tr>\n",
              "      <th>E</th>\n",
              "      <td>0.190794</td>\n",
              "      <td>1.978757</td>\n",
              "      <td>2.605967</td>\n",
              "      <td>0.683509</td>\n",
              "    </tr>\n",
              "  </tbody>\n",
              "</table>\n",
              "</div>"
            ],
            "text/plain": [
              "          W         X         Y         Z\n",
              "E  0.190794  1.978757  2.605967  0.683509"
            ]
          },
          "metadata": {},
          "execution_count": 54
        }
      ]
    },
    {
      "cell_type": "markdown",
      "metadata": {
        "id": "xWTqx5eK1Elq"
      },
      "source": [
        "### More about index"
      ],
      "id": "xWTqx5eK1Elq"
    },
    {
      "cell_type": "code",
      "metadata": {
        "id": "7WPZJCxLx9Y9",
        "colab": {
          "base_uri": "https://localhost:8080/",
          "height": 206
        },
        "outputId": "fddeb04c-2489-4332-ba12-2fbbf295d2d9"
      },
      "source": [
        "#Peset index to a default values 0, 1, 2, 3\n",
        "\n",
        "df.reset_index()"
      ],
      "id": "7WPZJCxLx9Y9",
      "execution_count": 56,
      "outputs": [
        {
          "output_type": "execute_result",
          "data": {
            "text/html": [
              "<div>\n",
              "<style scoped>\n",
              "    .dataframe tbody tr th:only-of-type {\n",
              "        vertical-align: middle;\n",
              "    }\n",
              "\n",
              "    .dataframe tbody tr th {\n",
              "        vertical-align: top;\n",
              "    }\n",
              "\n",
              "    .dataframe thead th {\n",
              "        text-align: right;\n",
              "    }\n",
              "</style>\n",
              "<table border=\"1\" class=\"dataframe\">\n",
              "  <thead>\n",
              "    <tr style=\"text-align: right;\">\n",
              "      <th></th>\n",
              "      <th>index</th>\n",
              "      <th>W</th>\n",
              "      <th>X</th>\n",
              "      <th>Y</th>\n",
              "      <th>Z</th>\n",
              "    </tr>\n",
              "  </thead>\n",
              "  <tbody>\n",
              "    <tr>\n",
              "      <th>0</th>\n",
              "      <td>A</td>\n",
              "      <td>2.706850</td>\n",
              "      <td>0.628133</td>\n",
              "      <td>0.907969</td>\n",
              "      <td>0.503826</td>\n",
              "    </tr>\n",
              "    <tr>\n",
              "      <th>1</th>\n",
              "      <td>B</td>\n",
              "      <td>0.651118</td>\n",
              "      <td>-0.319318</td>\n",
              "      <td>-0.848077</td>\n",
              "      <td>0.605965</td>\n",
              "    </tr>\n",
              "    <tr>\n",
              "      <th>2</th>\n",
              "      <td>C</td>\n",
              "      <td>-2.018168</td>\n",
              "      <td>0.740122</td>\n",
              "      <td>0.528813</td>\n",
              "      <td>-0.589001</td>\n",
              "    </tr>\n",
              "    <tr>\n",
              "      <th>3</th>\n",
              "      <td>D</td>\n",
              "      <td>0.188695</td>\n",
              "      <td>-0.758872</td>\n",
              "      <td>-0.933237</td>\n",
              "      <td>0.955057</td>\n",
              "    </tr>\n",
              "    <tr>\n",
              "      <th>4</th>\n",
              "      <td>E</td>\n",
              "      <td>0.190794</td>\n",
              "      <td>1.978757</td>\n",
              "      <td>2.605967</td>\n",
              "      <td>0.683509</td>\n",
              "    </tr>\n",
              "  </tbody>\n",
              "</table>\n",
              "</div>"
            ],
            "text/plain": [
              "  index         W         X         Y         Z\n",
              "0     A  2.706850  0.628133  0.907969  0.503826\n",
              "1     B  0.651118 -0.319318 -0.848077  0.605965\n",
              "2     C -2.018168  0.740122  0.528813 -0.589001\n",
              "3     D  0.188695 -0.758872 -0.933237  0.955057\n",
              "4     E  0.190794  1.978757  2.605967  0.683509"
            ]
          },
          "metadata": {},
          "execution_count": 56
        }
      ]
    },
    {
      "cell_type": "code",
      "metadata": {
        "id": "cN-7M8Yix9WD"
      },
      "source": [
        "newindex = 'Incheon Seoul Busan Jeju Suwon'.split()"
      ],
      "id": "cN-7M8Yix9WD",
      "execution_count": 57,
      "outputs": []
    },
    {
      "cell_type": "code",
      "metadata": {
        "id": "niXbjKVwx9Sn"
      },
      "source": [
        "df['Cities'] = newindex"
      ],
      "id": "niXbjKVwx9Sn",
      "execution_count": 58,
      "outputs": []
    },
    {
      "cell_type": "code",
      "metadata": {
        "id": "lE15n8Xg1xj4",
        "colab": {
          "base_uri": "https://localhost:8080/",
          "height": 206
        },
        "outputId": "d6ca2e8e-e1e9-4a65-8acf-5ec6679057de"
      },
      "source": [
        "df"
      ],
      "id": "lE15n8Xg1xj4",
      "execution_count": 59,
      "outputs": [
        {
          "output_type": "execute_result",
          "data": {
            "text/html": [
              "<div>\n",
              "<style scoped>\n",
              "    .dataframe tbody tr th:only-of-type {\n",
              "        vertical-align: middle;\n",
              "    }\n",
              "\n",
              "    .dataframe tbody tr th {\n",
              "        vertical-align: top;\n",
              "    }\n",
              "\n",
              "    .dataframe thead th {\n",
              "        text-align: right;\n",
              "    }\n",
              "</style>\n",
              "<table border=\"1\" class=\"dataframe\">\n",
              "  <thead>\n",
              "    <tr style=\"text-align: right;\">\n",
              "      <th></th>\n",
              "      <th>W</th>\n",
              "      <th>X</th>\n",
              "      <th>Y</th>\n",
              "      <th>Z</th>\n",
              "      <th>Cities</th>\n",
              "    </tr>\n",
              "  </thead>\n",
              "  <tbody>\n",
              "    <tr>\n",
              "      <th>A</th>\n",
              "      <td>2.706850</td>\n",
              "      <td>0.628133</td>\n",
              "      <td>0.907969</td>\n",
              "      <td>0.503826</td>\n",
              "      <td>Incheon</td>\n",
              "    </tr>\n",
              "    <tr>\n",
              "      <th>B</th>\n",
              "      <td>0.651118</td>\n",
              "      <td>-0.319318</td>\n",
              "      <td>-0.848077</td>\n",
              "      <td>0.605965</td>\n",
              "      <td>Seoul</td>\n",
              "    </tr>\n",
              "    <tr>\n",
              "      <th>C</th>\n",
              "      <td>-2.018168</td>\n",
              "      <td>0.740122</td>\n",
              "      <td>0.528813</td>\n",
              "      <td>-0.589001</td>\n",
              "      <td>Busan</td>\n",
              "    </tr>\n",
              "    <tr>\n",
              "      <th>D</th>\n",
              "      <td>0.188695</td>\n",
              "      <td>-0.758872</td>\n",
              "      <td>-0.933237</td>\n",
              "      <td>0.955057</td>\n",
              "      <td>Jeju</td>\n",
              "    </tr>\n",
              "    <tr>\n",
              "      <th>E</th>\n",
              "      <td>0.190794</td>\n",
              "      <td>1.978757</td>\n",
              "      <td>2.605967</td>\n",
              "      <td>0.683509</td>\n",
              "      <td>Suwon</td>\n",
              "    </tr>\n",
              "  </tbody>\n",
              "</table>\n",
              "</div>"
            ],
            "text/plain": [
              "          W         X         Y         Z   Cities\n",
              "A  2.706850  0.628133  0.907969  0.503826  Incheon\n",
              "B  0.651118 -0.319318 -0.848077  0.605965    Seoul\n",
              "C -2.018168  0.740122  0.528813 -0.589001    Busan\n",
              "D  0.188695 -0.758872 -0.933237  0.955057     Jeju\n",
              "E  0.190794  1.978757  2.605967  0.683509    Suwon"
            ]
          },
          "metadata": {},
          "execution_count": 59
        }
      ]
    },
    {
      "cell_type": "code",
      "metadata": {
        "id": "8C6NBzav1xfx",
        "colab": {
          "base_uri": "https://localhost:8080/",
          "height": 238
        },
        "outputId": "a596c56d-68be-46ea-db19-27ed5aa05b8a"
      },
      "source": [
        "df.set_index('Cities')"
      ],
      "id": "8C6NBzav1xfx",
      "execution_count": 60,
      "outputs": [
        {
          "output_type": "execute_result",
          "data": {
            "text/html": [
              "<div>\n",
              "<style scoped>\n",
              "    .dataframe tbody tr th:only-of-type {\n",
              "        vertical-align: middle;\n",
              "    }\n",
              "\n",
              "    .dataframe tbody tr th {\n",
              "        vertical-align: top;\n",
              "    }\n",
              "\n",
              "    .dataframe thead th {\n",
              "        text-align: right;\n",
              "    }\n",
              "</style>\n",
              "<table border=\"1\" class=\"dataframe\">\n",
              "  <thead>\n",
              "    <tr style=\"text-align: right;\">\n",
              "      <th></th>\n",
              "      <th>W</th>\n",
              "      <th>X</th>\n",
              "      <th>Y</th>\n",
              "      <th>Z</th>\n",
              "    </tr>\n",
              "    <tr>\n",
              "      <th>Cities</th>\n",
              "      <th></th>\n",
              "      <th></th>\n",
              "      <th></th>\n",
              "      <th></th>\n",
              "    </tr>\n",
              "  </thead>\n",
              "  <tbody>\n",
              "    <tr>\n",
              "      <th>Incheon</th>\n",
              "      <td>2.706850</td>\n",
              "      <td>0.628133</td>\n",
              "      <td>0.907969</td>\n",
              "      <td>0.503826</td>\n",
              "    </tr>\n",
              "    <tr>\n",
              "      <th>Seoul</th>\n",
              "      <td>0.651118</td>\n",
              "      <td>-0.319318</td>\n",
              "      <td>-0.848077</td>\n",
              "      <td>0.605965</td>\n",
              "    </tr>\n",
              "    <tr>\n",
              "      <th>Busan</th>\n",
              "      <td>-2.018168</td>\n",
              "      <td>0.740122</td>\n",
              "      <td>0.528813</td>\n",
              "      <td>-0.589001</td>\n",
              "    </tr>\n",
              "    <tr>\n",
              "      <th>Jeju</th>\n",
              "      <td>0.188695</td>\n",
              "      <td>-0.758872</td>\n",
              "      <td>-0.933237</td>\n",
              "      <td>0.955057</td>\n",
              "    </tr>\n",
              "    <tr>\n",
              "      <th>Suwon</th>\n",
              "      <td>0.190794</td>\n",
              "      <td>1.978757</td>\n",
              "      <td>2.605967</td>\n",
              "      <td>0.683509</td>\n",
              "    </tr>\n",
              "  </tbody>\n",
              "</table>\n",
              "</div>"
            ],
            "text/plain": [
              "                W         X         Y         Z\n",
              "Cities                                         \n",
              "Incheon  2.706850  0.628133  0.907969  0.503826\n",
              "Seoul    0.651118 -0.319318 -0.848077  0.605965\n",
              "Busan   -2.018168  0.740122  0.528813 -0.589001\n",
              "Jeju     0.188695 -0.758872 -0.933237  0.955057\n",
              "Suwon    0.190794  1.978757  2.605967  0.683509"
            ]
          },
          "metadata": {},
          "execution_count": 60
        }
      ]
    },
    {
      "cell_type": "code",
      "metadata": {
        "id": "bc1BH4xh1xbR",
        "colab": {
          "base_uri": "https://localhost:8080/",
          "height": 206
        },
        "outputId": "a76a3128-8d59-477d-e22b-1d405001e814"
      },
      "source": [
        "df"
      ],
      "id": "bc1BH4xh1xbR",
      "execution_count": 61,
      "outputs": [
        {
          "output_type": "execute_result",
          "data": {
            "text/html": [
              "<div>\n",
              "<style scoped>\n",
              "    .dataframe tbody tr th:only-of-type {\n",
              "        vertical-align: middle;\n",
              "    }\n",
              "\n",
              "    .dataframe tbody tr th {\n",
              "        vertical-align: top;\n",
              "    }\n",
              "\n",
              "    .dataframe thead th {\n",
              "        text-align: right;\n",
              "    }\n",
              "</style>\n",
              "<table border=\"1\" class=\"dataframe\">\n",
              "  <thead>\n",
              "    <tr style=\"text-align: right;\">\n",
              "      <th></th>\n",
              "      <th>W</th>\n",
              "      <th>X</th>\n",
              "      <th>Y</th>\n",
              "      <th>Z</th>\n",
              "      <th>Cities</th>\n",
              "    </tr>\n",
              "  </thead>\n",
              "  <tbody>\n",
              "    <tr>\n",
              "      <th>A</th>\n",
              "      <td>2.706850</td>\n",
              "      <td>0.628133</td>\n",
              "      <td>0.907969</td>\n",
              "      <td>0.503826</td>\n",
              "      <td>Incheon</td>\n",
              "    </tr>\n",
              "    <tr>\n",
              "      <th>B</th>\n",
              "      <td>0.651118</td>\n",
              "      <td>-0.319318</td>\n",
              "      <td>-0.848077</td>\n",
              "      <td>0.605965</td>\n",
              "      <td>Seoul</td>\n",
              "    </tr>\n",
              "    <tr>\n",
              "      <th>C</th>\n",
              "      <td>-2.018168</td>\n",
              "      <td>0.740122</td>\n",
              "      <td>0.528813</td>\n",
              "      <td>-0.589001</td>\n",
              "      <td>Busan</td>\n",
              "    </tr>\n",
              "    <tr>\n",
              "      <th>D</th>\n",
              "      <td>0.188695</td>\n",
              "      <td>-0.758872</td>\n",
              "      <td>-0.933237</td>\n",
              "      <td>0.955057</td>\n",
              "      <td>Jeju</td>\n",
              "    </tr>\n",
              "    <tr>\n",
              "      <th>E</th>\n",
              "      <td>0.190794</td>\n",
              "      <td>1.978757</td>\n",
              "      <td>2.605967</td>\n",
              "      <td>0.683509</td>\n",
              "      <td>Suwon</td>\n",
              "    </tr>\n",
              "  </tbody>\n",
              "</table>\n",
              "</div>"
            ],
            "text/plain": [
              "          W         X         Y         Z   Cities\n",
              "A  2.706850  0.628133  0.907969  0.503826  Incheon\n",
              "B  0.651118 -0.319318 -0.848077  0.605965    Seoul\n",
              "C -2.018168  0.740122  0.528813 -0.589001    Busan\n",
              "D  0.188695 -0.758872 -0.933237  0.955057     Jeju\n",
              "E  0.190794  1.978757  2.605967  0.683509    Suwon"
            ]
          },
          "metadata": {},
          "execution_count": 61
        }
      ]
    },
    {
      "cell_type": "code",
      "metadata": {
        "id": "jk7NoUCo1xY7"
      },
      "source": [
        "df.set_index('Cities',inplace=True)"
      ],
      "id": "jk7NoUCo1xY7",
      "execution_count": 62,
      "outputs": []
    },
    {
      "cell_type": "code",
      "metadata": {
        "id": "f9_Ay6UE2OLf",
        "colab": {
          "base_uri": "https://localhost:8080/",
          "height": 238
        },
        "outputId": "495aee77-e5e8-45d6-9685-3cbc561d81a2"
      },
      "source": [
        "df"
      ],
      "id": "f9_Ay6UE2OLf",
      "execution_count": 63,
      "outputs": [
        {
          "output_type": "execute_result",
          "data": {
            "text/html": [
              "<div>\n",
              "<style scoped>\n",
              "    .dataframe tbody tr th:only-of-type {\n",
              "        vertical-align: middle;\n",
              "    }\n",
              "\n",
              "    .dataframe tbody tr th {\n",
              "        vertical-align: top;\n",
              "    }\n",
              "\n",
              "    .dataframe thead th {\n",
              "        text-align: right;\n",
              "    }\n",
              "</style>\n",
              "<table border=\"1\" class=\"dataframe\">\n",
              "  <thead>\n",
              "    <tr style=\"text-align: right;\">\n",
              "      <th></th>\n",
              "      <th>W</th>\n",
              "      <th>X</th>\n",
              "      <th>Y</th>\n",
              "      <th>Z</th>\n",
              "    </tr>\n",
              "    <tr>\n",
              "      <th>Cities</th>\n",
              "      <th></th>\n",
              "      <th></th>\n",
              "      <th></th>\n",
              "      <th></th>\n",
              "    </tr>\n",
              "  </thead>\n",
              "  <tbody>\n",
              "    <tr>\n",
              "      <th>Incheon</th>\n",
              "      <td>2.706850</td>\n",
              "      <td>0.628133</td>\n",
              "      <td>0.907969</td>\n",
              "      <td>0.503826</td>\n",
              "    </tr>\n",
              "    <tr>\n",
              "      <th>Seoul</th>\n",
              "      <td>0.651118</td>\n",
              "      <td>-0.319318</td>\n",
              "      <td>-0.848077</td>\n",
              "      <td>0.605965</td>\n",
              "    </tr>\n",
              "    <tr>\n",
              "      <th>Busan</th>\n",
              "      <td>-2.018168</td>\n",
              "      <td>0.740122</td>\n",
              "      <td>0.528813</td>\n",
              "      <td>-0.589001</td>\n",
              "    </tr>\n",
              "    <tr>\n",
              "      <th>Jeju</th>\n",
              "      <td>0.188695</td>\n",
              "      <td>-0.758872</td>\n",
              "      <td>-0.933237</td>\n",
              "      <td>0.955057</td>\n",
              "    </tr>\n",
              "    <tr>\n",
              "      <th>Suwon</th>\n",
              "      <td>0.190794</td>\n",
              "      <td>1.978757</td>\n",
              "      <td>2.605967</td>\n",
              "      <td>0.683509</td>\n",
              "    </tr>\n",
              "  </tbody>\n",
              "</table>\n",
              "</div>"
            ],
            "text/plain": [
              "                W         X         Y         Z\n",
              "Cities                                         \n",
              "Incheon  2.706850  0.628133  0.907969  0.503826\n",
              "Seoul    0.651118 -0.319318 -0.848077  0.605965\n",
              "Busan   -2.018168  0.740122  0.528813 -0.589001\n",
              "Jeju     0.188695 -0.758872 -0.933237  0.955057\n",
              "Suwon    0.190794  1.978757  2.605967  0.683509"
            ]
          },
          "metadata": {},
          "execution_count": 63
        }
      ]
    },
    {
      "cell_type": "markdown",
      "metadata": {
        "id": "2VdgkFFC2i7N"
      },
      "source": [
        "### Multi-Index and Index Hierarchy"
      ],
      "id": "2VdgkFFC2i7N"
    },
    {
      "cell_type": "code",
      "metadata": {
        "id": "n_D-UKIc2OIl"
      },
      "source": [
        "#Index levels\n",
        "\n",
        "outside = ['G1', 'G1', 'G1', 'G2', 'G2', 'G2']\n",
        "inside = [1,2,3,1,2,3]\n",
        "hier_index = list(zip(outside,inside))\n",
        "hier_index = pd.MultiIndex.from_tuples(hier_index)"
      ],
      "id": "n_D-UKIc2OIl",
      "execution_count": 64,
      "outputs": []
    },
    {
      "cell_type": "code",
      "metadata": {
        "id": "-ssv-toO2OFf",
        "colab": {
          "base_uri": "https://localhost:8080/"
        },
        "outputId": "0a01bb19-32fc-4f5e-92eb-95707a08a0bd"
      },
      "source": [
        "hier_index"
      ],
      "id": "-ssv-toO2OFf",
      "execution_count": 65,
      "outputs": [
        {
          "output_type": "execute_result",
          "data": {
            "text/plain": [
              "MultiIndex([('G1', 1),\n",
              "            ('G1', 2),\n",
              "            ('G1', 3),\n",
              "            ('G2', 1),\n",
              "            ('G2', 2),\n",
              "            ('G2', 3)],\n",
              "           )"
            ]
          },
          "metadata": {},
          "execution_count": 65
        }
      ]
    },
    {
      "cell_type": "code",
      "metadata": {
        "id": "Bt4ZFTfC3lPG",
        "colab": {
          "base_uri": "https://localhost:8080/",
          "height": 238
        },
        "outputId": "3ba34560-5769-4489-f20a-98c4cf1d4b41"
      },
      "source": [
        "df = pd.DataFrame(np.random.randn(6,2), index = hier_index, columns = ['A','B'])\n",
        "df"
      ],
      "id": "Bt4ZFTfC3lPG",
      "execution_count": 66,
      "outputs": [
        {
          "output_type": "execute_result",
          "data": {
            "text/html": [
              "<div>\n",
              "<style scoped>\n",
              "    .dataframe tbody tr th:only-of-type {\n",
              "        vertical-align: middle;\n",
              "    }\n",
              "\n",
              "    .dataframe tbody tr th {\n",
              "        vertical-align: top;\n",
              "    }\n",
              "\n",
              "    .dataframe thead th {\n",
              "        text-align: right;\n",
              "    }\n",
              "</style>\n",
              "<table border=\"1\" class=\"dataframe\">\n",
              "  <thead>\n",
              "    <tr style=\"text-align: right;\">\n",
              "      <th></th>\n",
              "      <th></th>\n",
              "      <th>A</th>\n",
              "      <th>B</th>\n",
              "    </tr>\n",
              "  </thead>\n",
              "  <tbody>\n",
              "    <tr>\n",
              "      <th rowspan=\"3\" valign=\"top\">G1</th>\n",
              "      <th>1</th>\n",
              "      <td>0.302665</td>\n",
              "      <td>1.693723</td>\n",
              "    </tr>\n",
              "    <tr>\n",
              "      <th>2</th>\n",
              "      <td>-1.706086</td>\n",
              "      <td>-1.159119</td>\n",
              "    </tr>\n",
              "    <tr>\n",
              "      <th>3</th>\n",
              "      <td>-0.134841</td>\n",
              "      <td>0.390528</td>\n",
              "    </tr>\n",
              "    <tr>\n",
              "      <th rowspan=\"3\" valign=\"top\">G2</th>\n",
              "      <th>1</th>\n",
              "      <td>0.166905</td>\n",
              "      <td>0.184502</td>\n",
              "    </tr>\n",
              "    <tr>\n",
              "      <th>2</th>\n",
              "      <td>0.807706</td>\n",
              "      <td>0.072960</td>\n",
              "    </tr>\n",
              "    <tr>\n",
              "      <th>3</th>\n",
              "      <td>0.638787</td>\n",
              "      <td>0.329646</td>\n",
              "    </tr>\n",
              "  </tbody>\n",
              "</table>\n",
              "</div>"
            ],
            "text/plain": [
              "             A         B\n",
              "G1 1  0.302665  1.693723\n",
              "   2 -1.706086 -1.159119\n",
              "   3 -0.134841  0.390528\n",
              "G2 1  0.166905  0.184502\n",
              "   2  0.807706  0.072960\n",
              "   3  0.638787  0.329646"
            ]
          },
          "metadata": {},
          "execution_count": 66
        }
      ]
    },
    {
      "cell_type": "code",
      "metadata": {
        "id": "5bhBlfxT2OCy",
        "colab": {
          "base_uri": "https://localhost:8080/",
          "height": 143
        },
        "outputId": "adfd1730-bbc7-4d23-b95f-3daf363610a7"
      },
      "source": [
        "df.loc['G1']"
      ],
      "id": "5bhBlfxT2OCy",
      "execution_count": 67,
      "outputs": [
        {
          "output_type": "execute_result",
          "data": {
            "text/html": [
              "<div>\n",
              "<style scoped>\n",
              "    .dataframe tbody tr th:only-of-type {\n",
              "        vertical-align: middle;\n",
              "    }\n",
              "\n",
              "    .dataframe tbody tr th {\n",
              "        vertical-align: top;\n",
              "    }\n",
              "\n",
              "    .dataframe thead th {\n",
              "        text-align: right;\n",
              "    }\n",
              "</style>\n",
              "<table border=\"1\" class=\"dataframe\">\n",
              "  <thead>\n",
              "    <tr style=\"text-align: right;\">\n",
              "      <th></th>\n",
              "      <th>A</th>\n",
              "      <th>B</th>\n",
              "    </tr>\n",
              "  </thead>\n",
              "  <tbody>\n",
              "    <tr>\n",
              "      <th>1</th>\n",
              "      <td>0.302665</td>\n",
              "      <td>1.693723</td>\n",
              "    </tr>\n",
              "    <tr>\n",
              "      <th>2</th>\n",
              "      <td>-1.706086</td>\n",
              "      <td>-1.159119</td>\n",
              "    </tr>\n",
              "    <tr>\n",
              "      <th>3</th>\n",
              "      <td>-0.134841</td>\n",
              "      <td>0.390528</td>\n",
              "    </tr>\n",
              "  </tbody>\n",
              "</table>\n",
              "</div>"
            ],
            "text/plain": [
              "          A         B\n",
              "1  0.302665  1.693723\n",
              "2 -1.706086 -1.159119\n",
              "3 -0.134841  0.390528"
            ]
          },
          "metadata": {},
          "execution_count": 67
        }
      ]
    },
    {
      "cell_type": "code",
      "metadata": {
        "id": "9R1GGo592N_z",
        "colab": {
          "base_uri": "https://localhost:8080/"
        },
        "outputId": "44078e61-975a-44c5-cf1d-00c8645c8769"
      },
      "source": [
        "df.loc['G1'].loc[1]"
      ],
      "id": "9R1GGo592N_z",
      "execution_count": 68,
      "outputs": [
        {
          "output_type": "execute_result",
          "data": {
            "text/plain": [
              "A    0.302665\n",
              "B    1.693723\n",
              "Name: 1, dtype: float64"
            ]
          },
          "metadata": {},
          "execution_count": 68
        }
      ]
    },
    {
      "cell_type": "code",
      "metadata": {
        "id": "l2qVghBW2N59",
        "colab": {
          "base_uri": "https://localhost:8080/"
        },
        "outputId": "0ddfa605-40b1-4576-b047-43fdd6010987"
      },
      "source": [
        "df.index.names"
      ],
      "id": "l2qVghBW2N59",
      "execution_count": 69,
      "outputs": [
        {
          "output_type": "execute_result",
          "data": {
            "text/plain": [
              "FrozenList([None, None])"
            ]
          },
          "metadata": {},
          "execution_count": 69
        }
      ]
    },
    {
      "cell_type": "code",
      "metadata": {
        "id": "bouBtPAX2NWZ"
      },
      "source": [
        "df.index.names = ['Group', 'Num']"
      ],
      "id": "bouBtPAX2NWZ",
      "execution_count": 70,
      "outputs": []
    },
    {
      "cell_type": "code",
      "metadata": {
        "id": "DMxNdz1Q2NS_",
        "colab": {
          "base_uri": "https://localhost:8080/",
          "height": 269
        },
        "outputId": "9b99a150-4d70-425e-f6fc-88bf241ea072"
      },
      "source": [
        "df"
      ],
      "id": "DMxNdz1Q2NS_",
      "execution_count": 71,
      "outputs": [
        {
          "output_type": "execute_result",
          "data": {
            "text/html": [
              "<div>\n",
              "<style scoped>\n",
              "    .dataframe tbody tr th:only-of-type {\n",
              "        vertical-align: middle;\n",
              "    }\n",
              "\n",
              "    .dataframe tbody tr th {\n",
              "        vertical-align: top;\n",
              "    }\n",
              "\n",
              "    .dataframe thead th {\n",
              "        text-align: right;\n",
              "    }\n",
              "</style>\n",
              "<table border=\"1\" class=\"dataframe\">\n",
              "  <thead>\n",
              "    <tr style=\"text-align: right;\">\n",
              "      <th></th>\n",
              "      <th></th>\n",
              "      <th>A</th>\n",
              "      <th>B</th>\n",
              "    </tr>\n",
              "    <tr>\n",
              "      <th>Group</th>\n",
              "      <th>Num</th>\n",
              "      <th></th>\n",
              "      <th></th>\n",
              "    </tr>\n",
              "  </thead>\n",
              "  <tbody>\n",
              "    <tr>\n",
              "      <th rowspan=\"3\" valign=\"top\">G1</th>\n",
              "      <th>1</th>\n",
              "      <td>0.302665</td>\n",
              "      <td>1.693723</td>\n",
              "    </tr>\n",
              "    <tr>\n",
              "      <th>2</th>\n",
              "      <td>-1.706086</td>\n",
              "      <td>-1.159119</td>\n",
              "    </tr>\n",
              "    <tr>\n",
              "      <th>3</th>\n",
              "      <td>-0.134841</td>\n",
              "      <td>0.390528</td>\n",
              "    </tr>\n",
              "    <tr>\n",
              "      <th rowspan=\"3\" valign=\"top\">G2</th>\n",
              "      <th>1</th>\n",
              "      <td>0.166905</td>\n",
              "      <td>0.184502</td>\n",
              "    </tr>\n",
              "    <tr>\n",
              "      <th>2</th>\n",
              "      <td>0.807706</td>\n",
              "      <td>0.072960</td>\n",
              "    </tr>\n",
              "    <tr>\n",
              "      <th>3</th>\n",
              "      <td>0.638787</td>\n",
              "      <td>0.329646</td>\n",
              "    </tr>\n",
              "  </tbody>\n",
              "</table>\n",
              "</div>"
            ],
            "text/plain": [
              "                  A         B\n",
              "Group Num                    \n",
              "G1    1    0.302665  1.693723\n",
              "      2   -1.706086 -1.159119\n",
              "      3   -0.134841  0.390528\n",
              "G2    1    0.166905  0.184502\n",
              "      2    0.807706  0.072960\n",
              "      3    0.638787  0.329646"
            ]
          },
          "metadata": {},
          "execution_count": 71
        }
      ]
    },
    {
      "cell_type": "markdown",
      "metadata": {
        "id": "HQqqokgdBktT"
      },
      "source": [
        "### Missing Data"
      ],
      "id": "HQqqokgdBktT"
    },
    {
      "cell_type": "code",
      "metadata": {
        "id": "mMgQCn1_2NQx"
      },
      "source": [
        "df = pd.DataFrame({ 'A':[1,2,np.nan],\n",
        "                    'B':[5,np.nan,np.nan],\n",
        "                    'C':[1,2,3]\n",
        "     \n",
        "                    })"
      ],
      "id": "mMgQCn1_2NQx",
      "execution_count": 72,
      "outputs": []
    },
    {
      "cell_type": "code",
      "metadata": {
        "id": "e2mGmms72NOs",
        "outputId": "fb6d90c6-8fff-4258-8aa1-5266bd11de87",
        "colab": {
          "base_uri": "https://localhost:8080/",
          "height": 143
        }
      },
      "source": [
        "df"
      ],
      "id": "e2mGmms72NOs",
      "execution_count": 73,
      "outputs": [
        {
          "output_type": "execute_result",
          "data": {
            "text/html": [
              "<div>\n",
              "<style scoped>\n",
              "    .dataframe tbody tr th:only-of-type {\n",
              "        vertical-align: middle;\n",
              "    }\n",
              "\n",
              "    .dataframe tbody tr th {\n",
              "        vertical-align: top;\n",
              "    }\n",
              "\n",
              "    .dataframe thead th {\n",
              "        text-align: right;\n",
              "    }\n",
              "</style>\n",
              "<table border=\"1\" class=\"dataframe\">\n",
              "  <thead>\n",
              "    <tr style=\"text-align: right;\">\n",
              "      <th></th>\n",
              "      <th>A</th>\n",
              "      <th>B</th>\n",
              "      <th>C</th>\n",
              "    </tr>\n",
              "  </thead>\n",
              "  <tbody>\n",
              "    <tr>\n",
              "      <th>0</th>\n",
              "      <td>1.0</td>\n",
              "      <td>5.0</td>\n",
              "      <td>1</td>\n",
              "    </tr>\n",
              "    <tr>\n",
              "      <th>1</th>\n",
              "      <td>2.0</td>\n",
              "      <td>NaN</td>\n",
              "      <td>2</td>\n",
              "    </tr>\n",
              "    <tr>\n",
              "      <th>2</th>\n",
              "      <td>NaN</td>\n",
              "      <td>NaN</td>\n",
              "      <td>3</td>\n",
              "    </tr>\n",
              "  </tbody>\n",
              "</table>\n",
              "</div>"
            ],
            "text/plain": [
              "     A    B  C\n",
              "0  1.0  5.0  1\n",
              "1  2.0  NaN  2\n",
              "2  NaN  NaN  3"
            ]
          },
          "metadata": {},
          "execution_count": 73
        }
      ]
    },
    {
      "cell_type": "code",
      "metadata": {
        "id": "TqBaup__2NL2",
        "outputId": "9ba08d93-f851-40d6-9010-cfb04834dfe7",
        "colab": {
          "base_uri": "https://localhost:8080/",
          "height": 81
        }
      },
      "source": [
        "df.dropna()"
      ],
      "id": "TqBaup__2NL2",
      "execution_count": 74,
      "outputs": [
        {
          "output_type": "execute_result",
          "data": {
            "text/html": [
              "<div>\n",
              "<style scoped>\n",
              "    .dataframe tbody tr th:only-of-type {\n",
              "        vertical-align: middle;\n",
              "    }\n",
              "\n",
              "    .dataframe tbody tr th {\n",
              "        vertical-align: top;\n",
              "    }\n",
              "\n",
              "    .dataframe thead th {\n",
              "        text-align: right;\n",
              "    }\n",
              "</style>\n",
              "<table border=\"1\" class=\"dataframe\">\n",
              "  <thead>\n",
              "    <tr style=\"text-align: right;\">\n",
              "      <th></th>\n",
              "      <th>A</th>\n",
              "      <th>B</th>\n",
              "      <th>C</th>\n",
              "    </tr>\n",
              "  </thead>\n",
              "  <tbody>\n",
              "    <tr>\n",
              "      <th>0</th>\n",
              "      <td>1.0</td>\n",
              "      <td>5.0</td>\n",
              "      <td>1</td>\n",
              "    </tr>\n",
              "  </tbody>\n",
              "</table>\n",
              "</div>"
            ],
            "text/plain": [
              "     A    B  C\n",
              "0  1.0  5.0  1"
            ]
          },
          "metadata": {},
          "execution_count": 74
        }
      ]
    },
    {
      "cell_type": "code",
      "metadata": {
        "id": "MMMavB1L2NGn",
        "outputId": "c6f304fe-2595-4c16-874e-ba06347675e9",
        "colab": {
          "base_uri": "https://localhost:8080/",
          "height": 143
        }
      },
      "source": [
        "df.dropna(axis=1)"
      ],
      "id": "MMMavB1L2NGn",
      "execution_count": 75,
      "outputs": [
        {
          "output_type": "execute_result",
          "data": {
            "text/html": [
              "<div>\n",
              "<style scoped>\n",
              "    .dataframe tbody tr th:only-of-type {\n",
              "        vertical-align: middle;\n",
              "    }\n",
              "\n",
              "    .dataframe tbody tr th {\n",
              "        vertical-align: top;\n",
              "    }\n",
              "\n",
              "    .dataframe thead th {\n",
              "        text-align: right;\n",
              "    }\n",
              "</style>\n",
              "<table border=\"1\" class=\"dataframe\">\n",
              "  <thead>\n",
              "    <tr style=\"text-align: right;\">\n",
              "      <th></th>\n",
              "      <th>C</th>\n",
              "    </tr>\n",
              "  </thead>\n",
              "  <tbody>\n",
              "    <tr>\n",
              "      <th>0</th>\n",
              "      <td>1</td>\n",
              "    </tr>\n",
              "    <tr>\n",
              "      <th>1</th>\n",
              "      <td>2</td>\n",
              "    </tr>\n",
              "    <tr>\n",
              "      <th>2</th>\n",
              "      <td>3</td>\n",
              "    </tr>\n",
              "  </tbody>\n",
              "</table>\n",
              "</div>"
            ],
            "text/plain": [
              "   C\n",
              "0  1\n",
              "1  2\n",
              "2  3"
            ]
          },
          "metadata": {},
          "execution_count": 75
        }
      ]
    },
    {
      "cell_type": "code",
      "metadata": {
        "id": "sppiFwKx2NC3",
        "outputId": "850ca4fb-558e-4296-e6fb-bce3b7c09ef2",
        "colab": {
          "base_uri": "https://localhost:8080/",
          "height": 112
        }
      },
      "source": [
        "df.dropna(thresh=2)"
      ],
      "id": "sppiFwKx2NC3",
      "execution_count": 76,
      "outputs": [
        {
          "output_type": "execute_result",
          "data": {
            "text/html": [
              "<div>\n",
              "<style scoped>\n",
              "    .dataframe tbody tr th:only-of-type {\n",
              "        vertical-align: middle;\n",
              "    }\n",
              "\n",
              "    .dataframe tbody tr th {\n",
              "        vertical-align: top;\n",
              "    }\n",
              "\n",
              "    .dataframe thead th {\n",
              "        text-align: right;\n",
              "    }\n",
              "</style>\n",
              "<table border=\"1\" class=\"dataframe\">\n",
              "  <thead>\n",
              "    <tr style=\"text-align: right;\">\n",
              "      <th></th>\n",
              "      <th>A</th>\n",
              "      <th>B</th>\n",
              "      <th>C</th>\n",
              "    </tr>\n",
              "  </thead>\n",
              "  <tbody>\n",
              "    <tr>\n",
              "      <th>0</th>\n",
              "      <td>1.0</td>\n",
              "      <td>5.0</td>\n",
              "      <td>1</td>\n",
              "    </tr>\n",
              "    <tr>\n",
              "      <th>1</th>\n",
              "      <td>2.0</td>\n",
              "      <td>NaN</td>\n",
              "      <td>2</td>\n",
              "    </tr>\n",
              "  </tbody>\n",
              "</table>\n",
              "</div>"
            ],
            "text/plain": [
              "     A    B  C\n",
              "0  1.0  5.0  1\n",
              "1  2.0  NaN  2"
            ]
          },
          "metadata": {},
          "execution_count": 76
        }
      ]
    },
    {
      "cell_type": "code",
      "metadata": {
        "id": "5muDOg2U2NAS",
        "outputId": "c014d83b-40f3-4b22-8bf6-2bf68d2ef5a3",
        "colab": {
          "base_uri": "https://localhost:8080/",
          "height": 143
        }
      },
      "source": [
        "df.fillna(value='Fill Value')"
      ],
      "id": "5muDOg2U2NAS",
      "execution_count": 77,
      "outputs": [
        {
          "output_type": "execute_result",
          "data": {
            "text/html": [
              "<div>\n",
              "<style scoped>\n",
              "    .dataframe tbody tr th:only-of-type {\n",
              "        vertical-align: middle;\n",
              "    }\n",
              "\n",
              "    .dataframe tbody tr th {\n",
              "        vertical-align: top;\n",
              "    }\n",
              "\n",
              "    .dataframe thead th {\n",
              "        text-align: right;\n",
              "    }\n",
              "</style>\n",
              "<table border=\"1\" class=\"dataframe\">\n",
              "  <thead>\n",
              "    <tr style=\"text-align: right;\">\n",
              "      <th></th>\n",
              "      <th>A</th>\n",
              "      <th>B</th>\n",
              "      <th>C</th>\n",
              "    </tr>\n",
              "  </thead>\n",
              "  <tbody>\n",
              "    <tr>\n",
              "      <th>0</th>\n",
              "      <td>1</td>\n",
              "      <td>5</td>\n",
              "      <td>1</td>\n",
              "    </tr>\n",
              "    <tr>\n",
              "      <th>1</th>\n",
              "      <td>2</td>\n",
              "      <td>Fill Value</td>\n",
              "      <td>2</td>\n",
              "    </tr>\n",
              "    <tr>\n",
              "      <th>2</th>\n",
              "      <td>Fill Value</td>\n",
              "      <td>Fill Value</td>\n",
              "      <td>3</td>\n",
              "    </tr>\n",
              "  </tbody>\n",
              "</table>\n",
              "</div>"
            ],
            "text/plain": [
              "            A           B  C\n",
              "0           1           5  1\n",
              "1           2  Fill Value  2\n",
              "2  Fill Value  Fill Value  3"
            ]
          },
          "metadata": {},
          "execution_count": 77
        }
      ]
    },
    {
      "cell_type": "code",
      "metadata": {
        "id": "NJNGaEfV2M7r",
        "outputId": "8acacf1c-aae8-4a0b-d3c5-61e04b1ec93d",
        "colab": {
          "base_uri": "https://localhost:8080/"
        }
      },
      "source": [
        "df['A'].fillna(value=df['A'].mean())  #(1+2)/2"
      ],
      "id": "NJNGaEfV2M7r",
      "execution_count": 78,
      "outputs": [
        {
          "output_type": "execute_result",
          "data": {
            "text/plain": [
              "0    1.0\n",
              "1    2.0\n",
              "2    1.5\n",
              "Name: A, dtype: float64"
            ]
          },
          "metadata": {},
          "execution_count": 78
        }
      ]
    },
    {
      "cell_type": "markdown",
      "metadata": {
        "id": "v3A2xNM1C9VA"
      },
      "source": [
        "### Groupby"
      ],
      "id": "v3A2xNM1C9VA"
    },
    {
      "cell_type": "code",
      "metadata": {
        "id": "x7Ml_faLC47E"
      },
      "source": [
        "data = {'Continent':['Asia','Asia','Europe','Europe','America','America'],\n",
        "        'Country':['Singapore','Korea','Spain','France','USA','Guatemela'],\n",
        "        'Energy_tw':[120,340,240,124,350,100]}"
      ],
      "id": "x7Ml_faLC47E",
      "execution_count": 79,
      "outputs": []
    },
    {
      "cell_type": "code",
      "metadata": {
        "id": "8AuJYmDYC44w"
      },
      "source": [
        "df = pd.DataFrame(data)"
      ],
      "id": "8AuJYmDYC44w",
      "execution_count": 80,
      "outputs": []
    },
    {
      "cell_type": "code",
      "metadata": {
        "id": "z9dSV-p9C4zw",
        "outputId": "66586b35-1b35-4a5f-fad5-841b45e77141",
        "colab": {
          "base_uri": "https://localhost:8080/",
          "height": 238
        }
      },
      "source": [
        "df"
      ],
      "id": "z9dSV-p9C4zw",
      "execution_count": 81,
      "outputs": [
        {
          "output_type": "execute_result",
          "data": {
            "text/html": [
              "<div>\n",
              "<style scoped>\n",
              "    .dataframe tbody tr th:only-of-type {\n",
              "        vertical-align: middle;\n",
              "    }\n",
              "\n",
              "    .dataframe tbody tr th {\n",
              "        vertical-align: top;\n",
              "    }\n",
              "\n",
              "    .dataframe thead th {\n",
              "        text-align: right;\n",
              "    }\n",
              "</style>\n",
              "<table border=\"1\" class=\"dataframe\">\n",
              "  <thead>\n",
              "    <tr style=\"text-align: right;\">\n",
              "      <th></th>\n",
              "      <th>Continent</th>\n",
              "      <th>Country</th>\n",
              "      <th>Energy_tw</th>\n",
              "    </tr>\n",
              "  </thead>\n",
              "  <tbody>\n",
              "    <tr>\n",
              "      <th>0</th>\n",
              "      <td>Asia</td>\n",
              "      <td>Singapore</td>\n",
              "      <td>120</td>\n",
              "    </tr>\n",
              "    <tr>\n",
              "      <th>1</th>\n",
              "      <td>Asia</td>\n",
              "      <td>Korea</td>\n",
              "      <td>340</td>\n",
              "    </tr>\n",
              "    <tr>\n",
              "      <th>2</th>\n",
              "      <td>Europe</td>\n",
              "      <td>Spain</td>\n",
              "      <td>240</td>\n",
              "    </tr>\n",
              "    <tr>\n",
              "      <th>3</th>\n",
              "      <td>Europe</td>\n",
              "      <td>France</td>\n",
              "      <td>124</td>\n",
              "    </tr>\n",
              "    <tr>\n",
              "      <th>4</th>\n",
              "      <td>America</td>\n",
              "      <td>USA</td>\n",
              "      <td>350</td>\n",
              "    </tr>\n",
              "    <tr>\n",
              "      <th>5</th>\n",
              "      <td>America</td>\n",
              "      <td>Guatemela</td>\n",
              "      <td>100</td>\n",
              "    </tr>\n",
              "  </tbody>\n",
              "</table>\n",
              "</div>"
            ],
            "text/plain": [
              "  Continent    Country  Energy_tw\n",
              "0      Asia  Singapore        120\n",
              "1      Asia      Korea        340\n",
              "2    Europe      Spain        240\n",
              "3    Europe     France        124\n",
              "4   America        USA        350\n",
              "5   America  Guatemela        100"
            ]
          },
          "metadata": {},
          "execution_count": 81
        }
      ]
    },
    {
      "cell_type": "code",
      "metadata": {
        "id": "hN_FE3gFC4ws",
        "outputId": "8981a1fb-a606-40c9-b859-4d0f9d005c86",
        "colab": {
          "base_uri": "https://localhost:8080/"
        }
      },
      "source": [
        "df.groupby('Continent')"
      ],
      "id": "hN_FE3gFC4ws",
      "execution_count": 82,
      "outputs": [
        {
          "output_type": "execute_result",
          "data": {
            "text/plain": [
              "<pandas.core.groupby.generic.DataFrameGroupBy object at 0x7f6cf624fbd0>"
            ]
          },
          "metadata": {},
          "execution_count": 82
        }
      ]
    },
    {
      "cell_type": "code",
      "metadata": {
        "id": "I-c5QXZvC4uL"
      },
      "source": [
        "by_cont = df.groupby('Continent')"
      ],
      "id": "I-c5QXZvC4uL",
      "execution_count": 83,
      "outputs": []
    },
    {
      "cell_type": "code",
      "metadata": {
        "id": "zMuzw5xGC4qe",
        "outputId": "cac574c1-be91-40f1-f945-4a7a93c98c25",
        "colab": {
          "base_uri": "https://localhost:8080/"
        }
      },
      "source": [
        "print(by_cont)"
      ],
      "id": "zMuzw5xGC4qe",
      "execution_count": 84,
      "outputs": [
        {
          "output_type": "stream",
          "name": "stdout",
          "text": [
            "<pandas.core.groupby.generic.DataFrameGroupBy object at 0x7f6cf62f5050>\n"
          ]
        }
      ]
    },
    {
      "cell_type": "code",
      "metadata": {
        "id": "pRnWIt0L1xVd",
        "outputId": "c6e67954-81a0-4403-fe85-46f3a1f23f45",
        "colab": {
          "base_uri": "https://localhost:8080/",
          "height": 174
        }
      },
      "source": [
        "by_cont.mean()"
      ],
      "id": "pRnWIt0L1xVd",
      "execution_count": 85,
      "outputs": [
        {
          "output_type": "execute_result",
          "data": {
            "text/html": [
              "<div>\n",
              "<style scoped>\n",
              "    .dataframe tbody tr th:only-of-type {\n",
              "        vertical-align: middle;\n",
              "    }\n",
              "\n",
              "    .dataframe tbody tr th {\n",
              "        vertical-align: top;\n",
              "    }\n",
              "\n",
              "    .dataframe thead th {\n",
              "        text-align: right;\n",
              "    }\n",
              "</style>\n",
              "<table border=\"1\" class=\"dataframe\">\n",
              "  <thead>\n",
              "    <tr style=\"text-align: right;\">\n",
              "      <th></th>\n",
              "      <th>Energy_tw</th>\n",
              "    </tr>\n",
              "    <tr>\n",
              "      <th>Continent</th>\n",
              "      <th></th>\n",
              "    </tr>\n",
              "  </thead>\n",
              "  <tbody>\n",
              "    <tr>\n",
              "      <th>America</th>\n",
              "      <td>225</td>\n",
              "    </tr>\n",
              "    <tr>\n",
              "      <th>Asia</th>\n",
              "      <td>230</td>\n",
              "    </tr>\n",
              "    <tr>\n",
              "      <th>Europe</th>\n",
              "      <td>182</td>\n",
              "    </tr>\n",
              "  </tbody>\n",
              "</table>\n",
              "</div>"
            ],
            "text/plain": [
              "           Energy_tw\n",
              "Continent           \n",
              "America          225\n",
              "Asia             230\n",
              "Europe           182"
            ]
          },
          "metadata": {},
          "execution_count": 85
        }
      ]
    },
    {
      "cell_type": "code",
      "metadata": {
        "id": "txSbZCuJEyT5",
        "outputId": "0d435834-b607-4ed2-9293-a49a55d4c4e4",
        "colab": {
          "base_uri": "https://localhost:8080/",
          "height": 174
        }
      },
      "source": [
        "by_cont.std()"
      ],
      "id": "txSbZCuJEyT5",
      "execution_count": 86,
      "outputs": [
        {
          "output_type": "execute_result",
          "data": {
            "text/html": [
              "<div>\n",
              "<style scoped>\n",
              "    .dataframe tbody tr th:only-of-type {\n",
              "        vertical-align: middle;\n",
              "    }\n",
              "\n",
              "    .dataframe tbody tr th {\n",
              "        vertical-align: top;\n",
              "    }\n",
              "\n",
              "    .dataframe thead th {\n",
              "        text-align: right;\n",
              "    }\n",
              "</style>\n",
              "<table border=\"1\" class=\"dataframe\">\n",
              "  <thead>\n",
              "    <tr style=\"text-align: right;\">\n",
              "      <th></th>\n",
              "      <th>Energy_tw</th>\n",
              "    </tr>\n",
              "    <tr>\n",
              "      <th>Continent</th>\n",
              "      <th></th>\n",
              "    </tr>\n",
              "  </thead>\n",
              "  <tbody>\n",
              "    <tr>\n",
              "      <th>America</th>\n",
              "      <td>176.776695</td>\n",
              "    </tr>\n",
              "    <tr>\n",
              "      <th>Asia</th>\n",
              "      <td>155.563492</td>\n",
              "    </tr>\n",
              "    <tr>\n",
              "      <th>Europe</th>\n",
              "      <td>82.024387</td>\n",
              "    </tr>\n",
              "  </tbody>\n",
              "</table>\n",
              "</div>"
            ],
            "text/plain": [
              "            Energy_tw\n",
              "Continent            \n",
              "America    176.776695\n",
              "Asia       155.563492\n",
              "Europe      82.024387"
            ]
          },
          "metadata": {},
          "execution_count": 86
        }
      ]
    },
    {
      "cell_type": "code",
      "metadata": {
        "id": "D169Lup2EyRE",
        "outputId": "7a070afb-ddf3-492b-e759-792fc824bddb",
        "colab": {
          "base_uri": "https://localhost:8080/",
          "height": 174
        }
      },
      "source": [
        "by_cont.max()"
      ],
      "id": "D169Lup2EyRE",
      "execution_count": 87,
      "outputs": [
        {
          "output_type": "execute_result",
          "data": {
            "text/html": [
              "<div>\n",
              "<style scoped>\n",
              "    .dataframe tbody tr th:only-of-type {\n",
              "        vertical-align: middle;\n",
              "    }\n",
              "\n",
              "    .dataframe tbody tr th {\n",
              "        vertical-align: top;\n",
              "    }\n",
              "\n",
              "    .dataframe thead th {\n",
              "        text-align: right;\n",
              "    }\n",
              "</style>\n",
              "<table border=\"1\" class=\"dataframe\">\n",
              "  <thead>\n",
              "    <tr style=\"text-align: right;\">\n",
              "      <th></th>\n",
              "      <th>Country</th>\n",
              "      <th>Energy_tw</th>\n",
              "    </tr>\n",
              "    <tr>\n",
              "      <th>Continent</th>\n",
              "      <th></th>\n",
              "      <th></th>\n",
              "    </tr>\n",
              "  </thead>\n",
              "  <tbody>\n",
              "    <tr>\n",
              "      <th>America</th>\n",
              "      <td>USA</td>\n",
              "      <td>350</td>\n",
              "    </tr>\n",
              "    <tr>\n",
              "      <th>Asia</th>\n",
              "      <td>Singapore</td>\n",
              "      <td>340</td>\n",
              "    </tr>\n",
              "    <tr>\n",
              "      <th>Europe</th>\n",
              "      <td>Spain</td>\n",
              "      <td>240</td>\n",
              "    </tr>\n",
              "  </tbody>\n",
              "</table>\n",
              "</div>"
            ],
            "text/plain": [
              "             Country  Energy_tw\n",
              "Continent                      \n",
              "America          USA        350\n",
              "Asia       Singapore        340\n",
              "Europe         Spain        240"
            ]
          },
          "metadata": {},
          "execution_count": 87
        }
      ]
    },
    {
      "cell_type": "code",
      "metadata": {
        "id": "ueP2vfcqEyO1",
        "outputId": "7a163f6e-98f7-4b04-ac39-eb84f0558023",
        "colab": {
          "base_uri": "https://localhost:8080/",
          "height": 174
        }
      },
      "source": [
        "by_cont.count()"
      ],
      "id": "ueP2vfcqEyO1",
      "execution_count": 88,
      "outputs": [
        {
          "output_type": "execute_result",
          "data": {
            "text/html": [
              "<div>\n",
              "<style scoped>\n",
              "    .dataframe tbody tr th:only-of-type {\n",
              "        vertical-align: middle;\n",
              "    }\n",
              "\n",
              "    .dataframe tbody tr th {\n",
              "        vertical-align: top;\n",
              "    }\n",
              "\n",
              "    .dataframe thead th {\n",
              "        text-align: right;\n",
              "    }\n",
              "</style>\n",
              "<table border=\"1\" class=\"dataframe\">\n",
              "  <thead>\n",
              "    <tr style=\"text-align: right;\">\n",
              "      <th></th>\n",
              "      <th>Country</th>\n",
              "      <th>Energy_tw</th>\n",
              "    </tr>\n",
              "    <tr>\n",
              "      <th>Continent</th>\n",
              "      <th></th>\n",
              "      <th></th>\n",
              "    </tr>\n",
              "  </thead>\n",
              "  <tbody>\n",
              "    <tr>\n",
              "      <th>America</th>\n",
              "      <td>2</td>\n",
              "      <td>2</td>\n",
              "    </tr>\n",
              "    <tr>\n",
              "      <th>Asia</th>\n",
              "      <td>2</td>\n",
              "      <td>2</td>\n",
              "    </tr>\n",
              "    <tr>\n",
              "      <th>Europe</th>\n",
              "      <td>2</td>\n",
              "      <td>2</td>\n",
              "    </tr>\n",
              "  </tbody>\n",
              "</table>\n",
              "</div>"
            ],
            "text/plain": [
              "           Country  Energy_tw\n",
              "Continent                    \n",
              "America          2          2\n",
              "Asia             2          2\n",
              "Europe           2          2"
            ]
          },
          "metadata": {},
          "execution_count": 88
        }
      ]
    },
    {
      "cell_type": "code",
      "metadata": {
        "id": "sOF2uhVPEyL5",
        "outputId": "1add416d-71e6-4aa4-ea60-1ba9b4d919ee",
        "colab": {
          "base_uri": "https://localhost:8080/",
          "height": 206
        }
      },
      "source": [
        "by_cont.describe()"
      ],
      "id": "sOF2uhVPEyL5",
      "execution_count": 89,
      "outputs": [
        {
          "output_type": "execute_result",
          "data": {
            "text/html": [
              "<div>\n",
              "<style scoped>\n",
              "    .dataframe tbody tr th:only-of-type {\n",
              "        vertical-align: middle;\n",
              "    }\n",
              "\n",
              "    .dataframe tbody tr th {\n",
              "        vertical-align: top;\n",
              "    }\n",
              "\n",
              "    .dataframe thead tr th {\n",
              "        text-align: left;\n",
              "    }\n",
              "\n",
              "    .dataframe thead tr:last-of-type th {\n",
              "        text-align: right;\n",
              "    }\n",
              "</style>\n",
              "<table border=\"1\" class=\"dataframe\">\n",
              "  <thead>\n",
              "    <tr>\n",
              "      <th></th>\n",
              "      <th colspan=\"8\" halign=\"left\">Energy_tw</th>\n",
              "    </tr>\n",
              "    <tr>\n",
              "      <th></th>\n",
              "      <th>count</th>\n",
              "      <th>mean</th>\n",
              "      <th>std</th>\n",
              "      <th>min</th>\n",
              "      <th>25%</th>\n",
              "      <th>50%</th>\n",
              "      <th>75%</th>\n",
              "      <th>max</th>\n",
              "    </tr>\n",
              "    <tr>\n",
              "      <th>Continent</th>\n",
              "      <th></th>\n",
              "      <th></th>\n",
              "      <th></th>\n",
              "      <th></th>\n",
              "      <th></th>\n",
              "      <th></th>\n",
              "      <th></th>\n",
              "      <th></th>\n",
              "    </tr>\n",
              "  </thead>\n",
              "  <tbody>\n",
              "    <tr>\n",
              "      <th>America</th>\n",
              "      <td>2.0</td>\n",
              "      <td>225.0</td>\n",
              "      <td>176.776695</td>\n",
              "      <td>100.0</td>\n",
              "      <td>162.5</td>\n",
              "      <td>225.0</td>\n",
              "      <td>287.5</td>\n",
              "      <td>350.0</td>\n",
              "    </tr>\n",
              "    <tr>\n",
              "      <th>Asia</th>\n",
              "      <td>2.0</td>\n",
              "      <td>230.0</td>\n",
              "      <td>155.563492</td>\n",
              "      <td>120.0</td>\n",
              "      <td>175.0</td>\n",
              "      <td>230.0</td>\n",
              "      <td>285.0</td>\n",
              "      <td>340.0</td>\n",
              "    </tr>\n",
              "    <tr>\n",
              "      <th>Europe</th>\n",
              "      <td>2.0</td>\n",
              "      <td>182.0</td>\n",
              "      <td>82.024387</td>\n",
              "      <td>124.0</td>\n",
              "      <td>153.0</td>\n",
              "      <td>182.0</td>\n",
              "      <td>211.0</td>\n",
              "      <td>240.0</td>\n",
              "    </tr>\n",
              "  </tbody>\n",
              "</table>\n",
              "</div>"
            ],
            "text/plain": [
              "          Energy_tw                                                      \n",
              "              count   mean         std    min    25%    50%    75%    max\n",
              "Continent                                                                \n",
              "America         2.0  225.0  176.776695  100.0  162.5  225.0  287.5  350.0\n",
              "Asia            2.0  230.0  155.563492  120.0  175.0  230.0  285.0  340.0\n",
              "Europe          2.0  182.0   82.024387  124.0  153.0  182.0  211.0  240.0"
            ]
          },
          "metadata": {},
          "execution_count": 89
        }
      ]
    },
    {
      "cell_type": "code",
      "metadata": {
        "id": "-YlpiEFYEyIv",
        "outputId": "caf309b7-f321-4f37-f867-eb4f7d034797",
        "colab": {
          "base_uri": "https://localhost:8080/",
          "height": 300
        }
      },
      "source": [
        "by_cont.describe().transpose()"
      ],
      "id": "-YlpiEFYEyIv",
      "execution_count": 90,
      "outputs": [
        {
          "output_type": "execute_result",
          "data": {
            "text/html": [
              "<div>\n",
              "<style scoped>\n",
              "    .dataframe tbody tr th:only-of-type {\n",
              "        vertical-align: middle;\n",
              "    }\n",
              "\n",
              "    .dataframe tbody tr th {\n",
              "        vertical-align: top;\n",
              "    }\n",
              "\n",
              "    .dataframe thead th {\n",
              "        text-align: right;\n",
              "    }\n",
              "</style>\n",
              "<table border=\"1\" class=\"dataframe\">\n",
              "  <thead>\n",
              "    <tr style=\"text-align: right;\">\n",
              "      <th></th>\n",
              "      <th>Continent</th>\n",
              "      <th>America</th>\n",
              "      <th>Asia</th>\n",
              "      <th>Europe</th>\n",
              "    </tr>\n",
              "  </thead>\n",
              "  <tbody>\n",
              "    <tr>\n",
              "      <th rowspan=\"8\" valign=\"top\">Energy_tw</th>\n",
              "      <th>count</th>\n",
              "      <td>2.000000</td>\n",
              "      <td>2.000000</td>\n",
              "      <td>2.000000</td>\n",
              "    </tr>\n",
              "    <tr>\n",
              "      <th>mean</th>\n",
              "      <td>225.000000</td>\n",
              "      <td>230.000000</td>\n",
              "      <td>182.000000</td>\n",
              "    </tr>\n",
              "    <tr>\n",
              "      <th>std</th>\n",
              "      <td>176.776695</td>\n",
              "      <td>155.563492</td>\n",
              "      <td>82.024387</td>\n",
              "    </tr>\n",
              "    <tr>\n",
              "      <th>min</th>\n",
              "      <td>100.000000</td>\n",
              "      <td>120.000000</td>\n",
              "      <td>124.000000</td>\n",
              "    </tr>\n",
              "    <tr>\n",
              "      <th>25%</th>\n",
              "      <td>162.500000</td>\n",
              "      <td>175.000000</td>\n",
              "      <td>153.000000</td>\n",
              "    </tr>\n",
              "    <tr>\n",
              "      <th>50%</th>\n",
              "      <td>225.000000</td>\n",
              "      <td>230.000000</td>\n",
              "      <td>182.000000</td>\n",
              "    </tr>\n",
              "    <tr>\n",
              "      <th>75%</th>\n",
              "      <td>287.500000</td>\n",
              "      <td>285.000000</td>\n",
              "      <td>211.000000</td>\n",
              "    </tr>\n",
              "    <tr>\n",
              "      <th>max</th>\n",
              "      <td>350.000000</td>\n",
              "      <td>340.000000</td>\n",
              "      <td>240.000000</td>\n",
              "    </tr>\n",
              "  </tbody>\n",
              "</table>\n",
              "</div>"
            ],
            "text/plain": [
              "Continent           America        Asia      Europe\n",
              "Energy_tw count    2.000000    2.000000    2.000000\n",
              "          mean   225.000000  230.000000  182.000000\n",
              "          std    176.776695  155.563492   82.024387\n",
              "          min    100.000000  120.000000  124.000000\n",
              "          25%    162.500000  175.000000  153.000000\n",
              "          50%    225.000000  230.000000  182.000000\n",
              "          75%    287.500000  285.000000  211.000000\n",
              "          max    350.000000  340.000000  240.000000"
            ]
          },
          "metadata": {},
          "execution_count": 90
        }
      ]
    },
    {
      "cell_type": "code",
      "metadata": {
        "id": "C-uzG7VHEyCR",
        "outputId": "6eabd9bd-d4ab-4549-b301-cd50a3ddb416",
        "colab": {
          "base_uri": "https://localhost:8080/"
        }
      },
      "source": [
        "by_cont.describe().transpose()['Asia']"
      ],
      "id": "C-uzG7VHEyCR",
      "execution_count": 91,
      "outputs": [
        {
          "output_type": "execute_result",
          "data": {
            "text/plain": [
              "Energy_tw  count      2.000000\n",
              "           mean     230.000000\n",
              "           std      155.563492\n",
              "           min      120.000000\n",
              "           25%      175.000000\n",
              "           50%      230.000000\n",
              "           75%      285.000000\n",
              "           max      340.000000\n",
              "Name: Asia, dtype: float64"
            ]
          },
          "metadata": {},
          "execution_count": 91
        }
      ]
    },
    {
      "cell_type": "markdown",
      "metadata": {
        "id": "CwPqnIBKFcrR"
      },
      "source": [
        "###Merging, Joining, and Concatenating"
      ],
      "id": "CwPqnIBKFcrR"
    },
    {
      "cell_type": "code",
      "metadata": {
        "id": "VCOocPQ4Ex-1"
      },
      "source": [
        "df1 = pd.DataFrame({ 'A':['A0','A1','A2','A3'],\n",
        "                     'B':['B0','B1','B2','B3'],\n",
        "                     'C':['C0','C1','C2','C3'],\n",
        "                     'D':['D0','D1','D2','D3']},\n",
        "                      index = [0,1,2,3])"
      ],
      "id": "VCOocPQ4Ex-1",
      "execution_count": 98,
      "outputs": []
    },
    {
      "cell_type": "code",
      "metadata": {
        "id": "XgKbBxndFk1Q"
      },
      "source": [
        "df2 = pd.DataFrame({ 'A':['A4','A5','A6','A7'],\n",
        "                     'B':['B4','B5','B6','B7'],\n",
        "                     'C':['C4','C5','C6','C7'],\n",
        "                     'D':['D4','D5','D6','D7']},\n",
        "                      index = [4,5,6,7])"
      ],
      "id": "XgKbBxndFk1Q",
      "execution_count": 94,
      "outputs": []
    },
    {
      "cell_type": "code",
      "metadata": {
        "id": "Pu7qW5BfEx79"
      },
      "source": [
        "df3 = pd.DataFrame({ 'A':['A8','A9','A10','A11'],\n",
        "                     'B':['B8','B9','B10','B11'],\n",
        "                     'C':['C8','C9','C10','C11'],\n",
        "                     'D':['D8','D9','D10','D11']},\n",
        "                      index = [8,9,10,11])"
      ],
      "id": "Pu7qW5BfEx79",
      "execution_count": 95,
      "outputs": []
    },
    {
      "cell_type": "code",
      "metadata": {
        "id": "D-eWPNAWEx5S",
        "outputId": "799130e6-394b-4b80-dd12-0c0cb6b2849c",
        "colab": {
          "base_uri": "https://localhost:8080/",
          "height": 174
        }
      },
      "source": [
        "df1"
      ],
      "id": "D-eWPNAWEx5S",
      "execution_count": 99,
      "outputs": [
        {
          "output_type": "execute_result",
          "data": {
            "text/html": [
              "<div>\n",
              "<style scoped>\n",
              "    .dataframe tbody tr th:only-of-type {\n",
              "        vertical-align: middle;\n",
              "    }\n",
              "\n",
              "    .dataframe tbody tr th {\n",
              "        vertical-align: top;\n",
              "    }\n",
              "\n",
              "    .dataframe thead th {\n",
              "        text-align: right;\n",
              "    }\n",
              "</style>\n",
              "<table border=\"1\" class=\"dataframe\">\n",
              "  <thead>\n",
              "    <tr style=\"text-align: right;\">\n",
              "      <th></th>\n",
              "      <th>A</th>\n",
              "      <th>B</th>\n",
              "      <th>C</th>\n",
              "      <th>D</th>\n",
              "    </tr>\n",
              "  </thead>\n",
              "  <tbody>\n",
              "    <tr>\n",
              "      <th>0</th>\n",
              "      <td>A0</td>\n",
              "      <td>B0</td>\n",
              "      <td>C0</td>\n",
              "      <td>D0</td>\n",
              "    </tr>\n",
              "    <tr>\n",
              "      <th>1</th>\n",
              "      <td>A1</td>\n",
              "      <td>B1</td>\n",
              "      <td>C1</td>\n",
              "      <td>D1</td>\n",
              "    </tr>\n",
              "    <tr>\n",
              "      <th>2</th>\n",
              "      <td>A2</td>\n",
              "      <td>B2</td>\n",
              "      <td>C2</td>\n",
              "      <td>D2</td>\n",
              "    </tr>\n",
              "    <tr>\n",
              "      <th>3</th>\n",
              "      <td>A3</td>\n",
              "      <td>B3</td>\n",
              "      <td>C3</td>\n",
              "      <td>D3</td>\n",
              "    </tr>\n",
              "  </tbody>\n",
              "</table>\n",
              "</div>"
            ],
            "text/plain": [
              "    A   B   C   D\n",
              "0  A0  B0  C0  D0\n",
              "1  A1  B1  C1  D1\n",
              "2  A2  B2  C2  D2\n",
              "3  A3  B3  C3  D3"
            ]
          },
          "metadata": {},
          "execution_count": 99
        }
      ]
    },
    {
      "cell_type": "code",
      "metadata": {
        "id": "9rH1UMwOHLlK",
        "outputId": "87fa606f-49b3-4d46-96cc-f2f67b5365cb",
        "colab": {
          "base_uri": "https://localhost:8080/",
          "height": 174
        }
      },
      "source": [
        "df2"
      ],
      "id": "9rH1UMwOHLlK",
      "execution_count": 100,
      "outputs": [
        {
          "output_type": "execute_result",
          "data": {
            "text/html": [
              "<div>\n",
              "<style scoped>\n",
              "    .dataframe tbody tr th:only-of-type {\n",
              "        vertical-align: middle;\n",
              "    }\n",
              "\n",
              "    .dataframe tbody tr th {\n",
              "        vertical-align: top;\n",
              "    }\n",
              "\n",
              "    .dataframe thead th {\n",
              "        text-align: right;\n",
              "    }\n",
              "</style>\n",
              "<table border=\"1\" class=\"dataframe\">\n",
              "  <thead>\n",
              "    <tr style=\"text-align: right;\">\n",
              "      <th></th>\n",
              "      <th>A</th>\n",
              "      <th>B</th>\n",
              "      <th>C</th>\n",
              "      <th>D</th>\n",
              "    </tr>\n",
              "  </thead>\n",
              "  <tbody>\n",
              "    <tr>\n",
              "      <th>4</th>\n",
              "      <td>A4</td>\n",
              "      <td>B4</td>\n",
              "      <td>C4</td>\n",
              "      <td>D4</td>\n",
              "    </tr>\n",
              "    <tr>\n",
              "      <th>5</th>\n",
              "      <td>A5</td>\n",
              "      <td>B5</td>\n",
              "      <td>C5</td>\n",
              "      <td>D5</td>\n",
              "    </tr>\n",
              "    <tr>\n",
              "      <th>6</th>\n",
              "      <td>A6</td>\n",
              "      <td>B6</td>\n",
              "      <td>C6</td>\n",
              "      <td>D6</td>\n",
              "    </tr>\n",
              "    <tr>\n",
              "      <th>7</th>\n",
              "      <td>A7</td>\n",
              "      <td>B7</td>\n",
              "      <td>C7</td>\n",
              "      <td>D7</td>\n",
              "    </tr>\n",
              "  </tbody>\n",
              "</table>\n",
              "</div>"
            ],
            "text/plain": [
              "    A   B   C   D\n",
              "4  A4  B4  C4  D4\n",
              "5  A5  B5  C5  D5\n",
              "6  A6  B6  C6  D6\n",
              "7  A7  B7  C7  D7"
            ]
          },
          "metadata": {},
          "execution_count": 100
        }
      ]
    },
    {
      "cell_type": "code",
      "metadata": {
        "id": "9Ff0udg_HNs4",
        "outputId": "d7b8be3b-94ee-46a3-fe5c-530c9e374628",
        "colab": {
          "base_uri": "https://localhost:8080/",
          "height": 174
        }
      },
      "source": [
        "df3"
      ],
      "id": "9Ff0udg_HNs4",
      "execution_count": 101,
      "outputs": [
        {
          "output_type": "execute_result",
          "data": {
            "text/html": [
              "<div>\n",
              "<style scoped>\n",
              "    .dataframe tbody tr th:only-of-type {\n",
              "        vertical-align: middle;\n",
              "    }\n",
              "\n",
              "    .dataframe tbody tr th {\n",
              "        vertical-align: top;\n",
              "    }\n",
              "\n",
              "    .dataframe thead th {\n",
              "        text-align: right;\n",
              "    }\n",
              "</style>\n",
              "<table border=\"1\" class=\"dataframe\">\n",
              "  <thead>\n",
              "    <tr style=\"text-align: right;\">\n",
              "      <th></th>\n",
              "      <th>A</th>\n",
              "      <th>B</th>\n",
              "      <th>C</th>\n",
              "      <th>D</th>\n",
              "    </tr>\n",
              "  </thead>\n",
              "  <tbody>\n",
              "    <tr>\n",
              "      <th>8</th>\n",
              "      <td>A8</td>\n",
              "      <td>B8</td>\n",
              "      <td>C8</td>\n",
              "      <td>D8</td>\n",
              "    </tr>\n",
              "    <tr>\n",
              "      <th>9</th>\n",
              "      <td>A9</td>\n",
              "      <td>B9</td>\n",
              "      <td>C9</td>\n",
              "      <td>D9</td>\n",
              "    </tr>\n",
              "    <tr>\n",
              "      <th>10</th>\n",
              "      <td>A10</td>\n",
              "      <td>B10</td>\n",
              "      <td>C10</td>\n",
              "      <td>D10</td>\n",
              "    </tr>\n",
              "    <tr>\n",
              "      <th>11</th>\n",
              "      <td>A11</td>\n",
              "      <td>B11</td>\n",
              "      <td>C11</td>\n",
              "      <td>D11</td>\n",
              "    </tr>\n",
              "  </tbody>\n",
              "</table>\n",
              "</div>"
            ],
            "text/plain": [
              "      A    B    C    D\n",
              "8    A8   B8   C8   D8\n",
              "9    A9   B9   C9   D9\n",
              "10  A10  B10  C10  D10\n",
              "11  A11  B11  C11  D11"
            ]
          },
          "metadata": {},
          "execution_count": 101
        }
      ]
    },
    {
      "cell_type": "markdown",
      "metadata": {
        "id": "qs4EvpNmHPL2"
      },
      "source": [
        "#### Concatenation"
      ],
      "id": "qs4EvpNmHPL2"
    },
    {
      "cell_type": "code",
      "metadata": {
        "id": "tvPWCUR8HNqk",
        "outputId": "47584c35-d578-4edf-e25d-2dddb3c68147",
        "colab": {
          "base_uri": "https://localhost:8080/",
          "height": 426
        }
      },
      "source": [
        "pd.concat([df1,df2,df3])"
      ],
      "id": "tvPWCUR8HNqk",
      "execution_count": 102,
      "outputs": [
        {
          "output_type": "execute_result",
          "data": {
            "text/html": [
              "<div>\n",
              "<style scoped>\n",
              "    .dataframe tbody tr th:only-of-type {\n",
              "        vertical-align: middle;\n",
              "    }\n",
              "\n",
              "    .dataframe tbody tr th {\n",
              "        vertical-align: top;\n",
              "    }\n",
              "\n",
              "    .dataframe thead th {\n",
              "        text-align: right;\n",
              "    }\n",
              "</style>\n",
              "<table border=\"1\" class=\"dataframe\">\n",
              "  <thead>\n",
              "    <tr style=\"text-align: right;\">\n",
              "      <th></th>\n",
              "      <th>A</th>\n",
              "      <th>B</th>\n",
              "      <th>C</th>\n",
              "      <th>D</th>\n",
              "    </tr>\n",
              "  </thead>\n",
              "  <tbody>\n",
              "    <tr>\n",
              "      <th>0</th>\n",
              "      <td>A0</td>\n",
              "      <td>B0</td>\n",
              "      <td>C0</td>\n",
              "      <td>D0</td>\n",
              "    </tr>\n",
              "    <tr>\n",
              "      <th>1</th>\n",
              "      <td>A1</td>\n",
              "      <td>B1</td>\n",
              "      <td>C1</td>\n",
              "      <td>D1</td>\n",
              "    </tr>\n",
              "    <tr>\n",
              "      <th>2</th>\n",
              "      <td>A2</td>\n",
              "      <td>B2</td>\n",
              "      <td>C2</td>\n",
              "      <td>D2</td>\n",
              "    </tr>\n",
              "    <tr>\n",
              "      <th>3</th>\n",
              "      <td>A3</td>\n",
              "      <td>B3</td>\n",
              "      <td>C3</td>\n",
              "      <td>D3</td>\n",
              "    </tr>\n",
              "    <tr>\n",
              "      <th>4</th>\n",
              "      <td>A4</td>\n",
              "      <td>B4</td>\n",
              "      <td>C4</td>\n",
              "      <td>D4</td>\n",
              "    </tr>\n",
              "    <tr>\n",
              "      <th>5</th>\n",
              "      <td>A5</td>\n",
              "      <td>B5</td>\n",
              "      <td>C5</td>\n",
              "      <td>D5</td>\n",
              "    </tr>\n",
              "    <tr>\n",
              "      <th>6</th>\n",
              "      <td>A6</td>\n",
              "      <td>B6</td>\n",
              "      <td>C6</td>\n",
              "      <td>D6</td>\n",
              "    </tr>\n",
              "    <tr>\n",
              "      <th>7</th>\n",
              "      <td>A7</td>\n",
              "      <td>B7</td>\n",
              "      <td>C7</td>\n",
              "      <td>D7</td>\n",
              "    </tr>\n",
              "    <tr>\n",
              "      <th>8</th>\n",
              "      <td>A8</td>\n",
              "      <td>B8</td>\n",
              "      <td>C8</td>\n",
              "      <td>D8</td>\n",
              "    </tr>\n",
              "    <tr>\n",
              "      <th>9</th>\n",
              "      <td>A9</td>\n",
              "      <td>B9</td>\n",
              "      <td>C9</td>\n",
              "      <td>D9</td>\n",
              "    </tr>\n",
              "    <tr>\n",
              "      <th>10</th>\n",
              "      <td>A10</td>\n",
              "      <td>B10</td>\n",
              "      <td>C10</td>\n",
              "      <td>D10</td>\n",
              "    </tr>\n",
              "    <tr>\n",
              "      <th>11</th>\n",
              "      <td>A11</td>\n",
              "      <td>B11</td>\n",
              "      <td>C11</td>\n",
              "      <td>D11</td>\n",
              "    </tr>\n",
              "  </tbody>\n",
              "</table>\n",
              "</div>"
            ],
            "text/plain": [
              "      A    B    C    D\n",
              "0    A0   B0   C0   D0\n",
              "1    A1   B1   C1   D1\n",
              "2    A2   B2   C2   D2\n",
              "3    A3   B3   C3   D3\n",
              "4    A4   B4   C4   D4\n",
              "5    A5   B5   C5   D5\n",
              "6    A6   B6   C6   D6\n",
              "7    A7   B7   C7   D7\n",
              "8    A8   B8   C8   D8\n",
              "9    A9   B9   C9   D9\n",
              "10  A10  B10  C10  D10\n",
              "11  A11  B11  C11  D11"
            ]
          },
          "metadata": {},
          "execution_count": 102
        }
      ]
    },
    {
      "cell_type": "code",
      "metadata": {
        "id": "Zh43mA6_HNm9",
        "outputId": "5b4fdda5-0af8-49ac-f9de-f5fdbf0283d9",
        "colab": {
          "base_uri": "https://localhost:8080/",
          "height": 426
        }
      },
      "source": [
        "pd.concat([df1,df2,df3], axis = 1)"
      ],
      "id": "Zh43mA6_HNm9",
      "execution_count": 103,
      "outputs": [
        {
          "output_type": "execute_result",
          "data": {
            "text/html": [
              "<div>\n",
              "<style scoped>\n",
              "    .dataframe tbody tr th:only-of-type {\n",
              "        vertical-align: middle;\n",
              "    }\n",
              "\n",
              "    .dataframe tbody tr th {\n",
              "        vertical-align: top;\n",
              "    }\n",
              "\n",
              "    .dataframe thead th {\n",
              "        text-align: right;\n",
              "    }\n",
              "</style>\n",
              "<table border=\"1\" class=\"dataframe\">\n",
              "  <thead>\n",
              "    <tr style=\"text-align: right;\">\n",
              "      <th></th>\n",
              "      <th>A</th>\n",
              "      <th>B</th>\n",
              "      <th>C</th>\n",
              "      <th>D</th>\n",
              "      <th>A</th>\n",
              "      <th>B</th>\n",
              "      <th>C</th>\n",
              "      <th>D</th>\n",
              "      <th>A</th>\n",
              "      <th>B</th>\n",
              "      <th>C</th>\n",
              "      <th>D</th>\n",
              "    </tr>\n",
              "  </thead>\n",
              "  <tbody>\n",
              "    <tr>\n",
              "      <th>0</th>\n",
              "      <td>A0</td>\n",
              "      <td>B0</td>\n",
              "      <td>C0</td>\n",
              "      <td>D0</td>\n",
              "      <td>NaN</td>\n",
              "      <td>NaN</td>\n",
              "      <td>NaN</td>\n",
              "      <td>NaN</td>\n",
              "      <td>NaN</td>\n",
              "      <td>NaN</td>\n",
              "      <td>NaN</td>\n",
              "      <td>NaN</td>\n",
              "    </tr>\n",
              "    <tr>\n",
              "      <th>1</th>\n",
              "      <td>A1</td>\n",
              "      <td>B1</td>\n",
              "      <td>C1</td>\n",
              "      <td>D1</td>\n",
              "      <td>NaN</td>\n",
              "      <td>NaN</td>\n",
              "      <td>NaN</td>\n",
              "      <td>NaN</td>\n",
              "      <td>NaN</td>\n",
              "      <td>NaN</td>\n",
              "      <td>NaN</td>\n",
              "      <td>NaN</td>\n",
              "    </tr>\n",
              "    <tr>\n",
              "      <th>2</th>\n",
              "      <td>A2</td>\n",
              "      <td>B2</td>\n",
              "      <td>C2</td>\n",
              "      <td>D2</td>\n",
              "      <td>NaN</td>\n",
              "      <td>NaN</td>\n",
              "      <td>NaN</td>\n",
              "      <td>NaN</td>\n",
              "      <td>NaN</td>\n",
              "      <td>NaN</td>\n",
              "      <td>NaN</td>\n",
              "      <td>NaN</td>\n",
              "    </tr>\n",
              "    <tr>\n",
              "      <th>3</th>\n",
              "      <td>A3</td>\n",
              "      <td>B3</td>\n",
              "      <td>C3</td>\n",
              "      <td>D3</td>\n",
              "      <td>NaN</td>\n",
              "      <td>NaN</td>\n",
              "      <td>NaN</td>\n",
              "      <td>NaN</td>\n",
              "      <td>NaN</td>\n",
              "      <td>NaN</td>\n",
              "      <td>NaN</td>\n",
              "      <td>NaN</td>\n",
              "    </tr>\n",
              "    <tr>\n",
              "      <th>4</th>\n",
              "      <td>NaN</td>\n",
              "      <td>NaN</td>\n",
              "      <td>NaN</td>\n",
              "      <td>NaN</td>\n",
              "      <td>A4</td>\n",
              "      <td>B4</td>\n",
              "      <td>C4</td>\n",
              "      <td>D4</td>\n",
              "      <td>NaN</td>\n",
              "      <td>NaN</td>\n",
              "      <td>NaN</td>\n",
              "      <td>NaN</td>\n",
              "    </tr>\n",
              "    <tr>\n",
              "      <th>5</th>\n",
              "      <td>NaN</td>\n",
              "      <td>NaN</td>\n",
              "      <td>NaN</td>\n",
              "      <td>NaN</td>\n",
              "      <td>A5</td>\n",
              "      <td>B5</td>\n",
              "      <td>C5</td>\n",
              "      <td>D5</td>\n",
              "      <td>NaN</td>\n",
              "      <td>NaN</td>\n",
              "      <td>NaN</td>\n",
              "      <td>NaN</td>\n",
              "    </tr>\n",
              "    <tr>\n",
              "      <th>6</th>\n",
              "      <td>NaN</td>\n",
              "      <td>NaN</td>\n",
              "      <td>NaN</td>\n",
              "      <td>NaN</td>\n",
              "      <td>A6</td>\n",
              "      <td>B6</td>\n",
              "      <td>C6</td>\n",
              "      <td>D6</td>\n",
              "      <td>NaN</td>\n",
              "      <td>NaN</td>\n",
              "      <td>NaN</td>\n",
              "      <td>NaN</td>\n",
              "    </tr>\n",
              "    <tr>\n",
              "      <th>7</th>\n",
              "      <td>NaN</td>\n",
              "      <td>NaN</td>\n",
              "      <td>NaN</td>\n",
              "      <td>NaN</td>\n",
              "      <td>A7</td>\n",
              "      <td>B7</td>\n",
              "      <td>C7</td>\n",
              "      <td>D7</td>\n",
              "      <td>NaN</td>\n",
              "      <td>NaN</td>\n",
              "      <td>NaN</td>\n",
              "      <td>NaN</td>\n",
              "    </tr>\n",
              "    <tr>\n",
              "      <th>8</th>\n",
              "      <td>NaN</td>\n",
              "      <td>NaN</td>\n",
              "      <td>NaN</td>\n",
              "      <td>NaN</td>\n",
              "      <td>NaN</td>\n",
              "      <td>NaN</td>\n",
              "      <td>NaN</td>\n",
              "      <td>NaN</td>\n",
              "      <td>A8</td>\n",
              "      <td>B8</td>\n",
              "      <td>C8</td>\n",
              "      <td>D8</td>\n",
              "    </tr>\n",
              "    <tr>\n",
              "      <th>9</th>\n",
              "      <td>NaN</td>\n",
              "      <td>NaN</td>\n",
              "      <td>NaN</td>\n",
              "      <td>NaN</td>\n",
              "      <td>NaN</td>\n",
              "      <td>NaN</td>\n",
              "      <td>NaN</td>\n",
              "      <td>NaN</td>\n",
              "      <td>A9</td>\n",
              "      <td>B9</td>\n",
              "      <td>C9</td>\n",
              "      <td>D9</td>\n",
              "    </tr>\n",
              "    <tr>\n",
              "      <th>10</th>\n",
              "      <td>NaN</td>\n",
              "      <td>NaN</td>\n",
              "      <td>NaN</td>\n",
              "      <td>NaN</td>\n",
              "      <td>NaN</td>\n",
              "      <td>NaN</td>\n",
              "      <td>NaN</td>\n",
              "      <td>NaN</td>\n",
              "      <td>A10</td>\n",
              "      <td>B10</td>\n",
              "      <td>C10</td>\n",
              "      <td>D10</td>\n",
              "    </tr>\n",
              "    <tr>\n",
              "      <th>11</th>\n",
              "      <td>NaN</td>\n",
              "      <td>NaN</td>\n",
              "      <td>NaN</td>\n",
              "      <td>NaN</td>\n",
              "      <td>NaN</td>\n",
              "      <td>NaN</td>\n",
              "      <td>NaN</td>\n",
              "      <td>NaN</td>\n",
              "      <td>A11</td>\n",
              "      <td>B11</td>\n",
              "      <td>C11</td>\n",
              "      <td>D11</td>\n",
              "    </tr>\n",
              "  </tbody>\n",
              "</table>\n",
              "</div>"
            ],
            "text/plain": [
              "      A    B    C    D    A    B    C    D    A    B    C    D\n",
              "0    A0   B0   C0   D0  NaN  NaN  NaN  NaN  NaN  NaN  NaN  NaN\n",
              "1    A1   B1   C1   D1  NaN  NaN  NaN  NaN  NaN  NaN  NaN  NaN\n",
              "2    A2   B2   C2   D2  NaN  NaN  NaN  NaN  NaN  NaN  NaN  NaN\n",
              "3    A3   B3   C3   D3  NaN  NaN  NaN  NaN  NaN  NaN  NaN  NaN\n",
              "4   NaN  NaN  NaN  NaN   A4   B4   C4   D4  NaN  NaN  NaN  NaN\n",
              "5   NaN  NaN  NaN  NaN   A5   B5   C5   D5  NaN  NaN  NaN  NaN\n",
              "6   NaN  NaN  NaN  NaN   A6   B6   C6   D6  NaN  NaN  NaN  NaN\n",
              "7   NaN  NaN  NaN  NaN   A7   B7   C7   D7  NaN  NaN  NaN  NaN\n",
              "8   NaN  NaN  NaN  NaN  NaN  NaN  NaN  NaN   A8   B8   C8   D8\n",
              "9   NaN  NaN  NaN  NaN  NaN  NaN  NaN  NaN   A9   B9   C9   D9\n",
              "10  NaN  NaN  NaN  NaN  NaN  NaN  NaN  NaN  A10  B10  C10  D10\n",
              "11  NaN  NaN  NaN  NaN  NaN  NaN  NaN  NaN  A11  B11  C11  D11"
            ]
          },
          "metadata": {},
          "execution_count": 103
        }
      ]
    },
    {
      "cell_type": "markdown",
      "metadata": {
        "id": "D-4Ey9XuHsu6"
      },
      "source": [
        "## Data Input and Output"
      ],
      "id": "D-4Ey9XuHsu6"
    }
  ]
}